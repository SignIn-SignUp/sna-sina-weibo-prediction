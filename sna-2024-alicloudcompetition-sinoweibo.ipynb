{
 "cells": [
  {
   "cell_type": "markdown",
   "id": "f7d5cfe1",
   "metadata": {
    "papermill": {
     "duration": 0.016971,
     "end_time": "2024-05-21T19:50:50.540362",
     "exception": false,
     "start_time": "2024-05-21T19:50:50.523391",
     "status": "completed"
    },
    "tags": []
   },
   "source": [
    "# Sina Weibo prediction"
   ]
  },
  {
   "cell_type": "code",
   "execution_count": 1,
   "id": "aa725354",
   "metadata": {
    "execution": {
     "iopub.execute_input": "2024-05-21T19:50:50.580379Z",
     "iopub.status.busy": "2024-05-21T19:50:50.580015Z",
     "iopub.status.idle": "2024-05-21T19:51:06.207132Z",
     "shell.execute_reply": "2024-05-21T19:51:06.205798Z"
    },
    "papermill": {
     "duration": 15.650041,
     "end_time": "2024-05-21T19:51:06.209515",
     "exception": false,
     "start_time": "2024-05-21T19:50:50.559474",
     "status": "completed"
    },
    "tags": []
   },
   "outputs": [
    {
     "name": "stdout",
     "output_type": "stream",
     "text": [
      "Collecting autograd\r\n",
      "  Downloading autograd-1.6.2-py3-none-any.whl.metadata (706 bytes)\r\n",
      "Requirement already satisfied: numpy>=1.12 in /opt/conda/lib/python3.10/site-packages (from autograd) (1.26.4)\r\n",
      "Requirement already satisfied: future>=0.15.2 in /opt/conda/lib/python3.10/site-packages (from autograd) (1.0.0)\r\n",
      "Downloading autograd-1.6.2-py3-none-any.whl (49 kB)\r\n",
      "\u001b[2K   \u001b[90m━━━━━━━━━━━━━━━━━━━━━━━━━━━━━━━━━━━━━━━━\u001b[0m \u001b[32m49.3/49.3 kB\u001b[0m \u001b[31m736.6 kB/s\u001b[0m eta \u001b[36m0:00:00\u001b[0m\r\n",
      "\u001b[?25hInstalling collected packages: autograd\r\n",
      "Successfully installed autograd-1.6.2\r\n",
      "Note: you may need to restart the kernel to use updated packages.\n"
     ]
    }
   ],
   "source": [
    "%pip install autograd"
   ]
  },
  {
   "cell_type": "code",
   "execution_count": 2,
   "id": "6afd2ce0",
   "metadata": {
    "execution": {
     "iopub.execute_input": "2024-05-21T19:51:06.241442Z",
     "iopub.status.busy": "2024-05-21T19:51:06.240644Z",
     "iopub.status.idle": "2024-05-21T19:51:56.661853Z",
     "shell.execute_reply": "2024-05-21T19:51:56.660835Z"
    },
    "papermill": {
     "duration": 50.453269,
     "end_time": "2024-05-21T19:51:56.677935",
     "exception": false,
     "start_time": "2024-05-21T19:51:06.224666",
     "status": "completed"
    },
    "tags": []
   },
   "outputs": [
    {
     "name": "stderr",
     "output_type": "stream",
     "text": [
      "2024-05-21 19:51:33.948172: E external/local_xla/xla/stream_executor/cuda/cuda_dnn.cc:9261] Unable to register cuDNN factory: Attempting to register factory for plugin cuDNN when one has already been registered\n",
      "2024-05-21 19:51:33.948280: E external/local_xla/xla/stream_executor/cuda/cuda_fft.cc:607] Unable to register cuFFT factory: Attempting to register factory for plugin cuFFT when one has already been registered\n",
      "2024-05-21 19:51:34.212561: E external/local_xla/xla/stream_executor/cuda/cuda_blas.cc:1515] Unable to register cuBLAS factory: Attempting to register factory for plugin cuBLAS when one has already been registered\n"
     ]
    },
    {
     "name": "stdout",
     "output_type": "stream",
     "text": [
      "GPU available\n"
     ]
    }
   ],
   "source": [
    "import gc\n",
    "import os\n",
    "import torch\n",
    "#import cuml\n",
    "import umap\n",
    "import warnings\n",
    "from joblib import Memory\n",
    "from jieba import analyse as jbanalyse\n",
    "import numpy as np\n",
    "import pandas as pd\n",
    "import seaborn as sns\n",
    "import functools as fn\n",
    "import matplotlib.pyplot as plt\n",
    "import matplotlib.ticker as mtick\n",
    "import autograd.numpy as anp\n",
    "\n",
    "from sklearn.feature_extraction.text import TfidfVectorizer\n",
    "from sklearn.metrics import make_scorer\n",
    "from numpy.typing import ArrayLike\n",
    "from sklearn.base import BaseEstimator, TransformerMixin, RegressorMixin\n",
    "from sklearn.model_selection import TimeSeriesSplit\n",
    "from sklearn.model_selection import cross_val_score\n",
    "from sklearn.dummy import DummyRegressor\n",
    "from sklearn.preprocessing import OneHotEncoder, OrdinalEncoder\n",
    "from sklearn.compose import make_column_selector, make_column_transformer\n",
    "from sklearn.pipeline import make_pipeline\n",
    "from sklearn.preprocessing import FunctionTransformer\n",
    "from sklearn.multioutput import RegressorChain, ClassifierChain\n",
    "from transformers import AutoTokenizer, AutoModel\n",
    "from torch.utils.data import DataLoader, Dataset\n",
    "from torch import nn\n",
    "from tqdm.notebook import tqdm\n",
    "from catboost import CatBoostRegressor, CatBoostClassifier\n",
    "from catboost.utils import get_gpu_device_count\n",
    "from autograd import grad\n",
    "from lightgbm import LGBMRegressor\n",
    "\n",
    "RANDOM_STATE=8402\n",
    "RNG=np.random.default_rng(seed=RANDOM_STATE)\n",
    "CV_SPLITS=5\n",
    "N_CV=1_000_000\n",
    "BATCH_SIZE=(256+64)*2 # for 2 gpu approx 12GB mem-usage each\n",
    "CACHE_DIR=Memory(location='joblib_cache', verbose=0)\n",
    "\n",
    "warnings.filterwarnings(\"ignore\", \"use_inf_as_na\")\n",
    "\n",
    "def gpu_or_else(gpu, no_gpu):\n",
    "    return gpu if torch.cuda.is_available() else no_gpu\n",
    "print(gpu_or_else('GPU available', 'No GPU available using CPU'))"
   ]
  },
  {
   "cell_type": "markdown",
   "id": "ea2d2e8e",
   "metadata": {
    "papermill": {
     "duration": 0.013552,
     "end_time": "2024-05-21T19:51:56.706208",
     "exception": false,
     "start_time": "2024-05-21T19:51:56.692656",
     "status": "completed"
    },
    "tags": []
   },
   "source": [
    "Defining the loss function"
   ]
  },
  {
   "cell_type": "code",
   "execution_count": 3,
   "id": "842f6f54",
   "metadata": {
    "execution": {
     "iopub.execute_input": "2024-05-21T19:51:56.735591Z",
     "iopub.status.busy": "2024-05-21T19:51:56.735285Z",
     "iopub.status.idle": "2024-05-21T19:51:56.743790Z",
     "shell.execute_reply": "2024-05-21T19:51:56.743047Z"
    },
    "papermill": {
     "duration": 0.02585,
     "end_time": "2024-05-21T19:51:56.745718",
     "exception": false,
     "start_time": "2024-05-21T19:51:56.719868",
     "status": "completed"
    },
    "tags": []
   },
   "outputs": [],
   "source": [
    "def mixed_loss(y_true: ArrayLike, y_pred: ArrayLike, bias=[5,3,3], scaling=[.5,.25,.25], thresold=.8):\n",
    "    precision = 1 - anp.sum((anp.abs(y_pred-y_true)/(y_true + bias)) * scaling, axis=1)\n",
    "    sgn_precision = precision > thresold\n",
    "    count_row_sum = anp.sum(anp.clip(y_true, a_min=None, a_max=100), axis=1) + 1\n",
    "    return anp.sum(count_row_sum * sgn_precision) / anp.sum(count_row_sum)\n",
    "\n",
    "def mixed_loss_objective(y_true, y_pred, weights, loss_f=mixed_loss):\n",
    "    y_pred = anp.array(y_pred)\n",
    "    y_true = anp.array(y_true)\n",
    "    grad_loss = grad(loss_f, 1)\n",
    "    gradients = grad_loss(y_true, y_pred)\n",
    "    hessians = -anp.ones_like(gradients)\n",
    "\n",
    "    if weights is not None:\n",
    "        weights = anp.array(weights)\n",
    "        gradients *= weights\n",
    "        hessians *= weights\n",
    "\n",
    "    return gradients, hessians\n",
    "        \n",
    "\n",
    "mixed_scorer = make_scorer(mixed_loss, greater_is_better=True)"
   ]
  },
  {
   "cell_type": "markdown",
   "id": "a9ee2b9f",
   "metadata": {
    "papermill": {
     "duration": 0.013447,
     "end_time": "2024-05-21T19:51:56.773542",
     "exception": false,
     "start_time": "2024-05-21T19:51:56.760095",
     "status": "completed"
    },
    "tags": []
   },
   "source": [
    "## Dataset preperation"
   ]
  },
  {
   "cell_type": "code",
   "execution_count": 4,
   "id": "bc7bb172",
   "metadata": {
    "execution": {
     "iopub.execute_input": "2024-05-21T19:51:56.802219Z",
     "iopub.status.busy": "2024-05-21T19:51:56.801941Z",
     "iopub.status.idle": "2024-05-21T19:51:56.806991Z",
     "shell.execute_reply": "2024-05-21T19:51:56.806190Z"
    },
    "papermill": {
     "duration": 0.021427,
     "end_time": "2024-05-21T19:51:56.808889",
     "exception": false,
     "start_time": "2024-05-21T19:51:56.787462",
     "status": "completed"
    },
    "tags": []
   },
   "outputs": [],
   "source": [
    "def file_to_df(filename, col_names=['uid', 'mid', 'ts', 'forward_n', 'comment_n', 'like_n', 'content']):\n",
    "    \"\"\"Helper to parse data. Contains hardcoded logic\"\"\"\n",
    "    df = pd.read_csv(filename, sep='\\t', names=col_names)\n",
    "    if 'ts' in col_names:\n",
    "        df['ts'] = pd.to_datetime(df['ts'])\n",
    "    return df"
   ]
  },
  {
   "cell_type": "code",
   "execution_count": 5,
   "id": "e6c5a78a",
   "metadata": {
    "execution": {
     "iopub.execute_input": "2024-05-21T19:51:56.838929Z",
     "iopub.status.busy": "2024-05-21T19:51:56.838644Z",
     "iopub.status.idle": "2024-05-21T19:52:09.348662Z",
     "shell.execute_reply": "2024-05-21T19:52:09.347855Z"
    },
    "papermill": {
     "duration": 12.527474,
     "end_time": "2024-05-21T19:52:09.350889",
     "exception": false,
     "start_time": "2024-05-21T19:51:56.823415",
     "status": "completed"
    },
    "tags": []
   },
   "outputs": [],
   "source": [
    "Xy_tv = file_to_df('/kaggle/input/sna-weibo-data/Weibo Data/weibo_train_data(new)/weibo_train_data.txt')"
   ]
  },
  {
   "cell_type": "code",
   "execution_count": 6,
   "id": "39fc0ea3",
   "metadata": {
    "execution": {
     "iopub.execute_input": "2024-05-21T19:52:09.384142Z",
     "iopub.status.busy": "2024-05-21T19:52:09.383816Z",
     "iopub.status.idle": "2024-05-21T19:52:09.831969Z",
     "shell.execute_reply": "2024-05-21T19:52:09.831073Z"
    },
    "papermill": {
     "duration": 0.468829,
     "end_time": "2024-05-21T19:52:09.834182",
     "exception": false,
     "start_time": "2024-05-21T19:52:09.365353",
     "status": "completed"
    },
    "tags": []
   },
   "outputs": [
    {
     "data": {
      "text/plain": [
       "uid          0\n",
       "mid          0\n",
       "ts           0\n",
       "forward_n    0\n",
       "comment_n    0\n",
       "like_n       0\n",
       "content      3\n",
       "dtype: int64"
      ]
     },
     "execution_count": 6,
     "metadata": {},
     "output_type": "execute_result"
    }
   ],
   "source": [
    "Xy_tv.isna().sum()"
   ]
  },
  {
   "cell_type": "code",
   "execution_count": 7,
   "id": "c9e95dbf",
   "metadata": {
    "execution": {
     "iopub.execute_input": "2024-05-21T19:52:09.865039Z",
     "iopub.status.busy": "2024-05-21T19:52:09.864751Z",
     "iopub.status.idle": "2024-05-21T19:52:11.178564Z",
     "shell.execute_reply": "2024-05-21T19:52:11.177543Z"
    },
    "papermill": {
     "duration": 1.33125,
     "end_time": "2024-05-21T19:52:11.181022",
     "exception": false,
     "start_time": "2024-05-21T19:52:09.849772",
     "status": "completed"
    },
    "tags": []
   },
   "outputs": [],
   "source": [
    "X_tv = Xy_tv.dropna().drop(['forward_n', 'comment_n', 'like_n'], axis=1)\n",
    "y_tv = Xy_tv.dropna()[['forward_n', 'comment_n', 'like_n']].replace([np.inf, -np.inf], np.nan)"
   ]
  },
  {
   "cell_type": "code",
   "execution_count": 8,
   "id": "5623d20a",
   "metadata": {
    "execution": {
     "iopub.execute_input": "2024-05-21T19:52:11.210677Z",
     "iopub.status.busy": "2024-05-21T19:52:11.210358Z",
     "iopub.status.idle": "2024-05-21T19:52:11.216374Z",
     "shell.execute_reply": "2024-05-21T19:52:11.215542Z"
    },
    "papermill": {
     "duration": 0.023108,
     "end_time": "2024-05-21T19:52:11.218407",
     "exception": false,
     "start_time": "2024-05-21T19:52:11.195299",
     "status": "completed"
    },
    "tags": []
   },
   "outputs": [
    {
     "data": {
      "text/plain": [
       "((1225088, 7), (1225085, 4), (1225085, 3))"
      ]
     },
     "execution_count": 8,
     "metadata": {},
     "output_type": "execute_result"
    }
   ],
   "source": [
    "Xy_tv.shape, X_tv.shape, y_tv.shape"
   ]
  },
  {
   "cell_type": "code",
   "execution_count": 9,
   "id": "0adaaf21",
   "metadata": {
    "execution": {
     "iopub.execute_input": "2024-05-21T19:52:11.248186Z",
     "iopub.status.busy": "2024-05-21T19:52:11.247906Z",
     "iopub.status.idle": "2024-05-21T19:52:11.264902Z",
     "shell.execute_reply": "2024-05-21T19:52:11.264009Z"
    },
    "papermill": {
     "duration": 0.034365,
     "end_time": "2024-05-21T19:52:11.267023",
     "exception": false,
     "start_time": "2024-05-21T19:52:11.232658",
     "status": "completed"
    },
    "tags": []
   },
   "outputs": [
    {
     "data": {
      "text/html": [
       "<div>\n",
       "<style scoped>\n",
       "    .dataframe tbody tr th:only-of-type {\n",
       "        vertical-align: middle;\n",
       "    }\n",
       "\n",
       "    .dataframe tbody tr th {\n",
       "        vertical-align: top;\n",
       "    }\n",
       "\n",
       "    .dataframe thead th {\n",
       "        text-align: right;\n",
       "    }\n",
       "</style>\n",
       "<table border=\"1\" class=\"dataframe\">\n",
       "  <thead>\n",
       "    <tr style=\"text-align: right;\">\n",
       "      <th></th>\n",
       "      <th>uid</th>\n",
       "      <th>mid</th>\n",
       "      <th>ts</th>\n",
       "      <th>content</th>\n",
       "    </tr>\n",
       "  </thead>\n",
       "  <tbody>\n",
       "    <tr>\n",
       "      <th>0</th>\n",
       "      <td>d38e9bed5d98110dc2489d0d1cac3c2a</td>\n",
       "      <td>7d45833d9865727a88b960b0603c19f6</td>\n",
       "      <td>2015-02-23 17:41:29</td>\n",
       "      <td>丽江旅游(sz002033)#股票##炒股##财经##理财##投资#推荐包赢股，盈利对半分成...</td>\n",
       "    </tr>\n",
       "    <tr>\n",
       "      <th>1</th>\n",
       "      <td>fa13974743d3fe6ff40d21b872325e9e</td>\n",
       "      <td>8169f1d45051e08ef213bf1106b1225d</td>\n",
       "      <td>2015-02-14 12:49:58</td>\n",
       "      <td>#丁辰灵的红包#挣钱是一种能力，抢红包拼的是技术。我抢到了丁辰灵 和@阚洪岩 一起发出的现金...</td>\n",
       "    </tr>\n",
       "    <tr>\n",
       "      <th>2</th>\n",
       "      <td>da534fe87e7a52777bee5c30573ed5fd</td>\n",
       "      <td>68cd0258c31c2c525f94febea2d9523b</td>\n",
       "      <td>2015-03-31 13:58:06</td>\n",
       "      <td>淘宝网这些傻逼。。。气的劳资有火没地儿发~尼玛，你们都瞎了</td>\n",
       "    </tr>\n",
       "    <tr>\n",
       "      <th>3</th>\n",
       "      <td>e06a22b7e065e559a1f0bf7841a85c51</td>\n",
       "      <td>00b9f86b4915aedb7db943c54fd19d59</td>\n",
       "      <td>2015-06-11 20:39:57</td>\n",
       "      <td>看点不能说的，你们都懂[笑cry]</td>\n",
       "    </tr>\n",
       "    <tr>\n",
       "      <th>4</th>\n",
       "      <td>f9828598f9664d4e347ef2048ce17734</td>\n",
       "      <td>c7f6f66044c0c5a3330e2c5371be6824</td>\n",
       "      <td>2015-03-10 18:02:38</td>\n",
       "      <td>111多张</td>\n",
       "    </tr>\n",
       "  </tbody>\n",
       "</table>\n",
       "</div>"
      ],
      "text/plain": [
       "                                uid                               mid  \\\n",
       "0  d38e9bed5d98110dc2489d0d1cac3c2a  7d45833d9865727a88b960b0603c19f6   \n",
       "1  fa13974743d3fe6ff40d21b872325e9e  8169f1d45051e08ef213bf1106b1225d   \n",
       "2  da534fe87e7a52777bee5c30573ed5fd  68cd0258c31c2c525f94febea2d9523b   \n",
       "3  e06a22b7e065e559a1f0bf7841a85c51  00b9f86b4915aedb7db943c54fd19d59   \n",
       "4  f9828598f9664d4e347ef2048ce17734  c7f6f66044c0c5a3330e2c5371be6824   \n",
       "\n",
       "                   ts                                            content  \n",
       "0 2015-02-23 17:41:29  丽江旅游(sz002033)#股票##炒股##财经##理财##投资#推荐包赢股，盈利对半分成...  \n",
       "1 2015-02-14 12:49:58  #丁辰灵的红包#挣钱是一种能力，抢红包拼的是技术。我抢到了丁辰灵 和@阚洪岩 一起发出的现金...  \n",
       "2 2015-03-31 13:58:06                      淘宝网这些傻逼。。。气的劳资有火没地儿发~尼玛，你们都瞎了  \n",
       "3 2015-06-11 20:39:57                                  看点不能说的，你们都懂[笑cry]  \n",
       "4 2015-03-10 18:02:38                                              111多张  "
      ]
     },
     "execution_count": 9,
     "metadata": {},
     "output_type": "execute_result"
    }
   ],
   "source": [
    "X_tv.head()"
   ]
  },
  {
   "cell_type": "code",
   "execution_count": 10,
   "id": "8d2e5505",
   "metadata": {
    "execution": {
     "iopub.execute_input": "2024-05-21T19:52:11.297781Z",
     "iopub.status.busy": "2024-05-21T19:52:11.297499Z",
     "iopub.status.idle": "2024-05-21T19:52:11.305960Z",
     "shell.execute_reply": "2024-05-21T19:52:11.305117Z"
    },
    "papermill": {
     "duration": 0.025772,
     "end_time": "2024-05-21T19:52:11.307824",
     "exception": false,
     "start_time": "2024-05-21T19:52:11.282052",
     "status": "completed"
    },
    "tags": []
   },
   "outputs": [
    {
     "data": {
      "text/html": [
       "<div>\n",
       "<style scoped>\n",
       "    .dataframe tbody tr th:only-of-type {\n",
       "        vertical-align: middle;\n",
       "    }\n",
       "\n",
       "    .dataframe tbody tr th {\n",
       "        vertical-align: top;\n",
       "    }\n",
       "\n",
       "    .dataframe thead th {\n",
       "        text-align: right;\n",
       "    }\n",
       "</style>\n",
       "<table border=\"1\" class=\"dataframe\">\n",
       "  <thead>\n",
       "    <tr style=\"text-align: right;\">\n",
       "      <th></th>\n",
       "      <th>forward_n</th>\n",
       "      <th>comment_n</th>\n",
       "      <th>like_n</th>\n",
       "    </tr>\n",
       "  </thead>\n",
       "  <tbody>\n",
       "    <tr>\n",
       "      <th>0</th>\n",
       "      <td>0</td>\n",
       "      <td>0</td>\n",
       "      <td>0</td>\n",
       "    </tr>\n",
       "    <tr>\n",
       "      <th>1</th>\n",
       "      <td>0</td>\n",
       "      <td>0</td>\n",
       "      <td>0</td>\n",
       "    </tr>\n",
       "    <tr>\n",
       "      <th>2</th>\n",
       "      <td>0</td>\n",
       "      <td>0</td>\n",
       "      <td>0</td>\n",
       "    </tr>\n",
       "    <tr>\n",
       "      <th>3</th>\n",
       "      <td>0</td>\n",
       "      <td>4</td>\n",
       "      <td>3</td>\n",
       "    </tr>\n",
       "    <tr>\n",
       "      <th>4</th>\n",
       "      <td>0</td>\n",
       "      <td>0</td>\n",
       "      <td>0</td>\n",
       "    </tr>\n",
       "  </tbody>\n",
       "</table>\n",
       "</div>"
      ],
      "text/plain": [
       "   forward_n  comment_n  like_n\n",
       "0          0          0       0\n",
       "1          0          0       0\n",
       "2          0          0       0\n",
       "3          0          4       3\n",
       "4          0          0       0"
      ]
     },
     "execution_count": 10,
     "metadata": {},
     "output_type": "execute_result"
    }
   ],
   "source": [
    "y_tv.head()"
   ]
  },
  {
   "cell_type": "markdown",
   "id": "25ddbd66",
   "metadata": {
    "papermill": {
     "duration": 0.014299,
     "end_time": "2024-05-21T19:52:11.336986",
     "exception": false,
     "start_time": "2024-05-21T19:52:11.322687",
     "status": "completed"
    },
    "tags": []
   },
   "source": [
    "## Data analysis"
   ]
  },
  {
   "cell_type": "markdown",
   "id": "76caa01f",
   "metadata": {
    "papermill": {
     "duration": 0.014628,
     "end_time": "2024-05-21T19:52:11.366605",
     "exception": false,
     "start_time": "2024-05-21T19:52:11.351977",
     "status": "completed"
    },
    "tags": []
   },
   "source": [
    "### Navive analysis"
   ]
  },
  {
   "cell_type": "code",
   "execution_count": 11,
   "id": "37186d2f",
   "metadata": {
    "execution": {
     "iopub.execute_input": "2024-05-21T19:52:11.397853Z",
     "iopub.status.busy": "2024-05-21T19:52:11.397577Z",
     "iopub.status.idle": "2024-05-21T19:52:11.407351Z",
     "shell.execute_reply": "2024-05-21T19:52:11.406509Z"
    },
    "papermill": {
     "duration": 0.026869,
     "end_time": "2024-05-21T19:52:11.409111",
     "exception": false,
     "start_time": "2024-05-21T19:52:11.382242",
     "status": "completed"
    },
    "tags": []
   },
   "outputs": [],
   "source": [
    "def embedd(\n",
    "    data,\n",
    "    vectorizer=TfidfVectorizer(stop_words='english', max_features=512),\n",
    "    reducer=gpu_or_else(\n",
    "        umap.UMAP(n_neighbors=10, min_dist=0.3, n_components=2),# TODO maybe enable GPU: cuml.UMAP(n_neighbors=10, min_dist=0.3, n_components=2),\n",
    "        umap.UMAP(n_neighbors=10, min_dist=0.3, n_components=2),\n",
    "    )\n",
    "):\n",
    "    embeddings = vectorizer.fit_transform(data)\n",
    "    return reducer.fit_transform(embeddings)\n",
    "\n",
    "def plot_embeddings(embeddings, y):\n",
    "    categories = np.sum(y * [.5, .25, .25], axis=1)\n",
    "    alhpa_vals = np.log10(categories / categories.max() + 0.01) / np.log10(1.01)\n",
    "    scaled_alpha_vals = np.clip((alhpa_vals - alhpa_vals.min()) / (alhpa_vals.max() - alhpa_vals.min()), a_min=None, a_max=1)\n",
    "\n",
    "    plt.figure(figsize=(10, 8))\n",
    "    scatter = plt.scatter(\n",
    "        embeddings[:, 0],\n",
    "        embeddings[:, 1],\n",
    "        c=categories,\n",
    "        cmap='Spectral',\n",
    "        s=5,\n",
    "        alpha=scaled_alpha_vals\n",
    "    )\n",
    "    plt.colorbar(scatter)\n",
    "    plt.title('Projection of Text Embeddings', fontsize=18)\n",
    "    plt.xlabel('dim 1', fontsize=14)\n",
    "    plt.ylabel('dim 2', fontsize=14)\n",
    "    plt.grid(True)\n",
    "    plt.show()"
   ]
  },
  {
   "cell_type": "markdown",
   "id": "067afe9b",
   "metadata": {
    "papermill": {
     "duration": 0.014313,
     "end_time": "2024-05-21T19:52:11.438069",
     "exception": false,
     "start_time": "2024-05-21T19:52:11.423756",
     "status": "completed"
    },
    "tags": []
   },
   "source": [
    "### Naive Embeddings"
   ]
  },
  {
   "cell_type": "code",
   "execution_count": 12,
   "id": "e5dd2d9b",
   "metadata": {
    "execution": {
     "iopub.execute_input": "2024-05-21T19:52:11.468251Z",
     "iopub.status.busy": "2024-05-21T19:52:11.467955Z",
     "iopub.status.idle": "2024-05-21T19:56:36.177615Z",
     "shell.execute_reply": "2024-05-21T19:56:36.176648Z"
    },
    "papermill": {
     "duration": 264.745993,
     "end_time": "2024-05-21T19:56:36.198476",
     "exception": false,
     "start_time": "2024-05-21T19:52:11.452483",
     "status": "completed"
    },
    "tags": []
   },
   "outputs": [
    {
     "data": {
      "image/png": "[encoded data removed]",
      "text/plain": [
       "<Figure size 1000x800 with 2 Axes>"
      ]
     },
     "metadata": {},
     "output_type": "display_data"
    }
   ],
   "source": [
    "plot_embeddings(\n",
    "    embedd(X_tv.content.sample(100_000, random_state=RANDOM_STATE)),\n",
    "    y_tv.sample(100_000, random_state=RANDOM_STATE)\n",
    ")"
   ]
  },
  {
   "cell_type": "markdown",
   "id": "d6e2a5f8",
   "metadata": {
    "papermill": {
     "duration": 0.016375,
     "end_time": "2024-05-21T19:56:36.232593",
     "exception": false,
     "start_time": "2024-05-21T19:56:36.216218",
     "status": "completed"
    },
    "tags": []
   },
   "source": [
    "### Jieba embeddings"
   ]
  },
  {
   "cell_type": "code",
   "execution_count": 13,
   "id": "398298ff",
   "metadata": {
    "execution": {
     "iopub.execute_input": "2024-05-21T19:56:36.268879Z",
     "iopub.status.busy": "2024-05-21T19:56:36.268528Z",
     "iopub.status.idle": "2024-05-21T20:01:42.111068Z",
     "shell.execute_reply": "2024-05-21T20:01:42.110103Z"
    },
    "papermill": {
     "duration": 305.883877,
     "end_time": "2024-05-21T20:01:42.134277",
     "exception": false,
     "start_time": "2024-05-21T19:56:36.250400",
     "status": "completed"
    },
    "tags": []
   },
   "outputs": [
    {
     "name": "stderr",
     "output_type": "stream",
     "text": [
      "Building prefix dict from the default dictionary ...\n",
      "Dumping model to file cache /tmp/jieba.cache\n",
      "Loading model cost 1.139 seconds.\n",
      "Prefix dict has been built successfully.\n",
      "/opt/conda/lib/python3.10/site-packages/umap/spectral.py:550: UserWarning: Spectral initialisation failed! The eigenvector solver\n",
      "failed. This is likely due to too small an eigengap. Consider\n",
      "adding some noise or jitter to your data.\n",
      "\n",
      "Falling back to random initialisation!\n",
      "  warn(\n"
     ]
    },
    {
     "data": {
      "image/png": "[encoded data removed]",
      "text/plain": [
       "<Figure size 1000x800 with 2 Axes>"
      ]
     },
     "metadata": {},
     "output_type": "display_data"
    }
   ],
   "source": [
    "plot_embeddings(\n",
    "    embedd(\n",
    "        X_tv.content.sample(100_000, random_state=RANDOM_STATE),\n",
    "        vectorizer=TfidfVectorizer(analyzer=fn.partial(jbanalyse.extract_tags), max_features=512),\n",
    "    ),\n",
    "    y_tv.sample(100_000, random_state=RANDOM_STATE),\n",
    ")"
   ]
  },
  {
   "cell_type": "markdown",
   "id": "5e161c8a",
   "metadata": {
    "papermill": {
     "duration": 0.019378,
     "end_time": "2024-05-21T20:01:42.173419",
     "exception": false,
     "start_time": "2024-05-21T20:01:42.154041",
     "status": "completed"
    },
    "tags": []
   },
   "source": [
    "### Huggingface embeddings"
   ]
  },
  {
   "cell_type": "code",
   "execution_count": 14,
   "id": "8397a87c",
   "metadata": {
    "execution": {
     "iopub.execute_input": "2024-05-21T20:01:42.214749Z",
     "iopub.status.busy": "2024-05-21T20:01:42.214384Z",
     "iopub.status.idle": "2024-05-21T20:01:42.235512Z",
     "shell.execute_reply": "2024-05-21T20:01:42.234709Z"
    },
    "papermill": {
     "duration": 0.044379,
     "end_time": "2024-05-21T20:01:42.237605",
     "exception": false,
     "start_time": "2024-05-21T20:01:42.193226",
     "status": "completed"
    },
    "tags": []
   },
   "outputs": [],
   "source": [
    "class TextDataset(Dataset):\n",
    "    def __init__(self, encodings):\n",
    "        self.encodings = encodings\n",
    "\n",
    "    def __getitem__(self, idx):\n",
    "        return {key: val[idx].clone().detach() for key, val in self.encodings.items()}\n",
    "\n",
    "    def __len__(self):\n",
    "        return len(self.encodings.input_ids)\n",
    "\n",
    "class ChineseBertVectorizer():\n",
    "    def __init__(\n",
    "        self,\n",
    "        device=torch.device('cuda') if torch.cuda.is_available() else torch.device('cpu'),\n",
    "        batch_size=1024,\n",
    "        verbose=0\n",
    "    ):\n",
    "        self.tokenizer = AutoTokenizer.from_pretrained(\n",
    "            \"google-bert/bert-base-chinese\", \n",
    "            padding=True,\n",
    "            truncation=True\n",
    "        )\n",
    "        self.model = AutoModel.from_pretrained(\"google-bert/bert-base-chinese\")\n",
    "        self.device = device\n",
    "        self.batch_size=batch_size\n",
    "        self.verbose=verbose\n",
    "    \n",
    "    def fit_transform(self, data, batch_size=None, verbose=None):\n",
    "        if not isinstance(data, list):\n",
    "            data = data.tolist()\n",
    "        if not batch_size:\n",
    "            batch_size = self.batch_size\n",
    "        if not verbose:\n",
    "            verbose = self.verbose\n",
    "        \n",
    "        try:\n",
    "            return self.get_embeddings(data, batch_size=batch_size, verbose=verbose)\n",
    "        finally:\n",
    "            if verbose:\n",
    "                print('cleaning up...')\n",
    "            if verbose > 1:\n",
    "                print(torch.cuda.memory_summary())\n",
    "            gc.collect()\n",
    "            torch.cuda.empty_cache()\n",
    "            if verbose:\n",
    "                print('done cleaning')\n",
    "            if verbose > 1:\n",
    "                print(torch.cuda.memory_summary())\n",
    "\n",
    "\n",
    "    def get_embeddings(self, data, batch_size, verbose=0):\n",
    "        if verbose:\n",
    "            print('tokenizing...')\n",
    "        encoded_input = self.tokenizer(\n",
    "            data, padding=True, truncation=True, return_tensors='pt'\n",
    "        )\n",
    "        dataset = TextDataset(encoded_input)\n",
    "        loader = DataLoader(dataset, batch_size=batch_size, shuffle=False)\n",
    "\n",
    "        embeddings = []\n",
    "        embedder = nn.DataParallel(self.model)\n",
    "        embedder = embedder.to(self.device)\n",
    "        for batch in tqdm(loader, disable=verbose<1, desc='embedding', unit='batch'):\n",
    "            batch_ = {k: v.to(self.device) for k, v in batch.items()}\n",
    "            with torch.no_grad():\n",
    "                if verbose>1:\n",
    "                    print(torch.cuda.memory_summary())\n",
    "                    \n",
    "                outputs = embedder(**batch_)\n",
    "                if self.device.type == 'cuda':\n",
    "                    batch_embeddings = outputs.last_hidden_state[:, 0, :]\n",
    "                    embeddings.append(batch_embeddings.cpu())\n",
    "                    for v in batch_.values():\n",
    "                             del v\n",
    "                    del batch_\n",
    "                    del outputs\n",
    "                    gc.collect()\n",
    "                    torch.cuda.empty_cache()\n",
    "                else:\n",
    "                    batch_embeddings = outputs.last_hidden_state[:, 0, :]\n",
    "                    embeddings.append(batch_embeddings.cpu())\n",
    "        \n",
    "        if self.device.type == 'cuda':\n",
    "            del embedder\n",
    "            gc.collect()\n",
    "            torch.cuda.empty_cache()\n",
    "\n",
    "        embeddings = torch.cat(embeddings, dim=0)\n",
    "        if verbose:\n",
    "            print('embeddings done')\n",
    "\n",
    "        return embeddings"
   ]
  },
  {
   "cell_type": "code",
   "execution_count": 15,
   "id": "ea5acc70",
   "metadata": {
    "execution": {
     "iopub.execute_input": "2024-05-21T20:01:42.280065Z",
     "iopub.status.busy": "2024-05-21T20:01:42.279729Z",
     "iopub.status.idle": "2024-05-21T20:33:53.538955Z",
     "shell.execute_reply": "2024-05-21T20:33:53.538036Z"
    },
    "papermill": {
     "duration": 1931.305454,
     "end_time": "2024-05-21T20:33:53.563600",
     "exception": false,
     "start_time": "2024-05-21T20:01:42.258146",
     "status": "completed"
    },
    "tags": []
   },
   "outputs": [
    {
     "data": {
      "application/vnd.jupyter.widget-view+json": {
       "model_id": "7304291d0c85458ab6520fce0e5ca3ea",
       "version_major": 2,
       "version_minor": 0
      },
      "text/plain": [
       "tokenizer_config.json:   0%|          | 0.00/49.0 [00:00<?, ?B/s]"
      ]
     },
     "metadata": {},
     "output_type": "display_data"
    },
    {
     "data": {
      "application/vnd.jupyter.widget-view+json": {
       "model_id": "2f0024ef3ec8413aaf1ae0b1ad726184",
       "version_major": 2,
       "version_minor": 0
      },
      "text/plain": [
       "config.json:   0%|          | 0.00/624 [00:00<?, ?B/s]"
      ]
     },
     "metadata": {},
     "output_type": "display_data"
    },
    {
     "data": {
      "application/vnd.jupyter.widget-view+json": {
       "model_id": "f2bcabf210174c09bf21f938b8f8a4cc",
       "version_major": 2,
       "version_minor": 0
      },
      "text/plain": [
       "vocab.txt:   0%|          | 0.00/110k [00:00<?, ?B/s]"
      ]
     },
     "metadata": {},
     "output_type": "display_data"
    },
    {
     "data": {
      "application/vnd.jupyter.widget-view+json": {
       "model_id": "254bc38ca8c544dda2a52a6bba816426",
       "version_major": 2,
       "version_minor": 0
      },
      "text/plain": [
       "tokenizer.json:   0%|          | 0.00/269k [00:00<?, ?B/s]"
      ]
     },
     "metadata": {},
     "output_type": "display_data"
    },
    {
     "data": {
      "application/vnd.jupyter.widget-view+json": {
       "model_id": "cc2affaec7e64e878fb33932327df1c9",
       "version_major": 2,
       "version_minor": 0
      },
      "text/plain": [
       "model.safetensors:   0%|          | 0.00/412M [00:00<?, ?B/s]"
      ]
     },
     "metadata": {},
     "output_type": "display_data"
    },
    {
     "name": "stdout",
     "output_type": "stream",
     "text": [
      "tokenizing...\n"
     ]
    },
    {
     "data": {
      "application/vnd.jupyter.widget-view+json": {
       "model_id": "18eb4bd3b281465b8a3d0cdb054d3adb",
       "version_major": 2,
       "version_minor": 0
      },
      "text/plain": [
       "embedding:   0%|          | 0/157 [00:00<?, ?batch/s]"
      ]
     },
     "metadata": {},
     "output_type": "display_data"
    },
    {
     "name": "stdout",
     "output_type": "stream",
     "text": [
      "embeddings done\n",
      "cleaning up...\n",
      "done cleaning\n"
     ]
    },
    {
     "data": {
      "image/png": "[encoded data removed]",
      "text/plain": [
       "<Figure size 1000x800 with 2 Axes>"
      ]
     },
     "metadata": {},
     "output_type": "display_data"
    }
   ],
   "source": [
    "plot_embeddings(\n",
    "    embedd(\n",
    "        X_tv.content.sample(100_000, random_state=RANDOM_STATE),\n",
    "        vectorizer=ChineseBertVectorizer(batch_size=BATCH_SIZE, verbose=1)\n",
    "    ),\n",
    "    y_tv.sample(100_000, random_state=RANDOM_STATE)\n",
    ")"
   ]
  },
  {
   "cell_type": "markdown",
   "id": "d3d7a616",
   "metadata": {
    "papermill": {
     "duration": 0.02191,
     "end_time": "2024-05-21T20:33:53.607297",
     "exception": false,
     "start_time": "2024-05-21T20:33:53.585387",
     "status": "completed"
    },
    "tags": []
   },
   "source": [
    "### Target analysis"
   ]
  },
  {
   "cell_type": "code",
   "execution_count": 16,
   "id": "cb74a095",
   "metadata": {
    "execution": {
     "iopub.execute_input": "2024-05-21T20:33:53.651776Z",
     "iopub.status.busy": "2024-05-21T20:33:53.651444Z",
     "iopub.status.idle": "2024-05-21T20:34:18.317048Z",
     "shell.execute_reply": "2024-05-21T20:34:18.316077Z"
    },
    "papermill": {
     "duration": 24.690488,
     "end_time": "2024-05-21T20:34:18.319297",
     "exception": false,
     "start_time": "2024-05-21T20:33:53.628809",
     "status": "completed"
    },
    "tags": []
   },
   "outputs": [
    {
     "data": {
      "text/plain": [
       "<matplotlib.legend.Legend at 0x7854049e7790>"
      ]
     },
     "execution_count": 16,
     "metadata": {},
     "output_type": "execute_result"
    },
    {
     "data": {
      "image/png": "[encoded data removed]",
      "text/plain": [
       "<Figure size 640x480 with 1 Axes>"
      ]
     },
     "metadata": {},
     "output_type": "display_data"
    }
   ],
   "source": [
    "for column in y_tv.columns:\n",
    "    sns.kdeplot(y_tv[column], label=column, fill=True, common_norm=False, alpha=0.5)\n",
    "\n",
    "plt.title('KDE of targets')\n",
    "plt.xlabel('Value')\n",
    "plt.ylabel('Density')\n",
    "plt.legend(title='Distribution')"
   ]
  },
  {
   "cell_type": "markdown",
   "id": "d5c87860",
   "metadata": {
    "papermill": {
     "duration": 0.023503,
     "end_time": "2024-05-21T20:34:18.366685",
     "exception": false,
     "start_time": "2024-05-21T20:34:18.343182",
     "status": "completed"
    },
    "tags": []
   },
   "source": [
    "Let's log scale it to make it more gaussian"
   ]
  },
  {
   "cell_type": "code",
   "execution_count": 17,
   "id": "323caa0c",
   "metadata": {
    "execution": {
     "iopub.execute_input": "2024-05-21T20:34:18.416700Z",
     "iopub.status.busy": "2024-05-21T20:34:18.416360Z",
     "iopub.status.idle": "2024-05-21T20:34:20.276334Z",
     "shell.execute_reply": "2024-05-21T20:34:20.275304Z"
    },
    "papermill": {
     "duration": 1.888831,
     "end_time": "2024-05-21T20:34:20.278653",
     "exception": false,
     "start_time": "2024-05-21T20:34:18.389822",
     "status": "completed"
    },
    "tags": []
   },
   "outputs": [
    {
     "data": {
      "text/plain": [
       "<matplotlib.legend.Legend at 0x7854171e7f40>"
      ]
     },
     "execution_count": 17,
     "metadata": {},
     "output_type": "execute_result"
    },
    {
     "data": {
      "image/png": "[encoded data removed]",
      "text/plain": [
       "<Figure size 640x480 with 1 Axes>"
      ]
     },
     "metadata": {},
     "output_type": "display_data"
    }
   ],
   "source": [
    "y_tv_no_low = y_tv[np.all(y_tv > 2, axis=1)]\n",
    "for column in y_tv.columns:\n",
    "    sns.kdeplot(np.log(y_tv_no_low[column]), label=column, fill=True, common_norm=False, alpha=0.5)\n",
    "    \n",
    "sns.kdeplot(RNG.chisquare(2.5,size=y_tv_no_low.shape[0])+1, label='chi^2', fill=True, common_norm=False, alpha=0.5)\n",
    "\n",
    "plt.title('KDE of log(targets)')\n",
    "plt.xlabel('log(Value)')\n",
    "plt.ylabel('Density')\n",
    "plt.legend(title='Distribution')"
   ]
  },
  {
   "cell_type": "markdown",
   "id": "8634b221",
   "metadata": {
    "papermill": {
     "duration": 0.023985,
     "end_time": "2024-05-21T20:34:20.327516",
     "exception": false,
     "start_time": "2024-05-21T20:34:20.303531",
     "status": "completed"
    },
    "tags": []
   },
   "source": [
    "### User segementation"
   ]
  },
  {
   "cell_type": "code",
   "execution_count": 18,
   "id": "5f71b9a4",
   "metadata": {
    "execution": {
     "iopub.execute_input": "2024-05-21T20:34:20.382049Z",
     "iopub.status.busy": "2024-05-21T20:34:20.381122Z",
     "iopub.status.idle": "2024-05-21T20:34:20.386095Z",
     "shell.execute_reply": "2024-05-21T20:34:20.385206Z"
    },
    "papermill": {
     "duration": 0.035668,
     "end_time": "2024-05-21T20:34:20.388126",
     "exception": false,
     "start_time": "2024-05-21T20:34:20.352458",
     "status": "completed"
    },
    "tags": []
   },
   "outputs": [],
   "source": [
    "TOP_K_UID=10"
   ]
  },
  {
   "cell_type": "code",
   "execution_count": 19,
   "id": "987a5a0d",
   "metadata": {
    "execution": {
     "iopub.execute_input": "2024-05-21T20:34:20.437304Z",
     "iopub.status.busy": "2024-05-21T20:34:20.436936Z",
     "iopub.status.idle": "2024-05-21T20:34:20.758690Z",
     "shell.execute_reply": "2024-05-21T20:34:20.757591Z"
    },
    "papermill": {
     "duration": 0.349303,
     "end_time": "2024-05-21T20:34:20.761361",
     "exception": false,
     "start_time": "2024-05-21T20:34:20.412058",
     "status": "completed"
    },
    "tags": []
   },
   "outputs": [],
   "source": [
    "user_segementation_df = X_tv[['uid']]\n",
    "user_segementation_df.loc[: ,['forward_n', 'comment_n', 'like_n']] = y_tv\n",
    "user_segementation_df.loc[: ,['popularity']] = (y_tv * [.5, .25, .25]).sum(axis=1)"
   ]
  },
  {
   "cell_type": "code",
   "execution_count": 20,
   "id": "ef58133e",
   "metadata": {
    "execution": {
     "iopub.execute_input": "2024-05-21T20:34:20.813326Z",
     "iopub.status.busy": "2024-05-21T20:34:20.812674Z",
     "iopub.status.idle": "2024-05-21T20:34:20.880954Z",
     "shell.execute_reply": "2024-05-21T20:34:20.880085Z"
    },
    "papermill": {
     "duration": 0.0962,
     "end_time": "2024-05-21T20:34:20.882949",
     "exception": false,
     "start_time": "2024-05-21T20:34:20.786749",
     "status": "completed"
    },
    "tags": []
   },
   "outputs": [
    {
     "data": {
      "text/plain": [
       "(2449,)"
      ]
     },
     "execution_count": 20,
     "metadata": {},
     "output_type": "execute_result"
    }
   ],
   "source": [
    "np.unique(user_segementation_df[user_segementation_df.popularity > 10].uid).shape"
   ]
  },
  {
   "cell_type": "code",
   "execution_count": 21,
   "id": "c963a94d",
   "metadata": {
    "execution": {
     "iopub.execute_input": "2024-05-21T20:34:20.932340Z",
     "iopub.status.busy": "2024-05-21T20:34:20.931477Z",
     "iopub.status.idle": "2024-05-21T20:34:21.929580Z",
     "shell.execute_reply": "2024-05-21T20:34:21.928601Z"
    },
    "papermill": {
     "duration": 1.025514,
     "end_time": "2024-05-21T20:34:21.932078",
     "exception": false,
     "start_time": "2024-05-21T20:34:20.906564",
     "status": "completed"
    },
    "tags": []
   },
   "outputs": [],
   "source": [
    "user_segementation_df.loc[:, ['median_popularity']] = user_segementation_df['uid'].map(user_segementation_df.groupby('uid')['popularity'].median())\n",
    "user_segementation_df.loc[:, ['mean_popularity']] = user_segementation_df['uid'].map(user_segementation_df.groupby('uid')['popularity'].mean())"
   ]
  },
  {
   "cell_type": "code",
   "execution_count": 22,
   "id": "d9dd2d75",
   "metadata": {
    "execution": {
     "iopub.execute_input": "2024-05-21T20:34:21.982126Z",
     "iopub.status.busy": "2024-05-21T20:34:21.981786Z",
     "iopub.status.idle": "2024-05-21T20:34:21.996179Z",
     "shell.execute_reply": "2024-05-21T20:34:21.995199Z"
    },
    "papermill": {
     "duration": 0.041511,
     "end_time": "2024-05-21T20:34:21.998170",
     "exception": false,
     "start_time": "2024-05-21T20:34:21.956659",
     "status": "completed"
    },
    "tags": []
   },
   "outputs": [
    {
     "data": {
      "text/html": [
       "<div>\n",
       "<style scoped>\n",
       "    .dataframe tbody tr th:only-of-type {\n",
       "        vertical-align: middle;\n",
       "    }\n",
       "\n",
       "    .dataframe tbody tr th {\n",
       "        vertical-align: top;\n",
       "    }\n",
       "\n",
       "    .dataframe thead th {\n",
       "        text-align: right;\n",
       "    }\n",
       "</style>\n",
       "<table border=\"1\" class=\"dataframe\">\n",
       "  <thead>\n",
       "    <tr style=\"text-align: right;\">\n",
       "      <th></th>\n",
       "      <th>uid</th>\n",
       "      <th>forward_n</th>\n",
       "      <th>comment_n</th>\n",
       "      <th>like_n</th>\n",
       "      <th>popularity</th>\n",
       "      <th>median_popularity</th>\n",
       "      <th>mean_popularity</th>\n",
       "    </tr>\n",
       "  </thead>\n",
       "  <tbody>\n",
       "    <tr>\n",
       "      <th>0</th>\n",
       "      <td>d38e9bed5d98110dc2489d0d1cac3c2a</td>\n",
       "      <td>0</td>\n",
       "      <td>0</td>\n",
       "      <td>0</td>\n",
       "      <td>0.00</td>\n",
       "      <td>0.0</td>\n",
       "      <td>0.627724</td>\n",
       "    </tr>\n",
       "    <tr>\n",
       "      <th>1</th>\n",
       "      <td>fa13974743d3fe6ff40d21b872325e9e</td>\n",
       "      <td>0</td>\n",
       "      <td>0</td>\n",
       "      <td>0</td>\n",
       "      <td>0.00</td>\n",
       "      <td>0.0</td>\n",
       "      <td>0.233083</td>\n",
       "    </tr>\n",
       "    <tr>\n",
       "      <th>2</th>\n",
       "      <td>da534fe87e7a52777bee5c30573ed5fd</td>\n",
       "      <td>0</td>\n",
       "      <td>0</td>\n",
       "      <td>0</td>\n",
       "      <td>0.00</td>\n",
       "      <td>0.0</td>\n",
       "      <td>0.107143</td>\n",
       "    </tr>\n",
       "    <tr>\n",
       "      <th>3</th>\n",
       "      <td>e06a22b7e065e559a1f0bf7841a85c51</td>\n",
       "      <td>0</td>\n",
       "      <td>4</td>\n",
       "      <td>3</td>\n",
       "      <td>1.75</td>\n",
       "      <td>1.5</td>\n",
       "      <td>3.276644</td>\n",
       "    </tr>\n",
       "    <tr>\n",
       "      <th>4</th>\n",
       "      <td>f9828598f9664d4e347ef2048ce17734</td>\n",
       "      <td>0</td>\n",
       "      <td>0</td>\n",
       "      <td>0</td>\n",
       "      <td>0.00</td>\n",
       "      <td>0.0</td>\n",
       "      <td>0.132075</td>\n",
       "    </tr>\n",
       "  </tbody>\n",
       "</table>\n",
       "</div>"
      ],
      "text/plain": [
       "                                uid  forward_n  comment_n  like_n  popularity  \\\n",
       "0  d38e9bed5d98110dc2489d0d1cac3c2a          0          0       0        0.00   \n",
       "1  fa13974743d3fe6ff40d21b872325e9e          0          0       0        0.00   \n",
       "2  da534fe87e7a52777bee5c30573ed5fd          0          0       0        0.00   \n",
       "3  e06a22b7e065e559a1f0bf7841a85c51          0          4       3        1.75   \n",
       "4  f9828598f9664d4e347ef2048ce17734          0          0       0        0.00   \n",
       "\n",
       "   median_popularity  mean_popularity  \n",
       "0                0.0         0.627724  \n",
       "1                0.0         0.233083  \n",
       "2                0.0         0.107143  \n",
       "3                1.5         3.276644  \n",
       "4                0.0         0.132075  "
      ]
     },
     "execution_count": 22,
     "metadata": {},
     "output_type": "execute_result"
    }
   ],
   "source": [
    "user_segementation_df.head()"
   ]
  },
  {
   "cell_type": "code",
   "execution_count": 23,
   "id": "e43eb1e9",
   "metadata": {
    "execution": {
     "iopub.execute_input": "2024-05-21T20:34:22.047098Z",
     "iopub.status.busy": "2024-05-21T20:34:22.046524Z",
     "iopub.status.idle": "2024-05-21T20:34:22.452461Z",
     "shell.execute_reply": "2024-05-21T20:34:22.451401Z"
    },
    "papermill": {
     "duration": 0.432379,
     "end_time": "2024-05-21T20:34:22.454548",
     "exception": false,
     "start_time": "2024-05-21T20:34:22.022169",
     "status": "completed"
    },
    "tags": []
   },
   "outputs": [
    {
     "data": {
      "text/plain": [
       "(10565, 7)"
      ]
     },
     "execution_count": 23,
     "metadata": {},
     "output_type": "execute_result"
    }
   ],
   "source": [
    "top_uids = user_segementation_df.groupby('uid')['popularity'].sum().sort_values(ascending=False)[:TOP_K_UID].index\n",
    "top_k_uid_df = user_segementation_df[user_segementation_df['uid'].isin(top_uids)]\n",
    "top_k_uid_df.shape"
   ]
  },
  {
   "cell_type": "code",
   "execution_count": 24,
   "id": "7e3b91b3",
   "metadata": {
    "execution": {
     "iopub.execute_input": "2024-05-21T20:34:22.505324Z",
     "iopub.status.busy": "2024-05-21T20:34:22.504998Z",
     "iopub.status.idle": "2024-05-21T20:34:22.520947Z",
     "shell.execute_reply": "2024-05-21T20:34:22.519881Z"
    },
    "papermill": {
     "duration": 0.043686,
     "end_time": "2024-05-21T20:34:22.523326",
     "exception": false,
     "start_time": "2024-05-21T20:34:22.479640",
     "status": "completed"
    },
    "tags": []
   },
   "outputs": [
    {
     "data": {
      "text/html": [
       "<div>\n",
       "<style scoped>\n",
       "    .dataframe tbody tr th:only-of-type {\n",
       "        vertical-align: middle;\n",
       "    }\n",
       "\n",
       "    .dataframe tbody tr th {\n",
       "        vertical-align: top;\n",
       "    }\n",
       "\n",
       "    .dataframe thead th {\n",
       "        text-align: right;\n",
       "    }\n",
       "</style>\n",
       "<table border=\"1\" class=\"dataframe\">\n",
       "  <thead>\n",
       "    <tr style=\"text-align: right;\">\n",
       "      <th></th>\n",
       "      <th>uid</th>\n",
       "      <th>forward_n</th>\n",
       "      <th>comment_n</th>\n",
       "      <th>like_n</th>\n",
       "      <th>popularity</th>\n",
       "      <th>median_popularity</th>\n",
       "      <th>mean_popularity</th>\n",
       "    </tr>\n",
       "  </thead>\n",
       "  <tbody>\n",
       "    <tr>\n",
       "      <th>960724</th>\n",
       "      <td>42fffa7b95d37f3d414114974772d14f</td>\n",
       "      <td>41850</td>\n",
       "      <td>1767</td>\n",
       "      <td>11697</td>\n",
       "      <td>24291.00</td>\n",
       "      <td>38.5</td>\n",
       "      <td>158.580508</td>\n",
       "    </tr>\n",
       "    <tr>\n",
       "      <th>21949</th>\n",
       "      <td>e88330514585dc40b7cb8f48c0e0ea2a</td>\n",
       "      <td>19255</td>\n",
       "      <td>7231</td>\n",
       "      <td>1557</td>\n",
       "      <td>11824.50</td>\n",
       "      <td>661.0</td>\n",
       "      <td>769.311528</td>\n",
       "    </tr>\n",
       "    <tr>\n",
       "      <th>1033865</th>\n",
       "      <td>8507f224ff141fcdc92d6cca325a948a</td>\n",
       "      <td>20954</td>\n",
       "      <td>4266</td>\n",
       "      <td>33</td>\n",
       "      <td>11551.75</td>\n",
       "      <td>7.0</td>\n",
       "      <td>134.566787</td>\n",
       "    </tr>\n",
       "    <tr>\n",
       "      <th>1135986</th>\n",
       "      <td>e88330514585dc40b7cb8f48c0e0ea2a</td>\n",
       "      <td>18609</td>\n",
       "      <td>837</td>\n",
       "      <td>6304</td>\n",
       "      <td>11089.75</td>\n",
       "      <td>661.0</td>\n",
       "      <td>769.311528</td>\n",
       "    </tr>\n",
       "    <tr>\n",
       "      <th>594288</th>\n",
       "      <td>e88330514585dc40b7cb8f48c0e0ea2a</td>\n",
       "      <td>14796</td>\n",
       "      <td>5075</td>\n",
       "      <td>1007</td>\n",
       "      <td>8918.50</td>\n",
       "      <td>661.0</td>\n",
       "      <td>769.311528</td>\n",
       "    </tr>\n",
       "  </tbody>\n",
       "</table>\n",
       "</div>"
      ],
      "text/plain": [
       "                                      uid  forward_n  comment_n  like_n  \\\n",
       "960724   42fffa7b95d37f3d414114974772d14f      41850       1767   11697   \n",
       "21949    e88330514585dc40b7cb8f48c0e0ea2a      19255       7231    1557   \n",
       "1033865  8507f224ff141fcdc92d6cca325a948a      20954       4266      33   \n",
       "1135986  e88330514585dc40b7cb8f48c0e0ea2a      18609        837    6304   \n",
       "594288   e88330514585dc40b7cb8f48c0e0ea2a      14796       5075    1007   \n",
       "\n",
       "         popularity  median_popularity  mean_popularity  \n",
       "960724     24291.00               38.5       158.580508  \n",
       "21949      11824.50              661.0       769.311528  \n",
       "1033865    11551.75                7.0       134.566787  \n",
       "1135986    11089.75              661.0       769.311528  \n",
       "594288      8918.50              661.0       769.311528  "
      ]
     },
     "execution_count": 24,
     "metadata": {},
     "output_type": "execute_result"
    }
   ],
   "source": [
    "top_k_uid_df.sort_values('popularity', ascending=False).head()"
   ]
  },
  {
   "cell_type": "code",
   "execution_count": 25,
   "id": "e42b1891",
   "metadata": {
    "execution": {
     "iopub.execute_input": "2024-05-21T20:34:22.577606Z",
     "iopub.status.busy": "2024-05-21T20:34:22.576837Z",
     "iopub.status.idle": "2024-05-21T20:34:22.589056Z",
     "shell.execute_reply": "2024-05-21T20:34:22.588285Z"
    },
    "papermill": {
     "duration": 0.040491,
     "end_time": "2024-05-21T20:34:22.591266",
     "exception": false,
     "start_time": "2024-05-21T20:34:22.550775",
     "status": "completed"
    },
    "tags": []
   },
   "outputs": [],
   "source": [
    "no0_top_k_uid_df = top_k_uid_df.astype({k: float for k in ['forward_n','comment_n','like_n','popularity','median_popularity', 'mean_popularity']})\n",
    "no0_top_k_uid_df.loc[:,['forward_n','comment_n','like_n','popularity','median_popularity', 'mean_popularity']] = no0_top_k_uid_df[['forward_n','comment_n','like_n','popularity','median_popularity', 'mean_popularity']] +.0001"
   ]
  },
  {
   "cell_type": "code",
   "execution_count": 26,
   "id": "35cad4ef",
   "metadata": {
    "execution": {
     "iopub.execute_input": "2024-05-21T20:34:22.645333Z",
     "iopub.status.busy": "2024-05-21T20:34:22.645009Z",
     "iopub.status.idle": "2024-05-21T20:34:25.521761Z",
     "shell.execute_reply": "2024-05-21T20:34:25.520630Z"
    },
    "papermill": {
     "duration": 2.904735,
     "end_time": "2024-05-21T20:34:25.523934",
     "exception": false,
     "start_time": "2024-05-21T20:34:22.619199",
     "status": "completed"
    },
    "tags": []
   },
   "outputs": [
    {
     "name": "stderr",
     "output_type": "stream",
     "text": [
      "/tmp/ipykernel_25/939236513.py:15: RuntimeWarning: overflow encountered in exp\n",
      "  return f\"{np.exp(x):.2f}\"\n"
     ]
    },
    {
     "data": {
      "image/png": "[encoded data removed]",
      "text/plain": [
       "<Figure size 640x480 with 1 Axes>"
      ]
     },
     "metadata": {},
     "output_type": "display_data"
    }
   ],
   "source": [
    "warnings.filterwarnings('ignore', category=FutureWarning)\n",
    "ax = sns.histplot(\n",
    "    no0_top_k_uid_df,\n",
    "    x='popularity', hue='uid',\n",
    "    multiple='stack',\n",
    "    #palette='light:m_r',\n",
    "    edgecolor='.3',\n",
    "    linewidth=.5,\n",
    "    log_scale=True,\n",
    "    legend=False,\n",
    ")\n",
    "\n",
    "def exp_formatter(x, pos):\n",
    "    \"\"\"Converts log scale labels back to the exponential scale\"\"\"\n",
    "    return f\"{np.exp(x):.2f}\"\n",
    "\n",
    "ax.get_xaxis().set_major_formatter(mtick.FuncFormatter(exp_formatter))\n",
    "warnings.simplefilter('default', category=FutureWarning)"
   ]
  },
  {
   "cell_type": "code",
   "execution_count": 27,
   "id": "ca1eec1a",
   "metadata": {
    "execution": {
     "iopub.execute_input": "2024-05-21T20:34:25.577673Z",
     "iopub.status.busy": "2024-05-21T20:34:25.577359Z",
     "iopub.status.idle": "2024-05-21T20:34:25.595904Z",
     "shell.execute_reply": "2024-05-21T20:34:25.595065Z"
    },
    "papermill": {
     "duration": 0.047753,
     "end_time": "2024-05-21T20:34:25.597864",
     "exception": false,
     "start_time": "2024-05-21T20:34:25.550111",
     "status": "completed"
    },
    "tags": []
   },
   "outputs": [
    {
     "name": "stdout",
     "output_type": "stream",
     "text": [
      "skip for now\n"
     ]
    }
   ],
   "source": [
    "%%script echo 'skip for now'\n",
    "pal = sns.color_palette(palette='coolwarm', n_colors=TOP_K_UID)\n",
    "\n",
    "g = sns.FacetGrid(top_k_uid_df, row='uid', hue='median_popularity', aspect=15, height=.75, palette=pal)\n",
    "\n",
    "g.map(sns.boxplot, y='popularity', clip_on=False,\n",
    "      fill=True, alpha=1, linewidth=1.5)\n",
    "g.map(sns.boxplot, y='popularity', clip_on=False, \n",
    "      color=\"w\", lw=2)\n",
    "\n",
    "#g.refline(y=0, linewidth=2, linestyle=\"-\", color=None, clip_on=False)\n",
    "\n",
    "#for i, ax in enumerate(g.axes.flat):\n",
    "#    ax.text(0, 0, top_uids[i],\n",
    "#            fontweight='bold', fontsize=7,\n",
    "#            color=ax.lines[-1].get_color(),\n",
    "#            ha='left', va='center')\n",
    "\n",
    "g.fig.subplots_adjust(hspace=1)#-.3)\n",
    "\n",
    "g.set_titles('')\n",
    "g.set(yticks=[], ylabel='')\n",
    "g.despine(bottom=True, left=True)\n",
    "\n",
    "ax = g.axes.flat[-1]\n",
    "plt.setp(ax.get_xticklabels(), fontsize=15, fontweight='bold')\n",
    "plt.xlabel('Popularity (forwards, comments and likes combined)', fontweight='bold', fontsize=15)\n",
    "_ = g.fig.suptitle(f'Post potpularity of top {TOP_K_UID} users',\n",
    "               ha='right',\n",
    "               fontsize=20,\n",
    "               fontweight=20)"
   ]
  },
  {
   "cell_type": "markdown",
   "id": "0d7b33c3",
   "metadata": {
    "papermill": {
     "duration": 0.024712,
     "end_time": "2024-05-21T20:34:25.649515",
     "exception": false,
     "start_time": "2024-05-21T20:34:25.624803",
     "status": "completed"
    },
    "tags": []
   },
   "source": [
    "## Model definition"
   ]
  },
  {
   "cell_type": "markdown",
   "id": "9bb5d841",
   "metadata": {
    "papermill": {
     "duration": 0.024805,
     "end_time": "2024-05-21T20:34:25.699196",
     "exception": false,
     "start_time": "2024-05-21T20:34:25.674391",
     "status": "completed"
    },
    "tags": []
   },
   "source": [
    "### Transformer definitions"
   ]
  },
  {
   "cell_type": "code",
   "execution_count": 28,
   "id": "4d8e6d8e",
   "metadata": {
    "execution": {
     "iopub.execute_input": "2024-05-21T20:34:25.751363Z",
     "iopub.status.busy": "2024-05-21T20:34:25.751041Z",
     "iopub.status.idle": "2024-05-21T20:34:25.794361Z",
     "shell.execute_reply": "2024-05-21T20:34:25.793564Z"
    },
    "papermill": {
     "duration": 0.072034,
     "end_time": "2024-05-21T20:34:25.796551",
     "exception": false,
     "start_time": "2024-05-21T20:34:25.724517",
     "status": "completed"
    },
    "tags": []
   },
   "outputs": [],
   "source": [
    "def extract_tags_cn(text):\n",
    "    return jbanalyse.extract_tags(text)\n",
    "\n",
    "@CACHE_DIR.cache\n",
    "def cached_tfidf_fit(tf_idf_params, X):\n",
    "    return TfidfVectorizer(**tf_idf_params).fit(X)\n",
    "\n",
    "class TfIdfCachedTransformer(BaseEstimator, TransformerMixin):\n",
    "    def __init__(\n",
    "        self,\n",
    "        tf_idf_params={'analyzer': extract_tags_cn, 'max_features': 512},\n",
    "        cached_fitted_tf_idf=cached_tfidf_fit,\n",
    "    ):\n",
    "        self.tf_idf_params=tf_idf_params\n",
    "        self.cached_fitted_tf_idf=cached_fitted_tf_idf\n",
    "\n",
    "    def fit(self, X, y=None):\n",
    "        self.tf_idf = self.cached_fitted_tf_idf(self.tf_idf_params, X.iloc[:, 0])\n",
    "        return self\n",
    "\n",
    "    def transform(self, X: pd.DataFrame, y=None):\n",
    "        X_trans = pd.DataFrame.sparse.from_spmatrix(\n",
    "            self.tf_idf.transform(X.iloc[:, 0]),\n",
    "            columns=self.tf_idf.get_feature_names_out()\n",
    "        )\n",
    "        return X_trans\n",
    "    \n",
    "    def get_feature_names_out(self, names=None):\n",
    "        return self.tf_idf.get_feature_names_out(names)\n",
    "\n",
    "\n",
    "class DateTimeTransformer(BaseEstimator, TransformerMixin):\n",
    "    def __init__(self, datetime_col='ts', expand=['hour', 'minute'], drop=True):\n",
    "        self.datetime_col = datetime_col\n",
    "        self.expand = expand\n",
    "        self.drop = drop\n",
    "\n",
    "    def fit(self, X, y=None):\n",
    "        self.datetime_col_loc = X.columns.get_loc(self.datetime_col)\n",
    "        return self\n",
    "\n",
    "    def transform(self, X: pd.DataFrame, y=None):\n",
    "        X_transformed = pd.DataFrame(X)\n",
    "        X_transformed[self.datetime_col] = pd.to_datetime(X.iloc[:, self.datetime_col_loc])\n",
    "        if 'hour' in self.expand:\n",
    "            X_transformed['hour'] = X.iloc[:, self.datetime_col_loc].dt.hour\n",
    "        if 'minute' in self.expand:\n",
    "            X_transformed['minute'] = X.iloc[:, self.datetime_col_loc].dt.minute\n",
    "        if 'second' in self.expand:\n",
    "            X_transformed['second'] = X.iloc[:, self.datetime_col_loc].dt.second\n",
    "        if self.drop:\n",
    "            X_transformed = X_transformed.drop(X_transformed. columns[self.datetime_col_loc], axis=1)\n",
    "        return X_transformed\n",
    "\n",
    "\n",
    "class PopularityTransformer(BaseEstimator, TransformerMixin):\n",
    "    def __init__(\n",
    "        self,\n",
    "        classifier=ClassifierChain(\n",
    "                CatBoostClassifier(\n",
    "                    iterations=2000,\n",
    "                    task_type=gpu_or_else('GPU', 'CPU'),\n",
    "                    devices=list(range(get_gpu_device_count())),\n",
    "                    boosting_type='Plain',\n",
    "                    verbose=False,\n",
    "                )\n",
    "        ),\n",
    "        get_classes=lambda y: next(\n",
    "            (l for t, l in [\n",
    "                (1, 0),\n",
    "                (6, 5),\n",
    "                (101, 100),\n",
    "                (1_001, 1_000),\n",
    "                (10_001, 10_000)\n",
    "            ] if y <= t),\n",
    "            10_001\n",
    "        )\n",
    "    ):\n",
    "        self.classifier = classifier\n",
    "        self.get_classes = np.vectorize(get_classes)\n",
    "\n",
    "    def fit(self, X, y=None):\n",
    "        y_ = self.get_classes(y)\n",
    "        self.classifier = self.classifier.fit(X, y_)\n",
    "        return self\n",
    "\n",
    "    def transform(self, X: pd.DataFrame, y=None):\n",
    "        X[[str(i) for i in self.classifier.classes_]] = self.classifier.predict_proba(X)\n",
    "        return X\n",
    "    \n",
    "class OutputRegressor(BaseEstimator, RegressorMixin):\n",
    "    def __init__(\n",
    "        self,\n",
    "        model,\n",
    "        transformation=lambda x: np.where(np.round(x)<=1, 0, np.round(x))\n",
    "    ):\n",
    "        self.model = model\n",
    "        self.transformation = transformation\n",
    "\n",
    "    def fit(self, X, y):\n",
    "        self.model.fit(X, y)\n",
    "        return self\n",
    "\n",
    "    def predict(self, X):\n",
    "        predictions = self.model.predict(X)\n",
    "        return self.transformation(predictions)"
   ]
  },
  {
   "cell_type": "code",
   "execution_count": 29,
   "id": "9434b3f7",
   "metadata": {
    "execution": {
     "iopub.execute_input": "2024-05-21T20:34:25.849014Z",
     "iopub.status.busy": "2024-05-21T20:34:25.848724Z",
     "iopub.status.idle": "2024-05-21T20:34:25.857549Z",
     "shell.execute_reply": "2024-05-21T20:34:25.856667Z"
    },
    "papermill": {
     "duration": 0.03728,
     "end_time": "2024-05-21T20:34:25.859513",
     "exception": false,
     "start_time": "2024-05-21T20:34:25.822233",
     "status": "completed"
    },
    "tags": []
   },
   "outputs": [
    {
     "name": "stdout",
     "output_type": "stream",
     "text": [
      "TODO fix\n"
     ]
    }
   ],
   "source": [
    "%%script echo 'TODO fix'\n",
    "p = make_pipeline(\n",
    "    make_column_transformer(\n",
    "        (OneHotEncoder(handle_unknown='ignore'), make_column_selector(pattern='uid'))\n",
    "    ),\n",
    "    PopularityTransformer()#TODO: fix probability prediction\n",
    ").fit(X_tmp, y_tmp)"
   ]
  },
  {
   "cell_type": "code",
   "execution_count": 30,
   "id": "8a203e9f",
   "metadata": {
    "execution": {
     "iopub.execute_input": "2024-05-21T20:34:25.910587Z",
     "iopub.status.busy": "2024-05-21T20:34:25.910245Z",
     "iopub.status.idle": "2024-05-21T20:34:25.919331Z",
     "shell.execute_reply": "2024-05-21T20:34:25.918527Z"
    },
    "papermill": {
     "duration": 0.037426,
     "end_time": "2024-05-21T20:34:25.921512",
     "exception": false,
     "start_time": "2024-05-21T20:34:25.884086",
     "status": "completed"
    },
    "tags": []
   },
   "outputs": [
    {
     "name": "stdout",
     "output_type": "stream",
     "text": [
      "TODO fix\n"
     ]
    }
   ],
   "source": [
    "%%script echo 'TODO fix'\n",
    "p.steps[1][1].classifier.predict(X_tmp)"
   ]
  },
  {
   "cell_type": "markdown",
   "id": "06c626f1",
   "metadata": {
    "papermill": {
     "duration": 0.026299,
     "end_time": "2024-05-21T20:34:25.974222",
     "exception": false,
     "start_time": "2024-05-21T20:34:25.947923",
     "status": "completed"
    },
    "tags": []
   },
   "source": [
    "### Userid Model"
   ]
  },
  {
   "cell_type": "code",
   "execution_count": 31,
   "id": "487c6616",
   "metadata": {
    "execution": {
     "iopub.execute_input": "2024-05-21T20:34:26.028079Z",
     "iopub.status.busy": "2024-05-21T20:34:26.027735Z",
     "iopub.status.idle": "2024-05-21T20:34:26.034580Z",
     "shell.execute_reply": "2024-05-21T20:34:26.033359Z"
    },
    "papermill": {
     "duration": 0.035962,
     "end_time": "2024-05-21T20:34:26.036631",
     "exception": false,
     "start_time": "2024-05-21T20:34:26.000669",
     "status": "completed"
    },
    "tags": []
   },
   "outputs": [],
   "source": [
    "def get_user_id_model(outputkwargs={}, gbkwargs={}):\n",
    "    return make_pipeline(\n",
    "        make_column_transformer(\n",
    "            (OneHotEncoder(handle_unknown='ignore'), make_column_selector(pattern='uid'))\n",
    "        ),\n",
    "        RegressorChain(\n",
    "            OutputRegressor(\n",
    "                #CatBoostRegressor(\n",
    "                #    task_type=gpu_or_else('GPU', 'CPU'),\n",
    "                #    devices=list(range(get_gpu_device_count())),\n",
    "                #    boosting_type='Plain',\n",
    "                #    has_time=True,\n",
    "                #    verbose=False,\n",
    "                #    **catkwargs,\n",
    "                #),\n",
    "                LGBMRegressor(\n",
    "                    device=gpu_or_else('cpu', 'cpu'),\n",
    "                    **gbkwargs,\n",
    "                ),#'cuda'\n",
    "                **outputkwargs,\n",
    "            ),\n",
    "            verbose=False\n",
    "        )\n",
    "    )"
   ]
  },
  {
   "cell_type": "markdown",
   "id": "b1c7ad76",
   "metadata": {
    "papermill": {
     "duration": 0.027333,
     "end_time": "2024-05-21T20:34:26.091689",
     "exception": false,
     "start_time": "2024-05-21T20:34:26.064356",
     "status": "completed"
    },
    "tags": []
   },
   "source": [
    "### Catboost all features"
   ]
  },
  {
   "cell_type": "code",
   "execution_count": 32,
   "id": "7fd1561e",
   "metadata": {
    "execution": {
     "iopub.execute_input": "2024-05-21T20:34:26.145830Z",
     "iopub.status.busy": "2024-05-21T20:34:26.145474Z",
     "iopub.status.idle": "2024-05-21T20:34:26.152403Z",
     "shell.execute_reply": "2024-05-21T20:34:26.151499Z"
    },
    "papermill": {
     "duration": 0.036015,
     "end_time": "2024-05-21T20:34:26.154449",
     "exception": false,
     "start_time": "2024-05-21T20:34:26.118434",
     "status": "completed"
    },
    "tags": []
   },
   "outputs": [],
   "source": [
    "def get_cat_all_features_model(outputkwargs={}, gbkwargs={}): \n",
    "    return make_pipeline(\n",
    "        DateTimeTransformer(datetime_col='ts', expand=['hour', 'minute', 'second'], drop=True),\n",
    "        make_column_transformer(\n",
    "            (OneHotEncoder(handle_unknown='ignore'),['uid', 'mid']),\n",
    "            ('passthrough',['hour', 'minute', 'second']),\n",
    "            (TfIdfCachedTransformer(),['content']),\n",
    "        ),\n",
    "        RegressorChain(\n",
    "            OutputRegressor(\n",
    "                #CatBoostRegressor(\n",
    "                #    task_type=gpu_or_else('GPU', 'CPU'),\n",
    "                #    devices=list(range(get_gpu_device_count())),\n",
    "                #    boosting_type='Plain',\n",
    "                #    has_time=True,\n",
    "                #    verbose=False,\n",
    "                #    **catkwargs,\n",
    "                #),\n",
    "                LGBMRegressor(\n",
    "                    device=gpu_or_else('cpu', 'cpu'),\n",
    "                    **gbkwargs,\n",
    "                ),\n",
    "                **outputkwargs\n",
    "            ),\n",
    "            verbose=False\n",
    "        )\n",
    "    )"
   ]
  },
  {
   "cell_type": "markdown",
   "id": "8264f876",
   "metadata": {
    "papermill": {
     "duration": 0.024696,
     "end_time": "2024-05-21T20:34:26.204504",
     "exception": false,
     "start_time": "2024-05-21T20:34:26.179808",
     "status": "completed"
    },
    "tags": []
   },
   "source": [
    "### ItemCF model"
   ]
  },
  {
   "cell_type": "code",
   "execution_count": 33,
   "id": "ca9ed69b",
   "metadata": {
    "execution": {
     "iopub.execute_input": "2024-05-21T20:34:26.257423Z",
     "iopub.status.busy": "2024-05-21T20:34:26.257094Z",
     "iopub.status.idle": "2024-05-21T20:34:26.274381Z",
     "shell.execute_reply": "2024-05-21T20:34:26.273539Z"
    },
    "papermill": {
     "duration": 0.046165,
     "end_time": "2024-05-21T20:34:26.276400",
     "exception": false,
     "start_time": "2024-05-21T20:34:26.230235",
     "status": "completed"
    },
    "tags": []
   },
   "outputs": [
    {
     "name": "stdout",
     "output_type": "stream",
     "text": [
      "#TODO skip for now\n"
     ]
    }
   ],
   "source": [
    "%%script echo '#TODO skip for now'\n",
    "class ItemCF:\n",
    "    def __init__(self, data):\n",
    "        self.data = data\n",
    "\n",
    "    def user_item(self):  # Training set converted to dict\n",
    "        data = self.data\n",
    "        self.traindata = {}\n",
    "        for user, item, time in np.array(data).tolist():\n",
    "            self.traindata.setdefault(user, {})\n",
    "            self.traindata[user][item] = 1  # time\n",
    "\n",
    "    def ItemSimilarity(self, alpha=1):\n",
    "        train = self.traindata\n",
    "        # calculate co-rated users between items\n",
    "        C = dict()\n",
    "        N = dict()\n",
    "        for u, items in train.items():\n",
    "            for i, tui in items.items():\n",
    "                N.setdefault(i, 0)\n",
    "                N[i] += 1\n",
    "                for j, tuj in items.items():\n",
    "                    C.setdefault(i, {})\n",
    "                    if i == j:\n",
    "                        continue\n",
    "                    C[i].setdefault(j, 0)\n",
    "                    C[i][j] += 1 / (1 + alpha * abs(tui - tuj))\n",
    "        # calculate finial similarity matrix W\n",
    "        W = dict()\n",
    "        for i, related_items in C.items():\n",
    "            W.setdefault(i, {})\n",
    "            for j, cij in related_items.items():\n",
    "                W[i].setdefault(j, 0)\n",
    "                W[i][j] = cij / math.sqrt(N[i] * N[j] * 1.0)\n",
    "        self.itemSim = W\n",
    "\n",
    "    def recommend(self, user, tid=1, k=1, beta=1):\n",
    "        W = self.itemSim\n",
    "        train = self.traindata\n",
    "        rank = dict()\n",
    "        ru = train.get(user, {})\n",
    "        for i, tui in ru.items():\n",
    "            for j, wj in W[i].items():\n",
    "                if j in ru.keys():\n",
    "                    continue\n",
    "                rank.setdefault(j, 0)\n",
    "                rank[j] += wj / (1 + beta * abs(tid - tui))\n",
    "        return dict(sorted(rank.items(), key=lambda x: x[1], reverse=True)[0:k])\n",
    "\n",
    "\n",
    "\n",
    "class cWeibo:\n",
    "\n",
    "    def __init__(self, path):\n",
    "        self.path = path\n",
    "\n",
    "    def importData(self):\n",
    "        path = self.path\n",
    "        # import sample set\n",
    "        data = pd.read_csv(path,\n",
    "                           encoding='utf8', sep='\\t',\n",
    "                           names=['luid', 'mid', 'time', 'fcs', 'ccs', 'lcs', 'cont'])  # nrows=1000\n",
    "        data['fcs'] = data['fcs'].astype('int')  # one week after repost，weight 0.5\n",
    "        data['ccs'] = data['ccs'].astype('int')  # one week after comments,  0.25\n",
    "        data['lcs'] = data['lcs'].astype('int')  # one week after likes 0.25\n",
    "        train, test = model_selection.train_test_split(data, test_size=0.2)\n",
    "        self.traindata = pd.DataFrame(data)  # train set\n",
    "        self.testdata = pd.DataFrame(test)  # test set\n",
    "\n",
    "        data = pd.read_csv(\n",
    "            path,\n",
    "            encoding='utf8', sep='\\t', names=['luid', 'mid', 'time', 'cont'])  # nrows=100\n",
    "        self.predata = data  # predict set\n",
    "\n",
    "    def ETL(self):\n",
    "\n",
    "        # Convert time to 0-23 numbers, taking into account special holidays if necessary.\n",
    "        self.traindata['time'] = self.traindata.apply(lambda x: (time.strptime(x['time'], \"%Y-%m-%d %H:%M:%S\")).tm_hour,\n",
    "                                                      axis=1)\n",
    "        self.traindata.rename(columns=lambda x: x.replace('time', 'tid'), inplace=True)  # rename tid\n",
    "        self.testdata['time'] = self.testdata.apply(lambda x: (time.strptime(x['time'], \"%Y-%m-%d %H:%M:%S\")).tm_hour,\n",
    "                                                    axis=1)\n",
    "        self.testdata.rename(columns=lambda x: x.replace('time', 'tid'), inplace=True)\n",
    "        self.predata['time'] = self.predata.apply(lambda x: (time.strptime(x['time'], \"%Y-%m-%d %H:%M:%S\")).tm_hour,\n",
    "                                                  axis=1)\n",
    "        self.predata.rename(columns=lambda x: x.replace('time', 'tid'), inplace=True)\n",
    "        # content analysis , consider special meaning words likes red poket\n",
    "        # jieba.suggest_freq('@', True)\n",
    "        self.traindata['cont'] = self.traindata['cont'].astype(str).fillna('')\n",
    "        self.traindata['cont'] = self.traindata.apply(lambda x: \",\".join(jieba.analyse.extract_tags(x['cont'], topK=50, \\\n",
    "                                                                                                    allowPOS=(\n",
    "                                                                                                    'n', 'nr', 'ns',\n",
    "                                                                                                    'nt', 'nz', 'a',\n",
    "                                                                                                    'ad', 'an', 'f',\n",
    "                                                                                                    's', 'i', 't', 'v',\n",
    "                                                                                                    'vd', 'vn'))),\n",
    "                                                      axis=1)\n",
    "        self.traindata = self.traindata.drop('cont', axis=1).join(\n",
    "            self.traindata['cont'].str.split(',', expand=True).stack().reset_index(level=1, drop=True).rename('tag'))\n",
    "\n",
    "        self.testdata['cont'] = self.testdata['cont'].astype(str).fillna('')\n",
    "        self.testdata['cont'] = self.testdata.apply(lambda x: \",\".join(jieba.analyse.extract_tags(x['cont'], topK=50, \\\n",
    "                                                                                                  allowPOS=(\n",
    "                                                                                                  'n', 'nr', 'ns', 'nt',\n",
    "                                                                                                  'nz', 'a', 'ad', 'an',\n",
    "                                                                                                  'f', 's', 'i', 't',\n",
    "                                                                                                  'v', 'vd', 'vn'))),\n",
    "                                                    axis=1)\n",
    "        self.testdata = self.testdata.drop('cont', axis=1).join(\n",
    "            self.testdata['cont'].str.split(',', expand=True).stack().reset_index(level=1, drop=True).rename('tag'))\n",
    "\n",
    "        self.predata['cont'] = self.predata['cont'].astype(str).fillna('')\n",
    "        self.predata['cont'] = self.predata.apply(lambda x: \",\".join(jieba.analyse.extract_tags(x['cont'], topK=50, \\\n",
    "                                                                                                allowPOS=(\n",
    "                                                                                                'n', 'nr', 'ns', 'nt',\n",
    "                                                                                                'nz', 'a', 'ad', 'an',\n",
    "                                                                                                'f', 's', 'i', 't', 'v',\n",
    "                                                                                                'vd', 'vn'))), axis=1)\n",
    "        self.predata = self.predata.drop('cont', axis=1).join(\n",
    "            self.predata['cont'].str.split(',', expand=True).stack().reset_index(level=1, drop=True).rename('tag'))\n",
    "        # Create indexing\n",
    "        ft_train = set(self.traindata.iloc[:, 6])\n",
    "        ft_pred = set(self.predata.iloc[:, 3])\n",
    "        ft = list(ft_train.symmetric_difference(ft_pred))\n",
    "        df_ft = pd.DataFrame(ft, columns=['tag'])\n",
    "        df_ft['fid'] = df_ft.index\n",
    "        self.traindata = pd.merge(self.traindata, df_ft, on=['tag'], how='left')\n",
    "        self.traindata = self.traindata[['luid', 'mid', 'tid', 'fid', 'fcs', 'ccs', 'lcs']]\n",
    "        self.traindata = self.traindata.dropna(axis=0, how='any')\n",
    "        self.traindata['fid'] = self.traindata['fid'].astype('int')\n",
    "        print(self.traindata.shape)\n",
    "        self.testdata = pd.merge(self.testdata, df_ft, on=['tag'], how='left')\n",
    "        self.testdata = self.testdata[['luid', 'mid', 'tid', 'fid', 'fcs', 'ccs', 'lcs']]\n",
    "        self.testdata = self.testdata.dropna(axis=0, how='any')\n",
    "        self.testdata['fid'] = self.testdata['fid'].astype('int')\n",
    "        print(self.testdata.shape)\n",
    "        self.predata = pd.merge(self.predata, df_ft, on=['tag'], how='left')\n",
    "        self.predata = self.predata[['luid', 'mid', 'tid', 'fid']]\n",
    "        self.predata = self.predata.dropna(axis=0, how='any')\n",
    "        self.predata['fid'] = self.predata['fid'].astype('int')\n",
    "        print(self.predata.shape)\n",
    "\n",
    "    def callItemCF(self):\n",
    "        data = self.traindata\n",
    "\n",
    "        data_f = data[['fid', 'fcs', 'tid']]\n",
    "        data_c = data[['fid', 'ccs', 'tid']]\n",
    "        data_l = data[['fid', 'lcs', 'tid']]\n",
    "        # Training the Retweet Count Recommendation Model\n",
    "        ic_f = ItemCF(data_f)\n",
    "        ic_f.user_item()  # Transform into dict and generate training and test sets\n",
    "        ic_f.ItemSimilarity()  # Generate item similarity matrix\n",
    "        self.ic_f = ic_f\n",
    "\n",
    "        ic_c = ItemCF(data_c)\n",
    "        ic_c.user_item()\n",
    "        ic_c.ItemSimilarity()\n",
    "        self.ic_c = ic_c\n",
    "\n",
    "        ic_l = ItemCF(data_l)\n",
    "        ic_l.user_item()\n",
    "        ic_l.ItemSimilarity()\n",
    "        self.ic_l = ic_l\n",
    "\n",
    "        test = self.testdata\n",
    "        test_f = test[['mid', 'fid', 'tid', 'fcs']]\n",
    "        test_c = test[['mid', 'fid', 'tid', 'ccs']]\n",
    "        test_l = test[['mid', 'fid', 'tid', 'lcs']]\n",
    "        test_f['pfcs'] = test_f.apply(\n",
    "            lambda x: list(ic_f.recommend(x['fid']).keys())[0] if ic_f.recommend(x['fid']) else 0, axis=1)\n",
    "\n",
    "        test_c['pccs'] = test_c.apply(\n",
    "            lambda x: list(ic_c.recommend(x['fid']).keys())[0] if ic_c.recommend(x['fid']) else 0, axis=1)\n",
    "\n",
    "        test_l['plcs'] = test_l.apply(\n",
    "            lambda x: list(ic_l.recommend(x['fid']).keys())[0] if ic_l.recommend(x['fid']) else 0, axis=1)\n",
    "\n",
    "        # 计算准确率\n",
    "        precision = self.precision(test_f[['mid', 'fcs', 'pfcs']], test_c[['mid', 'ccs', 'pccs']],\n",
    "                                   test_l[['mid', 'lcs', 'plcs']])\n",
    "        print(precision)\n",
    "\n",
    "    def precision(self, test_f, test_c, test_l):  # calculate precision\n",
    "        test_f = test_f.groupby('mid').mean()\n",
    "        test_c = test_c.groupby('mid').mean()\n",
    "        test_l = test_l.groupby('mid').mean()\n",
    "\n",
    "        # print(test_f.columns.tolist)\n",
    "        test_f['dev_f'] = abs(test_f['fcs'] - test_f['pfcs']) / np.clip(test_f['fcs'] + 5, 1, None)\n",
    "        test_c['dev_c'] = abs(test_c['ccs'] - test_c['pccs']) / np.clip(test_c['ccs'] + 3, 1, None)\n",
    "        test_l['dev_l'] = abs(test_l['lcs'] - test_l['plcs']) / np.clip(test_l['lcs'] + 3, 1, None)\n",
    "\n",
    "        test = test_f\n",
    "        test = pd.merge(test, test_c, left_index=True, right_index=True)  # 以索引连接\n",
    "        test = pd.merge(test, test_l, left_index=True, right_index=True)\n",
    "\n",
    "        test['prec'] = 1 - 0.5 * test['dev_f'] - 0.25 * test['dev_c'] - 0.25 * test['dev_l']\n",
    "\n",
    "        test['count'] = np.where(test['pfcs'] + test['pccs'] + test['plcs'] > 100, 100,\n",
    "                                 test['pfcs'] + test['pccs'] + test['plcs'])\n",
    "\n",
    "\n",
    "        test['sgn'] = np.where(test['prec'] > 0.8, 1, 0)\n",
    "        test['on'] = (test['count'] + 1) * test['sgn']\n",
    "        test['down'] = test['count'] + 1\n",
    "\n",
    "        prec_df = test[['on', 'down']]\n",
    "\n",
    "        on = prec_df['on'].sum()\n",
    "        down = prec_df['down'].sum()\n",
    "        return (on / down)\n",
    "\n",
    "    def predict(self):\n",
    "        '''\n",
    "        Name of document：weibo_result_data.txt\n",
    "        '''\n",
    "\n",
    "\n",
    "        predata = self.predata[['luid', 'mid', 'tid', 'fid']]\n",
    "\n",
    "        predata['recommend_f'] = predata['fid'].apply(lambda x: self.ic_f.recommend(x))\n",
    "        predata['recommend_c'] = predata['fid'].apply(lambda x: self.ic_c.recommend(x))\n",
    "        predata['recommend_l'] = predata['fid'].apply(lambda x: self.ic_l.recommend(x))\n",
    "\n",
    "        predata['pfcs'] = predata['recommend_f'].apply(lambda x: list(x.keys())[0] if x else 0)\n",
    "        predata['pccs'] = predata['recommend_c'].apply(lambda x: list(x.keys())[0] if x else 0)\n",
    "        predata['plcs'] = predata['recommend_l'].apply(lambda x: list(x.keys())[0] if x else 0)\n",
    "\n",
    "        predata['results'] = predata.apply(\n",
    "            lambda x: f\"{int(x['pfcs'])},{int(x['pccs'])},{int(x['plcs'])}\", axis=1)\n",
    "\n",
    "        result_data = predata[['luid', 'mid', 'results']]\n",
    "        result_data = result_data.drop_duplicates(subset=['luid', 'mid'])\n",
    "\n",
    "        result_data.to_csv('weibo_result_data.txt', sep='\\t', index=False, header=False)\n",
    "\n",
    "        print(\"File has been saved as 'weibo_result_data.txt'.\")\n",
    "        print(result_data.shape)\n",
    "\n",
    "\n",
    "#get_item_cf_model = lambda:"
   ]
  },
  {
   "cell_type": "markdown",
   "id": "2eaa4d78",
   "metadata": {
    "papermill": {
     "duration": 0.025286,
     "end_time": "2024-05-21T20:34:26.327196",
     "exception": false,
     "start_time": "2024-05-21T20:34:26.301910",
     "status": "completed"
    },
    "tags": []
   },
   "source": [
    "### Model list"
   ]
  },
  {
   "cell_type": "code",
   "execution_count": 34,
   "id": "97eac06b",
   "metadata": {
    "execution": {
     "iopub.execute_input": "2024-05-21T20:34:26.380140Z",
     "iopub.status.busy": "2024-05-21T20:34:26.379848Z",
     "iopub.status.idle": "2024-05-21T20:34:26.388916Z",
     "shell.execute_reply": "2024-05-21T20:34:26.387986Z"
    },
    "papermill": {
     "duration": 0.037646,
     "end_time": "2024-05-21T20:34:26.390843",
     "exception": false,
     "start_time": "2024-05-21T20:34:26.353197",
     "status": "completed"
    },
    "tags": []
   },
   "outputs": [],
   "source": [
    "# TODO: cat boost sklearn.MutiRegression with maxbe custom loss to optimize\n",
    "\n",
    "models: list[tuple[str,BaseEstimator]] = [\n",
    "    ('base-0', DummyRegressor(strategy='constant', constant=[0,0,0])),\n",
    "    ('user-id', get_user_id_model()),\n",
    "    (\n",
    "        'user-id<2',\n",
    "        get_user_id_model(\n",
    "            outputkwargs={'transformation': lambda x: np.where(np.round(x)<=2, 0, np.round(x))},\n",
    "        )\n",
    "    ),\n",
    "    (\n",
    "        'user-id-2000',\n",
    "        get_user_id_model(\n",
    "            gbkwargs={'num_iterations': 2_000},\n",
    "            outputkwargs={'transformation': lambda x: np.where(np.round(x)<=2, 0, np.round(x))},\n",
    "        )\n",
    "    ),\n",
    "    #(\n",
    "    #    'user-id-6000',\n",
    "    #    get_user_id_model(\n",
    "    #        gbkwargs={'num_iterations': 6_000},\n",
    "    #        outputkwargs={'transformation': lambda x: np.where(np.round(x)<=2, 0, np.round(x))},\n",
    "    #    )\n",
    "    #),\n",
    "    ('gb-all', get_cat_all_features_model()),\n",
    "    (\n",
    "        'gb-all<2', \n",
    "         get_cat_all_features_model(\n",
    "            outputkwargs={'transformation': lambda x: np.where(np.round(x)<=2, 0, np.round(x))},\n",
    "         )\n",
    "    ),\n",
    "    (\n",
    "        'gb-all-3000',\n",
    "        get_cat_all_features_model(\n",
    "            gbkwargs={'num_iterations': 3_000},\n",
    "            outputkwargs={'transformation': lambda x: np.where(np.round(x)<=2, 0, np.round(x))},\n",
    "        )\n",
    "    ),\n",
    "]"
   ]
  },
  {
   "cell_type": "markdown",
   "id": "70949de4",
   "metadata": {
    "papermill": {
     "duration": 0.025628,
     "end_time": "2024-05-21T20:34:26.442197",
     "exception": false,
     "start_time": "2024-05-21T20:34:26.416569",
     "status": "completed"
    },
    "tags": []
   },
   "source": [
    "## Eval"
   ]
  },
  {
   "cell_type": "code",
   "execution_count": 35,
   "id": "605dde72",
   "metadata": {
    "execution": {
     "iopub.execute_input": "2024-05-21T20:34:26.495613Z",
     "iopub.status.busy": "2024-05-21T20:34:26.494736Z",
     "iopub.status.idle": "2024-05-21T20:34:26.499359Z",
     "shell.execute_reply": "2024-05-21T20:34:26.498412Z"
    },
    "papermill": {
     "duration": 0.033467,
     "end_time": "2024-05-21T20:34:26.501500",
     "exception": false,
     "start_time": "2024-05-21T20:34:26.468033",
     "status": "completed"
    },
    "tags": []
   },
   "outputs": [],
   "source": [
    "ts_cv = TimeSeriesSplit(n_splits=CV_SPLITS)"
   ]
  },
  {
   "cell_type": "code",
   "execution_count": 36,
   "id": "ea0ddc37",
   "metadata": {
    "execution": {
     "iopub.execute_input": "2024-05-21T20:34:26.555293Z",
     "iopub.status.busy": "2024-05-21T20:34:26.554684Z",
     "iopub.status.idle": "2024-05-21T23:43:27.107283Z",
     "shell.execute_reply": "2024-05-21T23:43:27.106336Z"
    },
    "papermill": {
     "duration": 11340.621514,
     "end_time": "2024-05-21T23:43:27.149481",
     "exception": false,
     "start_time": "2024-05-21T20:34:26.527967",
     "status": "completed"
    },
    "tags": []
   },
   "outputs": [
    {
     "data": {
      "application/vnd.jupyter.widget-view+json": {
       "model_id": "f00d9f697c3f4e1ebff39a3086abd9c2",
       "version_major": 2,
       "version_minor": 0
      },
      "text/plain": [
       "eval models:   0%|          | 0/7 [00:00<?, ?cv/s]"
      ]
     },
     "metadata": {},
     "output_type": "display_data"
    },
    {
     "name": "stdout",
     "output_type": "stream",
     "text": [
      "[LightGBM] [Info] Auto-choosing col-wise multi-threading, the overhead of testing was 0.008411 seconds.\n",
      "You can set `force_col_wise=true` to remove the overhead.\n",
      "[LightGBM] [Info] Total Bins 2820\n",
      "[LightGBM] [Info] Number of data points in the train set: 166670, number of used features: 1410\n",
      "[LightGBM] [Info] Start training from score 3.402292\n",
      "[LightGBM] [Info] Auto-choosing col-wise multi-threading, the overhead of testing was 0.006665 seconds.\n",
      "You can set `force_col_wise=true` to remove the overhead.\n",
      "[LightGBM] [Info] Total Bins 3075\n",
      "[LightGBM] [Info] Number of data points in the train set: 166670, number of used features: 1411\n",
      "[LightGBM] [Info] Start training from score 1.244321\n",
      "[LightGBM] [Info] Auto-choosing col-wise multi-threading, the overhead of testing was 0.009666 seconds.\n",
      "You can set `force_col_wise=true` to remove the overhead.\n",
      "[LightGBM] [Info] Total Bins 3209\n",
      "[LightGBM] [Info] Number of data points in the train set: 166670, number of used features: 1412\n",
      "[LightGBM] [Info] Start training from score 2.149421\n"
     ]
    },
    {
     "name": "stderr",
     "output_type": "stream",
     "text": [
      "/opt/conda/lib/python3.10/site-packages/lightgbm/basic.py:1192: UserWarning: Converting data to scipy sparse matrix.\n",
      "  _log_warning('Converting data to scipy sparse matrix.')\n"
     ]
    },
    {
     "name": "stdout",
     "output_type": "stream",
     "text": [
      "[LightGBM] [Info] Auto-choosing col-wise multi-threading, the overhead of testing was 0.008302 seconds.\n",
      "You can set `force_col_wise=true` to remove the overhead.\n",
      "[LightGBM] [Info] Total Bins 7366\n",
      "[LightGBM] [Info] Number of data points in the train set: 333336, number of used features: 3683\n",
      "[LightGBM] [Info] Start training from score 3.484100\n",
      "[LightGBM] [Info] Auto-choosing col-wise multi-threading, the overhead of testing was 0.013452 seconds.\n",
      "You can set `force_col_wise=true` to remove the overhead.\n",
      "[LightGBM] [Info] Total Bins 7621\n",
      "[LightGBM] [Info] Number of data points in the train set: 333336, number of used features: 3684\n",
      "[LightGBM] [Info] Start training from score 1.251677\n",
      "[LightGBM] [Info] Auto-choosing col-wise multi-threading, the overhead of testing was 0.020280 seconds.\n",
      "You can set `force_col_wise=true` to remove the overhead.\n",
      "[LightGBM] [Info] Total Bins 7771\n",
      "[LightGBM] [Info] Number of data points in the train set: 333336, number of used features: 3685\n",
      "[LightGBM] [Info] Start training from score 2.146033\n"
     ]
    },
    {
     "name": "stderr",
     "output_type": "stream",
     "text": [
      "/opt/conda/lib/python3.10/site-packages/lightgbm/basic.py:1192: UserWarning: Converting data to scipy sparse matrix.\n",
      "  _log_warning('Converting data to scipy sparse matrix.')\n"
     ]
    },
    {
     "name": "stdout",
     "output_type": "stream",
     "text": [
      "[LightGBM] [Info] Auto-choosing col-wise multi-threading, the overhead of testing was 0.006613 seconds.\n",
      "You can set `force_col_wise=true` to remove the overhead.\n",
      "[LightGBM] [Info] Total Bins 11972\n",
      "[LightGBM] [Info] Number of data points in the train set: 500002, number of used features: 5986\n",
      "[LightGBM] [Info] Start training from score 3.420388\n",
      "[LightGBM] [Info] Auto-choosing col-wise multi-threading, the overhead of testing was 0.020992 seconds.\n",
      "You can set `force_col_wise=true` to remove the overhead.\n",
      "[LightGBM] [Info] Total Bins 12227\n",
      "[LightGBM] [Info] Number of data points in the train set: 500002, number of used features: 5987\n",
      "[LightGBM] [Info] Start training from score 1.259881\n",
      "[LightGBM] [Info] Auto-choosing col-wise multi-threading, the overhead of testing was 0.029667 seconds.\n",
      "You can set `force_col_wise=true` to remove the overhead.\n",
      "[LightGBM] [Info] Total Bins 12373\n",
      "[LightGBM] [Info] Number of data points in the train set: 500002, number of used features: 5988\n",
      "[LightGBM] [Info] Start training from score 2.127225\n"
     ]
    },
    {
     "name": "stderr",
     "output_type": "stream",
     "text": [
      "/opt/conda/lib/python3.10/site-packages/lightgbm/basic.py:1192: UserWarning: Converting data to scipy sparse matrix.\n",
      "  _log_warning('Converting data to scipy sparse matrix.')\n"
     ]
    },
    {
     "name": "stdout",
     "output_type": "stream",
     "text": [
      "[LightGBM] [Info] Auto-choosing col-wise multi-threading, the overhead of testing was 0.008491 seconds.\n",
      "You can set `force_col_wise=true` to remove the overhead.\n",
      "[LightGBM] [Info] Total Bins 16398\n",
      "[LightGBM] [Info] Number of data points in the train set: 666668, number of used features: 8199\n",
      "[LightGBM] [Info] Start training from score 3.582765\n",
      "[LightGBM] [Info] Auto-choosing col-wise multi-threading, the overhead of testing was 0.029786 seconds.\n",
      "You can set `force_col_wise=true` to remove the overhead.\n",
      "[LightGBM] [Info] Total Bins 16653\n",
      "[LightGBM] [Info] Number of data points in the train set: 666668, number of used features: 8200\n",
      "[LightGBM] [Info] Start training from score 1.272471\n",
      "[LightGBM] [Info] Auto-choosing col-wise multi-threading, the overhead of testing was 0.041595 seconds.\n",
      "You can set `force_col_wise=true` to remove the overhead.\n",
      "[LightGBM] [Info] Total Bins 16803\n",
      "[LightGBM] [Info] Number of data points in the train set: 666668, number of used features: 8201\n",
      "[LightGBM] [Info] Start training from score 2.185224\n"
     ]
    },
    {
     "name": "stderr",
     "output_type": "stream",
     "text": [
      "/opt/conda/lib/python3.10/site-packages/lightgbm/basic.py:1192: UserWarning: Converting data to scipy sparse matrix.\n",
      "  _log_warning('Converting data to scipy sparse matrix.')\n"
     ]
    },
    {
     "name": "stdout",
     "output_type": "stream",
     "text": [
      "[LightGBM] [Info] Auto-choosing col-wise multi-threading, the overhead of testing was 0.010174 seconds.\n",
      "You can set `force_col_wise=true` to remove the overhead.\n",
      "[LightGBM] [Info] Total Bins 20080\n",
      "[LightGBM] [Info] Number of data points in the train set: 833334, number of used features: 10040\n",
      "[LightGBM] [Info] Start training from score 3.509508\n",
      "[LightGBM] [Info] Auto-choosing col-wise multi-threading, the overhead of testing was 0.033253 seconds.\n",
      "You can set `force_col_wise=true` to remove the overhead.\n",
      "[LightGBM] [Info] Total Bins 20335\n",
      "[LightGBM] [Info] Number of data points in the train set: 833334, number of used features: 10041\n",
      "[LightGBM] [Info] Start training from score 1.265026\n",
      "[LightGBM] [Info] Auto-choosing col-wise multi-threading, the overhead of testing was 0.054966 seconds.\n",
      "You can set `force_col_wise=true` to remove the overhead.\n",
      "[LightGBM] [Info] Total Bins 20480\n",
      "[LightGBM] [Info] Number of data points in the train set: 833334, number of used features: 10042\n",
      "[LightGBM] [Info] Start training from score 2.187665\n"
     ]
    },
    {
     "name": "stderr",
     "output_type": "stream",
     "text": [
      "/opt/conda/lib/python3.10/site-packages/lightgbm/basic.py:1192: UserWarning: Converting data to scipy sparse matrix.\n",
      "  _log_warning('Converting data to scipy sparse matrix.')\n"
     ]
    },
    {
     "name": "stdout",
     "output_type": "stream",
     "text": [
      "[LightGBM] [Info] Auto-choosing col-wise multi-threading, the overhead of testing was 0.004405 seconds.\n",
      "You can set `force_col_wise=true` to remove the overhead.\n",
      "[LightGBM] [Info] Total Bins 2820\n",
      "[LightGBM] [Info] Number of data points in the train set: 166670, number of used features: 1410\n",
      "[LightGBM] [Info] Start training from score 3.402292\n",
      "[LightGBM] [Info] Auto-choosing col-wise multi-threading, the overhead of testing was 0.006556 seconds.\n",
      "You can set `force_col_wise=true` to remove the overhead.\n",
      "[LightGBM] [Info] Total Bins 3075\n",
      "[LightGBM] [Info] Number of data points in the train set: 166670, number of used features: 1411\n",
      "[LightGBM] [Info] Start training from score 1.244321\n",
      "[LightGBM] [Info] Auto-choosing col-wise multi-threading, the overhead of testing was 0.009730 seconds.\n",
      "You can set `force_col_wise=true` to remove the overhead.\n",
      "[LightGBM] [Info] Total Bins 3209\n",
      "[LightGBM] [Info] Number of data points in the train set: 166670, number of used features: 1412\n",
      "[LightGBM] [Info] Start training from score 2.149421\n"
     ]
    },
    {
     "name": "stderr",
     "output_type": "stream",
     "text": [
      "/opt/conda/lib/python3.10/site-packages/lightgbm/basic.py:1192: UserWarning: Converting data to scipy sparse matrix.\n",
      "  _log_warning('Converting data to scipy sparse matrix.')\n"
     ]
    },
    {
     "name": "stdout",
     "output_type": "stream",
     "text": [
      "[LightGBM] [Info] Auto-choosing col-wise multi-threading, the overhead of testing was 0.008913 seconds.\n",
      "You can set `force_col_wise=true` to remove the overhead.\n",
      "[LightGBM] [Info] Total Bins 7366\n",
      "[LightGBM] [Info] Number of data points in the train set: 333336, number of used features: 3683\n",
      "[LightGBM] [Info] Start training from score 3.484100\n",
      "[LightGBM] [Info] Auto-choosing col-wise multi-threading, the overhead of testing was 0.016386 seconds.\n",
      "You can set `force_col_wise=true` to remove the overhead.\n",
      "[LightGBM] [Info] Total Bins 7621\n",
      "[LightGBM] [Info] Number of data points in the train set: 333336, number of used features: 3684\n",
      "[LightGBM] [Info] Start training from score 1.251677\n",
      "[LightGBM] [Info] Auto-choosing col-wise multi-threading, the overhead of testing was 0.019712 seconds.\n",
      "You can set `force_col_wise=true` to remove the overhead.\n",
      "[LightGBM] [Info] Total Bins 7771\n",
      "[LightGBM] [Info] Number of data points in the train set: 333336, number of used features: 3685\n",
      "[LightGBM] [Info] Start training from score 2.146033\n"
     ]
    },
    {
     "name": "stderr",
     "output_type": "stream",
     "text": [
      "/opt/conda/lib/python3.10/site-packages/lightgbm/basic.py:1192: UserWarning: Converting data to scipy sparse matrix.\n",
      "  _log_warning('Converting data to scipy sparse matrix.')\n"
     ]
    },
    {
     "name": "stdout",
     "output_type": "stream",
     "text": [
      "[LightGBM] [Info] Auto-choosing col-wise multi-threading, the overhead of testing was 0.007085 seconds.\n",
      "You can set `force_col_wise=true` to remove the overhead.\n",
      "[LightGBM] [Info] Total Bins 11972\n",
      "[LightGBM] [Info] Number of data points in the train set: 500002, number of used features: 5986\n",
      "[LightGBM] [Info] Start training from score 3.420388\n",
      "[LightGBM] [Info] Auto-choosing col-wise multi-threading, the overhead of testing was 0.021197 seconds.\n",
      "You can set `force_col_wise=true` to remove the overhead.\n",
      "[LightGBM] [Info] Total Bins 12227\n",
      "[LightGBM] [Info] Number of data points in the train set: 500002, number of used features: 5987\n",
      "[LightGBM] [Info] Start training from score 1.259881\n",
      "[LightGBM] [Info] Auto-choosing col-wise multi-threading, the overhead of testing was 0.031698 seconds.\n",
      "You can set `force_col_wise=true` to remove the overhead.\n",
      "[LightGBM] [Info] Total Bins 12373\n",
      "[LightGBM] [Info] Number of data points in the train set: 500002, number of used features: 5988\n",
      "[LightGBM] [Info] Start training from score 2.127225\n"
     ]
    },
    {
     "name": "stderr",
     "output_type": "stream",
     "text": [
      "/opt/conda/lib/python3.10/site-packages/lightgbm/basic.py:1192: UserWarning: Converting data to scipy sparse matrix.\n",
      "  _log_warning('Converting data to scipy sparse matrix.')\n"
     ]
    },
    {
     "name": "stdout",
     "output_type": "stream",
     "text": [
      "[LightGBM] [Info] Auto-choosing col-wise multi-threading, the overhead of testing was 0.008252 seconds.\n",
      "You can set `force_col_wise=true` to remove the overhead.\n",
      "[LightGBM] [Info] Total Bins 16398\n",
      "[LightGBM] [Info] Number of data points in the train set: 666668, number of used features: 8199\n",
      "[LightGBM] [Info] Start training from score 3.582765\n",
      "[LightGBM] [Info] Auto-choosing col-wise multi-threading, the overhead of testing was 0.028880 seconds.\n",
      "You can set `force_col_wise=true` to remove the overhead.\n",
      "[LightGBM] [Info] Total Bins 16653\n",
      "[LightGBM] [Info] Number of data points in the train set: 666668, number of used features: 8200\n",
      "[LightGBM] [Info] Start training from score 1.272471\n",
      "[LightGBM] [Info] Auto-choosing col-wise multi-threading, the overhead of testing was 0.040590 seconds.\n",
      "You can set `force_col_wise=true` to remove the overhead.\n",
      "[LightGBM] [Info] Total Bins 16803\n",
      "[LightGBM] [Info] Number of data points in the train set: 666668, number of used features: 8201\n",
      "[LightGBM] [Info] Start training from score 2.185224\n"
     ]
    },
    {
     "name": "stderr",
     "output_type": "stream",
     "text": [
      "/opt/conda/lib/python3.10/site-packages/lightgbm/basic.py:1192: UserWarning: Converting data to scipy sparse matrix.\n",
      "  _log_warning('Converting data to scipy sparse matrix.')\n"
     ]
    },
    {
     "name": "stdout",
     "output_type": "stream",
     "text": [
      "[LightGBM] [Info] Auto-choosing col-wise multi-threading, the overhead of testing was 0.010502 seconds.\n",
      "You can set `force_col_wise=true` to remove the overhead.\n",
      "[LightGBM] [Info] Total Bins 20080\n",
      "[LightGBM] [Info] Number of data points in the train set: 833334, number of used features: 10040\n",
      "[LightGBM] [Info] Start training from score 3.509508\n",
      "[LightGBM] [Info] Auto-choosing col-wise multi-threading, the overhead of testing was 0.034968 seconds.\n",
      "You can set `force_col_wise=true` to remove the overhead.\n",
      "[LightGBM] [Info] Total Bins 20335\n",
      "[LightGBM] [Info] Number of data points in the train set: 833334, number of used features: 10041\n",
      "[LightGBM] [Info] Start training from score 1.265026\n",
      "[LightGBM] [Info] Auto-choosing col-wise multi-threading, the overhead of testing was 0.052310 seconds.\n",
      "You can set `force_col_wise=true` to remove the overhead.\n",
      "[LightGBM] [Info] Total Bins 20480\n",
      "[LightGBM] [Info] Number of data points in the train set: 833334, number of used features: 10042\n",
      "[LightGBM] [Info] Start training from score 2.187665\n"
     ]
    },
    {
     "name": "stderr",
     "output_type": "stream",
     "text": [
      "/opt/conda/lib/python3.10/site-packages/lightgbm/basic.py:1192: UserWarning: Converting data to scipy sparse matrix.\n",
      "  _log_warning('Converting data to scipy sparse matrix.')\n",
      "/opt/conda/lib/python3.10/site-packages/lightgbm/engine.py:172: UserWarning: Found `num_iterations` in params. Will use it instead of argument\n",
      "  _log_warning(f\"Found `{alias}` in params. Will use it instead of argument\")\n"
     ]
    },
    {
     "name": "stdout",
     "output_type": "stream",
     "text": [
      "[LightGBM] [Info] Auto-choosing col-wise multi-threading, the overhead of testing was 0.005083 seconds.\n",
      "You can set `force_col_wise=true` to remove the overhead.\n",
      "[LightGBM] [Info] Total Bins 2820\n",
      "[LightGBM] [Info] Number of data points in the train set: 166670, number of used features: 1410\n",
      "[LightGBM] [Info] Start training from score 3.402292\n"
     ]
    },
    {
     "name": "stderr",
     "output_type": "stream",
     "text": [
      "/opt/conda/lib/python3.10/site-packages/lightgbm/engine.py:172: UserWarning: Found `num_iterations` in params. Will use it instead of argument\n",
      "  _log_warning(f\"Found `{alias}` in params. Will use it instead of argument\")\n"
     ]
    },
    {
     "name": "stdout",
     "output_type": "stream",
     "text": [
      "[LightGBM] [Info] Auto-choosing col-wise multi-threading, the overhead of testing was 0.006736 seconds.\n",
      "You can set `force_col_wise=true` to remove the overhead.\n",
      "[LightGBM] [Info] Total Bins 3075\n",
      "[LightGBM] [Info] Number of data points in the train set: 166670, number of used features: 1411\n",
      "[LightGBM] [Info] Start training from score 1.244321\n"
     ]
    },
    {
     "name": "stderr",
     "output_type": "stream",
     "text": [
      "/opt/conda/lib/python3.10/site-packages/lightgbm/engine.py:172: UserWarning: Found `num_iterations` in params. Will use it instead of argument\n",
      "  _log_warning(f\"Found `{alias}` in params. Will use it instead of argument\")\n"
     ]
    },
    {
     "name": "stdout",
     "output_type": "stream",
     "text": [
      "[LightGBM] [Info] Auto-choosing col-wise multi-threading, the overhead of testing was 0.009706 seconds.\n",
      "You can set `force_col_wise=true` to remove the overhead.\n",
      "[LightGBM] [Info] Total Bins 3209\n",
      "[LightGBM] [Info] Number of data points in the train set: 166670, number of used features: 1412\n",
      "[LightGBM] [Info] Start training from score 2.149421\n"
     ]
    },
    {
     "name": "stderr",
     "output_type": "stream",
     "text": [
      "/opt/conda/lib/python3.10/site-packages/lightgbm/basic.py:1192: UserWarning: Converting data to scipy sparse matrix.\n",
      "  _log_warning('Converting data to scipy sparse matrix.')\n",
      "/opt/conda/lib/python3.10/site-packages/lightgbm/engine.py:172: UserWarning: Found `num_iterations` in params. Will use it instead of argument\n",
      "  _log_warning(f\"Found `{alias}` in params. Will use it instead of argument\")\n"
     ]
    },
    {
     "name": "stdout",
     "output_type": "stream",
     "text": [
      "[LightGBM] [Info] Auto-choosing col-wise multi-threading, the overhead of testing was 0.008453 seconds.\n",
      "You can set `force_col_wise=true` to remove the overhead.\n",
      "[LightGBM] [Info] Total Bins 7366\n",
      "[LightGBM] [Info] Number of data points in the train set: 333336, number of used features: 3683\n",
      "[LightGBM] [Info] Start training from score 3.484100\n"
     ]
    },
    {
     "name": "stderr",
     "output_type": "stream",
     "text": [
      "/opt/conda/lib/python3.10/site-packages/lightgbm/engine.py:172: UserWarning: Found `num_iterations` in params. Will use it instead of argument\n",
      "  _log_warning(f\"Found `{alias}` in params. Will use it instead of argument\")\n"
     ]
    },
    {
     "name": "stdout",
     "output_type": "stream",
     "text": [
      "[LightGBM] [Info] Auto-choosing col-wise multi-threading, the overhead of testing was 0.013301 seconds.\n",
      "You can set `force_col_wise=true` to remove the overhead.\n",
      "[LightGBM] [Info] Total Bins 7621\n",
      "[LightGBM] [Info] Number of data points in the train set: 333336, number of used features: 3684\n",
      "[LightGBM] [Info] Start training from score 1.251677\n"
     ]
    },
    {
     "name": "stderr",
     "output_type": "stream",
     "text": [
      "/opt/conda/lib/python3.10/site-packages/lightgbm/engine.py:172: UserWarning: Found `num_iterations` in params. Will use it instead of argument\n",
      "  _log_warning(f\"Found `{alias}` in params. Will use it instead of argument\")\n"
     ]
    },
    {
     "name": "stdout",
     "output_type": "stream",
     "text": [
      "[LightGBM] [Info] Auto-choosing col-wise multi-threading, the overhead of testing was 0.019219 seconds.\n",
      "You can set `force_col_wise=true` to remove the overhead.\n",
      "[LightGBM] [Info] Total Bins 7771\n",
      "[LightGBM] [Info] Number of data points in the train set: 333336, number of used features: 3685\n",
      "[LightGBM] [Info] Start training from score 2.146033\n"
     ]
    },
    {
     "name": "stderr",
     "output_type": "stream",
     "text": [
      "/opt/conda/lib/python3.10/site-packages/lightgbm/basic.py:1192: UserWarning: Converting data to scipy sparse matrix.\n",
      "  _log_warning('Converting data to scipy sparse matrix.')\n",
      "/opt/conda/lib/python3.10/site-packages/lightgbm/engine.py:172: UserWarning: Found `num_iterations` in params. Will use it instead of argument\n",
      "  _log_warning(f\"Found `{alias}` in params. Will use it instead of argument\")\n"
     ]
    },
    {
     "name": "stdout",
     "output_type": "stream",
     "text": [
      "[LightGBM] [Info] Auto-choosing col-wise multi-threading, the overhead of testing was 0.006157 seconds.\n",
      "You can set `force_col_wise=true` to remove the overhead.\n",
      "[LightGBM] [Info] Total Bins 11972\n",
      "[LightGBM] [Info] Number of data points in the train set: 500002, number of used features: 5986\n",
      "[LightGBM] [Info] Start training from score 3.420388\n"
     ]
    },
    {
     "name": "stderr",
     "output_type": "stream",
     "text": [
      "/opt/conda/lib/python3.10/site-packages/lightgbm/engine.py:172: UserWarning: Found `num_iterations` in params. Will use it instead of argument\n",
      "  _log_warning(f\"Found `{alias}` in params. Will use it instead of argument\")\n"
     ]
    },
    {
     "name": "stdout",
     "output_type": "stream",
     "text": [
      "[LightGBM] [Info] Auto-choosing col-wise multi-threading, the overhead of testing was 0.021669 seconds.\n",
      "You can set `force_col_wise=true` to remove the overhead.\n",
      "[LightGBM] [Info] Total Bins 12227\n",
      "[LightGBM] [Info] Number of data points in the train set: 500002, number of used features: 5987\n",
      "[LightGBM] [Info] Start training from score 1.259881\n"
     ]
    },
    {
     "name": "stderr",
     "output_type": "stream",
     "text": [
      "/opt/conda/lib/python3.10/site-packages/lightgbm/engine.py:172: UserWarning: Found `num_iterations` in params. Will use it instead of argument\n",
      "  _log_warning(f\"Found `{alias}` in params. Will use it instead of argument\")\n"
     ]
    },
    {
     "name": "stdout",
     "output_type": "stream",
     "text": [
      "[LightGBM] [Info] Auto-choosing col-wise multi-threading, the overhead of testing was 0.032145 seconds.\n",
      "You can set `force_col_wise=true` to remove the overhead.\n",
      "[LightGBM] [Info] Total Bins 12373\n",
      "[LightGBM] [Info] Number of data points in the train set: 500002, number of used features: 5988\n",
      "[LightGBM] [Info] Start training from score 2.127225\n"
     ]
    },
    {
     "name": "stderr",
     "output_type": "stream",
     "text": [
      "/opt/conda/lib/python3.10/site-packages/lightgbm/basic.py:1192: UserWarning: Converting data to scipy sparse matrix.\n",
      "  _log_warning('Converting data to scipy sparse matrix.')\n",
      "/opt/conda/lib/python3.10/site-packages/lightgbm/engine.py:172: UserWarning: Found `num_iterations` in params. Will use it instead of argument\n",
      "  _log_warning(f\"Found `{alias}` in params. Will use it instead of argument\")\n"
     ]
    },
    {
     "name": "stdout",
     "output_type": "stream",
     "text": [
      "[LightGBM] [Info] Auto-choosing col-wise multi-threading, the overhead of testing was 0.008264 seconds.\n",
      "You can set `force_col_wise=true` to remove the overhead.\n",
      "[LightGBM] [Info] Total Bins 16398\n",
      "[LightGBM] [Info] Number of data points in the train set: 666668, number of used features: 8199\n",
      "[LightGBM] [Info] Start training from score 3.582765\n"
     ]
    },
    {
     "name": "stderr",
     "output_type": "stream",
     "text": [
      "/opt/conda/lib/python3.10/site-packages/lightgbm/engine.py:172: UserWarning: Found `num_iterations` in params. Will use it instead of argument\n",
      "  _log_warning(f\"Found `{alias}` in params. Will use it instead of argument\")\n"
     ]
    },
    {
     "name": "stdout",
     "output_type": "stream",
     "text": [
      "[LightGBM] [Info] Auto-choosing col-wise multi-threading, the overhead of testing was 0.026514 seconds.\n",
      "You can set `force_col_wise=true` to remove the overhead.\n",
      "[LightGBM] [Info] Total Bins 16653\n",
      "[LightGBM] [Info] Number of data points in the train set: 666668, number of used features: 8200\n",
      "[LightGBM] [Info] Start training from score 1.272471\n"
     ]
    },
    {
     "name": "stderr",
     "output_type": "stream",
     "text": [
      "/opt/conda/lib/python3.10/site-packages/lightgbm/engine.py:172: UserWarning: Found `num_iterations` in params. Will use it instead of argument\n",
      "  _log_warning(f\"Found `{alias}` in params. Will use it instead of argument\")\n"
     ]
    },
    {
     "name": "stdout",
     "output_type": "stream",
     "text": [
      "[LightGBM] [Info] Auto-choosing col-wise multi-threading, the overhead of testing was 0.041685 seconds.\n",
      "You can set `force_col_wise=true` to remove the overhead.\n",
      "[LightGBM] [Info] Total Bins 16803\n",
      "[LightGBM] [Info] Number of data points in the train set: 666668, number of used features: 8201\n",
      "[LightGBM] [Info] Start training from score 2.185224\n"
     ]
    },
    {
     "name": "stderr",
     "output_type": "stream",
     "text": [
      "/opt/conda/lib/python3.10/site-packages/lightgbm/basic.py:1192: UserWarning: Converting data to scipy sparse matrix.\n",
      "  _log_warning('Converting data to scipy sparse matrix.')\n",
      "/opt/conda/lib/python3.10/site-packages/lightgbm/engine.py:172: UserWarning: Found `num_iterations` in params. Will use it instead of argument\n",
      "  _log_warning(f\"Found `{alias}` in params. Will use it instead of argument\")\n"
     ]
    },
    {
     "name": "stdout",
     "output_type": "stream",
     "text": [
      "[LightGBM] [Info] Auto-choosing col-wise multi-threading, the overhead of testing was 0.009808 seconds.\n",
      "You can set `force_col_wise=true` to remove the overhead.\n",
      "[LightGBM] [Info] Total Bins 20080\n",
      "[LightGBM] [Info] Number of data points in the train set: 833334, number of used features: 10040\n",
      "[LightGBM] [Info] Start training from score 3.509508\n"
     ]
    },
    {
     "name": "stderr",
     "output_type": "stream",
     "text": [
      "/opt/conda/lib/python3.10/site-packages/lightgbm/engine.py:172: UserWarning: Found `num_iterations` in params. Will use it instead of argument\n",
      "  _log_warning(f\"Found `{alias}` in params. Will use it instead of argument\")\n"
     ]
    },
    {
     "name": "stdout",
     "output_type": "stream",
     "text": [
      "[LightGBM] [Info] Auto-choosing col-wise multi-threading, the overhead of testing was 0.034487 seconds.\n",
      "You can set `force_col_wise=true` to remove the overhead.\n",
      "[LightGBM] [Info] Total Bins 20335\n",
      "[LightGBM] [Info] Number of data points in the train set: 833334, number of used features: 10041\n",
      "[LightGBM] [Info] Start training from score 1.265026\n"
     ]
    },
    {
     "name": "stderr",
     "output_type": "stream",
     "text": [
      "/opt/conda/lib/python3.10/site-packages/lightgbm/engine.py:172: UserWarning: Found `num_iterations` in params. Will use it instead of argument\n",
      "  _log_warning(f\"Found `{alias}` in params. Will use it instead of argument\")\n"
     ]
    },
    {
     "name": "stdout",
     "output_type": "stream",
     "text": [
      "[LightGBM] [Info] Auto-choosing col-wise multi-threading, the overhead of testing was 0.051073 seconds.\n",
      "You can set `force_col_wise=true` to remove the overhead.\n",
      "[LightGBM] [Info] Total Bins 20480\n",
      "[LightGBM] [Info] Number of data points in the train set: 833334, number of used features: 10042\n",
      "[LightGBM] [Info] Start training from score 2.187665\n"
     ]
    },
    {
     "name": "stderr",
     "output_type": "stream",
     "text": [
      "/opt/conda/lib/python3.10/site-packages/lightgbm/basic.py:1192: UserWarning: Converting data to scipy sparse matrix.\n",
      "  _log_warning('Converting data to scipy sparse matrix.')\n"
     ]
    },
    {
     "name": "stdout",
     "output_type": "stream",
     "text": [
      "[LightGBM] [Info] Auto-choosing row-wise multi-threading, the overhead of testing was 0.862690 seconds.\n",
      "You can set `force_row_wise=true` to remove the overhead.\n",
      "And if memory is not enough, you can set `force_col_wise=true`.\n",
      "[LightGBM] [Info] Total Bins 105103\n",
      "[LightGBM] [Info] Number of data points in the train set: 166670, number of used features: 1925\n",
      "[LightGBM] [Info] Start training from score 3.402292\n",
      "[LightGBM] [Info] Auto-choosing col-wise multi-threading, the overhead of testing was 0.894224 seconds.\n",
      "You can set `force_col_wise=true` to remove the overhead.\n",
      "[LightGBM] [Info] Total Bins 105358\n",
      "[LightGBM] [Info] Number of data points in the train set: 166670, number of used features: 1926\n",
      "[LightGBM] [Info] Start training from score 1.244321\n",
      "[LightGBM] [Info] Auto-choosing row-wise multi-threading, the overhead of testing was 1.072444 seconds.\n",
      "You can set `force_row_wise=true` to remove the overhead.\n",
      "And if memory is not enough, you can set `force_col_wise=true`.\n",
      "[LightGBM] [Info] Total Bins 105492\n",
      "[LightGBM] [Info] Number of data points in the train set: 166670, number of used features: 1927\n",
      "[LightGBM] [Info] Start training from score 2.149421\n"
     ]
    },
    {
     "name": "stderr",
     "output_type": "stream",
     "text": [
      "/opt/conda/lib/python3.10/site-packages/lightgbm/basic.py:1192: UserWarning: Converting data to scipy sparse matrix.\n",
      "  _log_warning('Converting data to scipy sparse matrix.')\n"
     ]
    },
    {
     "name": "stdout",
     "output_type": "stream",
     "text": [
      "[LightGBM] [Info] Auto-choosing col-wise multi-threading, the overhead of testing was 4.868527 seconds.\n",
      "You can set `force_col_wise=true` to remove the overhead.\n",
      "[LightGBM] [Info] Total Bins 117903\n",
      "[LightGBM] [Info] Number of data points in the train set: 333336, number of used features: 4198\n",
      "[LightGBM] [Info] Start training from score 3.484100\n",
      "[LightGBM] [Info] Auto-choosing col-wise multi-threading, the overhead of testing was 4.767274 seconds.\n",
      "You can set `force_col_wise=true` to remove the overhead.\n",
      "[LightGBM] [Info] Total Bins 118158\n",
      "[LightGBM] [Info] Number of data points in the train set: 333336, number of used features: 4199\n",
      "[LightGBM] [Info] Start training from score 1.251677\n",
      "[LightGBM] [Info] Auto-choosing col-wise multi-threading, the overhead of testing was 5.050243 seconds.\n",
      "You can set `force_col_wise=true` to remove the overhead.\n",
      "[LightGBM] [Info] Total Bins 118308\n",
      "[LightGBM] [Info] Number of data points in the train set: 333336, number of used features: 4200\n",
      "[LightGBM] [Info] Start training from score 2.146033\n"
     ]
    },
    {
     "name": "stderr",
     "output_type": "stream",
     "text": [
      "/opt/conda/lib/python3.10/site-packages/lightgbm/basic.py:1192: UserWarning: Converting data to scipy sparse matrix.\n",
      "  _log_warning('Converting data to scipy sparse matrix.')\n"
     ]
    },
    {
     "name": "stdout",
     "output_type": "stream",
     "text": [
      "[LightGBM] [Info] Auto-choosing col-wise multi-threading, the overhead of testing was 0.922408 seconds.\n",
      "You can set `force_col_wise=true` to remove the overhead.\n",
      "[LightGBM] [Info] Total Bins 122642\n",
      "[LightGBM] [Info] Number of data points in the train set: 500002, number of used features: 6501\n",
      "[LightGBM] [Info] Start training from score 3.420388\n",
      "[LightGBM] [Info] Auto-choosing col-wise multi-threading, the overhead of testing was 0.770266 seconds.\n",
      "You can set `force_col_wise=true` to remove the overhead.\n",
      "[LightGBM] [Info] Total Bins 122897\n",
      "[LightGBM] [Info] Number of data points in the train set: 500002, number of used features: 6502\n",
      "[LightGBM] [Info] Start training from score 1.259881\n",
      "[LightGBM] [Info] Auto-choosing col-wise multi-threading, the overhead of testing was 0.948916 seconds.\n",
      "You can set `force_col_wise=true` to remove the overhead.\n",
      "[LightGBM] [Info] Total Bins 123043\n",
      "[LightGBM] [Info] Number of data points in the train set: 500002, number of used features: 6503\n",
      "[LightGBM] [Info] Start training from score 2.127225\n"
     ]
    },
    {
     "name": "stderr",
     "output_type": "stream",
     "text": [
      "/opt/conda/lib/python3.10/site-packages/lightgbm/basic.py:1192: UserWarning: Converting data to scipy sparse matrix.\n",
      "  _log_warning('Converting data to scipy sparse matrix.')\n"
     ]
    },
    {
     "name": "stdout",
     "output_type": "stream",
     "text": [
      "[LightGBM] [Info] Auto-choosing col-wise multi-threading, the overhead of testing was 1.016676 seconds.\n",
      "You can set `force_col_wise=true` to remove the overhead.\n",
      "[LightGBM] [Info] Total Bins 127300\n",
      "[LightGBM] [Info] Number of data points in the train set: 666668, number of used features: 8714\n",
      "[LightGBM] [Info] Start training from score 3.582765\n",
      "[LightGBM] [Info] Auto-choosing col-wise multi-threading, the overhead of testing was 1.041193 seconds.\n",
      "You can set `force_col_wise=true` to remove the overhead.\n",
      "[LightGBM] [Info] Total Bins 127555\n",
      "[LightGBM] [Info] Number of data points in the train set: 666668, number of used features: 8715\n",
      "[LightGBM] [Info] Start training from score 1.272471\n",
      "[LightGBM] [Info] Auto-choosing col-wise multi-threading, the overhead of testing was 1.102174 seconds.\n",
      "You can set `force_col_wise=true` to remove the overhead.\n",
      "[LightGBM] [Info] Total Bins 127705\n",
      "[LightGBM] [Info] Number of data points in the train set: 666668, number of used features: 8716\n",
      "[LightGBM] [Info] Start training from score 2.185224\n"
     ]
    },
    {
     "name": "stderr",
     "output_type": "stream",
     "text": [
      "/opt/conda/lib/python3.10/site-packages/lightgbm/basic.py:1192: UserWarning: Converting data to scipy sparse matrix.\n",
      "  _log_warning('Converting data to scipy sparse matrix.')\n"
     ]
    },
    {
     "name": "stdout",
     "output_type": "stream",
     "text": [
      "[LightGBM] [Info] Auto-choosing col-wise multi-threading, the overhead of testing was 1.310856 seconds.\n",
      "You can set `force_col_wise=true` to remove the overhead.\n",
      "[LightGBM] [Info] Total Bins 131032\n",
      "[LightGBM] [Info] Number of data points in the train set: 833334, number of used features: 10555\n",
      "[LightGBM] [Info] Start training from score 3.509508\n",
      "[LightGBM] [Info] Auto-choosing col-wise multi-threading, the overhead of testing was 1.322631 seconds.\n",
      "You can set `force_col_wise=true` to remove the overhead.\n",
      "[LightGBM] [Info] Total Bins 131287\n",
      "[LightGBM] [Info] Number of data points in the train set: 833334, number of used features: 10556\n",
      "[LightGBM] [Info] Start training from score 1.265026\n",
      "[LightGBM] [Info] Auto-choosing col-wise multi-threading, the overhead of testing was 1.306604 seconds.\n",
      "You can set `force_col_wise=true` to remove the overhead.\n",
      "[LightGBM] [Info] Total Bins 131432\n",
      "[LightGBM] [Info] Number of data points in the train set: 833334, number of used features: 10557\n",
      "[LightGBM] [Info] Start training from score 2.187665\n"
     ]
    },
    {
     "name": "stderr",
     "output_type": "stream",
     "text": [
      "/opt/conda/lib/python3.10/site-packages/lightgbm/basic.py:1192: UserWarning: Converting data to scipy sparse matrix.\n",
      "  _log_warning('Converting data to scipy sparse matrix.')\n"
     ]
    },
    {
     "name": "stdout",
     "output_type": "stream",
     "text": [
      "[LightGBM] [Info] Auto-choosing row-wise multi-threading, the overhead of testing was 0.874069 seconds.\n",
      "You can set `force_row_wise=true` to remove the overhead.\n",
      "And if memory is not enough, you can set `force_col_wise=true`.\n",
      "[LightGBM] [Info] Total Bins 105103\n",
      "[LightGBM] [Info] Number of data points in the train set: 166670, number of used features: 1925\n",
      "[LightGBM] [Info] Start training from score 3.402292\n",
      "[LightGBM] [Info] Auto-choosing col-wise multi-threading, the overhead of testing was 0.881081 seconds.\n",
      "You can set `force_col_wise=true` to remove the overhead.\n",
      "[LightGBM] [Info] Total Bins 105358\n",
      "[LightGBM] [Info] Number of data points in the train set: 166670, number of used features: 1926\n",
      "[LightGBM] [Info] Start training from score 1.244321\n",
      "[LightGBM] [Info] Auto-choosing row-wise multi-threading, the overhead of testing was 0.875482 seconds.\n",
      "You can set `force_row_wise=true` to remove the overhead.\n",
      "And if memory is not enough, you can set `force_col_wise=true`.\n",
      "[LightGBM] [Info] Total Bins 105492\n",
      "[LightGBM] [Info] Number of data points in the train set: 166670, number of used features: 1927\n",
      "[LightGBM] [Info] Start training from score 2.149421\n"
     ]
    },
    {
     "name": "stderr",
     "output_type": "stream",
     "text": [
      "/opt/conda/lib/python3.10/site-packages/lightgbm/basic.py:1192: UserWarning: Converting data to scipy sparse matrix.\n",
      "  _log_warning('Converting data to scipy sparse matrix.')\n"
     ]
    },
    {
     "name": "stdout",
     "output_type": "stream",
     "text": [
      "[LightGBM] [Info] Auto-choosing col-wise multi-threading, the overhead of testing was 4.959682 seconds.\n",
      "You can set `force_col_wise=true` to remove the overhead.\n",
      "[LightGBM] [Info] Total Bins 117903\n",
      "[LightGBM] [Info] Number of data points in the train set: 333336, number of used features: 4198\n",
      "[LightGBM] [Info] Start training from score 3.484100\n",
      "[LightGBM] [Info] Auto-choosing col-wise multi-threading, the overhead of testing was 5.538510 seconds.\n",
      "You can set `force_col_wise=true` to remove the overhead.\n",
      "[LightGBM] [Info] Total Bins 118158\n",
      "[LightGBM] [Info] Number of data points in the train set: 333336, number of used features: 4199\n",
      "[LightGBM] [Info] Start training from score 1.251677\n",
      "[LightGBM] [Info] Auto-choosing col-wise multi-threading, the overhead of testing was 4.936095 seconds.\n",
      "You can set `force_col_wise=true` to remove the overhead.\n",
      "[LightGBM] [Info] Total Bins 118308\n",
      "[LightGBM] [Info] Number of data points in the train set: 333336, number of used features: 4200\n",
      "[LightGBM] [Info] Start training from score 2.146033\n"
     ]
    },
    {
     "name": "stderr",
     "output_type": "stream",
     "text": [
      "/opt/conda/lib/python3.10/site-packages/lightgbm/basic.py:1192: UserWarning: Converting data to scipy sparse matrix.\n",
      "  _log_warning('Converting data to scipy sparse matrix.')\n"
     ]
    },
    {
     "name": "stdout",
     "output_type": "stream",
     "text": [
      "[LightGBM] [Info] Auto-choosing col-wise multi-threading, the overhead of testing was 0.758720 seconds.\n",
      "You can set `force_col_wise=true` to remove the overhead.\n",
      "[LightGBM] [Info] Total Bins 122642\n",
      "[LightGBM] [Info] Number of data points in the train set: 500002, number of used features: 6501\n",
      "[LightGBM] [Info] Start training from score 3.420388\n",
      "[LightGBM] [Info] Auto-choosing col-wise multi-threading, the overhead of testing was 0.779524 seconds.\n",
      "You can set `force_col_wise=true` to remove the overhead.\n",
      "[LightGBM] [Info] Total Bins 122897\n",
      "[LightGBM] [Info] Number of data points in the train set: 500002, number of used features: 6502\n",
      "[LightGBM] [Info] Start training from score 1.259881\n",
      "[LightGBM] [Info] Auto-choosing col-wise multi-threading, the overhead of testing was 0.792685 seconds.\n",
      "You can set `force_col_wise=true` to remove the overhead.\n",
      "[LightGBM] [Info] Total Bins 123043\n",
      "[LightGBM] [Info] Number of data points in the train set: 500002, number of used features: 6503\n",
      "[LightGBM] [Info] Start training from score 2.127225\n"
     ]
    },
    {
     "name": "stderr",
     "output_type": "stream",
     "text": [
      "/opt/conda/lib/python3.10/site-packages/lightgbm/basic.py:1192: UserWarning: Converting data to scipy sparse matrix.\n",
      "  _log_warning('Converting data to scipy sparse matrix.')\n"
     ]
    },
    {
     "name": "stdout",
     "output_type": "stream",
     "text": [
      "[LightGBM] [Info] Auto-choosing col-wise multi-threading, the overhead of testing was 1.069987 seconds.\n",
      "You can set `force_col_wise=true` to remove the overhead.\n",
      "[LightGBM] [Info] Total Bins 127300\n",
      "[LightGBM] [Info] Number of data points in the train set: 666668, number of used features: 8714\n",
      "[LightGBM] [Info] Start training from score 3.582765\n",
      "[LightGBM] [Info] Auto-choosing col-wise multi-threading, the overhead of testing was 1.035654 seconds.\n",
      "You can set `force_col_wise=true` to remove the overhead.\n",
      "[LightGBM] [Info] Total Bins 127555\n",
      "[LightGBM] [Info] Number of data points in the train set: 666668, number of used features: 8715\n",
      "[LightGBM] [Info] Start training from score 1.272471\n",
      "[LightGBM] [Info] Auto-choosing col-wise multi-threading, the overhead of testing was 1.050099 seconds.\n",
      "You can set `force_col_wise=true` to remove the overhead.\n",
      "[LightGBM] [Info] Total Bins 127705\n",
      "[LightGBM] [Info] Number of data points in the train set: 666668, number of used features: 8716\n",
      "[LightGBM] [Info] Start training from score 2.185224\n"
     ]
    },
    {
     "name": "stderr",
     "output_type": "stream",
     "text": [
      "/opt/conda/lib/python3.10/site-packages/lightgbm/basic.py:1192: UserWarning: Converting data to scipy sparse matrix.\n",
      "  _log_warning('Converting data to scipy sparse matrix.')\n"
     ]
    },
    {
     "name": "stdout",
     "output_type": "stream",
     "text": [
      "[LightGBM] [Info] Auto-choosing col-wise multi-threading, the overhead of testing was 1.312192 seconds.\n",
      "You can set `force_col_wise=true` to remove the overhead.\n",
      "[LightGBM] [Info] Total Bins 131032\n",
      "[LightGBM] [Info] Number of data points in the train set: 833334, number of used features: 10555\n",
      "[LightGBM] [Info] Start training from score 3.509508\n",
      "[LightGBM] [Info] Auto-choosing col-wise multi-threading, the overhead of testing was 1.375531 seconds.\n",
      "You can set `force_col_wise=true` to remove the overhead.\n",
      "[LightGBM] [Info] Total Bins 131287\n",
      "[LightGBM] [Info] Number of data points in the train set: 833334, number of used features: 10556\n",
      "[LightGBM] [Info] Start training from score 1.265026\n",
      "[LightGBM] [Info] Auto-choosing col-wise multi-threading, the overhead of testing was 1.325030 seconds.\n",
      "You can set `force_col_wise=true` to remove the overhead.\n",
      "[LightGBM] [Info] Total Bins 131432\n",
      "[LightGBM] [Info] Number of data points in the train set: 833334, number of used features: 10557\n",
      "[LightGBM] [Info] Start training from score 2.187665\n"
     ]
    },
    {
     "name": "stderr",
     "output_type": "stream",
     "text": [
      "/opt/conda/lib/python3.10/site-packages/lightgbm/basic.py:1192: UserWarning: Converting data to scipy sparse matrix.\n",
      "  _log_warning('Converting data to scipy sparse matrix.')\n",
      "/opt/conda/lib/python3.10/site-packages/lightgbm/engine.py:172: UserWarning: Found `num_iterations` in params. Will use it instead of argument\n",
      "  _log_warning(f\"Found `{alias}` in params. Will use it instead of argument\")\n"
     ]
    },
    {
     "name": "stdout",
     "output_type": "stream",
     "text": [
      "[LightGBM] [Info] Auto-choosing row-wise multi-threading, the overhead of testing was 0.851571 seconds.\n",
      "You can set `force_row_wise=true` to remove the overhead.\n",
      "And if memory is not enough, you can set `force_col_wise=true`.\n",
      "[LightGBM] [Info] Total Bins 105103\n",
      "[LightGBM] [Info] Number of data points in the train set: 166670, number of used features: 1925\n",
      "[LightGBM] [Info] Start training from score 3.402292\n"
     ]
    },
    {
     "name": "stderr",
     "output_type": "stream",
     "text": [
      "/opt/conda/lib/python3.10/site-packages/lightgbm/engine.py:172: UserWarning: Found `num_iterations` in params. Will use it instead of argument\n",
      "  _log_warning(f\"Found `{alias}` in params. Will use it instead of argument\")\n"
     ]
    },
    {
     "name": "stdout",
     "output_type": "stream",
     "text": [
      "[LightGBM] [Info] Auto-choosing row-wise multi-threading, the overhead of testing was 0.876310 seconds.\n",
      "You can set `force_row_wise=true` to remove the overhead.\n",
      "And if memory is not enough, you can set `force_col_wise=true`.\n",
      "[LightGBM] [Info] Total Bins 105358\n",
      "[LightGBM] [Info] Number of data points in the train set: 166670, number of used features: 1926\n",
      "[LightGBM] [Info] Start training from score 1.244321\n"
     ]
    },
    {
     "name": "stderr",
     "output_type": "stream",
     "text": [
      "/opt/conda/lib/python3.10/site-packages/lightgbm/engine.py:172: UserWarning: Found `num_iterations` in params. Will use it instead of argument\n",
      "  _log_warning(f\"Found `{alias}` in params. Will use it instead of argument\")\n"
     ]
    },
    {
     "name": "stdout",
     "output_type": "stream",
     "text": [
      "[LightGBM] [Info] Auto-choosing row-wise multi-threading, the overhead of testing was 0.877048 seconds.\n",
      "You can set `force_row_wise=true` to remove the overhead.\n",
      "And if memory is not enough, you can set `force_col_wise=true`.\n",
      "[LightGBM] [Info] Total Bins 105492\n",
      "[LightGBM] [Info] Number of data points in the train set: 166670, number of used features: 1927\n",
      "[LightGBM] [Info] Start training from score 2.149421\n"
     ]
    },
    {
     "name": "stderr",
     "output_type": "stream",
     "text": [
      "/opt/conda/lib/python3.10/site-packages/lightgbm/basic.py:1192: UserWarning: Converting data to scipy sparse matrix.\n",
      "  _log_warning('Converting data to scipy sparse matrix.')\n",
      "/opt/conda/lib/python3.10/site-packages/lightgbm/engine.py:172: UserWarning: Found `num_iterations` in params. Will use it instead of argument\n",
      "  _log_warning(f\"Found `{alias}` in params. Will use it instead of argument\")\n"
     ]
    },
    {
     "name": "stdout",
     "output_type": "stream",
     "text": [
      "[LightGBM] [Info] Auto-choosing col-wise multi-threading, the overhead of testing was 4.846733 seconds.\n",
      "You can set `force_col_wise=true` to remove the overhead.\n",
      "[LightGBM] [Info] Total Bins 117903\n",
      "[LightGBM] [Info] Number of data points in the train set: 333336, number of used features: 4198\n",
      "[LightGBM] [Info] Start training from score 3.484100\n"
     ]
    },
    {
     "name": "stderr",
     "output_type": "stream",
     "text": [
      "/opt/conda/lib/python3.10/site-packages/lightgbm/engine.py:172: UserWarning: Found `num_iterations` in params. Will use it instead of argument\n",
      "  _log_warning(f\"Found `{alias}` in params. Will use it instead of argument\")\n"
     ]
    },
    {
     "name": "stdout",
     "output_type": "stream",
     "text": [
      "[LightGBM] [Info] Auto-choosing col-wise multi-threading, the overhead of testing was 5.104749 seconds.\n",
      "You can set `force_col_wise=true` to remove the overhead.\n",
      "[LightGBM] [Info] Total Bins 118158\n",
      "[LightGBM] [Info] Number of data points in the train set: 333336, number of used features: 4199\n",
      "[LightGBM] [Info] Start training from score 1.251677\n"
     ]
    },
    {
     "name": "stderr",
     "output_type": "stream",
     "text": [
      "/opt/conda/lib/python3.10/site-packages/lightgbm/engine.py:172: UserWarning: Found `num_iterations` in params. Will use it instead of argument\n",
      "  _log_warning(f\"Found `{alias}` in params. Will use it instead of argument\")\n"
     ]
    },
    {
     "name": "stdout",
     "output_type": "stream",
     "text": [
      "[LightGBM] [Info] Auto-choosing col-wise multi-threading, the overhead of testing was 5.637997 seconds.\n",
      "You can set `force_col_wise=true` to remove the overhead.\n",
      "[LightGBM] [Info] Total Bins 118308\n",
      "[LightGBM] [Info] Number of data points in the train set: 333336, number of used features: 4200\n",
      "[LightGBM] [Info] Start training from score 2.146033\n"
     ]
    },
    {
     "name": "stderr",
     "output_type": "stream",
     "text": [
      "/opt/conda/lib/python3.10/site-packages/lightgbm/basic.py:1192: UserWarning: Converting data to scipy sparse matrix.\n",
      "  _log_warning('Converting data to scipy sparse matrix.')\n",
      "/opt/conda/lib/python3.10/site-packages/lightgbm/engine.py:172: UserWarning: Found `num_iterations` in params. Will use it instead of argument\n",
      "  _log_warning(f\"Found `{alias}` in params. Will use it instead of argument\")\n"
     ]
    },
    {
     "name": "stdout",
     "output_type": "stream",
     "text": [
      "[LightGBM] [Info] Auto-choosing col-wise multi-threading, the overhead of testing was 0.758368 seconds.\n",
      "You can set `force_col_wise=true` to remove the overhead.\n",
      "[LightGBM] [Info] Total Bins 122642\n",
      "[LightGBM] [Info] Number of data points in the train set: 500002, number of used features: 6501\n",
      "[LightGBM] [Info] Start training from score 3.420388\n"
     ]
    },
    {
     "name": "stderr",
     "output_type": "stream",
     "text": [
      "/opt/conda/lib/python3.10/site-packages/lightgbm/engine.py:172: UserWarning: Found `num_iterations` in params. Will use it instead of argument\n",
      "  _log_warning(f\"Found `{alias}` in params. Will use it instead of argument\")\n"
     ]
    },
    {
     "name": "stdout",
     "output_type": "stream",
     "text": [
      "[LightGBM] [Info] Auto-choosing col-wise multi-threading, the overhead of testing was 0.783486 seconds.\n",
      "You can set `force_col_wise=true` to remove the overhead.\n",
      "[LightGBM] [Info] Total Bins 122897\n",
      "[LightGBM] [Info] Number of data points in the train set: 500002, number of used features: 6502\n",
      "[LightGBM] [Info] Start training from score 1.259881\n"
     ]
    },
    {
     "name": "stderr",
     "output_type": "stream",
     "text": [
      "/opt/conda/lib/python3.10/site-packages/lightgbm/engine.py:172: UserWarning: Found `num_iterations` in params. Will use it instead of argument\n",
      "  _log_warning(f\"Found `{alias}` in params. Will use it instead of argument\")\n"
     ]
    },
    {
     "name": "stdout",
     "output_type": "stream",
     "text": [
      "[LightGBM] [Info] Auto-choosing col-wise multi-threading, the overhead of testing was 0.797881 seconds.\n",
      "You can set `force_col_wise=true` to remove the overhead.\n",
      "[LightGBM] [Info] Total Bins 123043\n",
      "[LightGBM] [Info] Number of data points in the train set: 500002, number of used features: 6503\n",
      "[LightGBM] [Info] Start training from score 2.127225\n"
     ]
    },
    {
     "name": "stderr",
     "output_type": "stream",
     "text": [
      "/opt/conda/lib/python3.10/site-packages/lightgbm/basic.py:1192: UserWarning: Converting data to scipy sparse matrix.\n",
      "  _log_warning('Converting data to scipy sparse matrix.')\n",
      "/opt/conda/lib/python3.10/site-packages/lightgbm/engine.py:172: UserWarning: Found `num_iterations` in params. Will use it instead of argument\n",
      "  _log_warning(f\"Found `{alias}` in params. Will use it instead of argument\")\n"
     ]
    },
    {
     "name": "stdout",
     "output_type": "stream",
     "text": [
      "[LightGBM] [Info] Auto-choosing col-wise multi-threading, the overhead of testing was 1.031562 seconds.\n",
      "You can set `force_col_wise=true` to remove the overhead.\n",
      "[LightGBM] [Info] Total Bins 127300\n",
      "[LightGBM] [Info] Number of data points in the train set: 666668, number of used features: 8714\n",
      "[LightGBM] [Info] Start training from score 3.582765\n"
     ]
    },
    {
     "name": "stderr",
     "output_type": "stream",
     "text": [
      "/opt/conda/lib/python3.10/site-packages/lightgbm/engine.py:172: UserWarning: Found `num_iterations` in params. Will use it instead of argument\n",
      "  _log_warning(f\"Found `{alias}` in params. Will use it instead of argument\")\n"
     ]
    },
    {
     "name": "stdout",
     "output_type": "stream",
     "text": [
      "[LightGBM] [Info] Auto-choosing col-wise multi-threading, the overhead of testing was 1.041818 seconds.\n",
      "You can set `force_col_wise=true` to remove the overhead.\n",
      "[LightGBM] [Info] Total Bins 127555\n",
      "[LightGBM] [Info] Number of data points in the train set: 666668, number of used features: 8715\n",
      "[LightGBM] [Info] Start training from score 1.272471\n"
     ]
    },
    {
     "name": "stderr",
     "output_type": "stream",
     "text": [
      "/opt/conda/lib/python3.10/site-packages/lightgbm/engine.py:172: UserWarning: Found `num_iterations` in params. Will use it instead of argument\n",
      "  _log_warning(f\"Found `{alias}` in params. Will use it instead of argument\")\n"
     ]
    },
    {
     "name": "stdout",
     "output_type": "stream",
     "text": [
      "[LightGBM] [Info] Auto-choosing col-wise multi-threading, the overhead of testing was 1.078202 seconds.\n",
      "You can set `force_col_wise=true` to remove the overhead.\n",
      "[LightGBM] [Info] Total Bins 127705\n",
      "[LightGBM] [Info] Number of data points in the train set: 666668, number of used features: 8716\n",
      "[LightGBM] [Info] Start training from score 2.185224\n"
     ]
    },
    {
     "name": "stderr",
     "output_type": "stream",
     "text": [
      "/opt/conda/lib/python3.10/site-packages/lightgbm/basic.py:1192: UserWarning: Converting data to scipy sparse matrix.\n",
      "  _log_warning('Converting data to scipy sparse matrix.')\n",
      "/opt/conda/lib/python3.10/site-packages/lightgbm/engine.py:172: UserWarning: Found `num_iterations` in params. Will use it instead of argument\n",
      "  _log_warning(f\"Found `{alias}` in params. Will use it instead of argument\")\n"
     ]
    },
    {
     "name": "stdout",
     "output_type": "stream",
     "text": [
      "[LightGBM] [Info] Auto-choosing col-wise multi-threading, the overhead of testing was 1.297756 seconds.\n",
      "You can set `force_col_wise=true` to remove the overhead.\n",
      "[LightGBM] [Info] Total Bins 131032\n",
      "[LightGBM] [Info] Number of data points in the train set: 833334, number of used features: 10555\n",
      "[LightGBM] [Info] Start training from score 3.509508\n"
     ]
    },
    {
     "name": "stderr",
     "output_type": "stream",
     "text": [
      "/opt/conda/lib/python3.10/site-packages/lightgbm/engine.py:172: UserWarning: Found `num_iterations` in params. Will use it instead of argument\n",
      "  _log_warning(f\"Found `{alias}` in params. Will use it instead of argument\")\n"
     ]
    },
    {
     "name": "stdout",
     "output_type": "stream",
     "text": [
      "[LightGBM] [Info] Auto-choosing col-wise multi-threading, the overhead of testing was 1.351916 seconds.\n",
      "You can set `force_col_wise=true` to remove the overhead.\n",
      "[LightGBM] [Info] Total Bins 131287\n",
      "[LightGBM] [Info] Number of data points in the train set: 833334, number of used features: 10556\n",
      "[LightGBM] [Info] Start training from score 1.265026\n"
     ]
    },
    {
     "name": "stderr",
     "output_type": "stream",
     "text": [
      "/opt/conda/lib/python3.10/site-packages/lightgbm/engine.py:172: UserWarning: Found `num_iterations` in params. Will use it instead of argument\n",
      "  _log_warning(f\"Found `{alias}` in params. Will use it instead of argument\")\n"
     ]
    },
    {
     "name": "stdout",
     "output_type": "stream",
     "text": [
      "[LightGBM] [Info] Auto-choosing col-wise multi-threading, the overhead of testing was 1.341196 seconds.\n",
      "You can set `force_col_wise=true` to remove the overhead.\n",
      "[LightGBM] [Info] Total Bins 131432\n",
      "[LightGBM] [Info] Number of data points in the train set: 833334, number of used features: 10557\n",
      "[LightGBM] [Info] Start training from score 2.187665\n"
     ]
    },
    {
     "name": "stderr",
     "output_type": "stream",
     "text": [
      "/opt/conda/lib/python3.10/site-packages/lightgbm/basic.py:1192: UserWarning: Converting data to scipy sparse matrix.\n",
      "  _log_warning('Converting data to scipy sparse matrix.')\n"
     ]
    }
   ],
   "source": [
    "#TODO with joblib.parallel_backend('loky'): \n",
    "scores = {\n",
    "    n: cross_val_score(\n",
    "        m,\n",
    "        X_tv[:N_CV],\n",
    "        y_tv[:N_CV],\n",
    "        cv=ts_cv,\n",
    "        scoring=mixed_scorer,\n",
    "        #error_score='raise'\n",
    "    ) for n, m in tqdm(models, desc='eval models', unit='cv')\n",
    "}"
   ]
  },
  {
   "cell_type": "code",
   "execution_count": 37,
   "id": "25eb603c",
   "metadata": {
    "execution": {
     "iopub.execute_input": "2024-05-21T23:43:27.225716Z",
     "iopub.status.busy": "2024-05-21T23:43:27.225010Z",
     "iopub.status.idle": "2024-05-21T23:43:27.646180Z",
     "shell.execute_reply": "2024-05-21T23:43:27.645262Z"
    },
    "papermill": {
     "duration": 0.460988,
     "end_time": "2024-05-21T23:43:27.648280",
     "exception": false,
     "start_time": "2024-05-21T23:43:27.187292",
     "status": "completed"
    },
    "tags": []
   },
   "outputs": [
    {
     "data": {
      "image/png": "[encoded data removed]",
      "text/plain": [
       "<Figure size 640x480 with 1 Axes>"
      ]
     },
     "metadata": {},
     "output_type": "display_data"
    }
   ],
   "source": [
    "ax = pd.DataFrame(scores).plot()\n",
    "ax.yaxis.set_major_formatter(mtick.PercentFormatter(xmax=1.0, decimals=2))\n",
    "ax.set_xticks(np.arange(CV_SPLITS))\n",
    "ax.set_ylabel('loss')\n",
    "_ = ax.set_xlabel('split')"
   ]
  }
 ],
 "metadata": {
  "kaggle": {
   "accelerator": "nvidiaTeslaT4",
   "dataSources": [
    {
     "datasetId": 4801002,
     "sourceId": 8124276,
     "sourceType": "datasetVersion"
    }
   ],
   "isGpuEnabled": true,
   "isInternetEnabled": true,
   "language": "python",
   "sourceType": "notebook"
  },
  "kernelspec": {
   "display_name": "Python 3",
   "language": "python",
   "name": "python3"
  },
  "language_info": {
   "codemirror_mode": {
    "name": "ipython",
    "version": 3
   },
   "file_extension": ".py",
   "mimetype": "text/x-python",
   "name": "python",
   "nbconvert_exporter": "python",
   "pygments_lexer": "ipython3",
   "version": "3.10.13"
  },
  "papermill": {
   "default_parameters": {},
   "duration": 13964.62108,
   "end_time": "2024-05-21T23:43:31.149792",
   "environment_variables": {},
   "exception": null,
   "input_path": "__notebook__.ipynb",
   "output_path": "__notebook__.ipynb",
   "parameters": {},
   "start_time": "2024-05-21T19:50:46.528712",
   "version": "2.5.0"
  },
  "widgets": {
   "application/vnd.jupyter.widget-state+json": {
    "state": {
     "014c9c93c29d4865a28f5c757ba948f1": {
      "model_module": "@jupyter-widgets/controls",
      "model_module_version": "1.5.0",
      "model_name": "DescriptionStyleModel",
      "state": {
       "_model_module": "@jupyter-widgets/controls",
       "_model_module_version": "1.5.0",
       "_model_name": "DescriptionStyleModel",
       "_view_count": null,
       "_view_module": "@jupyter-widgets/base",
       "_view_module_version": "1.2.0",
       "_view_name": "StyleView",
       "description_width": ""
      }
     },
     "07d9a603acd54a18b1819e8ae84b3069": {
      "model_module": "@jupyter-widgets/base",
      "model_module_version": "1.2.0",
      "model_name": "LayoutModel",
      "state": {
       "_model_module": "@jupyter-widgets/base",
       "_model_module_version": "1.2.0",
       "_model_name": "LayoutModel",
       "_view_count": null,
       "_view_module": "@jupyter-widgets/base",
       "_view_module_version": "1.2.0",
       "_view_name": "LayoutView",
       "align_content": null,
       "align_items": null,
       "align_self": null,
       "border": null,
       "bottom": null,
       "display": null,
       "flex": null,
       "flex_flow": null,
       "grid_area": null,
       "grid_auto_columns": null,
       "grid_auto_flow": null,
       "grid_auto_rows": null,
       "grid_column": null,
       "grid_gap": null,
       "grid_row": null,
       "grid_template_areas": null,
       "grid_template_columns": null,
       "grid_template_rows": null,
       "height": null,
       "justify_content": null,
       "justify_items": null,
       "left": null,
       "margin": null,
       "max_height": null,
       "max_width": null,
       "min_height": null,
       "min_width": null,
       "object_fit": null,
       "object_position": null,
       "order": null,
       "overflow": null,
       "overflow_x": null,
       "overflow_y": null,
       "padding": null,
       "right": null,
       "top": null,
       "visibility": null,
       "width": null
      }
     },
     "08357486561d4c27a1d1b4ac1c628624": {
      "model_module": "@jupyter-widgets/base",
      "model_module_version": "1.2.0",
      "model_name": "LayoutModel",
      "state": {
       "_model_module": "@jupyter-widgets/base",
       "_model_module_version": "1.2.0",
       "_model_name": "LayoutModel",
       "_view_count": null,
       "_view_module": "@jupyter-widgets/base",
       "_view_module_version": "1.2.0",
       "_view_name": "LayoutView",
       "align_content": null,
       "align_items": null,
       "align_self": null,
       "border": null,
       "bottom": null,
       "display": null,
       "flex": null,
       "flex_flow": null,
       "grid_area": null,
       "grid_auto_columns": null,
       "grid_auto_flow": null,
       "grid_auto_rows": null,
       "grid_column": null,
       "grid_gap": null,
       "grid_row": null,
       "grid_template_areas": null,
       "grid_template_columns": null,
       "grid_template_rows": null,
       "height": null,
       "justify_content": null,
       "justify_items": null,
       "left": null,
       "margin": null,
       "max_height": null,
       "max_width": null,
       "min_height": null,
       "min_width": null,
       "object_fit": null,
       "object_position": null,
       "order": null,
       "overflow": null,
       "overflow_x": null,
       "overflow_y": null,
       "padding": null,
       "right": null,
       "top": null,
       "visibility": null,
       "width": null
      }
     },
     "0c0f85febec84ed3aad2eccfcebae0fb": {
      "model_module": "@jupyter-widgets/controls",
      "model_module_version": "1.5.0",
      "model_name": "DescriptionStyleModel",
      "state": {
       "_model_module": "@jupyter-widgets/controls",
       "_model_module_version": "1.5.0",
       "_model_name": "DescriptionStyleModel",
       "_view_count": null,
       "_view_module": "@jupyter-widgets/base",
       "_view_module_version": "1.2.0",
       "_view_name": "StyleView",
       "description_width": ""
      }
     },
     "1275ef420888405f865d90221823350a": {
      "model_module": "@jupyter-widgets/controls",
      "model_module_version": "1.5.0",
      "model_name": "DescriptionStyleModel",
      "state": {
       "_model_module": "@jupyter-widgets/controls",
       "_model_module_version": "1.5.0",
       "_model_name": "DescriptionStyleModel",
       "_view_count": null,
       "_view_module": "@jupyter-widgets/base",
       "_view_module_version": "1.2.0",
       "_view_name": "StyleView",
       "description_width": ""
      }
     },
     "18eb4bd3b281465b8a3d0cdb054d3adb": {
      "model_module": "@jupyter-widgets/controls",
      "model_module_version": "1.5.0",
      "model_name": "HBoxModel",
      "state": {
       "_dom_classes": [],
       "_model_module": "@jupyter-widgets/controls",
       "_model_module_version": "1.5.0",
       "_model_name": "HBoxModel",
       "_view_count": null,
       "_view_module": "@jupyter-widgets/controls",
       "_view_module_version": "1.5.0",
       "_view_name": "HBoxView",
       "box_style": "",
       "children": [
        "IPY_MODEL_99698eb6c1b0491cbd8549be02bd6534",
        "IPY_MODEL_20e0171e407d4978849e4b93cb32118f",
        "IPY_MODEL_9d532db913d54cb7b3902a59057b5248"
       ],
       "layout": "IPY_MODEL_eb99a50612a84723a25d39fc9a2df6fa"
      }
     },
     "1abfe82fffc541d8b563416af260b1e4": {
      "model_module": "@jupyter-widgets/base",
      "model_module_version": "1.2.0",
      "model_name": "LayoutModel",
      "state": {
       "_model_module": "@jupyter-widgets/base",
       "_model_module_version": "1.2.0",
       "_model_name": "LayoutModel",
       "_view_count": null,
       "_view_module": "@jupyter-widgets/base",
       "_view_module_version": "1.2.0",
       "_view_name": "LayoutView",
       "align_content": null,
       "align_items": null,
       "align_self": null,
       "border": null,
       "bottom": null,
       "display": null,
       "flex": null,
       "flex_flow": null,
       "grid_area": null,
       "grid_auto_columns": null,
       "grid_auto_flow": null,
       "grid_auto_rows": null,
       "grid_column": null,
       "grid_gap": null,
       "grid_row": null,
       "grid_template_areas": null,
       "grid_template_columns": null,
       "grid_template_rows": null,
       "height": null,
       "justify_content": null,
       "justify_items": null,
       "left": null,
       "margin": null,
       "max_height": null,
       "max_width": null,
       "min_height": null,
       "min_width": null,
       "object_fit": null,
       "object_position": null,
       "order": null,
       "overflow": null,
       "overflow_x": null,
       "overflow_y": null,
       "padding": null,
       "right": null,
       "top": null,
       "visibility": null,
       "width": null
      }
     },
     "1eb47e432dce467598820e551d5ce769": {
      "model_module": "@jupyter-widgets/controls",
      "model_module_version": "1.5.0",
      "model_name": "ProgressStyleModel",
      "state": {
       "_model_module": "@jupyter-widgets/controls",
       "_model_module_version": "1.5.0",
       "_model_name": "ProgressStyleModel",
       "_view_count": null,
       "_view_module": "@jupyter-widgets/base",
       "_view_module_version": "1.2.0",
       "_view_name": "StyleView",
       "bar_color": null,
       "description_width": ""
      }
     },
     "1f5a3c031c874422b8b3d0ffdc50c178": {
      "model_module": "@jupyter-widgets/base",
      "model_module_version": "1.2.0",
      "model_name": "LayoutModel",
      "state": {
       "_model_module": "@jupyter-widgets/base",
       "_model_module_version": "1.2.0",
       "_model_name": "LayoutModel",
       "_view_count": null,
       "_view_module": "@jupyter-widgets/base",
       "_view_module_version": "1.2.0",
       "_view_name": "LayoutView",
       "align_content": null,
       "align_items": null,
       "align_self": null,
       "border": null,
       "bottom": null,
       "display": null,
       "flex": null,
       "flex_flow": null,
       "grid_area": null,
       "grid_auto_columns": null,
       "grid_auto_flow": null,
       "grid_auto_rows": null,
       "grid_column": null,
       "grid_gap": null,
       "grid_row": null,
       "grid_template_areas": null,
       "grid_template_columns": null,
       "grid_template_rows": null,
       "height": null,
       "justify_content": null,
       "justify_items": null,
       "left": null,
       "margin": null,
       "max_height": null,
       "max_width": null,
       "min_height": null,
       "min_width": null,
       "object_fit": null,
       "object_position": null,
       "order": null,
       "overflow": null,
       "overflow_x": null,
       "overflow_y": null,
       "padding": null,
       "right": null,
       "top": null,
       "visibility": null,
       "width": null
      }
     },
     "20031034970b4ffaa16411b7eede1be3": {
      "model_module": "@jupyter-widgets/base",
      "model_module_version": "1.2.0",
      "model_name": "LayoutModel",
      "state": {
       "_model_module": "@jupyter-widgets/base",
       "_model_module_version": "1.2.0",
       "_model_name": "LayoutModel",
       "_view_count": null,
       "_view_module": "@jupyter-widgets/base",
       "_view_module_version": "1.2.0",
       "_view_name": "LayoutView",
       "align_content": null,
       "align_items": null,
       "align_self": null,
       "border": null,
       "bottom": null,
       "display": null,
       "flex": null,
       "flex_flow": null,
       "grid_area": null,
       "grid_auto_columns": null,
       "grid_auto_flow": null,
       "grid_auto_rows": null,
       "grid_column": null,
       "grid_gap": null,
       "grid_row": null,
       "grid_template_areas": null,
       "grid_template_columns": null,
       "grid_template_rows": null,
       "height": null,
       "justify_content": null,
       "justify_items": null,
       "left": null,
       "margin": null,
       "max_height": null,
       "max_width": null,
       "min_height": null,
       "min_width": null,
       "object_fit": null,
       "object_position": null,
       "order": null,
       "overflow": null,
       "overflow_x": null,
       "overflow_y": null,
       "padding": null,
       "right": null,
       "top": null,
       "visibility": null,
       "width": null
      }
     },
     "20e0171e407d4978849e4b93cb32118f": {
      "model_module": "@jupyter-widgets/controls",
      "model_module_version": "1.5.0",
      "model_name": "FloatProgressModel",
      "state": {
       "_dom_classes": [],
       "_model_module": "@jupyter-widgets/controls",
       "_model_module_version": "1.5.0",
       "_model_name": "FloatProgressModel",
       "_view_count": null,
       "_view_module": "@jupyter-widgets/controls",
       "_view_module_version": "1.5.0",
       "_view_name": "ProgressView",
       "bar_style": "success",
       "description": "",
       "description_tooltip": null,
       "layout": "IPY_MODEL_7e8e8d4862d841848ea7b337ff9816e7",
       "max": 157.0,
       "min": 0.0,
       "orientation": "horizontal",
       "style": "IPY_MODEL_1eb47e432dce467598820e551d5ce769",
       "value": 157.0
      }
     },
     "254bc38ca8c544dda2a52a6bba816426": {
      "model_module": "@jupyter-widgets/controls",
      "model_module_version": "1.5.0",
      "model_name": "HBoxModel",
      "state": {
       "_dom_classes": [],
       "_model_module": "@jupyter-widgets/controls",
       "_model_module_version": "1.5.0",
       "_model_name": "HBoxModel",
       "_view_count": null,
       "_view_module": "@jupyter-widgets/controls",
       "_view_module_version": "1.5.0",
       "_view_name": "HBoxView",
       "box_style": "",
       "children": [
        "IPY_MODEL_dc183237d1f04e0a95ebef1a9cbf39f1",
        "IPY_MODEL_a2970a63bd3c40a6ab81534c31e56a04",
        "IPY_MODEL_3ea65f3f193e458894a650bdb886f812"
       ],
       "layout": "IPY_MODEL_25bd62cb90794fc28bbca55f7c90716b"
      }
     },
     "25bd62cb90794fc28bbca55f7c90716b": {
      "model_module": "@jupyter-widgets/base",
      "model_module_version": "1.2.0",
      "model_name": "LayoutModel",
      "state": {
       "_model_module": "@jupyter-widgets/base",
       "_model_module_version": "1.2.0",
       "_model_name": "LayoutModel",
       "_view_count": null,
       "_view_module": "@jupyter-widgets/base",
       "_view_module_version": "1.2.0",
       "_view_name": "LayoutView",
       "align_content": null,
       "align_items": null,
       "align_self": null,
       "border": null,
       "bottom": null,
       "display": null,
       "flex": null,
       "flex_flow": null,
       "grid_area": null,
       "grid_auto_columns": null,
       "grid_auto_flow": null,
       "grid_auto_rows": null,
       "grid_column": null,
       "grid_gap": null,
       "grid_row": null,
       "grid_template_areas": null,
       "grid_template_columns": null,
       "grid_template_rows": null,
       "height": null,
       "justify_content": null,
       "justify_items": null,
       "left": null,
       "margin": null,
       "max_height": null,
       "max_width": null,
       "min_height": null,
       "min_width": null,
       "object_fit": null,
       "object_position": null,
       "order": null,
       "overflow": null,
       "overflow_x": null,
       "overflow_y": null,
       "padding": null,
       "right": null,
       "top": null,
       "visibility": null,
       "width": null
      }
     },
     "2f0024ef3ec8413aaf1ae0b1ad726184": {
      "model_module": "@jupyter-widgets/controls",
      "model_module_version": "1.5.0",
      "model_name": "HBoxModel",
      "state": {
       "_dom_classes": [],
       "_model_module": "@jupyter-widgets/controls",
       "_model_module_version": "1.5.0",
       "_model_name": "HBoxModel",
       "_view_count": null,
       "_view_module": "@jupyter-widgets/controls",
       "_view_module_version": "1.5.0",
       "_view_name": "HBoxView",
       "box_style": "",
       "children": [
        "IPY_MODEL_b9e1dc9c9b3c429a8ba1a6bd92b18007",
        "IPY_MODEL_a001c88e3df24b1e9b0a5a14c84e8f1b",
        "IPY_MODEL_ea8f97896ee7468f932de09ac6d4d7d3"
       ],
       "layout": "IPY_MODEL_e8dfae0880934916a643a562bdfa561b"
      }
     },
     "3153547173ca4ccfbea6c7cbd53a5d37": {
      "model_module": "@jupyter-widgets/controls",
      "model_module_version": "1.5.0",
      "model_name": "DescriptionStyleModel",
      "state": {
       "_model_module": "@jupyter-widgets/controls",
       "_model_module_version": "1.5.0",
       "_model_name": "DescriptionStyleModel",
       "_view_count": null,
       "_view_module": "@jupyter-widgets/base",
       "_view_module_version": "1.2.0",
       "_view_name": "StyleView",
       "description_width": ""
      }
     },
     "397db36365c248c7b6667715e2d63efd": {
      "model_module": "@jupyter-widgets/base",
      "model_module_version": "1.2.0",
      "model_name": "LayoutModel",
      "state": {
       "_model_module": "@jupyter-widgets/base",
       "_model_module_version": "1.2.0",
       "_model_name": "LayoutModel",
       "_view_count": null,
       "_view_module": "@jupyter-widgets/base",
       "_view_module_version": "1.2.0",
       "_view_name": "LayoutView",
       "align_content": null,
       "align_items": null,
       "align_self": null,
       "border": null,
       "bottom": null,
       "display": null,
       "flex": null,
       "flex_flow": null,
       "grid_area": null,
       "grid_auto_columns": null,
       "grid_auto_flow": null,
       "grid_auto_rows": null,
       "grid_column": null,
       "grid_gap": null,
       "grid_row": null,
       "grid_template_areas": null,
       "grid_template_columns": null,
       "grid_template_rows": null,
       "height": null,
       "justify_content": null,
       "justify_items": null,
       "left": null,
       "margin": null,
       "max_height": null,
       "max_width": null,
       "min_height": null,
       "min_width": null,
       "object_fit": null,
       "object_position": null,
       "order": null,
       "overflow": null,
       "overflow_x": null,
       "overflow_y": null,
       "padding": null,
       "right": null,
       "top": null,
       "visibility": null,
       "width": null
      }
     },
     "3e171a42069345b28e85c3e26818ee15": {
      "model_module": "@jupyter-widgets/controls",
      "model_module_version": "1.5.0",
      "model_name": "HTMLModel",
      "state": {
       "_dom_classes": [],
       "_model_module": "@jupyter-widgets/controls",
       "_model_module_version": "1.5.0",
       "_model_name": "HTMLModel",
       "_view_count": null,
       "_view_module": "@jupyter-widgets/controls",
       "_view_module_version": "1.5.0",
       "_view_name": "HTMLView",
       "description": "",
       "description_tooltip": null,
       "layout": "IPY_MODEL_746e543f18c64f3fb686d8230667b076",
       "placeholder": "​",
       "style": "IPY_MODEL_a21586f73b1642bebda1ab4aa8d97bd7",
       "value": " 412M/412M [00:02&lt;00:00, 212MB/s]"
      }
     },
     "3ea65f3f193e458894a650bdb886f812": {
      "model_module": "@jupyter-widgets/controls",
      "model_module_version": "1.5.0",
      "model_name": "HTMLModel",
      "state": {
       "_dom_classes": [],
       "_model_module": "@jupyter-widgets/controls",
       "_model_module_version": "1.5.0",
       "_model_name": "HTMLModel",
       "_view_count": null,
       "_view_module": "@jupyter-widgets/controls",
       "_view_module_version": "1.5.0",
       "_view_name": "HTMLView",
       "description": "",
       "description_tooltip": null,
       "layout": "IPY_MODEL_6c87d82c899a4edaa9bb40297bd819d1",
       "placeholder": "​",
       "style": "IPY_MODEL_d9404f2dacc24a7ba5c9171537def904",
       "value": " 269k/269k [00:00&lt;00:00, 11.3MB/s]"
      }
     },
     "40fdf4457b7743e795d66fd62a351944": {
      "model_module": "@jupyter-widgets/controls",
      "model_module_version": "1.5.0",
      "model_name": "DescriptionStyleModel",
      "state": {
       "_model_module": "@jupyter-widgets/controls",
       "_model_module_version": "1.5.0",
       "_model_name": "DescriptionStyleModel",
       "_view_count": null,
       "_view_module": "@jupyter-widgets/base",
       "_view_module_version": "1.2.0",
       "_view_name": "StyleView",
       "description_width": ""
      }
     },
     "48e9e37d318b46c0a925c068b1fe1578": {
      "model_module": "@jupyter-widgets/controls",
      "model_module_version": "1.5.0",
      "model_name": "DescriptionStyleModel",
      "state": {
       "_model_module": "@jupyter-widgets/controls",
       "_model_module_version": "1.5.0",
       "_model_name": "DescriptionStyleModel",
       "_view_count": null,
       "_view_module": "@jupyter-widgets/base",
       "_view_module_version": "1.2.0",
       "_view_name": "StyleView",
       "description_width": ""
      }
     },
     "53e649347e23495da25485ec331180f8": {
      "model_module": "@jupyter-widgets/base",
      "model_module_version": "1.2.0",
      "model_name": "LayoutModel",
      "state": {
       "_model_module": "@jupyter-widgets/base",
       "_model_module_version": "1.2.0",
       "_model_name": "LayoutModel",
       "_view_count": null,
       "_view_module": "@jupyter-widgets/base",
       "_view_module_version": "1.2.0",
       "_view_name": "LayoutView",
       "align_content": null,
       "align_items": null,
       "align_self": null,
       "border": null,
       "bottom": null,
       "display": null,
       "flex": null,
       "flex_flow": null,
       "grid_area": null,
       "grid_auto_columns": null,
       "grid_auto_flow": null,
       "grid_auto_rows": null,
       "grid_column": null,
       "grid_gap": null,
       "grid_row": null,
       "grid_template_areas": null,
       "grid_template_columns": null,
       "grid_template_rows": null,
       "height": null,
       "justify_content": null,
       "justify_items": null,
       "left": null,
       "margin": null,
       "max_height": null,
       "max_width": null,
       "min_height": null,
       "min_width": null,
       "object_fit": null,
       "object_position": null,
       "order": null,
       "overflow": null,
       "overflow_x": null,
       "overflow_y": null,
       "padding": null,
       "right": null,
       "top": null,
       "visibility": null,
       "width": null
      }
     },
     "59233973c8f648e8abcb4148bc1eb762": {
      "model_module": "@jupyter-widgets/controls",
      "model_module_version": "1.5.0",
      "model_name": "HTMLModel",
      "state": {
       "_dom_classes": [],
       "_model_module": "@jupyter-widgets/controls",
       "_model_module_version": "1.5.0",
       "_model_name": "HTMLModel",
       "_view_count": null,
       "_view_module": "@jupyter-widgets/controls",
       "_view_module_version": "1.5.0",
       "_view_name": "HTMLView",
       "description": "",
       "description_tooltip": null,
       "layout": "IPY_MODEL_e302d5aa74b8467da3c10ecd723643c3",
       "placeholder": "​",
       "style": "IPY_MODEL_0c0f85febec84ed3aad2eccfcebae0fb",
       "value": "model.safetensors: 100%"
      }
     },
     "5cef2e8795ab4ecc95cf3f4030dfcfa5": {
      "model_module": "@jupyter-widgets/controls",
      "model_module_version": "1.5.0",
      "model_name": "DescriptionStyleModel",
      "state": {
       "_model_module": "@jupyter-widgets/controls",
       "_model_module_version": "1.5.0",
       "_model_name": "DescriptionStyleModel",
       "_view_count": null,
       "_view_module": "@jupyter-widgets/base",
       "_view_module_version": "1.2.0",
       "_view_name": "StyleView",
       "description_width": ""
      }
     },
     "5d96ecd334164ef1aefd7ddeeab98a8a": {
      "model_module": "@jupyter-widgets/controls",
      "model_module_version": "1.5.0",
      "model_name": "HTMLModel",
      "state": {
       "_dom_classes": [],
       "_model_module": "@jupyter-widgets/controls",
       "_model_module_version": "1.5.0",
       "_model_name": "HTMLModel",
       "_view_count": null,
       "_view_module": "@jupyter-widgets/controls",
       "_view_module_version": "1.5.0",
       "_view_name": "HTMLView",
       "description": "",
       "description_tooltip": null,
       "layout": "IPY_MODEL_08357486561d4c27a1d1b4ac1c628624",
       "placeholder": "​",
       "style": "IPY_MODEL_c49594a166f945e5a4077f84b5a358ae",
       "value": "vocab.txt: 100%"
      }
     },
     "6c87d82c899a4edaa9bb40297bd819d1": {
      "model_module": "@jupyter-widgets/base",
      "model_module_version": "1.2.0",
      "model_name": "LayoutModel",
      "state": {
       "_model_module": "@jupyter-widgets/base",
       "_model_module_version": "1.2.0",
       "_model_name": "LayoutModel",
       "_view_count": null,
       "_view_module": "@jupyter-widgets/base",
       "_view_module_version": "1.2.0",
       "_view_name": "LayoutView",
       "align_content": null,
       "align_items": null,
       "align_self": null,
       "border": null,
       "bottom": null,
       "display": null,
       "flex": null,
       "flex_flow": null,
       "grid_area": null,
       "grid_auto_columns": null,
       "grid_auto_flow": null,
       "grid_auto_rows": null,
       "grid_column": null,
       "grid_gap": null,
       "grid_row": null,
       "grid_template_areas": null,
       "grid_template_columns": null,
       "grid_template_rows": null,
       "height": null,
       "justify_content": null,
       "justify_items": null,
       "left": null,
       "margin": null,
       "max_height": null,
       "max_width": null,
       "min_height": null,
       "min_width": null,
       "object_fit": null,
       "object_position": null,
       "order": null,
       "overflow": null,
       "overflow_x": null,
       "overflow_y": null,
       "padding": null,
       "right": null,
       "top": null,
       "visibility": null,
       "width": null
      }
     },
     "6cc81b6bd2674f6db8028802cbae01c8": {
      "model_module": "@jupyter-widgets/controls",
      "model_module_version": "1.5.0",
      "model_name": "ProgressStyleModel",
      "state": {
       "_model_module": "@jupyter-widgets/controls",
       "_model_module_version": "1.5.0",
       "_model_name": "ProgressStyleModel",
       "_view_count": null,
       "_view_module": "@jupyter-widgets/base",
       "_view_module_version": "1.2.0",
       "_view_name": "StyleView",
       "bar_color": null,
       "description_width": ""
      }
     },
     "6e30bfb7e3324c8c853f4fb4c3c7eb6d": {
      "model_module": "@jupyter-widgets/base",
      "model_module_version": "1.2.0",
      "model_name": "LayoutModel",
      "state": {
       "_model_module": "@jupyter-widgets/base",
       "_model_module_version": "1.2.0",
       "_model_name": "LayoutModel",
       "_view_count": null,
       "_view_module": "@jupyter-widgets/base",
       "_view_module_version": "1.2.0",
       "_view_name": "LayoutView",
       "align_content": null,
       "align_items": null,
       "align_self": null,
       "border": null,
       "bottom": null,
       "display": null,
       "flex": null,
       "flex_flow": null,
       "grid_area": null,
       "grid_auto_columns": null,
       "grid_auto_flow": null,
       "grid_auto_rows": null,
       "grid_column": null,
       "grid_gap": null,
       "grid_row": null,
       "grid_template_areas": null,
       "grid_template_columns": null,
       "grid_template_rows": null,
       "height": null,
       "justify_content": null,
       "justify_items": null,
       "left": null,
       "margin": null,
       "max_height": null,
       "max_width": null,
       "min_height": null,
       "min_width": null,
       "object_fit": null,
       "object_position": null,
       "order": null,
       "overflow": null,
       "overflow_x": null,
       "overflow_y": null,
       "padding": null,
       "right": null,
       "top": null,
       "visibility": null,
       "width": null
      }
     },
     "6fb1ea5b3c654fb8bffec134ac30f69e": {
      "model_module": "@jupyter-widgets/controls",
      "model_module_version": "1.5.0",
      "model_name": "HTMLModel",
      "state": {
       "_dom_classes": [],
       "_model_module": "@jupyter-widgets/controls",
       "_model_module_version": "1.5.0",
       "_model_name": "HTMLModel",
       "_view_count": null,
       "_view_module": "@jupyter-widgets/controls",
       "_view_module_version": "1.5.0",
       "_view_name": "HTMLView",
       "description": "",
       "description_tooltip": null,
       "layout": "IPY_MODEL_8de94371621f423babb0908ea3c99d79",
       "placeholder": "​",
       "style": "IPY_MODEL_83f55dcc37bc476e9dce529c867c4de1",
       "value": " 7/7 [3:09:00&lt;00:00, 2729.12s/cv]"
      }
     },
     "7053846220d64dbb8ebaed2c1588b168": {
      "model_module": "@jupyter-widgets/base",
      "model_module_version": "1.2.0",
      "model_name": "LayoutModel",
      "state": {
       "_model_module": "@jupyter-widgets/base",
       "_model_module_version": "1.2.0",
       "_model_name": "LayoutModel",
       "_view_count": null,
       "_view_module": "@jupyter-widgets/base",
       "_view_module_version": "1.2.0",
       "_view_name": "LayoutView",
       "align_content": null,
       "align_items": null,
       "align_self": null,
       "border": null,
       "bottom": null,
       "display": null,
       "flex": null,
       "flex_flow": null,
       "grid_area": null,
       "grid_auto_columns": null,
       "grid_auto_flow": null,
       "grid_auto_rows": null,
       "grid_column": null,
       "grid_gap": null,
       "grid_row": null,
       "grid_template_areas": null,
       "grid_template_columns": null,
       "grid_template_rows": null,
       "height": null,
       "justify_content": null,
       "justify_items": null,
       "left": null,
       "margin": null,
       "max_height": null,
       "max_width": null,
       "min_height": null,
       "min_width": null,
       "object_fit": null,
       "object_position": null,
       "order": null,
       "overflow": null,
       "overflow_x": null,
       "overflow_y": null,
       "padding": null,
       "right": null,
       "top": null,
       "visibility": null,
       "width": null
      }
     },
     "7304291d0c85458ab6520fce0e5ca3ea": {
      "model_module": "@jupyter-widgets/controls",
      "model_module_version": "1.5.0",
      "model_name": "HBoxModel",
      "state": {
       "_dom_classes": [],
       "_model_module": "@jupyter-widgets/controls",
       "_model_module_version": "1.5.0",
       "_model_name": "HBoxModel",
       "_view_count": null,
       "_view_module": "@jupyter-widgets/controls",
       "_view_module_version": "1.5.0",
       "_view_name": "HBoxView",
       "box_style": "",
       "children": [
        "IPY_MODEL_7daf0416d22544069a3e868be4c03539",
        "IPY_MODEL_7c1be67785084dd7afd79264f44be633",
        "IPY_MODEL_db95eceeb698439398855529952ae047"
       ],
       "layout": "IPY_MODEL_c51453c0ab5e401e9567b8308fa4decf"
      }
     },
     "746e543f18c64f3fb686d8230667b076": {
      "model_module": "@jupyter-widgets/base",
      "model_module_version": "1.2.0",
      "model_name": "LayoutModel",
      "state": {
       "_model_module": "@jupyter-widgets/base",
       "_model_module_version": "1.2.0",
       "_model_name": "LayoutModel",
       "_view_count": null,
       "_view_module": "@jupyter-widgets/base",
       "_view_module_version": "1.2.0",
       "_view_name": "LayoutView",
       "align_content": null,
       "align_items": null,
       "align_self": null,
       "border": null,
       "bottom": null,
       "display": null,
       "flex": null,
       "flex_flow": null,
       "grid_area": null,
       "grid_auto_columns": null,
       "grid_auto_flow": null,
       "grid_auto_rows": null,
       "grid_column": null,
       "grid_gap": null,
       "grid_row": null,
       "grid_template_areas": null,
       "grid_template_columns": null,
       "grid_template_rows": null,
       "height": null,
       "justify_content": null,
       "justify_items": null,
       "left": null,
       "margin": null,
       "max_height": null,
       "max_width": null,
       "min_height": null,
       "min_width": null,
       "object_fit": null,
       "object_position": null,
       "order": null,
       "overflow": null,
       "overflow_x": null,
       "overflow_y": null,
       "padding": null,
       "right": null,
       "top": null,
       "visibility": null,
       "width": null
      }
     },
     "7c1be67785084dd7afd79264f44be633": {
      "model_module": "@jupyter-widgets/controls",
      "model_module_version": "1.5.0",
      "model_name": "FloatProgressModel",
      "state": {
       "_dom_classes": [],
       "_model_module": "@jupyter-widgets/controls",
       "_model_module_version": "1.5.0",
       "_model_name": "FloatProgressModel",
       "_view_count": null,
       "_view_module": "@jupyter-widgets/controls",
       "_view_module_version": "1.5.0",
       "_view_name": "ProgressView",
       "bar_style": "success",
       "description": "",
       "description_tooltip": null,
       "layout": "IPY_MODEL_8eb74af843c24ff49acb5823ade79b15",
       "max": 49.0,
       "min": 0.0,
       "orientation": "horizontal",
       "style": "IPY_MODEL_d4b37746fe664f4d81154cd31c22e5c6",
       "value": 49.0
      }
     },
     "7d9ae576c32b4db58ee974f50a964112": {
      "model_module": "@jupyter-widgets/controls",
      "model_module_version": "1.5.0",
      "model_name": "HTMLModel",
      "state": {
       "_dom_classes": [],
       "_model_module": "@jupyter-widgets/controls",
       "_model_module_version": "1.5.0",
       "_model_name": "HTMLModel",
       "_view_count": null,
       "_view_module": "@jupyter-widgets/controls",
       "_view_module_version": "1.5.0",
       "_view_name": "HTMLView",
       "description": "",
       "description_tooltip": null,
       "layout": "IPY_MODEL_1f5a3c031c874422b8b3d0ffdc50c178",
       "placeholder": "​",
       "style": "IPY_MODEL_014c9c93c29d4865a28f5c757ba948f1",
       "value": "eval models: 100%"
      }
     },
     "7daf0416d22544069a3e868be4c03539": {
      "model_module": "@jupyter-widgets/controls",
      "model_module_version": "1.5.0",
      "model_name": "HTMLModel",
      "state": {
       "_dom_classes": [],
       "_model_module": "@jupyter-widgets/controls",
       "_model_module_version": "1.5.0",
       "_model_name": "HTMLModel",
       "_view_count": null,
       "_view_module": "@jupyter-widgets/controls",
       "_view_module_version": "1.5.0",
       "_view_name": "HTMLView",
       "description": "",
       "description_tooltip": null,
       "layout": "IPY_MODEL_936d905bfb9a4a3baee80f62ac6f9e6a",
       "placeholder": "​",
       "style": "IPY_MODEL_48e9e37d318b46c0a925c068b1fe1578",
       "value": "tokenizer_config.json: 100%"
      }
     },
     "7e8e8d4862d841848ea7b337ff9816e7": {
      "model_module": "@jupyter-widgets/base",
      "model_module_version": "1.2.0",
      "model_name": "LayoutModel",
      "state": {
       "_model_module": "@jupyter-widgets/base",
       "_model_module_version": "1.2.0",
       "_model_name": "LayoutModel",
       "_view_count": null,
       "_view_module": "@jupyter-widgets/base",
       "_view_module_version": "1.2.0",
       "_view_name": "LayoutView",
       "align_content": null,
       "align_items": null,
       "align_self": null,
       "border": null,
       "bottom": null,
       "display": null,
       "flex": null,
       "flex_flow": null,
       "grid_area": null,
       "grid_auto_columns": null,
       "grid_auto_flow": null,
       "grid_auto_rows": null,
       "grid_column": null,
       "grid_gap": null,
       "grid_row": null,
       "grid_template_areas": null,
       "grid_template_columns": null,
       "grid_template_rows": null,
       "height": null,
       "justify_content": null,
       "justify_items": null,
       "left": null,
       "margin": null,
       "max_height": null,
       "max_width": null,
       "min_height": null,
       "min_width": null,
       "object_fit": null,
       "object_position": null,
       "order": null,
       "overflow": null,
       "overflow_x": null,
       "overflow_y": null,
       "padding": null,
       "right": null,
       "top": null,
       "visibility": null,
       "width": null
      }
     },
     "7ee0060b85b24976bd811f089d30e77c": {
      "model_module": "@jupyter-widgets/base",
      "model_module_version": "1.2.0",
      "model_name": "LayoutModel",
      "state": {
       "_model_module": "@jupyter-widgets/base",
       "_model_module_version": "1.2.0",
       "_model_name": "LayoutModel",
       "_view_count": null,
       "_view_module": "@jupyter-widgets/base",
       "_view_module_version": "1.2.0",
       "_view_name": "LayoutView",
       "align_content": null,
       "align_items": null,
       "align_self": null,
       "border": null,
       "bottom": null,
       "display": null,
       "flex": null,
       "flex_flow": null,
       "grid_area": null,
       "grid_auto_columns": null,
       "grid_auto_flow": null,
       "grid_auto_rows": null,
       "grid_column": null,
       "grid_gap": null,
       "grid_row": null,
       "grid_template_areas": null,
       "grid_template_columns": null,
       "grid_template_rows": null,
       "height": null,
       "justify_content": null,
       "justify_items": null,
       "left": null,
       "margin": null,
       "max_height": null,
       "max_width": null,
       "min_height": null,
       "min_width": null,
       "object_fit": null,
       "object_position": null,
       "order": null,
       "overflow": null,
       "overflow_x": null,
       "overflow_y": null,
       "padding": null,
       "right": null,
       "top": null,
       "visibility": null,
       "width": null
      }
     },
     "7f395d62baa74717bf78f40a127d5e16": {
      "model_module": "@jupyter-widgets/base",
      "model_module_version": "1.2.0",
      "model_name": "LayoutModel",
      "state": {
       "_model_module": "@jupyter-widgets/base",
       "_model_module_version": "1.2.0",
       "_model_name": "LayoutModel",
       "_view_count": null,
       "_view_module": "@jupyter-widgets/base",
       "_view_module_version": "1.2.0",
       "_view_name": "LayoutView",
       "align_content": null,
       "align_items": null,
       "align_self": null,
       "border": null,
       "bottom": null,
       "display": null,
       "flex": null,
       "flex_flow": null,
       "grid_area": null,
       "grid_auto_columns": null,
       "grid_auto_flow": null,
       "grid_auto_rows": null,
       "grid_column": null,
       "grid_gap": null,
       "grid_row": null,
       "grid_template_areas": null,
       "grid_template_columns": null,
       "grid_template_rows": null,
       "height": null,
       "justify_content": null,
       "justify_items": null,
       "left": null,
       "margin": null,
       "max_height": null,
       "max_width": null,
       "min_height": null,
       "min_width": null,
       "object_fit": null,
       "object_position": null,
       "order": null,
       "overflow": null,
       "overflow_x": null,
       "overflow_y": null,
       "padding": null,
       "right": null,
       "top": null,
       "visibility": null,
       "width": null
      }
     },
     "83f55dcc37bc476e9dce529c867c4de1": {
      "model_module": "@jupyter-widgets/controls",
      "model_module_version": "1.5.0",
      "model_name": "DescriptionStyleModel",
      "state": {
       "_model_module": "@jupyter-widgets/controls",
       "_model_module_version": "1.5.0",
       "_model_name": "DescriptionStyleModel",
       "_view_count": null,
       "_view_module": "@jupyter-widgets/base",
       "_view_module_version": "1.2.0",
       "_view_name": "StyleView",
       "description_width": ""
      }
     },
     "8d691563891645ca9e8abd54106dd27f": {
      "model_module": "@jupyter-widgets/base",
      "model_module_version": "1.2.0",
      "model_name": "LayoutModel",
      "state": {
       "_model_module": "@jupyter-widgets/base",
       "_model_module_version": "1.2.0",
       "_model_name": "LayoutModel",
       "_view_count": null,
       "_view_module": "@jupyter-widgets/base",
       "_view_module_version": "1.2.0",
       "_view_name": "LayoutView",
       "align_content": null,
       "align_items": null,
       "align_self": null,
       "border": null,
       "bottom": null,
       "display": null,
       "flex": null,
       "flex_flow": null,
       "grid_area": null,
       "grid_auto_columns": null,
       "grid_auto_flow": null,
       "grid_auto_rows": null,
       "grid_column": null,
       "grid_gap": null,
       "grid_row": null,
       "grid_template_areas": null,
       "grid_template_columns": null,
       "grid_template_rows": null,
       "height": null,
       "justify_content": null,
       "justify_items": null,
       "left": null,
       "margin": null,
       "max_height": null,
       "max_width": null,
       "min_height": null,
       "min_width": null,
       "object_fit": null,
       "object_position": null,
       "order": null,
       "overflow": null,
       "overflow_x": null,
       "overflow_y": null,
       "padding": null,
       "right": null,
       "top": null,
       "visibility": null,
       "width": null
      }
     },
     "8de94371621f423babb0908ea3c99d79": {
      "model_module": "@jupyter-widgets/base",
      "model_module_version": "1.2.0",
      "model_name": "LayoutModel",
      "state": {
       "_model_module": "@jupyter-widgets/base",
       "_model_module_version": "1.2.0",
       "_model_name": "LayoutModel",
       "_view_count": null,
       "_view_module": "@jupyter-widgets/base",
       "_view_module_version": "1.2.0",
       "_view_name": "LayoutView",
       "align_content": null,
       "align_items": null,
       "align_self": null,
       "border": null,
       "bottom": null,
       "display": null,
       "flex": null,
       "flex_flow": null,
       "grid_area": null,
       "grid_auto_columns": null,
       "grid_auto_flow": null,
       "grid_auto_rows": null,
       "grid_column": null,
       "grid_gap": null,
       "grid_row": null,
       "grid_template_areas": null,
       "grid_template_columns": null,
       "grid_template_rows": null,
       "height": null,
       "justify_content": null,
       "justify_items": null,
       "left": null,
       "margin": null,
       "max_height": null,
       "max_width": null,
       "min_height": null,
       "min_width": null,
       "object_fit": null,
       "object_position": null,
       "order": null,
       "overflow": null,
       "overflow_x": null,
       "overflow_y": null,
       "padding": null,
       "right": null,
       "top": null,
       "visibility": null,
       "width": null
      }
     },
     "8e0aac8f337e4deea3d0c89f01855582": {
      "model_module": "@jupyter-widgets/controls",
      "model_module_version": "1.5.0",
      "model_name": "DescriptionStyleModel",
      "state": {
       "_model_module": "@jupyter-widgets/controls",
       "_model_module_version": "1.5.0",
       "_model_name": "DescriptionStyleModel",
       "_view_count": null,
       "_view_module": "@jupyter-widgets/base",
       "_view_module_version": "1.2.0",
       "_view_name": "StyleView",
       "description_width": ""
      }
     },
     "8eb74af843c24ff49acb5823ade79b15": {
      "model_module": "@jupyter-widgets/base",
      "model_module_version": "1.2.0",
      "model_name": "LayoutModel",
      "state": {
       "_model_module": "@jupyter-widgets/base",
       "_model_module_version": "1.2.0",
       "_model_name": "LayoutModel",
       "_view_count": null,
       "_view_module": "@jupyter-widgets/base",
       "_view_module_version": "1.2.0",
       "_view_name": "LayoutView",
       "align_content": null,
       "align_items": null,
       "align_self": null,
       "border": null,
       "bottom": null,
       "display": null,
       "flex": null,
       "flex_flow": null,
       "grid_area": null,
       "grid_auto_columns": null,
       "grid_auto_flow": null,
       "grid_auto_rows": null,
       "grid_column": null,
       "grid_gap": null,
       "grid_row": null,
       "grid_template_areas": null,
       "grid_template_columns": null,
       "grid_template_rows": null,
       "height": null,
       "justify_content": null,
       "justify_items": null,
       "left": null,
       "margin": null,
       "max_height": null,
       "max_width": null,
       "min_height": null,
       "min_width": null,
       "object_fit": null,
       "object_position": null,
       "order": null,
       "overflow": null,
       "overflow_x": null,
       "overflow_y": null,
       "padding": null,
       "right": null,
       "top": null,
       "visibility": null,
       "width": null
      }
     },
     "8fc7a3073ec5493b9b7a9bb276e1bf46": {
      "model_module": "@jupyter-widgets/base",
      "model_module_version": "1.2.0",
      "model_name": "LayoutModel",
      "state": {
       "_model_module": "@jupyter-widgets/base",
       "_model_module_version": "1.2.0",
       "_model_name": "LayoutModel",
       "_view_count": null,
       "_view_module": "@jupyter-widgets/base",
       "_view_module_version": "1.2.0",
       "_view_name": "LayoutView",
       "align_content": null,
       "align_items": null,
       "align_self": null,
       "border": null,
       "bottom": null,
       "display": null,
       "flex": null,
       "flex_flow": null,
       "grid_area": null,
       "grid_auto_columns": null,
       "grid_auto_flow": null,
       "grid_auto_rows": null,
       "grid_column": null,
       "grid_gap": null,
       "grid_row": null,
       "grid_template_areas": null,
       "grid_template_columns": null,
       "grid_template_rows": null,
       "height": null,
       "justify_content": null,
       "justify_items": null,
       "left": null,
       "margin": null,
       "max_height": null,
       "max_width": null,
       "min_height": null,
       "min_width": null,
       "object_fit": null,
       "object_position": null,
       "order": null,
       "overflow": null,
       "overflow_x": null,
       "overflow_y": null,
       "padding": null,
       "right": null,
       "top": null,
       "visibility": null,
       "width": null
      }
     },
     "90bb9d54dc9b4b309100f213ae0342c5": {
      "model_module": "@jupyter-widgets/controls",
      "model_module_version": "1.5.0",
      "model_name": "HTMLModel",
      "state": {
       "_dom_classes": [],
       "_model_module": "@jupyter-widgets/controls",
       "_model_module_version": "1.5.0",
       "_model_name": "HTMLModel",
       "_view_count": null,
       "_view_module": "@jupyter-widgets/controls",
       "_view_module_version": "1.5.0",
       "_view_name": "HTMLView",
       "description": "",
       "description_tooltip": null,
       "layout": "IPY_MODEL_7053846220d64dbb8ebaed2c1588b168",
       "placeholder": "​",
       "style": "IPY_MODEL_8e0aac8f337e4deea3d0c89f01855582",
       "value": " 110k/110k [00:00&lt;00:00, 3.42MB/s]"
      }
     },
     "93525a0070014a268dddaf538d74a4fd": {
      "model_module": "@jupyter-widgets/controls",
      "model_module_version": "1.5.0",
      "model_name": "ProgressStyleModel",
      "state": {
       "_model_module": "@jupyter-widgets/controls",
       "_model_module_version": "1.5.0",
       "_model_name": "ProgressStyleModel",
       "_view_count": null,
       "_view_module": "@jupyter-widgets/base",
       "_view_module_version": "1.2.0",
       "_view_name": "StyleView",
       "bar_color": null,
       "description_width": ""
      }
     },
     "936d905bfb9a4a3baee80f62ac6f9e6a": {
      "model_module": "@jupyter-widgets/base",
      "model_module_version": "1.2.0",
      "model_name": "LayoutModel",
      "state": {
       "_model_module": "@jupyter-widgets/base",
       "_model_module_version": "1.2.0",
       "_model_name": "LayoutModel",
       "_view_count": null,
       "_view_module": "@jupyter-widgets/base",
       "_view_module_version": "1.2.0",
       "_view_name": "LayoutView",
       "align_content": null,
       "align_items": null,
       "align_self": null,
       "border": null,
       "bottom": null,
       "display": null,
       "flex": null,
       "flex_flow": null,
       "grid_area": null,
       "grid_auto_columns": null,
       "grid_auto_flow": null,
       "grid_auto_rows": null,
       "grid_column": null,
       "grid_gap": null,
       "grid_row": null,
       "grid_template_areas": null,
       "grid_template_columns": null,
       "grid_template_rows": null,
       "height": null,
       "justify_content": null,
       "justify_items": null,
       "left": null,
       "margin": null,
       "max_height": null,
       "max_width": null,
       "min_height": null,
       "min_width": null,
       "object_fit": null,
       "object_position": null,
       "order": null,
       "overflow": null,
       "overflow_x": null,
       "overflow_y": null,
       "padding": null,
       "right": null,
       "top": null,
       "visibility": null,
       "width": null
      }
     },
     "99698eb6c1b0491cbd8549be02bd6534": {
      "model_module": "@jupyter-widgets/controls",
      "model_module_version": "1.5.0",
      "model_name": "HTMLModel",
      "state": {
       "_dom_classes": [],
       "_model_module": "@jupyter-widgets/controls",
       "_model_module_version": "1.5.0",
       "_model_name": "HTMLModel",
       "_view_count": null,
       "_view_module": "@jupyter-widgets/controls",
       "_view_module_version": "1.5.0",
       "_view_name": "HTMLView",
       "description": "",
       "description_tooltip": null,
       "layout": "IPY_MODEL_7ee0060b85b24976bd811f089d30e77c",
       "placeholder": "​",
       "style": "IPY_MODEL_a59b83a616d440c09119970bce69e790",
       "value": "embedding: 100%"
      }
     },
     "9a4b776a73524d6a87581f623197d1ed": {
      "model_module": "@jupyter-widgets/base",
      "model_module_version": "1.2.0",
      "model_name": "LayoutModel",
      "state": {
       "_model_module": "@jupyter-widgets/base",
       "_model_module_version": "1.2.0",
       "_model_name": "LayoutModel",
       "_view_count": null,
       "_view_module": "@jupyter-widgets/base",
       "_view_module_version": "1.2.0",
       "_view_name": "LayoutView",
       "align_content": null,
       "align_items": null,
       "align_self": null,
       "border": null,
       "bottom": null,
       "display": null,
       "flex": null,
       "flex_flow": null,
       "grid_area": null,
       "grid_auto_columns": null,
       "grid_auto_flow": null,
       "grid_auto_rows": null,
       "grid_column": null,
       "grid_gap": null,
       "grid_row": null,
       "grid_template_areas": null,
       "grid_template_columns": null,
       "grid_template_rows": null,
       "height": null,
       "justify_content": null,
       "justify_items": null,
       "left": null,
       "margin": null,
       "max_height": null,
       "max_width": null,
       "min_height": null,
       "min_width": null,
       "object_fit": null,
       "object_position": null,
       "order": null,
       "overflow": null,
       "overflow_x": null,
       "overflow_y": null,
       "padding": null,
       "right": null,
       "top": null,
       "visibility": null,
       "width": null
      }
     },
     "9d532db913d54cb7b3902a59057b5248": {
      "model_module": "@jupyter-widgets/controls",
      "model_module_version": "1.5.0",
      "model_name": "HTMLModel",
      "state": {
       "_dom_classes": [],
       "_model_module": "@jupyter-widgets/controls",
       "_model_module_version": "1.5.0",
       "_model_name": "HTMLModel",
       "_view_count": null,
       "_view_module": "@jupyter-widgets/controls",
       "_view_module_version": "1.5.0",
       "_view_name": "HTMLView",
       "description": "",
       "description_tooltip": null,
       "layout": "IPY_MODEL_8d691563891645ca9e8abd54106dd27f",
       "placeholder": "​",
       "style": "IPY_MODEL_3153547173ca4ccfbea6c7cbd53a5d37",
       "value": " 157/157 [28:14&lt;00:00,  8.50s/batch]"
      }
     },
     "a001c88e3df24b1e9b0a5a14c84e8f1b": {
      "model_module": "@jupyter-widgets/controls",
      "model_module_version": "1.5.0",
      "model_name": "FloatProgressModel",
      "state": {
       "_dom_classes": [],
       "_model_module": "@jupyter-widgets/controls",
       "_model_module_version": "1.5.0",
       "_model_name": "FloatProgressModel",
       "_view_count": null,
       "_view_module": "@jupyter-widgets/controls",
       "_view_module_version": "1.5.0",
       "_view_name": "ProgressView",
       "bar_style": "success",
       "description": "",
       "description_tooltip": null,
       "layout": "IPY_MODEL_9a4b776a73524d6a87581f623197d1ed",
       "max": 624.0,
       "min": 0.0,
       "orientation": "horizontal",
       "style": "IPY_MODEL_6cc81b6bd2674f6db8028802cbae01c8",
       "value": 624.0
      }
     },
     "a21586f73b1642bebda1ab4aa8d97bd7": {
      "model_module": "@jupyter-widgets/controls",
      "model_module_version": "1.5.0",
      "model_name": "DescriptionStyleModel",
      "state": {
       "_model_module": "@jupyter-widgets/controls",
       "_model_module_version": "1.5.0",
       "_model_name": "DescriptionStyleModel",
       "_view_count": null,
       "_view_module": "@jupyter-widgets/base",
       "_view_module_version": "1.2.0",
       "_view_name": "StyleView",
       "description_width": ""
      }
     },
     "a2970a63bd3c40a6ab81534c31e56a04": {
      "model_module": "@jupyter-widgets/controls",
      "model_module_version": "1.5.0",
      "model_name": "FloatProgressModel",
      "state": {
       "_dom_classes": [],
       "_model_module": "@jupyter-widgets/controls",
       "_model_module_version": "1.5.0",
       "_model_name": "FloatProgressModel",
       "_view_count": null,
       "_view_module": "@jupyter-widgets/controls",
       "_view_module_version": "1.5.0",
       "_view_name": "ProgressView",
       "bar_style": "success",
       "description": "",
       "description_tooltip": null,
       "layout": "IPY_MODEL_a319814661274e2fbccc527508bb15cb",
       "max": 268943.0,
       "min": 0.0,
       "orientation": "horizontal",
       "style": "IPY_MODEL_baf5e41e3ea844c88b8f9cfdc1ff4b88",
       "value": 268943.0
      }
     },
     "a319814661274e2fbccc527508bb15cb": {
      "model_module": "@jupyter-widgets/base",
      "model_module_version": "1.2.0",
      "model_name": "LayoutModel",
      "state": {
       "_model_module": "@jupyter-widgets/base",
       "_model_module_version": "1.2.0",
       "_model_name": "LayoutModel",
       "_view_count": null,
       "_view_module": "@jupyter-widgets/base",
       "_view_module_version": "1.2.0",
       "_view_name": "LayoutView",
       "align_content": null,
       "align_items": null,
       "align_self": null,
       "border": null,
       "bottom": null,
       "display": null,
       "flex": null,
       "flex_flow": null,
       "grid_area": null,
       "grid_auto_columns": null,
       "grid_auto_flow": null,
       "grid_auto_rows": null,
       "grid_column": null,
       "grid_gap": null,
       "grid_row": null,
       "grid_template_areas": null,
       "grid_template_columns": null,
       "grid_template_rows": null,
       "height": null,
       "justify_content": null,
       "justify_items": null,
       "left": null,
       "margin": null,
       "max_height": null,
       "max_width": null,
       "min_height": null,
       "min_width": null,
       "object_fit": null,
       "object_position": null,
       "order": null,
       "overflow": null,
       "overflow_x": null,
       "overflow_y": null,
       "padding": null,
       "right": null,
       "top": null,
       "visibility": null,
       "width": null
      }
     },
     "a5017cdd7168440bacc9ec0fc9dfed7e": {
      "model_module": "@jupyter-widgets/controls",
      "model_module_version": "1.5.0",
      "model_name": "DescriptionStyleModel",
      "state": {
       "_model_module": "@jupyter-widgets/controls",
       "_model_module_version": "1.5.0",
       "_model_name": "DescriptionStyleModel",
       "_view_count": null,
       "_view_module": "@jupyter-widgets/base",
       "_view_module_version": "1.2.0",
       "_view_name": "StyleView",
       "description_width": ""
      }
     },
     "a59b83a616d440c09119970bce69e790": {
      "model_module": "@jupyter-widgets/controls",
      "model_module_version": "1.5.0",
      "model_name": "DescriptionStyleModel",
      "state": {
       "_model_module": "@jupyter-widgets/controls",
       "_model_module_version": "1.5.0",
       "_model_name": "DescriptionStyleModel",
       "_view_count": null,
       "_view_module": "@jupyter-widgets/base",
       "_view_module_version": "1.2.0",
       "_view_name": "StyleView",
       "description_width": ""
      }
     },
     "ab114a0cdefb4cd2ac8f5ff6097692ff": {
      "model_module": "@jupyter-widgets/base",
      "model_module_version": "1.2.0",
      "model_name": "LayoutModel",
      "state": {
       "_model_module": "@jupyter-widgets/base",
       "_model_module_version": "1.2.0",
       "_model_name": "LayoutModel",
       "_view_count": null,
       "_view_module": "@jupyter-widgets/base",
       "_view_module_version": "1.2.0",
       "_view_name": "LayoutView",
       "align_content": null,
       "align_items": null,
       "align_self": null,
       "border": null,
       "bottom": null,
       "display": null,
       "flex": null,
       "flex_flow": null,
       "grid_area": null,
       "grid_auto_columns": null,
       "grid_auto_flow": null,
       "grid_auto_rows": null,
       "grid_column": null,
       "grid_gap": null,
       "grid_row": null,
       "grid_template_areas": null,
       "grid_template_columns": null,
       "grid_template_rows": null,
       "height": null,
       "justify_content": null,
       "justify_items": null,
       "left": null,
       "margin": null,
       "max_height": null,
       "max_width": null,
       "min_height": null,
       "min_width": null,
       "object_fit": null,
       "object_position": null,
       "order": null,
       "overflow": null,
       "overflow_x": null,
       "overflow_y": null,
       "padding": null,
       "right": null,
       "top": null,
       "visibility": null,
       "width": null
      }
     },
     "ac59df66f7ba46968920fede3fca03be": {
      "model_module": "@jupyter-widgets/base",
      "model_module_version": "1.2.0",
      "model_name": "LayoutModel",
      "state": {
       "_model_module": "@jupyter-widgets/base",
       "_model_module_version": "1.2.0",
       "_model_name": "LayoutModel",
       "_view_count": null,
       "_view_module": "@jupyter-widgets/base",
       "_view_module_version": "1.2.0",
       "_view_name": "LayoutView",
       "align_content": null,
       "align_items": null,
       "align_self": null,
       "border": null,
       "bottom": null,
       "display": null,
       "flex": null,
       "flex_flow": null,
       "grid_area": null,
       "grid_auto_columns": null,
       "grid_auto_flow": null,
       "grid_auto_rows": null,
       "grid_column": null,
       "grid_gap": null,
       "grid_row": null,
       "grid_template_areas": null,
       "grid_template_columns": null,
       "grid_template_rows": null,
       "height": null,
       "justify_content": null,
       "justify_items": null,
       "left": null,
       "margin": null,
       "max_height": null,
       "max_width": null,
       "min_height": null,
       "min_width": null,
       "object_fit": null,
       "object_position": null,
       "order": null,
       "overflow": null,
       "overflow_x": null,
       "overflow_y": null,
       "padding": null,
       "right": null,
       "top": null,
       "visibility": null,
       "width": null
      }
     },
     "afdd9ddb294b48d9a862cae59e532586": {
      "model_module": "@jupyter-widgets/controls",
      "model_module_version": "1.5.0",
      "model_name": "ProgressStyleModel",
      "state": {
       "_model_module": "@jupyter-widgets/controls",
       "_model_module_version": "1.5.0",
       "_model_name": "ProgressStyleModel",
       "_view_count": null,
       "_view_module": "@jupyter-widgets/base",
       "_view_module_version": "1.2.0",
       "_view_name": "StyleView",
       "bar_color": null,
       "description_width": ""
      }
     },
     "b0a861ff68f947389a99ebcf2e0c8d1c": {
      "model_module": "@jupyter-widgets/controls",
      "model_module_version": "1.5.0",
      "model_name": "FloatProgressModel",
      "state": {
       "_dom_classes": [],
       "_model_module": "@jupyter-widgets/controls",
       "_model_module_version": "1.5.0",
       "_model_name": "FloatProgressModel",
       "_view_count": null,
       "_view_module": "@jupyter-widgets/controls",
       "_view_module_version": "1.5.0",
       "_view_name": "ProgressView",
       "bar_style": "success",
       "description": "",
       "description_tooltip": null,
       "layout": "IPY_MODEL_20031034970b4ffaa16411b7eede1be3",
       "max": 7.0,
       "min": 0.0,
       "orientation": "horizontal",
       "style": "IPY_MODEL_afdd9ddb294b48d9a862cae59e532586",
       "value": 7.0
      }
     },
     "b9e1dc9c9b3c429a8ba1a6bd92b18007": {
      "model_module": "@jupyter-widgets/controls",
      "model_module_version": "1.5.0",
      "model_name": "HTMLModel",
      "state": {
       "_dom_classes": [],
       "_model_module": "@jupyter-widgets/controls",
       "_model_module_version": "1.5.0",
       "_model_name": "HTMLModel",
       "_view_count": null,
       "_view_module": "@jupyter-widgets/controls",
       "_view_module_version": "1.5.0",
       "_view_name": "HTMLView",
       "description": "",
       "description_tooltip": null,
       "layout": "IPY_MODEL_7f395d62baa74717bf78f40a127d5e16",
       "placeholder": "​",
       "style": "IPY_MODEL_5cef2e8795ab4ecc95cf3f4030dfcfa5",
       "value": "config.json: 100%"
      }
     },
     "baf5e41e3ea844c88b8f9cfdc1ff4b88": {
      "model_module": "@jupyter-widgets/controls",
      "model_module_version": "1.5.0",
      "model_name": "ProgressStyleModel",
      "state": {
       "_model_module": "@jupyter-widgets/controls",
       "_model_module_version": "1.5.0",
       "_model_name": "ProgressStyleModel",
       "_view_count": null,
       "_view_module": "@jupyter-widgets/base",
       "_view_module_version": "1.2.0",
       "_view_name": "StyleView",
       "bar_color": null,
       "description_width": ""
      }
     },
     "c49594a166f945e5a4077f84b5a358ae": {
      "model_module": "@jupyter-widgets/controls",
      "model_module_version": "1.5.0",
      "model_name": "DescriptionStyleModel",
      "state": {
       "_model_module": "@jupyter-widgets/controls",
       "_model_module_version": "1.5.0",
       "_model_name": "DescriptionStyleModel",
       "_view_count": null,
       "_view_module": "@jupyter-widgets/base",
       "_view_module_version": "1.2.0",
       "_view_name": "StyleView",
       "description_width": ""
      }
     },
     "c51453c0ab5e401e9567b8308fa4decf": {
      "model_module": "@jupyter-widgets/base",
      "model_module_version": "1.2.0",
      "model_name": "LayoutModel",
      "state": {
       "_model_module": "@jupyter-widgets/base",
       "_model_module_version": "1.2.0",
       "_model_name": "LayoutModel",
       "_view_count": null,
       "_view_module": "@jupyter-widgets/base",
       "_view_module_version": "1.2.0",
       "_view_name": "LayoutView",
       "align_content": null,
       "align_items": null,
       "align_self": null,
       "border": null,
       "bottom": null,
       "display": null,
       "flex": null,
       "flex_flow": null,
       "grid_area": null,
       "grid_auto_columns": null,
       "grid_auto_flow": null,
       "grid_auto_rows": null,
       "grid_column": null,
       "grid_gap": null,
       "grid_row": null,
       "grid_template_areas": null,
       "grid_template_columns": null,
       "grid_template_rows": null,
       "height": null,
       "justify_content": null,
       "justify_items": null,
       "left": null,
       "margin": null,
       "max_height": null,
       "max_width": null,
       "min_height": null,
       "min_width": null,
       "object_fit": null,
       "object_position": null,
       "order": null,
       "overflow": null,
       "overflow_x": null,
       "overflow_y": null,
       "padding": null,
       "right": null,
       "top": null,
       "visibility": null,
       "width": null
      }
     },
     "c9e9cb05a8d44b47afe75211e9375e92": {
      "model_module": "@jupyter-widgets/controls",
      "model_module_version": "1.5.0",
      "model_name": "FloatProgressModel",
      "state": {
       "_dom_classes": [],
       "_model_module": "@jupyter-widgets/controls",
       "_model_module_version": "1.5.0",
       "_model_name": "FloatProgressModel",
       "_view_count": null,
       "_view_module": "@jupyter-widgets/controls",
       "_view_module_version": "1.5.0",
       "_view_name": "ProgressView",
       "bar_style": "success",
       "description": "",
       "description_tooltip": null,
       "layout": "IPY_MODEL_53e649347e23495da25485ec331180f8",
       "max": 109540.0,
       "min": 0.0,
       "orientation": "horizontal",
       "style": "IPY_MODEL_f5272ffbe64d470486f431296c2f23f9",
       "value": 109540.0
      }
     },
     "cc2affaec7e64e878fb33932327df1c9": {
      "model_module": "@jupyter-widgets/controls",
      "model_module_version": "1.5.0",
      "model_name": "HBoxModel",
      "state": {
       "_dom_classes": [],
       "_model_module": "@jupyter-widgets/controls",
       "_model_module_version": "1.5.0",
       "_model_name": "HBoxModel",
       "_view_count": null,
       "_view_module": "@jupyter-widgets/controls",
       "_view_module_version": "1.5.0",
       "_view_name": "HBoxView",
       "box_style": "",
       "children": [
        "IPY_MODEL_59233973c8f648e8abcb4148bc1eb762",
        "IPY_MODEL_f0d452faedc54ed2943ad3a80c5a8f48",
        "IPY_MODEL_3e171a42069345b28e85c3e26818ee15"
       ],
       "layout": "IPY_MODEL_8fc7a3073ec5493b9b7a9bb276e1bf46"
      }
     },
     "d4b37746fe664f4d81154cd31c22e5c6": {
      "model_module": "@jupyter-widgets/controls",
      "model_module_version": "1.5.0",
      "model_name": "ProgressStyleModel",
      "state": {
       "_model_module": "@jupyter-widgets/controls",
       "_model_module_version": "1.5.0",
       "_model_name": "ProgressStyleModel",
       "_view_count": null,
       "_view_module": "@jupyter-widgets/base",
       "_view_module_version": "1.2.0",
       "_view_name": "StyleView",
       "bar_color": null,
       "description_width": ""
      }
     },
     "d9404f2dacc24a7ba5c9171537def904": {
      "model_module": "@jupyter-widgets/controls",
      "model_module_version": "1.5.0",
      "model_name": "DescriptionStyleModel",
      "state": {
       "_model_module": "@jupyter-widgets/controls",
       "_model_module_version": "1.5.0",
       "_model_name": "DescriptionStyleModel",
       "_view_count": null,
       "_view_module": "@jupyter-widgets/base",
       "_view_module_version": "1.2.0",
       "_view_name": "StyleView",
       "description_width": ""
      }
     },
     "db95eceeb698439398855529952ae047": {
      "model_module": "@jupyter-widgets/controls",
      "model_module_version": "1.5.0",
      "model_name": "HTMLModel",
      "state": {
       "_dom_classes": [],
       "_model_module": "@jupyter-widgets/controls",
       "_model_module_version": "1.5.0",
       "_model_name": "HTMLModel",
       "_view_count": null,
       "_view_module": "@jupyter-widgets/controls",
       "_view_module_version": "1.5.0",
       "_view_name": "HTMLView",
       "description": "",
       "description_tooltip": null,
       "layout": "IPY_MODEL_397db36365c248c7b6667715e2d63efd",
       "placeholder": "​",
       "style": "IPY_MODEL_40fdf4457b7743e795d66fd62a351944",
       "value": " 49.0/49.0 [00:00&lt;00:00, 4.21kB/s]"
      }
     },
     "dc183237d1f04e0a95ebef1a9cbf39f1": {
      "model_module": "@jupyter-widgets/controls",
      "model_module_version": "1.5.0",
      "model_name": "HTMLModel",
      "state": {
       "_dom_classes": [],
       "_model_module": "@jupyter-widgets/controls",
       "_model_module_version": "1.5.0",
       "_model_name": "HTMLModel",
       "_view_count": null,
       "_view_module": "@jupyter-widgets/controls",
       "_view_module_version": "1.5.0",
       "_view_name": "HTMLView",
       "description": "",
       "description_tooltip": null,
       "layout": "IPY_MODEL_6e30bfb7e3324c8c853f4fb4c3c7eb6d",
       "placeholder": "​",
       "style": "IPY_MODEL_a5017cdd7168440bacc9ec0fc9dfed7e",
       "value": "tokenizer.json: 100%"
      }
     },
     "e302d5aa74b8467da3c10ecd723643c3": {
      "model_module": "@jupyter-widgets/base",
      "model_module_version": "1.2.0",
      "model_name": "LayoutModel",
      "state": {
       "_model_module": "@jupyter-widgets/base",
       "_model_module_version": "1.2.0",
       "_model_name": "LayoutModel",
       "_view_count": null,
       "_view_module": "@jupyter-widgets/base",
       "_view_module_version": "1.2.0",
       "_view_name": "LayoutView",
       "align_content": null,
       "align_items": null,
       "align_self": null,
       "border": null,
       "bottom": null,
       "display": null,
       "flex": null,
       "flex_flow": null,
       "grid_area": null,
       "grid_auto_columns": null,
       "grid_auto_flow": null,
       "grid_auto_rows": null,
       "grid_column": null,
       "grid_gap": null,
       "grid_row": null,
       "grid_template_areas": null,
       "grid_template_columns": null,
       "grid_template_rows": null,
       "height": null,
       "justify_content": null,
       "justify_items": null,
       "left": null,
       "margin": null,
       "max_height": null,
       "max_width": null,
       "min_height": null,
       "min_width": null,
       "object_fit": null,
       "object_position": null,
       "order": null,
       "overflow": null,
       "overflow_x": null,
       "overflow_y": null,
       "padding": null,
       "right": null,
       "top": null,
       "visibility": null,
       "width": null
      }
     },
     "e8dfae0880934916a643a562bdfa561b": {
      "model_module": "@jupyter-widgets/base",
      "model_module_version": "1.2.0",
      "model_name": "LayoutModel",
      "state": {
       "_model_module": "@jupyter-widgets/base",
       "_model_module_version": "1.2.0",
       "_model_name": "LayoutModel",
       "_view_count": null,
       "_view_module": "@jupyter-widgets/base",
       "_view_module_version": "1.2.0",
       "_view_name": "LayoutView",
       "align_content": null,
       "align_items": null,
       "align_self": null,
       "border": null,
       "bottom": null,
       "display": null,
       "flex": null,
       "flex_flow": null,
       "grid_area": null,
       "grid_auto_columns": null,
       "grid_auto_flow": null,
       "grid_auto_rows": null,
       "grid_column": null,
       "grid_gap": null,
       "grid_row": null,
       "grid_template_areas": null,
       "grid_template_columns": null,
       "grid_template_rows": null,
       "height": null,
       "justify_content": null,
       "justify_items": null,
       "left": null,
       "margin": null,
       "max_height": null,
       "max_width": null,
       "min_height": null,
       "min_width": null,
       "object_fit": null,
       "object_position": null,
       "order": null,
       "overflow": null,
       "overflow_x": null,
       "overflow_y": null,
       "padding": null,
       "right": null,
       "top": null,
       "visibility": null,
       "width": null
      }
     },
     "ea8f97896ee7468f932de09ac6d4d7d3": {
      "model_module": "@jupyter-widgets/controls",
      "model_module_version": "1.5.0",
      "model_name": "HTMLModel",
      "state": {
       "_dom_classes": [],
       "_model_module": "@jupyter-widgets/controls",
       "_model_module_version": "1.5.0",
       "_model_name": "HTMLModel",
       "_view_count": null,
       "_view_module": "@jupyter-widgets/controls",
       "_view_module_version": "1.5.0",
       "_view_name": "HTMLView",
       "description": "",
       "description_tooltip": null,
       "layout": "IPY_MODEL_07d9a603acd54a18b1819e8ae84b3069",
       "placeholder": "​",
       "style": "IPY_MODEL_1275ef420888405f865d90221823350a",
       "value": " 624/624 [00:00&lt;00:00, 54.3kB/s]"
      }
     },
     "eb99a50612a84723a25d39fc9a2df6fa": {
      "model_module": "@jupyter-widgets/base",
      "model_module_version": "1.2.0",
      "model_name": "LayoutModel",
      "state": {
       "_model_module": "@jupyter-widgets/base",
       "_model_module_version": "1.2.0",
       "_model_name": "LayoutModel",
       "_view_count": null,
       "_view_module": "@jupyter-widgets/base",
       "_view_module_version": "1.2.0",
       "_view_name": "LayoutView",
       "align_content": null,
       "align_items": null,
       "align_self": null,
       "border": null,
       "bottom": null,
       "display": null,
       "flex": null,
       "flex_flow": null,
       "grid_area": null,
       "grid_auto_columns": null,
       "grid_auto_flow": null,
       "grid_auto_rows": null,
       "grid_column": null,
       "grid_gap": null,
       "grid_row": null,
       "grid_template_areas": null,
       "grid_template_columns": null,
       "grid_template_rows": null,
       "height": null,
       "justify_content": null,
       "justify_items": null,
       "left": null,
       "margin": null,
       "max_height": null,
       "max_width": null,
       "min_height": null,
       "min_width": null,
       "object_fit": null,
       "object_position": null,
       "order": null,
       "overflow": null,
       "overflow_x": null,
       "overflow_y": null,
       "padding": null,
       "right": null,
       "top": null,
       "visibility": null,
       "width": null
      }
     },
     "f00d9f697c3f4e1ebff39a3086abd9c2": {
      "model_module": "@jupyter-widgets/controls",
      "model_module_version": "1.5.0",
      "model_name": "HBoxModel",
      "state": {
       "_dom_classes": [],
       "_model_module": "@jupyter-widgets/controls",
       "_model_module_version": "1.5.0",
       "_model_name": "HBoxModel",
       "_view_count": null,
       "_view_module": "@jupyter-widgets/controls",
       "_view_module_version": "1.5.0",
       "_view_name": "HBoxView",
       "box_style": "",
       "children": [
        "IPY_MODEL_7d9ae576c32b4db58ee974f50a964112",
        "IPY_MODEL_b0a861ff68f947389a99ebcf2e0c8d1c",
        "IPY_MODEL_6fb1ea5b3c654fb8bffec134ac30f69e"
       ],
       "layout": "IPY_MODEL_ab114a0cdefb4cd2ac8f5ff6097692ff"
      }
     },
     "f0d452faedc54ed2943ad3a80c5a8f48": {
      "model_module": "@jupyter-widgets/controls",
      "model_module_version": "1.5.0",
      "model_name": "FloatProgressModel",
      "state": {
       "_dom_classes": [],
       "_model_module": "@jupyter-widgets/controls",
       "_model_module_version": "1.5.0",
       "_model_name": "FloatProgressModel",
       "_view_count": null,
       "_view_module": "@jupyter-widgets/controls",
       "_view_module_version": "1.5.0",
       "_view_name": "ProgressView",
       "bar_style": "success",
       "description": "",
       "description_tooltip": null,
       "layout": "IPY_MODEL_1abfe82fffc541d8b563416af260b1e4",
       "max": 411553788.0,
       "min": 0.0,
       "orientation": "horizontal",
       "style": "IPY_MODEL_93525a0070014a268dddaf538d74a4fd",
       "value": 411553788.0
      }
     },
     "f2bcabf210174c09bf21f938b8f8a4cc": {
      "model_module": "@jupyter-widgets/controls",
      "model_module_version": "1.5.0",
      "model_name": "HBoxModel",
      "state": {
       "_dom_classes": [],
       "_model_module": "@jupyter-widgets/controls",
       "_model_module_version": "1.5.0",
       "_model_name": "HBoxModel",
       "_view_count": null,
       "_view_module": "@jupyter-widgets/controls",
       "_view_module_version": "1.5.0",
       "_view_name": "HBoxView",
       "box_style": "",
       "children": [
        "IPY_MODEL_5d96ecd334164ef1aefd7ddeeab98a8a",
        "IPY_MODEL_c9e9cb05a8d44b47afe75211e9375e92",
        "IPY_MODEL_90bb9d54dc9b4b309100f213ae0342c5"
       ],
       "layout": "IPY_MODEL_ac59df66f7ba46968920fede3fca03be"
      }
     },
     "f5272ffbe64d470486f431296c2f23f9": {
      "model_module": "@jupyter-widgets/controls",
      "model_module_version": "1.5.0",
      "model_name": "ProgressStyleModel",
      "state": {
       "_model_module": "@jupyter-widgets/controls",
       "_model_module_version": "1.5.0",
       "_model_name": "ProgressStyleModel",
       "_view_count": null,
       "_view_module": "@jupyter-widgets/base",
       "_view_module_version": "1.2.0",
       "_view_name": "StyleView",
       "bar_color": null,
       "description_width": ""
      }
     }
    },
    "version_major": 2,
    "version_minor": 0
   }
  }
 },
 "nbformat": 4,
 "nbformat_minor": 5
}
