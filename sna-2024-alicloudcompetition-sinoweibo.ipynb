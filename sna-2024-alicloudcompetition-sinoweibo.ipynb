{
 "cells": [
  {
   "cell_type": "markdown",
   "id": "4c9aa0ca",
   "metadata": {
    "papermill": {
     "duration": 0.015582,
     "end_time": "2024-05-22T21:25:05.097458",
     "exception": false,
     "start_time": "2024-05-22T21:25:05.081876",
     "status": "completed"
    },
    "tags": []
   },
   "source": [
    "# Sina Weibo prediction"
   ]
  },
  {
   "cell_type": "code",
   "execution_count": 1,
   "id": "c1481a88",
   "metadata": {
    "execution": {
     "iopub.execute_input": "2024-05-22T21:25:05.129578Z",
     "iopub.status.busy": "2024-05-22T21:25:05.129084Z",
     "iopub.status.idle": "2024-05-22T21:25:19.400976Z",
     "shell.execute_reply": "2024-05-22T21:25:19.399654Z"
    },
    "papermill": {
     "duration": 14.290452,
     "end_time": "2024-05-22T21:25:19.403163",
     "exception": false,
     "start_time": "2024-05-22T21:25:05.112711",
     "status": "completed"
    },
    "tags": []
   },
   "outputs": [
    {
     "name": "stdout",
     "output_type": "stream",
     "text": [
      "Collecting autograd\r\n",
      "  Downloading autograd-1.6.2-py3-none-any.whl.metadata (706 bytes)\r\n",
      "Requirement already satisfied: numpy>=1.12 in /opt/conda/lib/python3.10/site-packages (from autograd) (1.26.4)\r\n",
      "Requirement already satisfied: future>=0.15.2 in /opt/conda/lib/python3.10/site-packages (from autograd) (1.0.0)\r\n",
      "Downloading autograd-1.6.2-py3-none-any.whl (49 kB)\r\n",
      "\u001b[2K   \u001b[90m━━━━━━━━━━━━━━━━━━━━━━━━━━━━━━━━━━━━━━━━\u001b[0m \u001b[32m49.3/49.3 kB\u001b[0m \u001b[31m799.0 kB/s\u001b[0m eta \u001b[36m0:00:00\u001b[0m\r\n",
      "\u001b[?25hInstalling collected packages: autograd\r\n",
      "Successfully installed autograd-1.6.2\r\n",
      "Note: you may need to restart the kernel to use updated packages.\n"
     ]
    }
   ],
   "source": [
    "%pip install autograd"
   ]
  },
  {
   "cell_type": "code",
   "execution_count": 2,
   "id": "e2c5c6ee",
   "metadata": {
    "execution": {
     "iopub.execute_input": "2024-05-22T21:25:19.437017Z",
     "iopub.status.busy": "2024-05-22T21:25:19.436697Z",
     "iopub.status.idle": "2024-05-22T21:26:00.535107Z",
     "shell.execute_reply": "2024-05-22T21:26:00.533903Z"
    },
    "papermill": {
     "duration": 41.1343,
     "end_time": "2024-05-22T21:26:00.554225",
     "exception": false,
     "start_time": "2024-05-22T21:25:19.419925",
     "status": "completed"
    },
    "tags": []
   },
   "outputs": [
    {
     "name": "stderr",
     "output_type": "stream",
     "text": [
      "2024-05-22 21:25:42.682810: E external/local_xla/xla/stream_executor/cuda/cuda_dnn.cc:9261] Unable to register cuDNN factory: Attempting to register factory for plugin cuDNN when one has already been registered\n",
      "2024-05-22 21:25:42.682921: E external/local_xla/xla/stream_executor/cuda/cuda_fft.cc:607] Unable to register cuFFT factory: Attempting to register factory for plugin cuFFT when one has already been registered\n",
      "2024-05-22 21:25:42.861518: E external/local_xla/xla/stream_executor/cuda/cuda_blas.cc:1515] Unable to register cuBLAS factory: Attempting to register factory for plugin cuBLAS when one has already been registered\n"
     ]
    },
    {
     "name": "stdout",
     "output_type": "stream",
     "text": [
      "GPU available\n"
     ]
    }
   ],
   "source": [
    "import gc\n",
    "import os\n",
    "import torch\n",
    "#import cuml\n",
    "import umap\n",
    "import warnings\n",
    "from joblib import Memory\n",
    "from jieba import analyse as jbanalyse\n",
    "import numpy as np\n",
    "import pandas as pd\n",
    "import seaborn as sns\n",
    "import functools as fn\n",
    "import matplotlib.pyplot as plt\n",
    "import matplotlib.ticker as mtick\n",
    "import autograd.numpy as anp\n",
    "\n",
    "from sklearn.feature_extraction.text import TfidfVectorizer\n",
    "from sklearn.metrics import make_scorer\n",
    "from numpy.typing import ArrayLike\n",
    "from sklearn.base import BaseEstimator, TransformerMixin, RegressorMixin\n",
    "from sklearn.model_selection import TimeSeriesSplit\n",
    "from sklearn.model_selection import cross_val_score\n",
    "from sklearn.dummy import DummyRegressor\n",
    "from sklearn.preprocessing import OneHotEncoder, OrdinalEncoder\n",
    "from sklearn.compose import make_column_selector, make_column_transformer\n",
    "from sklearn.pipeline import make_pipeline\n",
    "from sklearn.preprocessing import FunctionTransformer\n",
    "from sklearn.multioutput import RegressorChain, ClassifierChain\n",
    "from transformers import AutoTokenizer, AutoModel\n",
    "from torch.utils.data import DataLoader, Dataset\n",
    "from torch import nn\n",
    "from tqdm.notebook import tqdm\n",
    "from catboost import CatBoostRegressor, CatBoostClassifier\n",
    "from catboost.utils import get_gpu_device_count\n",
    "from autograd import grad\n",
    "from lightgbm import LGBMRegressor\n",
    "\n",
    "RANDOM_STATE=8402\n",
    "RNG=np.random.default_rng(seed=RANDOM_STATE)\n",
    "CV_SPLITS=5\n",
    "N_CV=1_000_000\n",
    "BATCH_SIZE=(256+64)*2 # for 2 gpu approx 12GB mem-usage each\n",
    "CACHE_DIR=Memory(location='joblib_cache', verbose=0)\n",
    "\n",
    "warnings.filterwarnings(\"ignore\", \"use_inf_as_na\")\n",
    "\n",
    "def gpu_or_else(gpu, no_gpu):\n",
    "    return gpu if torch.cuda.is_available() else no_gpu\n",
    "print(gpu_or_else('GPU available', 'No GPU available using CPU'))"
   ]
  },
  {
   "cell_type": "markdown",
   "id": "402aacac",
   "metadata": {
    "papermill": {
     "duration": 0.015618,
     "end_time": "2024-05-22T21:26:00.585840",
     "exception": false,
     "start_time": "2024-05-22T21:26:00.570222",
     "status": "completed"
    },
    "tags": []
   },
   "source": [
    "Defining the loss function"
   ]
  },
  {
   "cell_type": "code",
   "execution_count": 3,
   "id": "94fe1629",
   "metadata": {
    "execution": {
     "iopub.execute_input": "2024-05-22T21:26:00.620897Z",
     "iopub.status.busy": "2024-05-22T21:26:00.620056Z",
     "iopub.status.idle": "2024-05-22T21:26:00.631275Z",
     "shell.execute_reply": "2024-05-22T21:26:00.630437Z"
    },
    "papermill": {
     "duration": 0.031397,
     "end_time": "2024-05-22T21:26:00.633639",
     "exception": false,
     "start_time": "2024-05-22T21:26:00.602242",
     "status": "completed"
    },
    "tags": []
   },
   "outputs": [],
   "source": [
    "def mixed_loss(y_true: ArrayLike, y_pred: ArrayLike, bias=[5,3,3], scaling=[.5,.25,.25], thresold=.8):\n",
    "    precision = 1 - anp.sum((anp.abs(y_pred-y_true)/(y_true + bias)) * scaling, axis=1)\n",
    "    sgn_precision = precision > thresold\n",
    "    count_row_sum = anp.sum(anp.clip(y_true, a_min=None, a_max=100), axis=1) + 1\n",
    "    return anp.sum(count_row_sum * sgn_precision) / anp.sum(count_row_sum)\n",
    "\n",
    "def mixed_loss_objective(y_true, y_pred, weights, loss_f=mixed_loss):\n",
    "    y_pred = anp.array(y_pred)\n",
    "    y_true = anp.array(y_true)\n",
    "    grad_loss = grad(loss_f, 1)\n",
    "    gradients = grad_loss(y_true, y_pred)\n",
    "    hessians = -anp.ones_like(gradients)\n",
    "\n",
    "    if weights is not None:\n",
    "        weights = anp.array(weights)\n",
    "        gradients *= weights\n",
    "        hessians *= weights\n",
    "\n",
    "    return gradients, hessians\n",
    "        \n",
    "\n",
    "mixed_scorer = make_scorer(mixed_loss, greater_is_better=True)"
   ]
  },
  {
   "cell_type": "markdown",
   "id": "ace208e5",
   "metadata": {
    "papermill": {
     "duration": 0.016651,
     "end_time": "2024-05-22T21:26:00.671890",
     "exception": false,
     "start_time": "2024-05-22T21:26:00.655239",
     "status": "completed"
    },
    "tags": []
   },
   "source": [
    "## Dataset preperation"
   ]
  },
  {
   "cell_type": "code",
   "execution_count": 4,
   "id": "fc1f1a7e",
   "metadata": {
    "execution": {
     "iopub.execute_input": "2024-05-22T21:26:00.707157Z",
     "iopub.status.busy": "2024-05-22T21:26:00.706317Z",
     "iopub.status.idle": "2024-05-22T21:26:00.712851Z",
     "shell.execute_reply": "2024-05-22T21:26:00.711890Z"
    },
    "papermill": {
     "duration": 0.02659,
     "end_time": "2024-05-22T21:26:00.715148",
     "exception": false,
     "start_time": "2024-05-22T21:26:00.688558",
     "status": "completed"
    },
    "tags": []
   },
   "outputs": [],
   "source": [
    "def file_to_df(filename, col_names=['uid', 'mid', 'ts', 'forward_n', 'comment_n', 'like_n', 'content']):\n",
    "    \"\"\"Helper to parse data. Contains hardcoded logic\"\"\"\n",
    "    df = pd.read_csv(filename, sep='\\t', names=col_names)\n",
    "    if 'ts' in col_names:\n",
    "        df['ts'] = pd.to_datetime(df['ts'])\n",
    "    return df"
   ]
  },
  {
   "cell_type": "code",
   "execution_count": 5,
   "id": "bd5489d3",
   "metadata": {
    "execution": {
     "iopub.execute_input": "2024-05-22T21:26:00.749976Z",
     "iopub.status.busy": "2024-05-22T21:26:00.749135Z",
     "iopub.status.idle": "2024-05-22T21:26:15.648182Z",
     "shell.execute_reply": "2024-05-22T21:26:15.647400Z"
    },
    "papermill": {
     "duration": 14.918942,
     "end_time": "2024-05-22T21:26:15.650547",
     "exception": false,
     "start_time": "2024-05-22T21:26:00.731605",
     "status": "completed"
    },
    "tags": []
   },
   "outputs": [],
   "source": [
    "Xy_tv = file_to_df('/kaggle/input/sna-weibo-data/Weibo Data/weibo_train_data(new)/weibo_train_data.txt')\n",
    "Xy_test = file_to_df(\n",
    "    '/kaggle/input/sna-weibo-data/Weibo Data/weibo_predict_data(new)/weibo_predict_data.txt',\n",
    "    col_names=['uid', 'mid', 'ts', 'content']\n",
    ")"
   ]
  },
  {
   "cell_type": "code",
   "execution_count": 6,
   "id": "43ad4d4a",
   "metadata": {
    "execution": {
     "iopub.execute_input": "2024-05-22T21:26:15.683470Z",
     "iopub.status.busy": "2024-05-22T21:26:15.683134Z",
     "iopub.status.idle": "2024-05-22T21:26:16.186078Z",
     "shell.execute_reply": "2024-05-22T21:26:16.185159Z"
    },
    "papermill": {
     "duration": 0.521674,
     "end_time": "2024-05-22T21:26:16.188217",
     "exception": false,
     "start_time": "2024-05-22T21:26:15.666543",
     "status": "completed"
    },
    "tags": []
   },
   "outputs": [
    {
     "data": {
      "text/plain": [
       "(uid          0\n",
       " mid          0\n",
       " ts           0\n",
       " forward_n    0\n",
       " comment_n    0\n",
       " like_n       0\n",
       " content      3\n",
       " dtype: int64,\n",
       " uid        0\n",
       " mid        0\n",
       " ts         0\n",
       " content    1\n",
       " dtype: int64)"
      ]
     },
     "execution_count": 6,
     "metadata": {},
     "output_type": "execute_result"
    }
   ],
   "source": [
    "Xy_tv.isna().sum(), Xy_test.isna().sum()"
   ]
  },
  {
   "cell_type": "code",
   "execution_count": 7,
   "id": "1a458ab7",
   "metadata": {
    "execution": {
     "iopub.execute_input": "2024-05-22T21:26:16.222573Z",
     "iopub.status.busy": "2024-05-22T21:26:16.221952Z",
     "iopub.status.idle": "2024-05-22T21:26:17.555063Z",
     "shell.execute_reply": "2024-05-22T21:26:17.554289Z"
    },
    "papermill": {
     "duration": 1.352689,
     "end_time": "2024-05-22T21:26:17.557366",
     "exception": false,
     "start_time": "2024-05-22T21:26:16.204677",
     "status": "completed"
    },
    "tags": []
   },
   "outputs": [],
   "source": [
    "X_tv = Xy_tv.dropna().drop(['forward_n', 'comment_n', 'like_n'], axis=1)\n",
    "y_tv = Xy_tv.dropna()[['forward_n', 'comment_n', 'like_n']].replace([np.inf, -np.inf], np.nan)\n",
    "X_test = Xy_test.dropna()"
   ]
  },
  {
   "cell_type": "code",
   "execution_count": 8,
   "id": "d582c008",
   "metadata": {
    "execution": {
     "iopub.execute_input": "2024-05-22T21:26:17.590742Z",
     "iopub.status.busy": "2024-05-22T21:26:17.590372Z",
     "iopub.status.idle": "2024-05-22T21:26:17.596615Z",
     "shell.execute_reply": "2024-05-22T21:26:17.595649Z"
    },
    "papermill": {
     "duration": 0.02487,
     "end_time": "2024-05-22T21:26:17.598523",
     "exception": false,
     "start_time": "2024-05-22T21:26:17.573653",
     "status": "completed"
    },
    "tags": []
   },
   "outputs": [
    {
     "data": {
      "text/plain": [
       "((1225088, 7), (1225085, 4), (1225085, 3))"
      ]
     },
     "execution_count": 8,
     "metadata": {},
     "output_type": "execute_result"
    }
   ],
   "source": [
    "Xy_tv.shape, X_tv.shape, y_tv.shape"
   ]
  },
  {
   "cell_type": "code",
   "execution_count": 9,
   "id": "2205332a",
   "metadata": {
    "execution": {
     "iopub.execute_input": "2024-05-22T21:26:17.632948Z",
     "iopub.status.busy": "2024-05-22T21:26:17.632660Z",
     "iopub.status.idle": "2024-05-22T21:26:17.649160Z",
     "shell.execute_reply": "2024-05-22T21:26:17.648212Z"
    },
    "papermill": {
     "duration": 0.036076,
     "end_time": "2024-05-22T21:26:17.651303",
     "exception": false,
     "start_time": "2024-05-22T21:26:17.615227",
     "status": "completed"
    },
    "tags": []
   },
   "outputs": [
    {
     "data": {
      "text/html": [
       "<div>\n",
       "<style scoped>\n",
       "    .dataframe tbody tr th:only-of-type {\n",
       "        vertical-align: middle;\n",
       "    }\n",
       "\n",
       "    .dataframe tbody tr th {\n",
       "        vertical-align: top;\n",
       "    }\n",
       "\n",
       "    .dataframe thead th {\n",
       "        text-align: right;\n",
       "    }\n",
       "</style>\n",
       "<table border=\"1\" class=\"dataframe\">\n",
       "  <thead>\n",
       "    <tr style=\"text-align: right;\">\n",
       "      <th></th>\n",
       "      <th>uid</th>\n",
       "      <th>mid</th>\n",
       "      <th>ts</th>\n",
       "      <th>content</th>\n",
       "    </tr>\n",
       "  </thead>\n",
       "  <tbody>\n",
       "    <tr>\n",
       "      <th>0</th>\n",
       "      <td>d38e9bed5d98110dc2489d0d1cac3c2a</td>\n",
       "      <td>7d45833d9865727a88b960b0603c19f6</td>\n",
       "      <td>2015-02-23 17:41:29</td>\n",
       "      <td>丽江旅游(sz002033)#股票##炒股##财经##理财##投资#推荐包赢股，盈利对半分成...</td>\n",
       "    </tr>\n",
       "    <tr>\n",
       "      <th>1</th>\n",
       "      <td>fa13974743d3fe6ff40d21b872325e9e</td>\n",
       "      <td>8169f1d45051e08ef213bf1106b1225d</td>\n",
       "      <td>2015-02-14 12:49:58</td>\n",
       "      <td>#丁辰灵的红包#挣钱是一种能力，抢红包拼的是技术。我抢到了丁辰灵 和@阚洪岩 一起发出的现金...</td>\n",
       "    </tr>\n",
       "    <tr>\n",
       "      <th>2</th>\n",
       "      <td>da534fe87e7a52777bee5c30573ed5fd</td>\n",
       "      <td>68cd0258c31c2c525f94febea2d9523b</td>\n",
       "      <td>2015-03-31 13:58:06</td>\n",
       "      <td>淘宝网这些傻逼。。。气的劳资有火没地儿发~尼玛，你们都瞎了</td>\n",
       "    </tr>\n",
       "    <tr>\n",
       "      <th>3</th>\n",
       "      <td>e06a22b7e065e559a1f0bf7841a85c51</td>\n",
       "      <td>00b9f86b4915aedb7db943c54fd19d59</td>\n",
       "      <td>2015-06-11 20:39:57</td>\n",
       "      <td>看点不能说的，你们都懂[笑cry]</td>\n",
       "    </tr>\n",
       "    <tr>\n",
       "      <th>4</th>\n",
       "      <td>f9828598f9664d4e347ef2048ce17734</td>\n",
       "      <td>c7f6f66044c0c5a3330e2c5371be6824</td>\n",
       "      <td>2015-03-10 18:02:38</td>\n",
       "      <td>111多张</td>\n",
       "    </tr>\n",
       "  </tbody>\n",
       "</table>\n",
       "</div>"
      ],
      "text/plain": [
       "                                uid                               mid  \\\n",
       "0  d38e9bed5d98110dc2489d0d1cac3c2a  7d45833d9865727a88b960b0603c19f6   \n",
       "1  fa13974743d3fe6ff40d21b872325e9e  8169f1d45051e08ef213bf1106b1225d   \n",
       "2  da534fe87e7a52777bee5c30573ed5fd  68cd0258c31c2c525f94febea2d9523b   \n",
       "3  e06a22b7e065e559a1f0bf7841a85c51  00b9f86b4915aedb7db943c54fd19d59   \n",
       "4  f9828598f9664d4e347ef2048ce17734  c7f6f66044c0c5a3330e2c5371be6824   \n",
       "\n",
       "                   ts                                            content  \n",
       "0 2015-02-23 17:41:29  丽江旅游(sz002033)#股票##炒股##财经##理财##投资#推荐包赢股，盈利对半分成...  \n",
       "1 2015-02-14 12:49:58  #丁辰灵的红包#挣钱是一种能力，抢红包拼的是技术。我抢到了丁辰灵 和@阚洪岩 一起发出的现金...  \n",
       "2 2015-03-31 13:58:06                      淘宝网这些傻逼。。。气的劳资有火没地儿发~尼玛，你们都瞎了  \n",
       "3 2015-06-11 20:39:57                                  看点不能说的，你们都懂[笑cry]  \n",
       "4 2015-03-10 18:02:38                                              111多张  "
      ]
     },
     "execution_count": 9,
     "metadata": {},
     "output_type": "execute_result"
    }
   ],
   "source": [
    "X_tv.head()"
   ]
  },
  {
   "cell_type": "code",
   "execution_count": 10,
   "id": "f31be036",
   "metadata": {
    "execution": {
     "iopub.execute_input": "2024-05-22T21:26:17.686748Z",
     "iopub.status.busy": "2024-05-22T21:26:17.686494Z",
     "iopub.status.idle": "2024-05-22T21:26:17.695134Z",
     "shell.execute_reply": "2024-05-22T21:26:17.694196Z"
    },
    "papermill": {
     "duration": 0.028287,
     "end_time": "2024-05-22T21:26:17.697328",
     "exception": false,
     "start_time": "2024-05-22T21:26:17.669041",
     "status": "completed"
    },
    "tags": []
   },
   "outputs": [
    {
     "data": {
      "text/html": [
       "<div>\n",
       "<style scoped>\n",
       "    .dataframe tbody tr th:only-of-type {\n",
       "        vertical-align: middle;\n",
       "    }\n",
       "\n",
       "    .dataframe tbody tr th {\n",
       "        vertical-align: top;\n",
       "    }\n",
       "\n",
       "    .dataframe thead th {\n",
       "        text-align: right;\n",
       "    }\n",
       "</style>\n",
       "<table border=\"1\" class=\"dataframe\">\n",
       "  <thead>\n",
       "    <tr style=\"text-align: right;\">\n",
       "      <th></th>\n",
       "      <th>forward_n</th>\n",
       "      <th>comment_n</th>\n",
       "      <th>like_n</th>\n",
       "    </tr>\n",
       "  </thead>\n",
       "  <tbody>\n",
       "    <tr>\n",
       "      <th>0</th>\n",
       "      <td>0</td>\n",
       "      <td>0</td>\n",
       "      <td>0</td>\n",
       "    </tr>\n",
       "    <tr>\n",
       "      <th>1</th>\n",
       "      <td>0</td>\n",
       "      <td>0</td>\n",
       "      <td>0</td>\n",
       "    </tr>\n",
       "    <tr>\n",
       "      <th>2</th>\n",
       "      <td>0</td>\n",
       "      <td>0</td>\n",
       "      <td>0</td>\n",
       "    </tr>\n",
       "    <tr>\n",
       "      <th>3</th>\n",
       "      <td>0</td>\n",
       "      <td>4</td>\n",
       "      <td>3</td>\n",
       "    </tr>\n",
       "    <tr>\n",
       "      <th>4</th>\n",
       "      <td>0</td>\n",
       "      <td>0</td>\n",
       "      <td>0</td>\n",
       "    </tr>\n",
       "  </tbody>\n",
       "</table>\n",
       "</div>"
      ],
      "text/plain": [
       "   forward_n  comment_n  like_n\n",
       "0          0          0       0\n",
       "1          0          0       0\n",
       "2          0          0       0\n",
       "3          0          4       3\n",
       "4          0          0       0"
      ]
     },
     "execution_count": 10,
     "metadata": {},
     "output_type": "execute_result"
    }
   ],
   "source": [
    "y_tv.head()"
   ]
  },
  {
   "cell_type": "code",
   "execution_count": 11,
   "id": "faa9560a",
   "metadata": {
    "execution": {
     "iopub.execute_input": "2024-05-22T21:26:17.734649Z",
     "iopub.status.busy": "2024-05-22T21:26:17.734065Z",
     "iopub.status.idle": "2024-05-22T21:26:17.739685Z",
     "shell.execute_reply": "2024-05-22T21:26:17.738843Z"
    },
    "papermill": {
     "duration": 0.02534,
     "end_time": "2024-05-22T21:26:17.741690",
     "exception": false,
     "start_time": "2024-05-22T21:26:17.716350",
     "status": "completed"
    },
    "tags": []
   },
   "outputs": [
    {
     "data": {
      "text/plain": [
       "((177923, 4), (177922, 4))"
      ]
     },
     "execution_count": 11,
     "metadata": {},
     "output_type": "execute_result"
    }
   ],
   "source": [
    "Xy_test.shape, X_test.shape"
   ]
  },
  {
   "cell_type": "code",
   "execution_count": 12,
   "id": "04645374",
   "metadata": {
    "execution": {
     "iopub.execute_input": "2024-05-22T21:26:17.778916Z",
     "iopub.status.busy": "2024-05-22T21:26:17.778206Z",
     "iopub.status.idle": "2024-05-22T21:26:17.788678Z",
     "shell.execute_reply": "2024-05-22T21:26:17.787728Z"
    },
    "papermill": {
     "duration": 0.030981,
     "end_time": "2024-05-22T21:26:17.790722",
     "exception": false,
     "start_time": "2024-05-22T21:26:17.759741",
     "status": "completed"
    },
    "tags": []
   },
   "outputs": [
    {
     "data": {
      "text/html": [
       "<div>\n",
       "<style scoped>\n",
       "    .dataframe tbody tr th:only-of-type {\n",
       "        vertical-align: middle;\n",
       "    }\n",
       "\n",
       "    .dataframe tbody tr th {\n",
       "        vertical-align: top;\n",
       "    }\n",
       "\n",
       "    .dataframe thead th {\n",
       "        text-align: right;\n",
       "    }\n",
       "</style>\n",
       "<table border=\"1\" class=\"dataframe\">\n",
       "  <thead>\n",
       "    <tr style=\"text-align: right;\">\n",
       "      <th></th>\n",
       "      <th>uid</th>\n",
       "      <th>mid</th>\n",
       "      <th>ts</th>\n",
       "      <th>content</th>\n",
       "    </tr>\n",
       "  </thead>\n",
       "  <tbody>\n",
       "    <tr>\n",
       "      <th>0</th>\n",
       "      <td>c01014739c046cd31d6f1b4fb71b440f</td>\n",
       "      <td>0cd5ef13eb11ed0070f7625b14136ec9</td>\n",
       "      <td>2015-08-19 22:44:55</td>\n",
       "      <td>Xah Emacs Tutorial http://t.cn/zWoY9IZ</td>\n",
       "    </tr>\n",
       "    <tr>\n",
       "      <th>1</th>\n",
       "      <td>fa5aed172c062c61e196eac61038a03b</td>\n",
       "      <td>7cce78a4ad39a91ec1f595bcc7fb5eba</td>\n",
       "      <td>2015-08-01 14:06:31</td>\n",
       "      <td>卖水果老人因没住处夜宿酒店门口 被车碾死 http://t.cn/RL0Hw8J （分享自@...</td>\n",
       "    </tr>\n",
       "    <tr>\n",
       "      <th>2</th>\n",
       "      <td>77fc723c196a45203e70f4d359c96946</td>\n",
       "      <td>a3494d8cf475a92739a2ffd421640ddf</td>\n",
       "      <td>2015-08-04 10:51:38</td>\n",
       "      <td>不要学习没有用的理论？ 不是：要学习，但要知道这个理论，为什么没有用？真实有用的理论是什么。...</td>\n",
       "    </tr>\n",
       "    <tr>\n",
       "      <th>3</th>\n",
       "      <td>e4097b07f34366399b623b94f174f60c</td>\n",
       "      <td>6b89aea5aa7af093dde0894156c49dd3</td>\n",
       "      <td>2015-08-16 14:59:19</td>\n",
       "      <td>[幸运之星] -恭喜！您的新浪微博账号已被系统确认为“新浪五周年”活动二等奖幸运用户。请登陆...</td>\n",
       "    </tr>\n",
       "    <tr>\n",
       "      <th>4</th>\n",
       "      <td>d43f7557c303b84070b13aa4eeeb21d3</td>\n",
       "      <td>0bdeff19392e15737775abab46dc5437</td>\n",
       "      <td>2015-08-04 22:30:46</td>\n",
       "      <td>【Lennart Poettering宣布首届Systemd会议】受争议Linux初始化系统...</td>\n",
       "    </tr>\n",
       "  </tbody>\n",
       "</table>\n",
       "</div>"
      ],
      "text/plain": [
       "                                uid                               mid  \\\n",
       "0  c01014739c046cd31d6f1b4fb71b440f  0cd5ef13eb11ed0070f7625b14136ec9   \n",
       "1  fa5aed172c062c61e196eac61038a03b  7cce78a4ad39a91ec1f595bcc7fb5eba   \n",
       "2  77fc723c196a45203e70f4d359c96946  a3494d8cf475a92739a2ffd421640ddf   \n",
       "3  e4097b07f34366399b623b94f174f60c  6b89aea5aa7af093dde0894156c49dd3   \n",
       "4  d43f7557c303b84070b13aa4eeeb21d3  0bdeff19392e15737775abab46dc5437   \n",
       "\n",
       "                   ts                                            content  \n",
       "0 2015-08-19 22:44:55             Xah Emacs Tutorial http://t.cn/zWoY9IZ  \n",
       "1 2015-08-01 14:06:31  卖水果老人因没住处夜宿酒店门口 被车碾死 http://t.cn/RL0Hw8J （分享自@...  \n",
       "2 2015-08-04 10:51:38  不要学习没有用的理论？ 不是：要学习，但要知道这个理论，为什么没有用？真实有用的理论是什么。...  \n",
       "3 2015-08-16 14:59:19  [幸运之星] -恭喜！您的新浪微博账号已被系统确认为“新浪五周年”活动二等奖幸运用户。请登陆...  \n",
       "4 2015-08-04 22:30:46  【Lennart Poettering宣布首届Systemd会议】受争议Linux初始化系统...  "
      ]
     },
     "execution_count": 12,
     "metadata": {},
     "output_type": "execute_result"
    }
   ],
   "source": [
    "Xy_test.head()"
   ]
  },
  {
   "cell_type": "markdown",
   "id": "5e2f630c",
   "metadata": {
    "papermill": {
     "duration": 0.016473,
     "end_time": "2024-05-22T21:26:17.824992",
     "exception": false,
     "start_time": "2024-05-22T21:26:17.808519",
     "status": "completed"
    },
    "tags": []
   },
   "source": [
    "## Data analysis"
   ]
  },
  {
   "cell_type": "markdown",
   "id": "baee1c47",
   "metadata": {
    "papermill": {
     "duration": 0.016762,
     "end_time": "2024-05-22T21:26:17.858746",
     "exception": false,
     "start_time": "2024-05-22T21:26:17.841984",
     "status": "completed"
    },
    "tags": []
   },
   "source": [
    "### Navive analysis"
   ]
  },
  {
   "cell_type": "code",
   "execution_count": 13,
   "id": "c62293a5",
   "metadata": {
    "execution": {
     "iopub.execute_input": "2024-05-22T21:26:17.894153Z",
     "iopub.status.busy": "2024-05-22T21:26:17.893612Z",
     "iopub.status.idle": "2024-05-22T21:26:17.902755Z",
     "shell.execute_reply": "2024-05-22T21:26:17.901963Z"
    },
    "papermill": {
     "duration": 0.02875,
     "end_time": "2024-05-22T21:26:17.904607",
     "exception": false,
     "start_time": "2024-05-22T21:26:17.875857",
     "status": "completed"
    },
    "tags": []
   },
   "outputs": [],
   "source": [
    "def embedd(\n",
    "    data,\n",
    "    vectorizer=TfidfVectorizer(stop_words='english', max_features=512),\n",
    "    reducer=gpu_or_else(\n",
    "        umap.UMAP(n_neighbors=10, min_dist=0.3, n_components=2),# TODO maybe enable GPU: cuml.UMAP(n_neighbors=10, min_dist=0.3, n_components=2),\n",
    "        umap.UMAP(n_neighbors=10, min_dist=0.3, n_components=2),\n",
    "    )\n",
    "):\n",
    "    embeddings = vectorizer.fit_transform(data)\n",
    "    return reducer.fit_transform(embeddings)\n",
    "\n",
    "def plot_embeddings(embeddings, y):\n",
    "    categories = np.sum(y * [.5, .25, .25], axis=1)\n",
    "    alhpa_vals = np.log10(categories / categories.max() + 0.01) / np.log10(1.01)\n",
    "    scaled_alpha_vals = np.clip((alhpa_vals - alhpa_vals.min()) / (alhpa_vals.max() - alhpa_vals.min()), a_min=None, a_max=1)\n",
    "\n",
    "    plt.figure(figsize=(10, 8))\n",
    "    scatter = plt.scatter(\n",
    "        embeddings[:, 0],\n",
    "        embeddings[:, 1],\n",
    "        c=categories,\n",
    "        cmap='Spectral',\n",
    "        s=5,\n",
    "        alpha=scaled_alpha_vals\n",
    "    )\n",
    "    plt.colorbar(scatter)\n",
    "    plt.title('Projection of Text Embeddings', fontsize=18)\n",
    "    plt.xlabel('dim 1', fontsize=14)\n",
    "    plt.ylabel('dim 2', fontsize=14)\n",
    "    plt.grid(True)\n",
    "    plt.show()"
   ]
  },
  {
   "cell_type": "markdown",
   "id": "217e03c3",
   "metadata": {
    "papermill": {
     "duration": 0.016607,
     "end_time": "2024-05-22T21:26:17.937891",
     "exception": false,
     "start_time": "2024-05-22T21:26:17.921284",
     "status": "completed"
    },
    "tags": []
   },
   "source": [
    "### Naive Embeddings"
   ]
  },
  {
   "cell_type": "code",
   "execution_count": 14,
   "id": "23eb58a6",
   "metadata": {
    "execution": {
     "iopub.execute_input": "2024-05-22T21:26:17.972129Z",
     "iopub.status.busy": "2024-05-22T21:26:17.971885Z",
     "iopub.status.idle": "2024-05-22T21:30:22.048958Z",
     "shell.execute_reply": "2024-05-22T21:30:22.048011Z"
    },
    "papermill": {
     "duration": 244.11559,
     "end_time": "2024-05-22T21:30:22.070118",
     "exception": false,
     "start_time": "2024-05-22T21:26:17.954528",
     "status": "completed"
    },
    "tags": []
   },
   "outputs": [
    {
     "name": "stderr",
     "output_type": "stream",
     "text": [
      "/opt/conda/lib/python3.10/site-packages/umap/spectral.py:550: UserWarning: Spectral initialisation failed! The eigenvector solver\n",
      "failed. This is likely due to too small an eigengap. Consider\n",
      "adding some noise or jitter to your data.\n",
      "\n",
      "Falling back to random initialisation!\n",
      "  warn(\n"
     ]
    },
    {
     "data": {
      "image/png": "[encoded data removed]",
      "text/plain": [
       "<Figure size 1000x800 with 2 Axes>"
      ]
     },
     "metadata": {},
     "output_type": "display_data"
    }
   ],
   "source": [
    "plot_embeddings(\n",
    "    embedd(X_tv.content.sample(100_000, random_state=RANDOM_STATE)),\n",
    "    y_tv.sample(100_000, random_state=RANDOM_STATE)\n",
    ")"
   ]
  },
  {
   "cell_type": "markdown",
   "id": "e72920b0",
   "metadata": {
    "papermill": {
     "duration": 0.018123,
     "end_time": "2024-05-22T21:30:22.106644",
     "exception": false,
     "start_time": "2024-05-22T21:30:22.088521",
     "status": "completed"
    },
    "tags": []
   },
   "source": [
    "### Jieba embeddings"
   ]
  },
  {
   "cell_type": "code",
   "execution_count": 15,
   "id": "c5e8823b",
   "metadata": {
    "execution": {
     "iopub.execute_input": "2024-05-22T21:30:22.145619Z",
     "iopub.status.busy": "2024-05-22T21:30:22.144990Z",
     "iopub.status.idle": "2024-05-22T21:34:40.235435Z",
     "shell.execute_reply": "2024-05-22T21:34:40.234284Z"
    },
    "papermill": {
     "duration": 258.136595,
     "end_time": "2024-05-22T21:34:40.262174",
     "exception": false,
     "start_time": "2024-05-22T21:30:22.125579",
     "status": "completed"
    },
    "tags": []
   },
   "outputs": [
    {
     "name": "stderr",
     "output_type": "stream",
     "text": [
      "Building prefix dict from the default dictionary ...\n",
      "Dumping model to file cache /tmp/jieba.cache\n",
      "Loading model cost 1.119 seconds.\n",
      "Prefix dict has been built successfully.\n"
     ]
    },
    {
     "data": {
      "image/png": "[encoded data removed]",
      "text/plain": [
       "<Figure size 1000x800 with 2 Axes>"
      ]
     },
     "metadata": {},
     "output_type": "display_data"
    }
   ],
   "source": [
    "plot_embeddings(\n",
    "    embedd(\n",
    "        X_tv.content.sample(100_000, random_state=RANDOM_STATE),\n",
    "        vectorizer=TfidfVectorizer(analyzer=fn.partial(jbanalyse.extract_tags), max_features=512),\n",
    "    ),\n",
    "    y_tv.sample(100_000, random_state=RANDOM_STATE),\n",
    ")"
   ]
  },
  {
   "cell_type": "markdown",
   "id": "fe8b37ea",
   "metadata": {
    "papermill": {
     "duration": 0.02212,
     "end_time": "2024-05-22T21:34:40.306037",
     "exception": false,
     "start_time": "2024-05-22T21:34:40.283917",
     "status": "completed"
    },
    "tags": []
   },
   "source": [
    "### Huggingface embeddings"
   ]
  },
  {
   "cell_type": "code",
   "execution_count": 16,
   "id": "70838796",
   "metadata": {
    "execution": {
     "iopub.execute_input": "2024-05-22T21:34:40.351360Z",
     "iopub.status.busy": "2024-05-22T21:34:40.350706Z",
     "iopub.status.idle": "2024-05-22T21:34:40.369427Z",
     "shell.execute_reply": "2024-05-22T21:34:40.368535Z"
    },
    "papermill": {
     "duration": 0.043587,
     "end_time": "2024-05-22T21:34:40.371353",
     "exception": false,
     "start_time": "2024-05-22T21:34:40.327766",
     "status": "completed"
    },
    "tags": []
   },
   "outputs": [],
   "source": [
    "class TextDataset(Dataset):\n",
    "    def __init__(self, encodings):\n",
    "        self.encodings = encodings\n",
    "\n",
    "    def __getitem__(self, idx):\n",
    "        return {key: val[idx].clone().detach() for key, val in self.encodings.items()}\n",
    "\n",
    "    def __len__(self):\n",
    "        return len(self.encodings.input_ids)\n",
    "\n",
    "class ChineseBertVectorizer():\n",
    "    def __init__(\n",
    "        self,\n",
    "        device=torch.device('cuda') if torch.cuda.is_available() else torch.device('cpu'),\n",
    "        batch_size=1024,\n",
    "        verbose=0\n",
    "    ):\n",
    "        self.tokenizer = AutoTokenizer.from_pretrained(\n",
    "            \"google-bert/bert-base-chinese\", \n",
    "            padding=True,\n",
    "            truncation=True\n",
    "        )\n",
    "        self.model = AutoModel.from_pretrained(\"google-bert/bert-base-chinese\")\n",
    "        self.device = device\n",
    "        self.batch_size=batch_size\n",
    "        self.verbose=verbose\n",
    "    \n",
    "    def fit_transform(self, data, batch_size=None, verbose=None):\n",
    "        if not isinstance(data, list):\n",
    "            data = data.tolist()\n",
    "        if not batch_size:\n",
    "            batch_size = self.batch_size\n",
    "        if not verbose:\n",
    "            verbose = self.verbose\n",
    "        \n",
    "        try:\n",
    "            return self.get_embeddings(data, batch_size=batch_size, verbose=verbose)\n",
    "        finally:\n",
    "            if verbose:\n",
    "                print('cleaning up...')\n",
    "            if verbose > 1:\n",
    "                print(torch.cuda.memory_summary())\n",
    "            gc.collect()\n",
    "            torch.cuda.empty_cache()\n",
    "            if verbose:\n",
    "                print('done cleaning')\n",
    "            if verbose > 1:\n",
    "                print(torch.cuda.memory_summary())\n",
    "\n",
    "\n",
    "    def get_embeddings(self, data, batch_size, verbose=0):\n",
    "        if verbose:\n",
    "            print('tokenizing...')\n",
    "        encoded_input = self.tokenizer(\n",
    "            data, padding=True, truncation=True, return_tensors='pt'\n",
    "        )\n",
    "        dataset = TextDataset(encoded_input)\n",
    "        loader = DataLoader(dataset, batch_size=batch_size, shuffle=False)\n",
    "\n",
    "        embeddings = []\n",
    "        embedder = nn.DataParallel(self.model)\n",
    "        embedder = embedder.to(self.device)\n",
    "        for batch in tqdm(loader, disable=verbose<1, desc='embedding', unit='batch'):\n",
    "            batch_ = {k: v.to(self.device) for k, v in batch.items()}\n",
    "            with torch.no_grad():\n",
    "                if verbose>1:\n",
    "                    print(torch.cuda.memory_summary())\n",
    "                    \n",
    "                outputs = embedder(**batch_)\n",
    "                if self.device.type == 'cuda':\n",
    "                    batch_embeddings = outputs.last_hidden_state[:, 0, :]\n",
    "                    embeddings.append(batch_embeddings.cpu())\n",
    "                    for v in batch_.values():\n",
    "                             del v\n",
    "                    del batch_\n",
    "                    del outputs\n",
    "                    gc.collect()\n",
    "                    torch.cuda.empty_cache()\n",
    "                else:\n",
    "                    batch_embeddings = outputs.last_hidden_state[:, 0, :]\n",
    "                    embeddings.append(batch_embeddings.cpu())\n",
    "        \n",
    "        if self.device.type == 'cuda':\n",
    "            del embedder\n",
    "            gc.collect()\n",
    "            torch.cuda.empty_cache()\n",
    "\n",
    "        embeddings = torch.cat(embeddings, dim=0)\n",
    "        if verbose:\n",
    "            print('embeddings done')\n",
    "\n",
    "        return embeddings"
   ]
  },
  {
   "cell_type": "code",
   "execution_count": 17,
   "id": "f8ce85c3",
   "metadata": {
    "execution": {
     "iopub.execute_input": "2024-05-22T21:34:40.414533Z",
     "iopub.status.busy": "2024-05-22T21:34:40.414171Z",
     "iopub.status.idle": "2024-05-22T22:08:03.559333Z",
     "shell.execute_reply": "2024-05-22T22:08:03.558094Z"
    },
    "papermill": {
     "duration": 2003.194391,
     "end_time": "2024-05-22T22:08:03.586990",
     "exception": false,
     "start_time": "2024-05-22T21:34:40.392599",
     "status": "completed"
    },
    "tags": []
   },
   "outputs": [
    {
     "data": {
      "application/vnd.jupyter.widget-view+json": {
       "model_id": "88f7fd962a60481d9824c781a862583d",
       "version_major": 2,
       "version_minor": 0
      },
      "text/plain": [
       "tokenizer_config.json:   0%|          | 0.00/49.0 [00:00<?, ?B/s]"
      ]
     },
     "metadata": {},
     "output_type": "display_data"
    },
    {
     "data": {
      "application/vnd.jupyter.widget-view+json": {
       "model_id": "cd626f4f549748a4bb0b014d8baa212b",
       "version_major": 2,
       "version_minor": 0
      },
      "text/plain": [
       "config.json:   0%|          | 0.00/624 [00:00<?, ?B/s]"
      ]
     },
     "metadata": {},
     "output_type": "display_data"
    },
    {
     "data": {
      "application/vnd.jupyter.widget-view+json": {
       "model_id": "9517a628528e43258a6c158ad6238ea8",
       "version_major": 2,
       "version_minor": 0
      },
      "text/plain": [
       "vocab.txt:   0%|          | 0.00/110k [00:00<?, ?B/s]"
      ]
     },
     "metadata": {},
     "output_type": "display_data"
    },
    {
     "data": {
      "application/vnd.jupyter.widget-view+json": {
       "model_id": "797a1bfc775f47619515360c7506399e",
       "version_major": 2,
       "version_minor": 0
      },
      "text/plain": [
       "tokenizer.json:   0%|          | 0.00/269k [00:00<?, ?B/s]"
      ]
     },
     "metadata": {},
     "output_type": "display_data"
    },
    {
     "data": {
      "application/vnd.jupyter.widget-view+json": {
       "model_id": "7a1a3dc7ae8745748d57ea2a4cd830be",
       "version_major": 2,
       "version_minor": 0
      },
      "text/plain": [
       "model.safetensors:   0%|          | 0.00/412M [00:00<?, ?B/s]"
      ]
     },
     "metadata": {},
     "output_type": "display_data"
    },
    {
     "name": "stdout",
     "output_type": "stream",
     "text": [
      "tokenizing...\n"
     ]
    },
    {
     "data": {
      "application/vnd.jupyter.widget-view+json": {
       "model_id": "8e709fdd177c4effb766d676c4e0d406",
       "version_major": 2,
       "version_minor": 0
      },
      "text/plain": [
       "embedding:   0%|          | 0/157 [00:00<?, ?batch/s]"
      ]
     },
     "metadata": {},
     "output_type": "display_data"
    },
    {
     "name": "stdout",
     "output_type": "stream",
     "text": [
      "embeddings done\n",
      "cleaning up...\n",
      "done cleaning\n"
     ]
    },
    {
     "name": "stderr",
     "output_type": "stream",
     "text": [
      "/opt/conda/lib/python3.10/site-packages/sklearn/manifold/_spectral_embedding.py:393: UserWarning: Exited at iteration 2000 with accuracies \n",
      "[3.86692363e-14 7.54991248e-07 2.07344157e-06 2.21270904e-05]\n",
      "not reaching the requested tolerance 1.6540288925170898e-06.\n",
      "Use iteration 1933 instead with accuracy \n",
      "1.1814665750682366e-06.\n",
      "\n",
      "  _, diffusion_map = lobpcg(\n",
      "/opt/conda/lib/python3.10/site-packages/sklearn/manifold/_spectral_embedding.py:393: UserWarning: Exited postprocessing with accuracies \n",
      "[1.93501420e-15 3.22551328e-07 3.53952393e-07 4.04934505e-06]\n",
      "not reaching the requested tolerance 1.6540288925170898e-06.\n",
      "  _, diffusion_map = lobpcg(\n",
      "/opt/conda/lib/python3.10/site-packages/umap/spectral.py:550: UserWarning: Spectral initialisation failed! The eigenvector solver\n",
      "failed. This is likely due to too small an eigengap. Consider\n",
      "adding some noise or jitter to your data.\n",
      "\n",
      "Falling back to random initialisation!\n",
      "  warn(\n"
     ]
    },
    {
     "data": {
      "image/png": "[encoded data removed]",
      "text/plain": [
       "<Figure size 1000x800 with 2 Axes>"
      ]
     },
     "metadata": {},
     "output_type": "display_data"
    }
   ],
   "source": [
    "plot_embeddings(\n",
    "    embedd(\n",
    "        X_tv.content.sample(100_000, random_state=RANDOM_STATE),\n",
    "        vectorizer=ChineseBertVectorizer(batch_size=BATCH_SIZE, verbose=1)\n",
    "    ),\n",
    "    y_tv.sample(100_000, random_state=RANDOM_STATE)\n",
    ")"
   ]
  },
  {
   "cell_type": "markdown",
   "id": "d231bd11",
   "metadata": {
    "papermill": {
     "duration": 0.025294,
     "end_time": "2024-05-22T22:08:03.637142",
     "exception": false,
     "start_time": "2024-05-22T22:08:03.611848",
     "status": "completed"
    },
    "tags": []
   },
   "source": [
    "### Target analysis"
   ]
  },
  {
   "cell_type": "code",
   "execution_count": 18,
   "id": "34f45c27",
   "metadata": {
    "execution": {
     "iopub.execute_input": "2024-05-22T22:08:03.688714Z",
     "iopub.status.busy": "2024-05-22T22:08:03.687864Z",
     "iopub.status.idle": "2024-05-22T22:08:18.693118Z",
     "shell.execute_reply": "2024-05-22T22:08:18.692107Z"
    },
    "papermill": {
     "duration": 15.034007,
     "end_time": "2024-05-22T22:08:18.695196",
     "exception": false,
     "start_time": "2024-05-22T22:08:03.661189",
     "status": "completed"
    },
    "tags": []
   },
   "outputs": [
    {
     "data": {
      "text/plain": [
       "<matplotlib.legend.Legend at 0x7c6740849cf0>"
      ]
     },
     "execution_count": 18,
     "metadata": {},
     "output_type": "execute_result"
    },
    {
     "data": {
      "image/png": "[encoded data removed]",
      "text/plain": [
       "<Figure size 640x480 with 1 Axes>"
      ]
     },
     "metadata": {},
     "output_type": "display_data"
    }
   ],
   "source": [
    "for column in y_tv.columns:\n",
    "    sns.kdeplot(y_tv[column], label=column, fill=True, common_norm=False, alpha=0.5)\n",
    "\n",
    "plt.title('KDE of targets')\n",
    "plt.xlabel('Value')\n",
    "plt.ylabel('Density')\n",
    "plt.legend(title='Distribution')"
   ]
  },
  {
   "cell_type": "markdown",
   "id": "5b21a248",
   "metadata": {
    "papermill": {
     "duration": 0.024539,
     "end_time": "2024-05-22T22:08:18.746375",
     "exception": false,
     "start_time": "2024-05-22T22:08:18.721836",
     "status": "completed"
    },
    "tags": []
   },
   "source": [
    "Let's log scale it to make it more gaussian"
   ]
  },
  {
   "cell_type": "code",
   "execution_count": 19,
   "id": "6f2b61d2",
   "metadata": {
    "execution": {
     "iopub.execute_input": "2024-05-22T22:08:18.797551Z",
     "iopub.status.busy": "2024-05-22T22:08:18.797159Z",
     "iopub.status.idle": "2024-05-22T22:08:20.181996Z",
     "shell.execute_reply": "2024-05-22T22:08:20.181076Z"
    },
    "papermill": {
     "duration": 1.412952,
     "end_time": "2024-05-22T22:08:20.183962",
     "exception": false,
     "start_time": "2024-05-22T22:08:18.771010",
     "status": "completed"
    },
    "tags": []
   },
   "outputs": [
    {
     "data": {
      "text/plain": [
       "<matplotlib.legend.Legend at 0x7c676e737670>"
      ]
     },
     "execution_count": 19,
     "metadata": {},
     "output_type": "execute_result"
    },
    {
     "data": {
      "image/png": "[encoded data removed]",
      "text/plain": [
       "<Figure size 640x480 with 1 Axes>"
      ]
     },
     "metadata": {},
     "output_type": "display_data"
    }
   ],
   "source": [
    "y_tv_no_low = y_tv[np.all(y_tv > 2, axis=1)]\n",
    "for column in y_tv.columns:\n",
    "    sns.kdeplot(np.log(y_tv_no_low[column]), label=column, fill=True, common_norm=False, alpha=0.5)\n",
    "    \n",
    "sns.kdeplot(RNG.chisquare(2.5,size=y_tv_no_low.shape[0])+1, label='chi^2', fill=True, common_norm=False, alpha=0.5)\n",
    "\n",
    "plt.title('KDE of log(targets)')\n",
    "plt.xlabel('log(Value)')\n",
    "plt.ylabel('Density')\n",
    "plt.legend(title='Distribution')"
   ]
  },
  {
   "cell_type": "markdown",
   "id": "2db8130f",
   "metadata": {
    "papermill": {
     "duration": 0.025574,
     "end_time": "2024-05-22T22:08:20.235859",
     "exception": false,
     "start_time": "2024-05-22T22:08:20.210285",
     "status": "completed"
    },
    "tags": []
   },
   "source": [
    "### User segementation"
   ]
  },
  {
   "cell_type": "code",
   "execution_count": 20,
   "id": "e85bb06d",
   "metadata": {
    "execution": {
     "iopub.execute_input": "2024-05-22T22:08:20.288456Z",
     "iopub.status.busy": "2024-05-22T22:08:20.288136Z",
     "iopub.status.idle": "2024-05-22T22:08:20.291989Z",
     "shell.execute_reply": "2024-05-22T22:08:20.291194Z"
    },
    "papermill": {
     "duration": 0.032241,
     "end_time": "2024-05-22T22:08:20.293894",
     "exception": false,
     "start_time": "2024-05-22T22:08:20.261653",
     "status": "completed"
    },
    "tags": []
   },
   "outputs": [],
   "source": [
    "TOP_K_UID=10"
   ]
  },
  {
   "cell_type": "code",
   "execution_count": 21,
   "id": "7d6b4ca6",
   "metadata": {
    "execution": {
     "iopub.execute_input": "2024-05-22T22:08:20.346078Z",
     "iopub.status.busy": "2024-05-22T22:08:20.345800Z",
     "iopub.status.idle": "2024-05-22T22:08:20.638244Z",
     "shell.execute_reply": "2024-05-22T22:08:20.637211Z"
    },
    "papermill": {
     "duration": 0.321317,
     "end_time": "2024-05-22T22:08:20.640648",
     "exception": false,
     "start_time": "2024-05-22T22:08:20.319331",
     "status": "completed"
    },
    "tags": []
   },
   "outputs": [],
   "source": [
    "user_segementation_df = X_tv[['uid']]\n",
    "user_segementation_df.loc[: ,['forward_n', 'comment_n', 'like_n']] = y_tv\n",
    "user_segementation_df.loc[: ,['popularity']] = (y_tv * [.5, .25, .25]).sum(axis=1)"
   ]
  },
  {
   "cell_type": "code",
   "execution_count": 22,
   "id": "6b216951",
   "metadata": {
    "execution": {
     "iopub.execute_input": "2024-05-22T22:08:20.694796Z",
     "iopub.status.busy": "2024-05-22T22:08:20.694422Z",
     "iopub.status.idle": "2024-05-22T22:08:20.762168Z",
     "shell.execute_reply": "2024-05-22T22:08:20.761179Z"
    },
    "papermill": {
     "duration": 0.097319,
     "end_time": "2024-05-22T22:08:20.764364",
     "exception": false,
     "start_time": "2024-05-22T22:08:20.667045",
     "status": "completed"
    },
    "tags": []
   },
   "outputs": [
    {
     "data": {
      "text/plain": [
       "(2449,)"
      ]
     },
     "execution_count": 22,
     "metadata": {},
     "output_type": "execute_result"
    }
   ],
   "source": [
    "np.unique(user_segementation_df[user_segementation_df.popularity > 10].uid).shape"
   ]
  },
  {
   "cell_type": "code",
   "execution_count": 23,
   "id": "4a0d345c",
   "metadata": {
    "execution": {
     "iopub.execute_input": "2024-05-22T22:08:20.821644Z",
     "iopub.status.busy": "2024-05-22T22:08:20.821311Z",
     "iopub.status.idle": "2024-05-22T22:08:21.843281Z",
     "shell.execute_reply": "2024-05-22T22:08:21.842235Z"
    },
    "papermill": {
     "duration": 1.054051,
     "end_time": "2024-05-22T22:08:21.846024",
     "exception": false,
     "start_time": "2024-05-22T22:08:20.791973",
     "status": "completed"
    },
    "tags": []
   },
   "outputs": [],
   "source": [
    "user_segementation_df.loc[:, ['median_popularity']] = user_segementation_df['uid'].map(user_segementation_df.groupby('uid')['popularity'].median())\n",
    "user_segementation_df.loc[:, ['mean_popularity']] = user_segementation_df['uid'].map(user_segementation_df.groupby('uid')['popularity'].mean())"
   ]
  },
  {
   "cell_type": "code",
   "execution_count": 24,
   "id": "d44e1c54",
   "metadata": {
    "execution": {
     "iopub.execute_input": "2024-05-22T22:08:21.904164Z",
     "iopub.status.busy": "2024-05-22T22:08:21.903813Z",
     "iopub.status.idle": "2024-05-22T22:08:21.917549Z",
     "shell.execute_reply": "2024-05-22T22:08:21.916560Z"
    },
    "papermill": {
     "duration": 0.04359,
     "end_time": "2024-05-22T22:08:21.919684",
     "exception": false,
     "start_time": "2024-05-22T22:08:21.876094",
     "status": "completed"
    },
    "tags": []
   },
   "outputs": [
    {
     "data": {
      "text/html": [
       "<div>\n",
       "<style scoped>\n",
       "    .dataframe tbody tr th:only-of-type {\n",
       "        vertical-align: middle;\n",
       "    }\n",
       "\n",
       "    .dataframe tbody tr th {\n",
       "        vertical-align: top;\n",
       "    }\n",
       "\n",
       "    .dataframe thead th {\n",
       "        text-align: right;\n",
       "    }\n",
       "</style>\n",
       "<table border=\"1\" class=\"dataframe\">\n",
       "  <thead>\n",
       "    <tr style=\"text-align: right;\">\n",
       "      <th></th>\n",
       "      <th>uid</th>\n",
       "      <th>forward_n</th>\n",
       "      <th>comment_n</th>\n",
       "      <th>like_n</th>\n",
       "      <th>popularity</th>\n",
       "      <th>median_popularity</th>\n",
       "      <th>mean_popularity</th>\n",
       "    </tr>\n",
       "  </thead>\n",
       "  <tbody>\n",
       "    <tr>\n",
       "      <th>0</th>\n",
       "      <td>d38e9bed5d98110dc2489d0d1cac3c2a</td>\n",
       "      <td>0</td>\n",
       "      <td>0</td>\n",
       "      <td>0</td>\n",
       "      <td>0.00</td>\n",
       "      <td>0.0</td>\n",
       "      <td>0.627724</td>\n",
       "    </tr>\n",
       "    <tr>\n",
       "      <th>1</th>\n",
       "      <td>fa13974743d3fe6ff40d21b872325e9e</td>\n",
       "      <td>0</td>\n",
       "      <td>0</td>\n",
       "      <td>0</td>\n",
       "      <td>0.00</td>\n",
       "      <td>0.0</td>\n",
       "      <td>0.233083</td>\n",
       "    </tr>\n",
       "    <tr>\n",
       "      <th>2</th>\n",
       "      <td>da534fe87e7a52777bee5c30573ed5fd</td>\n",
       "      <td>0</td>\n",
       "      <td>0</td>\n",
       "      <td>0</td>\n",
       "      <td>0.00</td>\n",
       "      <td>0.0</td>\n",
       "      <td>0.107143</td>\n",
       "    </tr>\n",
       "    <tr>\n",
       "      <th>3</th>\n",
       "      <td>e06a22b7e065e559a1f0bf7841a85c51</td>\n",
       "      <td>0</td>\n",
       "      <td>4</td>\n",
       "      <td>3</td>\n",
       "      <td>1.75</td>\n",
       "      <td>1.5</td>\n",
       "      <td>3.276644</td>\n",
       "    </tr>\n",
       "    <tr>\n",
       "      <th>4</th>\n",
       "      <td>f9828598f9664d4e347ef2048ce17734</td>\n",
       "      <td>0</td>\n",
       "      <td>0</td>\n",
       "      <td>0</td>\n",
       "      <td>0.00</td>\n",
       "      <td>0.0</td>\n",
       "      <td>0.132075</td>\n",
       "    </tr>\n",
       "  </tbody>\n",
       "</table>\n",
       "</div>"
      ],
      "text/plain": [
       "                                uid  forward_n  comment_n  like_n  popularity  \\\n",
       "0  d38e9bed5d98110dc2489d0d1cac3c2a          0          0       0        0.00   \n",
       "1  fa13974743d3fe6ff40d21b872325e9e          0          0       0        0.00   \n",
       "2  da534fe87e7a52777bee5c30573ed5fd          0          0       0        0.00   \n",
       "3  e06a22b7e065e559a1f0bf7841a85c51          0          4       3        1.75   \n",
       "4  f9828598f9664d4e347ef2048ce17734          0          0       0        0.00   \n",
       "\n",
       "   median_popularity  mean_popularity  \n",
       "0                0.0         0.627724  \n",
       "1                0.0         0.233083  \n",
       "2                0.0         0.107143  \n",
       "3                1.5         3.276644  \n",
       "4                0.0         0.132075  "
      ]
     },
     "execution_count": 24,
     "metadata": {},
     "output_type": "execute_result"
    }
   ],
   "source": [
    "user_segementation_df.head()"
   ]
  },
  {
   "cell_type": "code",
   "execution_count": 25,
   "id": "8b3c3e04",
   "metadata": {
    "execution": {
     "iopub.execute_input": "2024-05-22T22:08:21.976327Z",
     "iopub.status.busy": "2024-05-22T22:08:21.976048Z",
     "iopub.status.idle": "2024-05-22T22:08:22.378949Z",
     "shell.execute_reply": "2024-05-22T22:08:22.377759Z"
    },
    "papermill": {
     "duration": 0.432367,
     "end_time": "2024-05-22T22:08:22.381078",
     "exception": false,
     "start_time": "2024-05-22T22:08:21.948711",
     "status": "completed"
    },
    "tags": []
   },
   "outputs": [
    {
     "data": {
      "text/plain": [
       "(10565, 7)"
      ]
     },
     "execution_count": 25,
     "metadata": {},
     "output_type": "execute_result"
    }
   ],
   "source": [
    "top_uids = user_segementation_df.groupby('uid')['popularity'].sum().sort_values(ascending=False)[:TOP_K_UID].index\n",
    "top_k_uid_df = user_segementation_df[user_segementation_df['uid'].isin(top_uids)]\n",
    "top_k_uid_df.shape"
   ]
  },
  {
   "cell_type": "code",
   "execution_count": 26,
   "id": "8d758596",
   "metadata": {
    "execution": {
     "iopub.execute_input": "2024-05-22T22:08:22.436924Z",
     "iopub.status.busy": "2024-05-22T22:08:22.436614Z",
     "iopub.status.idle": "2024-05-22T22:08:22.450942Z",
     "shell.execute_reply": "2024-05-22T22:08:22.450046Z"
    },
    "papermill": {
     "duration": 0.044297,
     "end_time": "2024-05-22T22:08:22.452921",
     "exception": false,
     "start_time": "2024-05-22T22:08:22.408624",
     "status": "completed"
    },
    "tags": []
   },
   "outputs": [
    {
     "data": {
      "text/html": [
       "<div>\n",
       "<style scoped>\n",
       "    .dataframe tbody tr th:only-of-type {\n",
       "        vertical-align: middle;\n",
       "    }\n",
       "\n",
       "    .dataframe tbody tr th {\n",
       "        vertical-align: top;\n",
       "    }\n",
       "\n",
       "    .dataframe thead th {\n",
       "        text-align: right;\n",
       "    }\n",
       "</style>\n",
       "<table border=\"1\" class=\"dataframe\">\n",
       "  <thead>\n",
       "    <tr style=\"text-align: right;\">\n",
       "      <th></th>\n",
       "      <th>uid</th>\n",
       "      <th>forward_n</th>\n",
       "      <th>comment_n</th>\n",
       "      <th>like_n</th>\n",
       "      <th>popularity</th>\n",
       "      <th>median_popularity</th>\n",
       "      <th>mean_popularity</th>\n",
       "    </tr>\n",
       "  </thead>\n",
       "  <tbody>\n",
       "    <tr>\n",
       "      <th>960724</th>\n",
       "      <td>42fffa7b95d37f3d414114974772d14f</td>\n",
       "      <td>41850</td>\n",
       "      <td>1767</td>\n",
       "      <td>11697</td>\n",
       "      <td>24291.00</td>\n",
       "      <td>38.5</td>\n",
       "      <td>158.580508</td>\n",
       "    </tr>\n",
       "    <tr>\n",
       "      <th>21949</th>\n",
       "      <td>e88330514585dc40b7cb8f48c0e0ea2a</td>\n",
       "      <td>19255</td>\n",
       "      <td>7231</td>\n",
       "      <td>1557</td>\n",
       "      <td>11824.50</td>\n",
       "      <td>661.0</td>\n",
       "      <td>769.311528</td>\n",
       "    </tr>\n",
       "    <tr>\n",
       "      <th>1033865</th>\n",
       "      <td>8507f224ff141fcdc92d6cca325a948a</td>\n",
       "      <td>20954</td>\n",
       "      <td>4266</td>\n",
       "      <td>33</td>\n",
       "      <td>11551.75</td>\n",
       "      <td>7.0</td>\n",
       "      <td>134.566787</td>\n",
       "    </tr>\n",
       "    <tr>\n",
       "      <th>1135986</th>\n",
       "      <td>e88330514585dc40b7cb8f48c0e0ea2a</td>\n",
       "      <td>18609</td>\n",
       "      <td>837</td>\n",
       "      <td>6304</td>\n",
       "      <td>11089.75</td>\n",
       "      <td>661.0</td>\n",
       "      <td>769.311528</td>\n",
       "    </tr>\n",
       "    <tr>\n",
       "      <th>594288</th>\n",
       "      <td>e88330514585dc40b7cb8f48c0e0ea2a</td>\n",
       "      <td>14796</td>\n",
       "      <td>5075</td>\n",
       "      <td>1007</td>\n",
       "      <td>8918.50</td>\n",
       "      <td>661.0</td>\n",
       "      <td>769.311528</td>\n",
       "    </tr>\n",
       "  </tbody>\n",
       "</table>\n",
       "</div>"
      ],
      "text/plain": [
       "                                      uid  forward_n  comment_n  like_n  \\\n",
       "960724   42fffa7b95d37f3d414114974772d14f      41850       1767   11697   \n",
       "21949    e88330514585dc40b7cb8f48c0e0ea2a      19255       7231    1557   \n",
       "1033865  8507f224ff141fcdc92d6cca325a948a      20954       4266      33   \n",
       "1135986  e88330514585dc40b7cb8f48c0e0ea2a      18609        837    6304   \n",
       "594288   e88330514585dc40b7cb8f48c0e0ea2a      14796       5075    1007   \n",
       "\n",
       "         popularity  median_popularity  mean_popularity  \n",
       "960724     24291.00               38.5       158.580508  \n",
       "21949      11824.50              661.0       769.311528  \n",
       "1033865    11551.75                7.0       134.566787  \n",
       "1135986    11089.75              661.0       769.311528  \n",
       "594288      8918.50              661.0       769.311528  "
      ]
     },
     "execution_count": 26,
     "metadata": {},
     "output_type": "execute_result"
    }
   ],
   "source": [
    "top_k_uid_df.sort_values('popularity', ascending=False).head()"
   ]
  },
  {
   "cell_type": "code",
   "execution_count": 27,
   "id": "e01d50f0",
   "metadata": {
    "execution": {
     "iopub.execute_input": "2024-05-22T22:08:22.506875Z",
     "iopub.status.busy": "2024-05-22T22:08:22.506592Z",
     "iopub.status.idle": "2024-05-22T22:08:22.517607Z",
     "shell.execute_reply": "2024-05-22T22:08:22.516835Z"
    },
    "papermill": {
     "duration": 0.039854,
     "end_time": "2024-05-22T22:08:22.519493",
     "exception": false,
     "start_time": "2024-05-22T22:08:22.479639",
     "status": "completed"
    },
    "tags": []
   },
   "outputs": [],
   "source": [
    "no0_top_k_uid_df = top_k_uid_df.astype({k: float for k in ['forward_n','comment_n','like_n','popularity','median_popularity', 'mean_popularity']})\n",
    "no0_top_k_uid_df.loc[:,['forward_n','comment_n','like_n','popularity','median_popularity', 'mean_popularity']] = no0_top_k_uid_df[['forward_n','comment_n','like_n','popularity','median_popularity', 'mean_popularity']] +.0001"
   ]
  },
  {
   "cell_type": "code",
   "execution_count": 28,
   "id": "6017a42b",
   "metadata": {
    "execution": {
     "iopub.execute_input": "2024-05-22T22:08:22.573489Z",
     "iopub.status.busy": "2024-05-22T22:08:22.573168Z",
     "iopub.status.idle": "2024-05-22T22:08:25.273259Z",
     "shell.execute_reply": "2024-05-22T22:08:25.272264Z"
    },
    "papermill": {
     "duration": 2.729907,
     "end_time": "2024-05-22T22:08:25.275455",
     "exception": false,
     "start_time": "2024-05-22T22:08:22.545548",
     "status": "completed"
    },
    "tags": []
   },
   "outputs": [
    {
     "name": "stderr",
     "output_type": "stream",
     "text": [
      "/tmp/ipykernel_24/939236513.py:15: RuntimeWarning: overflow encountered in exp\n",
      "  return f\"{np.exp(x):.2f}\"\n"
     ]
    },
    {
     "data": {
      "image/png": "[encoded data removed]",
      "text/plain": [
       "<Figure size 640x480 with 1 Axes>"
      ]
     },
     "metadata": {},
     "output_type": "display_data"
    }
   ],
   "source": [
    "warnings.filterwarnings('ignore', category=FutureWarning)\n",
    "ax = sns.histplot(\n",
    "    no0_top_k_uid_df,\n",
    "    x='popularity', hue='uid',\n",
    "    multiple='stack',\n",
    "    #palette='light:m_r',\n",
    "    edgecolor='.3',\n",
    "    linewidth=.5,\n",
    "    log_scale=True,\n",
    "    legend=False,\n",
    ")\n",
    "\n",
    "def exp_formatter(x, pos):\n",
    "    \"\"\"Converts log scale labels back to the exponential scale\"\"\"\n",
    "    return f\"{np.exp(x):.2f}\"\n",
    "\n",
    "ax.get_xaxis().set_major_formatter(mtick.FuncFormatter(exp_formatter))\n",
    "warnings.simplefilter('default', category=FutureWarning)"
   ]
  },
  {
   "cell_type": "code",
   "execution_count": 29,
   "id": "c876d2ad",
   "metadata": {
    "execution": {
     "iopub.execute_input": "2024-05-22T22:08:25.335965Z",
     "iopub.status.busy": "2024-05-22T22:08:25.335249Z",
     "iopub.status.idle": "2024-05-22T22:08:25.350638Z",
     "shell.execute_reply": "2024-05-22T22:08:25.349857Z"
    },
    "papermill": {
     "duration": 0.047043,
     "end_time": "2024-05-22T22:08:25.352572",
     "exception": false,
     "start_time": "2024-05-22T22:08:25.305529",
     "status": "completed"
    },
    "tags": []
   },
   "outputs": [
    {
     "name": "stdout",
     "output_type": "stream",
     "text": [
      "skip for now\n"
     ]
    }
   ],
   "source": [
    "%%script echo 'skip for now'\n",
    "pal = sns.color_palette(palette='coolwarm', n_colors=TOP_K_UID)\n",
    "\n",
    "g = sns.FacetGrid(top_k_uid_df, row='uid', hue='median_popularity', aspect=15, height=.75, palette=pal)\n",
    "\n",
    "g.map(sns.boxplot, y='popularity', clip_on=False,\n",
    "      fill=True, alpha=1, linewidth=1.5)\n",
    "g.map(sns.boxplot, y='popularity', clip_on=False, \n",
    "      color=\"w\", lw=2)\n",
    "\n",
    "#g.refline(y=0, linewidth=2, linestyle=\"-\", color=None, clip_on=False)\n",
    "\n",
    "#for i, ax in enumerate(g.axes.flat):\n",
    "#    ax.text(0, 0, top_uids[i],\n",
    "#            fontweight='bold', fontsize=7,\n",
    "#            color=ax.lines[-1].get_color(),\n",
    "#            ha='left', va='center')\n",
    "\n",
    "g.fig.subplots_adjust(hspace=1)#-.3)\n",
    "\n",
    "g.set_titles('')\n",
    "g.set(yticks=[], ylabel='')\n",
    "g.despine(bottom=True, left=True)\n",
    "\n",
    "ax = g.axes.flat[-1]\n",
    "plt.setp(ax.get_xticklabels(), fontsize=15, fontweight='bold')\n",
    "plt.xlabel('Popularity (forwards, comments and likes combined)', fontweight='bold', fontsize=15)\n",
    "_ = g.fig.suptitle(f'Post potpularity of top {TOP_K_UID} users',\n",
    "               ha='right',\n",
    "               fontsize=20,\n",
    "               fontweight=20)"
   ]
  },
  {
   "cell_type": "markdown",
   "id": "564c80f5",
   "metadata": {
    "papermill": {
     "duration": 0.027619,
     "end_time": "2024-05-22T22:08:25.408324",
     "exception": false,
     "start_time": "2024-05-22T22:08:25.380705",
     "status": "completed"
    },
    "tags": []
   },
   "source": [
    "## Model definition"
   ]
  },
  {
   "cell_type": "markdown",
   "id": "9b31c156",
   "metadata": {
    "papermill": {
     "duration": 0.028383,
     "end_time": "2024-05-22T22:08:25.464341",
     "exception": false,
     "start_time": "2024-05-22T22:08:25.435958",
     "status": "completed"
    },
    "tags": []
   },
   "source": [
    "### Transformer definitions"
   ]
  },
  {
   "cell_type": "code",
   "execution_count": 30,
   "id": "44a8c5f7",
   "metadata": {
    "execution": {
     "iopub.execute_input": "2024-05-22T22:08:25.522767Z",
     "iopub.status.busy": "2024-05-22T22:08:25.522448Z",
     "iopub.status.idle": "2024-05-22T22:08:25.558346Z",
     "shell.execute_reply": "2024-05-22T22:08:25.557601Z"
    },
    "papermill": {
     "duration": 0.067545,
     "end_time": "2024-05-22T22:08:25.560282",
     "exception": false,
     "start_time": "2024-05-22T22:08:25.492737",
     "status": "completed"
    },
    "tags": []
   },
   "outputs": [],
   "source": [
    "def extract_tags_cn(text):\n",
    "    return jbanalyse.extract_tags(text)\n",
    "\n",
    "@CACHE_DIR.cache\n",
    "def cached_tfidf_fit(tf_idf_params, X):\n",
    "    return TfidfVectorizer(**tf_idf_params).fit(X)\n",
    "\n",
    "class TfIdfCachedTransformer(BaseEstimator, TransformerMixin):\n",
    "    def __init__(\n",
    "        self,\n",
    "        tf_idf_params={'analyzer': extract_tags_cn, 'max_features': 512},\n",
    "        cached_fitted_tf_idf=cached_tfidf_fit,\n",
    "    ):\n",
    "        self.tf_idf_params=tf_idf_params\n",
    "        self.cached_fitted_tf_idf=cached_fitted_tf_idf\n",
    "\n",
    "    def fit(self, X, y=None):\n",
    "        self.tf_idf = self.cached_fitted_tf_idf(self.tf_idf_params, X.iloc[:, 0])\n",
    "        return self\n",
    "\n",
    "    def transform(self, X: pd.DataFrame, y=None):\n",
    "        X_trans = pd.DataFrame.sparse.from_spmatrix(\n",
    "            self.tf_idf.transform(X.iloc[:, 0]),\n",
    "            columns=self.tf_idf.get_feature_names_out()\n",
    "        )\n",
    "        return X_trans\n",
    "    \n",
    "    def get_feature_names_out(self, names=None):\n",
    "        return self.tf_idf.get_feature_names_out(names)\n",
    "\n",
    "\n",
    "class DateTimeTransformer(BaseEstimator, TransformerMixin):\n",
    "    def __init__(self, datetime_col='ts', expand=['hour', 'minute'], drop=True):\n",
    "        self.datetime_col = datetime_col\n",
    "        self.expand = expand\n",
    "        self.drop = drop\n",
    "\n",
    "    def fit(self, X, y=None):\n",
    "        self.datetime_col_loc = X.columns.get_loc(self.datetime_col)\n",
    "        return self\n",
    "\n",
    "    def transform(self, X: pd.DataFrame, y=None):\n",
    "        X_transformed = pd.DataFrame(X)\n",
    "        X_transformed[self.datetime_col] = pd.to_datetime(X.iloc[:, self.datetime_col_loc])\n",
    "        if 'hour' in self.expand:\n",
    "            X_transformed['hour'] = X.iloc[:, self.datetime_col_loc].dt.hour\n",
    "        if 'minute' in self.expand:\n",
    "            X_transformed['minute'] = X.iloc[:, self.datetime_col_loc].dt.minute\n",
    "        if 'second' in self.expand:\n",
    "            X_transformed['second'] = X.iloc[:, self.datetime_col_loc].dt.second\n",
    "        if self.drop:\n",
    "            X_transformed = X_transformed.drop(X_transformed. columns[self.datetime_col_loc], axis=1)\n",
    "        return X_transformed\n",
    "\n",
    "\n",
    "class PopularityTransformer(BaseEstimator, TransformerMixin):\n",
    "    def __init__(\n",
    "        self,\n",
    "        classifier=ClassifierChain(\n",
    "                CatBoostClassifier(\n",
    "                    iterations=2000,\n",
    "                    task_type=gpu_or_else('GPU', 'CPU'),\n",
    "                    devices=list(range(get_gpu_device_count())),\n",
    "                    boosting_type='Plain',\n",
    "                    verbose=False,\n",
    "                )\n",
    "        ),\n",
    "        get_classes=lambda y: next(\n",
    "            (l for t, l in [\n",
    "                (1, 0),\n",
    "                (6, 5),\n",
    "                (101, 100),\n",
    "                (1_001, 1_000),\n",
    "                (10_001, 10_000)\n",
    "            ] if y <= t),\n",
    "            10_001\n",
    "        )\n",
    "    ):\n",
    "        self.classifier = classifier\n",
    "        self.get_classes = np.vectorize(get_classes)\n",
    "\n",
    "    def fit(self, X, y=None):\n",
    "        y_ = self.get_classes(y)\n",
    "        self.classifier = self.classifier.fit(X, y_)\n",
    "        return self\n",
    "\n",
    "    def transform(self, X: pd.DataFrame, y=None):\n",
    "        X[[str(i) for i in self.classifier.classes_]] = self.classifier.predict_proba(X)\n",
    "        return X\n",
    "    \n",
    "class OutputRegressor(BaseEstimator, RegressorMixin):\n",
    "    def __init__(\n",
    "        self,\n",
    "        model,\n",
    "        transformation=lambda x: np.where(np.round(x)<=1, 0, np.round(x))\n",
    "    ):\n",
    "        self.model = model\n",
    "        self.transformation = transformation\n",
    "\n",
    "    def fit(self, X, y):\n",
    "        self.model.fit(X, y)\n",
    "        return self\n",
    "\n",
    "    def predict(self, X):\n",
    "        predictions = self.model.predict(X)\n",
    "        return self.transformation(predictions)"
   ]
  },
  {
   "cell_type": "code",
   "execution_count": 31,
   "id": "ec25704a",
   "metadata": {
    "execution": {
     "iopub.execute_input": "2024-05-22T22:08:25.616541Z",
     "iopub.status.busy": "2024-05-22T22:08:25.616203Z",
     "iopub.status.idle": "2024-05-22T22:08:25.624873Z",
     "shell.execute_reply": "2024-05-22T22:08:25.624013Z"
    },
    "papermill": {
     "duration": 0.039005,
     "end_time": "2024-05-22T22:08:25.626752",
     "exception": false,
     "start_time": "2024-05-22T22:08:25.587747",
     "status": "completed"
    },
    "tags": []
   },
   "outputs": [
    {
     "name": "stdout",
     "output_type": "stream",
     "text": [
      "TODO fix\n"
     ]
    }
   ],
   "source": [
    "%%script echo 'TODO fix'\n",
    "p = make_pipeline(\n",
    "    make_column_transformer(\n",
    "        (OneHotEncoder(handle_unknown='ignore'), make_column_selector(pattern='uid'))\n",
    "    ),\n",
    "    PopularityTransformer()#TODO: fix probability prediction\n",
    ").fit(X_tmp, y_tmp)"
   ]
  },
  {
   "cell_type": "code",
   "execution_count": 32,
   "id": "62eee44e",
   "metadata": {
    "execution": {
     "iopub.execute_input": "2024-05-22T22:08:25.683129Z",
     "iopub.status.busy": "2024-05-22T22:08:25.682847Z",
     "iopub.status.idle": "2024-05-22T22:08:25.691772Z",
     "shell.execute_reply": "2024-05-22T22:08:25.690898Z"
    },
    "papermill": {
     "duration": 0.038302,
     "end_time": "2024-05-22T22:08:25.693750",
     "exception": false,
     "start_time": "2024-05-22T22:08:25.655448",
     "status": "completed"
    },
    "tags": []
   },
   "outputs": [
    {
     "name": "stdout",
     "output_type": "stream",
     "text": [
      "TODO fix\n"
     ]
    }
   ],
   "source": [
    "%%script echo 'TODO fix'\n",
    "p.steps[1][1].classifier.predict(X_tmp)"
   ]
  },
  {
   "cell_type": "markdown",
   "id": "ba5836e2",
   "metadata": {
    "papermill": {
     "duration": 0.028117,
     "end_time": "2024-05-22T22:08:25.748683",
     "exception": false,
     "start_time": "2024-05-22T22:08:25.720566",
     "status": "completed"
    },
    "tags": []
   },
   "source": [
    "### Userid Model"
   ]
  },
  {
   "cell_type": "code",
   "execution_count": 33,
   "id": "3e7ca018",
   "metadata": {
    "execution": {
     "iopub.execute_input": "2024-05-22T22:08:25.805221Z",
     "iopub.status.busy": "2024-05-22T22:08:25.804509Z",
     "iopub.status.idle": "2024-05-22T22:08:25.810405Z",
     "shell.execute_reply": "2024-05-22T22:08:25.809562Z"
    },
    "papermill": {
     "duration": 0.036488,
     "end_time": "2024-05-22T22:08:25.812284",
     "exception": false,
     "start_time": "2024-05-22T22:08:25.775796",
     "status": "completed"
    },
    "tags": []
   },
   "outputs": [],
   "source": [
    "def get_user_id_model(outputkwargs={}, gbkwargs={}):\n",
    "    return make_pipeline(\n",
    "        make_column_transformer(\n",
    "            (OneHotEncoder(handle_unknown='ignore'), make_column_selector(pattern='uid'))\n",
    "        ),\n",
    "        RegressorChain(\n",
    "            OutputRegressor(\n",
    "                #CatBoostRegressor(\n",
    "                #    task_type=gpu_or_else('GPU', 'CPU'),\n",
    "                #    devices=list(range(get_gpu_device_count())),\n",
    "                #    boosting_type='Plain',\n",
    "                #    has_time=True,\n",
    "                #    verbose=False,\n",
    "                #    **catkwargs,\n",
    "                #),\n",
    "                LGBMRegressor(\n",
    "                    device=gpu_or_else('cpu', 'cpu'),\n",
    "                    **gbkwargs,\n",
    "                ),#'cuda'\n",
    "                **outputkwargs,\n",
    "            ),\n",
    "            verbose=False\n",
    "        )\n",
    "    )"
   ]
  },
  {
   "cell_type": "markdown",
   "id": "6e41efe4",
   "metadata": {
    "papermill": {
     "duration": 0.026644,
     "end_time": "2024-05-22T22:08:25.866424",
     "exception": false,
     "start_time": "2024-05-22T22:08:25.839780",
     "status": "completed"
    },
    "tags": []
   },
   "source": [
    "### Catboost all features"
   ]
  },
  {
   "cell_type": "code",
   "execution_count": 34,
   "id": "b010481b",
   "metadata": {
    "execution": {
     "iopub.execute_input": "2024-05-22T22:08:25.921272Z",
     "iopub.status.busy": "2024-05-22T22:08:25.920780Z",
     "iopub.status.idle": "2024-05-22T22:08:25.927420Z",
     "shell.execute_reply": "2024-05-22T22:08:25.926541Z"
    },
    "papermill": {
     "duration": 0.035929,
     "end_time": "2024-05-22T22:08:25.929192",
     "exception": false,
     "start_time": "2024-05-22T22:08:25.893263",
     "status": "completed"
    },
    "tags": []
   },
   "outputs": [],
   "source": [
    "def get_cat_all_features_model(outputkwargs={}, gbkwargs={}): \n",
    "    return make_pipeline(\n",
    "        DateTimeTransformer(datetime_col='ts', expand=['hour', 'minute', 'second'], drop=True),\n",
    "        make_column_transformer(\n",
    "            (OneHotEncoder(handle_unknown='ignore'),['uid', 'mid']),\n",
    "            ('passthrough',['hour', 'minute', 'second']),\n",
    "            (TfIdfCachedTransformer(),['content']),\n",
    "        ),\n",
    "        RegressorChain(\n",
    "            OutputRegressor(\n",
    "                #CatBoostRegressor(\n",
    "                #    task_type=gpu_or_else('GPU', 'CPU'),\n",
    "                #    devices=list(range(get_gpu_device_count())),\n",
    "                #    boosting_type='Plain',\n",
    "                #    has_time=True,\n",
    "                #    verbose=False,\n",
    "                #    **catkwargs,\n",
    "                #),\n",
    "                LGBMRegressor(\n",
    "                    device=gpu_or_else('cpu', 'cpu'),\n",
    "                    **gbkwargs,\n",
    "                ),\n",
    "                **outputkwargs\n",
    "            ),\n",
    "            verbose=False\n",
    "        )\n",
    "    )"
   ]
  },
  {
   "cell_type": "markdown",
   "id": "6eab2bc5",
   "metadata": {
    "papermill": {
     "duration": 0.026922,
     "end_time": "2024-05-22T22:08:25.983574",
     "exception": false,
     "start_time": "2024-05-22T22:08:25.956652",
     "status": "completed"
    },
    "tags": []
   },
   "source": [
    "### ItemCF model"
   ]
  },
  {
   "cell_type": "code",
   "execution_count": 35,
   "id": "4108225d",
   "metadata": {
    "execution": {
     "iopub.execute_input": "2024-05-22T22:08:26.039311Z",
     "iopub.status.busy": "2024-05-22T22:08:26.039043Z",
     "iopub.status.idle": "2024-05-22T22:08:26.055287Z",
     "shell.execute_reply": "2024-05-22T22:08:26.054536Z"
    },
    "papermill": {
     "duration": 0.046333,
     "end_time": "2024-05-22T22:08:26.057184",
     "exception": false,
     "start_time": "2024-05-22T22:08:26.010851",
     "status": "completed"
    },
    "tags": []
   },
   "outputs": [
    {
     "name": "stdout",
     "output_type": "stream",
     "text": [
      "#TODO skip for now\n"
     ]
    }
   ],
   "source": [
    "%%script echo '#TODO skip for now'\n",
    "class ItemCF:\n",
    "    def __init__(self, data):\n",
    "        self.data = data\n",
    "\n",
    "    def user_item(self):  # Training set converted to dict\n",
    "        data = self.data\n",
    "        self.traindata = {}\n",
    "        for user, item, time in np.array(data).tolist():\n",
    "            self.traindata.setdefault(user, {})\n",
    "            self.traindata[user][item] = 1  # time\n",
    "\n",
    "    def ItemSimilarity(self, alpha=1):\n",
    "        train = self.traindata\n",
    "        # calculate co-rated users between items\n",
    "        C = dict()\n",
    "        N = dict()\n",
    "        for u, items in train.items():\n",
    "            for i, tui in items.items():\n",
    "                N.setdefault(i, 0)\n",
    "                N[i] += 1\n",
    "                for j, tuj in items.items():\n",
    "                    C.setdefault(i, {})\n",
    "                    if i == j:\n",
    "                        continue\n",
    "                    C[i].setdefault(j, 0)\n",
    "                    C[i][j] += 1 / (1 + alpha * abs(tui - tuj))\n",
    "        # calculate finial similarity matrix W\n",
    "        W = dict()\n",
    "        for i, related_items in C.items():\n",
    "            W.setdefault(i, {})\n",
    "            for j, cij in related_items.items():\n",
    "                W[i].setdefault(j, 0)\n",
    "                W[i][j] = cij / math.sqrt(N[i] * N[j] * 1.0)\n",
    "        self.itemSim = W\n",
    "\n",
    "    def recommend(self, user, tid=1, k=1, beta=1):\n",
    "        W = self.itemSim\n",
    "        train = self.traindata\n",
    "        rank = dict()\n",
    "        ru = train.get(user, {})\n",
    "        for i, tui in ru.items():\n",
    "            for j, wj in W[i].items():\n",
    "                if j in ru.keys():\n",
    "                    continue\n",
    "                rank.setdefault(j, 0)\n",
    "                rank[j] += wj / (1 + beta * abs(tid - tui))\n",
    "        return dict(sorted(rank.items(), key=lambda x: x[1], reverse=True)[0:k])\n",
    "\n",
    "\n",
    "\n",
    "class cWeibo:\n",
    "\n",
    "    def __init__(self, path):\n",
    "        self.path = path\n",
    "\n",
    "    def importData(self):\n",
    "        path = self.path\n",
    "        # import sample set\n",
    "        data = pd.read_csv(path,\n",
    "                           encoding='utf8', sep='\\t',\n",
    "                           names=['luid', 'mid', 'time', 'fcs', 'ccs', 'lcs', 'cont'])  # nrows=1000\n",
    "        data['fcs'] = data['fcs'].astype('int')  # one week after repost，weight 0.5\n",
    "        data['ccs'] = data['ccs'].astype('int')  # one week after comments,  0.25\n",
    "        data['lcs'] = data['lcs'].astype('int')  # one week after likes 0.25\n",
    "        train, test = model_selection.train_test_split(data, test_size=0.2)\n",
    "        self.traindata = pd.DataFrame(data)  # train set\n",
    "        self.testdata = pd.DataFrame(test)  # test set\n",
    "\n",
    "        data = pd.read_csv(\n",
    "            path,\n",
    "            encoding='utf8', sep='\\t', names=['luid', 'mid', 'time', 'cont'])  # nrows=100\n",
    "        self.predata = data  # predict set\n",
    "\n",
    "    def ETL(self):\n",
    "\n",
    "        # Convert time to 0-23 numbers, taking into account special holidays if necessary.\n",
    "        self.traindata['time'] = self.traindata.apply(lambda x: (time.strptime(x['time'], \"%Y-%m-%d %H:%M:%S\")).tm_hour,\n",
    "                                                      axis=1)\n",
    "        self.traindata.rename(columns=lambda x: x.replace('time', 'tid'), inplace=True)  # rename tid\n",
    "        self.testdata['time'] = self.testdata.apply(lambda x: (time.strptime(x['time'], \"%Y-%m-%d %H:%M:%S\")).tm_hour,\n",
    "                                                    axis=1)\n",
    "        self.testdata.rename(columns=lambda x: x.replace('time', 'tid'), inplace=True)\n",
    "        self.predata['time'] = self.predata.apply(lambda x: (time.strptime(x['time'], \"%Y-%m-%d %H:%M:%S\")).tm_hour,\n",
    "                                                  axis=1)\n",
    "        self.predata.rename(columns=lambda x: x.replace('time', 'tid'), inplace=True)\n",
    "        # content analysis , consider special meaning words likes red poket\n",
    "        # jieba.suggest_freq('@', True)\n",
    "        self.traindata['cont'] = self.traindata['cont'].astype(str).fillna('')\n",
    "        self.traindata['cont'] = self.traindata.apply(lambda x: \",\".join(jieba.analyse.extract_tags(x['cont'], topK=50, \\\n",
    "                                                                                                    allowPOS=(\n",
    "                                                                                                    'n', 'nr', 'ns',\n",
    "                                                                                                    'nt', 'nz', 'a',\n",
    "                                                                                                    'ad', 'an', 'f',\n",
    "                                                                                                    's', 'i', 't', 'v',\n",
    "                                                                                                    'vd', 'vn'))),\n",
    "                                                      axis=1)\n",
    "        self.traindata = self.traindata.drop('cont', axis=1).join(\n",
    "            self.traindata['cont'].str.split(',', expand=True).stack().reset_index(level=1, drop=True).rename('tag'))\n",
    "\n",
    "        self.testdata['cont'] = self.testdata['cont'].astype(str).fillna('')\n",
    "        self.testdata['cont'] = self.testdata.apply(lambda x: \",\".join(jieba.analyse.extract_tags(x['cont'], topK=50, \\\n",
    "                                                                                                  allowPOS=(\n",
    "                                                                                                  'n', 'nr', 'ns', 'nt',\n",
    "                                                                                                  'nz', 'a', 'ad', 'an',\n",
    "                                                                                                  'f', 's', 'i', 't',\n",
    "                                                                                                  'v', 'vd', 'vn'))),\n",
    "                                                    axis=1)\n",
    "        self.testdata = self.testdata.drop('cont', axis=1).join(\n",
    "            self.testdata['cont'].str.split(',', expand=True).stack().reset_index(level=1, drop=True).rename('tag'))\n",
    "\n",
    "        self.predata['cont'] = self.predata['cont'].astype(str).fillna('')\n",
    "        self.predata['cont'] = self.predata.apply(lambda x: \",\".join(jieba.analyse.extract_tags(x['cont'], topK=50, \\\n",
    "                                                                                                allowPOS=(\n",
    "                                                                                                'n', 'nr', 'ns', 'nt',\n",
    "                                                                                                'nz', 'a', 'ad', 'an',\n",
    "                                                                                                'f', 's', 'i', 't', 'v',\n",
    "                                                                                                'vd', 'vn'))), axis=1)\n",
    "        self.predata = self.predata.drop('cont', axis=1).join(\n",
    "            self.predata['cont'].str.split(',', expand=True).stack().reset_index(level=1, drop=True).rename('tag'))\n",
    "        # Create indexing\n",
    "        ft_train = set(self.traindata.iloc[:, 6])\n",
    "        ft_pred = set(self.predata.iloc[:, 3])\n",
    "        ft = list(ft_train.symmetric_difference(ft_pred))\n",
    "        df_ft = pd.DataFrame(ft, columns=['tag'])\n",
    "        df_ft['fid'] = df_ft.index\n",
    "        self.traindata = pd.merge(self.traindata, df_ft, on=['tag'], how='left')\n",
    "        self.traindata = self.traindata[['luid', 'mid', 'tid', 'fid', 'fcs', 'ccs', 'lcs']]\n",
    "        self.traindata = self.traindata.dropna(axis=0, how='any')\n",
    "        self.traindata['fid'] = self.traindata['fid'].astype('int')\n",
    "        print(self.traindata.shape)\n",
    "        self.testdata = pd.merge(self.testdata, df_ft, on=['tag'], how='left')\n",
    "        self.testdata = self.testdata[['luid', 'mid', 'tid', 'fid', 'fcs', 'ccs', 'lcs']]\n",
    "        self.testdata = self.testdata.dropna(axis=0, how='any')\n",
    "        self.testdata['fid'] = self.testdata['fid'].astype('int')\n",
    "        print(self.testdata.shape)\n",
    "        self.predata = pd.merge(self.predata, df_ft, on=['tag'], how='left')\n",
    "        self.predata = self.predata[['luid', 'mid', 'tid', 'fid']]\n",
    "        self.predata = self.predata.dropna(axis=0, how='any')\n",
    "        self.predata['fid'] = self.predata['fid'].astype('int')\n",
    "        print(self.predata.shape)\n",
    "\n",
    "    def callItemCF(self):\n",
    "        data = self.traindata\n",
    "\n",
    "        data_f = data[['fid', 'fcs', 'tid']]\n",
    "        data_c = data[['fid', 'ccs', 'tid']]\n",
    "        data_l = data[['fid', 'lcs', 'tid']]\n",
    "        # Training the Retweet Count Recommendation Model\n",
    "        ic_f = ItemCF(data_f)\n",
    "        ic_f.user_item()  # Transform into dict and generate training and test sets\n",
    "        ic_f.ItemSimilarity()  # Generate item similarity matrix\n",
    "        self.ic_f = ic_f\n",
    "\n",
    "        ic_c = ItemCF(data_c)\n",
    "        ic_c.user_item()\n",
    "        ic_c.ItemSimilarity()\n",
    "        self.ic_c = ic_c\n",
    "\n",
    "        ic_l = ItemCF(data_l)\n",
    "        ic_l.user_item()\n",
    "        ic_l.ItemSimilarity()\n",
    "        self.ic_l = ic_l\n",
    "\n",
    "        test = self.testdata\n",
    "        test_f = test[['mid', 'fid', 'tid', 'fcs']]\n",
    "        test_c = test[['mid', 'fid', 'tid', 'ccs']]\n",
    "        test_l = test[['mid', 'fid', 'tid', 'lcs']]\n",
    "        test_f['pfcs'] = test_f.apply(\n",
    "            lambda x: list(ic_f.recommend(x['fid']).keys())[0] if ic_f.recommend(x['fid']) else 0, axis=1)\n",
    "\n",
    "        test_c['pccs'] = test_c.apply(\n",
    "            lambda x: list(ic_c.recommend(x['fid']).keys())[0] if ic_c.recommend(x['fid']) else 0, axis=1)\n",
    "\n",
    "        test_l['plcs'] = test_l.apply(\n",
    "            lambda x: list(ic_l.recommend(x['fid']).keys())[0] if ic_l.recommend(x['fid']) else 0, axis=1)\n",
    "\n",
    "        # 计算准确率\n",
    "        precision = self.precision(test_f[['mid', 'fcs', 'pfcs']], test_c[['mid', 'ccs', 'pccs']],\n",
    "                                   test_l[['mid', 'lcs', 'plcs']])\n",
    "        print(precision)\n",
    "\n",
    "    def precision(self, test_f, test_c, test_l):  # calculate precision\n",
    "        test_f = test_f.groupby('mid').mean()\n",
    "        test_c = test_c.groupby('mid').mean()\n",
    "        test_l = test_l.groupby('mid').mean()\n",
    "\n",
    "        # print(test_f.columns.tolist)\n",
    "        test_f['dev_f'] = abs(test_f['fcs'] - test_f['pfcs']) / np.clip(test_f['fcs'] + 5, 1, None)\n",
    "        test_c['dev_c'] = abs(test_c['ccs'] - test_c['pccs']) / np.clip(test_c['ccs'] + 3, 1, None)\n",
    "        test_l['dev_l'] = abs(test_l['lcs'] - test_l['plcs']) / np.clip(test_l['lcs'] + 3, 1, None)\n",
    "\n",
    "        test = test_f\n",
    "        test = pd.merge(test, test_c, left_index=True, right_index=True)  # 以索引连接\n",
    "        test = pd.merge(test, test_l, left_index=True, right_index=True)\n",
    "\n",
    "        test['prec'] = 1 - 0.5 * test['dev_f'] - 0.25 * test['dev_c'] - 0.25 * test['dev_l']\n",
    "\n",
    "        test['count'] = np.where(test['pfcs'] + test['pccs'] + test['plcs'] > 100, 100,\n",
    "                                 test['pfcs'] + test['pccs'] + test['plcs'])\n",
    "\n",
    "\n",
    "        test['sgn'] = np.where(test['prec'] > 0.8, 1, 0)\n",
    "        test['on'] = (test['count'] + 1) * test['sgn']\n",
    "        test['down'] = test['count'] + 1\n",
    "\n",
    "        prec_df = test[['on', 'down']]\n",
    "\n",
    "        on = prec_df['on'].sum()\n",
    "        down = prec_df['down'].sum()\n",
    "        return (on / down)\n",
    "\n",
    "    def predict(self):\n",
    "        '''\n",
    "        Name of document：weibo_result_data.txt\n",
    "        '''\n",
    "\n",
    "\n",
    "        predata = self.predata[['luid', 'mid', 'tid', 'fid']]\n",
    "\n",
    "        predata['recommend_f'] = predata['fid'].apply(lambda x: self.ic_f.recommend(x))\n",
    "        predata['recommend_c'] = predata['fid'].apply(lambda x: self.ic_c.recommend(x))\n",
    "        predata['recommend_l'] = predata['fid'].apply(lambda x: self.ic_l.recommend(x))\n",
    "\n",
    "        predata['pfcs'] = predata['recommend_f'].apply(lambda x: list(x.keys())[0] if x else 0)\n",
    "        predata['pccs'] = predata['recommend_c'].apply(lambda x: list(x.keys())[0] if x else 0)\n",
    "        predata['plcs'] = predata['recommend_l'].apply(lambda x: list(x.keys())[0] if x else 0)\n",
    "\n",
    "        predata['results'] = predata.apply(\n",
    "            lambda x: f\"{int(x['pfcs'])},{int(x['pccs'])},{int(x['plcs'])}\", axis=1)\n",
    "\n",
    "        result_data = predata[['luid', 'mid', 'results']]\n",
    "        result_data = result_data.drop_duplicates(subset=['luid', 'mid'])\n",
    "\n",
    "        result_data.to_csv('weibo_result_data.txt', sep='\\t', index=False, header=False)\n",
    "\n",
    "        print(\"File has been saved as 'weibo_result_data.txt'.\")\n",
    "        print(result_data.shape)\n",
    "\n",
    "\n",
    "#get_item_cf_model = lambda:"
   ]
  },
  {
   "cell_type": "markdown",
   "id": "42e00a9a",
   "metadata": {
    "papermill": {
     "duration": 0.026565,
     "end_time": "2024-05-22T22:08:26.111061",
     "exception": false,
     "start_time": "2024-05-22T22:08:26.084496",
     "status": "completed"
    },
    "tags": []
   },
   "source": [
    "### Model list"
   ]
  },
  {
   "cell_type": "code",
   "execution_count": 36,
   "id": "3f914518",
   "metadata": {
    "execution": {
     "iopub.execute_input": "2024-05-22T22:08:26.167176Z",
     "iopub.status.busy": "2024-05-22T22:08:26.166425Z",
     "iopub.status.idle": "2024-05-22T22:08:26.176919Z",
     "shell.execute_reply": "2024-05-22T22:08:26.176114Z"
    },
    "papermill": {
     "duration": 0.040853,
     "end_time": "2024-05-22T22:08:26.178775",
     "exception": false,
     "start_time": "2024-05-22T22:08:26.137922",
     "status": "completed"
    },
    "tags": []
   },
   "outputs": [],
   "source": [
    "# TODO: cat boost sklearn.MutiRegression with maxbe custom loss to optimize\n",
    "\n",
    "models: list[tuple[str,BaseEstimator]] = [\n",
    "    ('base-0', DummyRegressor(strategy='constant', constant=[0,0,0])),\n",
    "    ('user-id', get_user_id_model()),\n",
    "    (\n",
    "        'user-id<2',\n",
    "        get_user_id_model(\n",
    "            outputkwargs={'transformation': lambda x: np.where(np.round(x)<=2, 0, np.round(x))},\n",
    "        )\n",
    "    ),\n",
    "    (\n",
    "        'user-id-2000',\n",
    "        get_user_id_model(\n",
    "            gbkwargs={'num_iterations': 2_000},\n",
    "            outputkwargs={'transformation': lambda x: np.where(np.round(x)<=2, 0, np.round(x))},\n",
    "        )\n",
    "    ),\n",
    "    #(\n",
    "    #    'user-id-6000',\n",
    "    #    get_user_id_model(\n",
    "    #        gbkwargs={'num_iterations': 6_000},\n",
    "    #        outputkwargs={'transformation': lambda x: np.where(np.round(x)<=2, 0, np.round(x))},\n",
    "    #    )\n",
    "    #),\n",
    "    ('gb-all', get_cat_all_features_model()),\n",
    "    (\n",
    "        'gb-all<2', \n",
    "         get_cat_all_features_model(\n",
    "            outputkwargs={'transformation': lambda x: np.where(np.round(x)<=2, 0, np.round(x))},\n",
    "         )\n",
    "    ),\n",
    "    (\n",
    "        'gb-all-3000',\n",
    "        get_cat_all_features_model(\n",
    "            gbkwargs={'num_iterations': 3_000},\n",
    "            outputkwargs={'transformation': lambda x: np.where(np.round(x)<=2, 0, np.round(x))},\n",
    "        )\n",
    "    ),\n",
    "    (\n",
    "        'gb-all-6000',\n",
    "        get_cat_all_features_model(\n",
    "            gbkwargs={'num_iterations': 6_000},\n",
    "            outputkwargs={'transformation': lambda x: np.where(np.round(x)<=2, 0, np.round(x))},\n",
    "        )\n",
    "    ),\n",
    "]"
   ]
  },
  {
   "cell_type": "markdown",
   "id": "e6438b42",
   "metadata": {
    "papermill": {
     "duration": 0.027115,
     "end_time": "2024-05-22T22:08:26.233558",
     "exception": false,
     "start_time": "2024-05-22T22:08:26.206443",
     "status": "completed"
    },
    "tags": []
   },
   "source": [
    "## Eval"
   ]
  },
  {
   "cell_type": "code",
   "execution_count": 37,
   "id": "453be9eb",
   "metadata": {
    "execution": {
     "iopub.execute_input": "2024-05-22T22:08:26.289074Z",
     "iopub.status.busy": "2024-05-22T22:08:26.288745Z",
     "iopub.status.idle": "2024-05-22T22:08:26.292847Z",
     "shell.execute_reply": "2024-05-22T22:08:26.292045Z"
    },
    "papermill": {
     "duration": 0.034154,
     "end_time": "2024-05-22T22:08:26.294724",
     "exception": false,
     "start_time": "2024-05-22T22:08:26.260570",
     "status": "completed"
    },
    "tags": []
   },
   "outputs": [],
   "source": [
    "ts_cv = TimeSeriesSplit(n_splits=CV_SPLITS)"
   ]
  },
  {
   "cell_type": "code",
   "execution_count": 38,
   "id": "8638bf5f",
   "metadata": {
    "execution": {
     "iopub.execute_input": "2024-05-22T22:08:26.350224Z",
     "iopub.status.busy": "2024-05-22T22:08:26.349957Z",
     "iopub.status.idle": "2024-05-23T03:35:16.629336Z",
     "shell.execute_reply": "2024-05-23T03:35:16.628431Z"
    },
    "papermill": {
     "duration": 19610.352701,
     "end_time": "2024-05-23T03:35:16.674334",
     "exception": false,
     "start_time": "2024-05-22T22:08:26.321633",
     "status": "completed"
    },
    "tags": []
   },
   "outputs": [
    {
     "data": {
      "application/vnd.jupyter.widget-view+json": {
       "model_id": "924fb1d9f3ef45e29b5f99c962263c17",
       "version_major": 2,
       "version_minor": 0
      },
      "text/plain": [
       "eval models:   0%|          | 0/8 [00:00<?, ?cv/s]"
      ]
     },
     "metadata": {},
     "output_type": "display_data"
    },
    {
     "name": "stdout",
     "output_type": "stream",
     "text": [
      "[LightGBM] [Info] Auto-choosing col-wise multi-threading, the overhead of testing was 0.006461 seconds.\n",
      "You can set `force_col_wise=true` to remove the overhead.\n",
      "[LightGBM] [Info] Total Bins 2820\n",
      "[LightGBM] [Info] Number of data points in the train set: 166670, number of used features: 1410\n",
      "[LightGBM] [Info] Start training from score 3.402292\n",
      "[LightGBM] [Info] Auto-choosing col-wise multi-threading, the overhead of testing was 0.006433 seconds.\n",
      "You can set `force_col_wise=true` to remove the overhead.\n",
      "[LightGBM] [Info] Total Bins 3075\n",
      "[LightGBM] [Info] Number of data points in the train set: 166670, number of used features: 1411\n",
      "[LightGBM] [Info] Start training from score 1.244321\n",
      "[LightGBM] [Info] Auto-choosing col-wise multi-threading, the overhead of testing was 0.009101 seconds.\n",
      "You can set `force_col_wise=true` to remove the overhead.\n",
      "[LightGBM] [Info] Total Bins 3209\n",
      "[LightGBM] [Info] Number of data points in the train set: 166670, number of used features: 1412\n",
      "[LightGBM] [Info] Start training from score 2.149421\n"
     ]
    },
    {
     "name": "stderr",
     "output_type": "stream",
     "text": [
      "/opt/conda/lib/python3.10/site-packages/lightgbm/basic.py:1192: UserWarning: Converting data to scipy sparse matrix.\n",
      "  _log_warning('Converting data to scipy sparse matrix.')\n"
     ]
    },
    {
     "name": "stdout",
     "output_type": "stream",
     "text": [
      "[LightGBM] [Info] Auto-choosing col-wise multi-threading, the overhead of testing was 0.008053 seconds.\n",
      "You can set `force_col_wise=true` to remove the overhead.\n",
      "[LightGBM] [Info] Total Bins 7366\n",
      "[LightGBM] [Info] Number of data points in the train set: 333336, number of used features: 3683\n",
      "[LightGBM] [Info] Start training from score 3.484100\n",
      "[LightGBM] [Info] Auto-choosing col-wise multi-threading, the overhead of testing was 0.012802 seconds.\n",
      "You can set `force_col_wise=true` to remove the overhead.\n",
      "[LightGBM] [Info] Total Bins 7621\n",
      "[LightGBM] [Info] Number of data points in the train set: 333336, number of used features: 3684\n",
      "[LightGBM] [Info] Start training from score 1.251677\n",
      "[LightGBM] [Info] Auto-choosing col-wise multi-threading, the overhead of testing was 0.018952 seconds.\n",
      "You can set `force_col_wise=true` to remove the overhead.\n",
      "[LightGBM] [Info] Total Bins 7771\n",
      "[LightGBM] [Info] Number of data points in the train set: 333336, number of used features: 3685\n",
      "[LightGBM] [Info] Start training from score 2.146033\n"
     ]
    },
    {
     "name": "stderr",
     "output_type": "stream",
     "text": [
      "/opt/conda/lib/python3.10/site-packages/lightgbm/basic.py:1192: UserWarning: Converting data to scipy sparse matrix.\n",
      "  _log_warning('Converting data to scipy sparse matrix.')\n"
     ]
    },
    {
     "name": "stdout",
     "output_type": "stream",
     "text": [
      "[LightGBM] [Info] Auto-choosing col-wise multi-threading, the overhead of testing was 0.006465 seconds.\n",
      "You can set `force_col_wise=true` to remove the overhead.\n",
      "[LightGBM] [Info] Total Bins 11972\n",
      "[LightGBM] [Info] Number of data points in the train set: 500002, number of used features: 5986\n",
      "[LightGBM] [Info] Start training from score 3.420388\n",
      "[LightGBM] [Info] Auto-choosing col-wise multi-threading, the overhead of testing was 0.021449 seconds.\n",
      "You can set `force_col_wise=true` to remove the overhead.\n",
      "[LightGBM] [Info] Total Bins 12227\n",
      "[LightGBM] [Info] Number of data points in the train set: 500002, number of used features: 5987\n",
      "[LightGBM] [Info] Start training from score 1.259881\n",
      "[LightGBM] [Info] Auto-choosing col-wise multi-threading, the overhead of testing was 0.029642 seconds.\n",
      "You can set `force_col_wise=true` to remove the overhead.\n",
      "[LightGBM] [Info] Total Bins 12373\n",
      "[LightGBM] [Info] Number of data points in the train set: 500002, number of used features: 5988\n",
      "[LightGBM] [Info] Start training from score 2.127225\n"
     ]
    },
    {
     "name": "stderr",
     "output_type": "stream",
     "text": [
      "/opt/conda/lib/python3.10/site-packages/lightgbm/basic.py:1192: UserWarning: Converting data to scipy sparse matrix.\n",
      "  _log_warning('Converting data to scipy sparse matrix.')\n"
     ]
    },
    {
     "name": "stdout",
     "output_type": "stream",
     "text": [
      "[LightGBM] [Info] Auto-choosing col-wise multi-threading, the overhead of testing was 0.007884 seconds.\n",
      "You can set `force_col_wise=true` to remove the overhead.\n",
      "[LightGBM] [Info] Total Bins 16398\n",
      "[LightGBM] [Info] Number of data points in the train set: 666668, number of used features: 8199\n",
      "[LightGBM] [Info] Start training from score 3.582765\n",
      "[LightGBM] [Info] Auto-choosing col-wise multi-threading, the overhead of testing was 0.026282 seconds.\n",
      "You can set `force_col_wise=true` to remove the overhead.\n",
      "[LightGBM] [Info] Total Bins 16653\n",
      "[LightGBM] [Info] Number of data points in the train set: 666668, number of used features: 8200\n",
      "[LightGBM] [Info] Start training from score 1.272471\n",
      "[LightGBM] [Info] Auto-choosing col-wise multi-threading, the overhead of testing was 0.039873 seconds.\n",
      "You can set `force_col_wise=true` to remove the overhead.\n",
      "[LightGBM] [Info] Total Bins 16803\n",
      "[LightGBM] [Info] Number of data points in the train set: 666668, number of used features: 8201\n",
      "[LightGBM] [Info] Start training from score 2.185224\n"
     ]
    },
    {
     "name": "stderr",
     "output_type": "stream",
     "text": [
      "/opt/conda/lib/python3.10/site-packages/lightgbm/basic.py:1192: UserWarning: Converting data to scipy sparse matrix.\n",
      "  _log_warning('Converting data to scipy sparse matrix.')\n"
     ]
    },
    {
     "name": "stdout",
     "output_type": "stream",
     "text": [
      "[LightGBM] [Info] Auto-choosing col-wise multi-threading, the overhead of testing was 0.010019 seconds.\n",
      "You can set `force_col_wise=true` to remove the overhead.\n",
      "[LightGBM] [Info] Total Bins 20080\n",
      "[LightGBM] [Info] Number of data points in the train set: 833334, number of used features: 10040\n",
      "[LightGBM] [Info] Start training from score 3.509508\n",
      "[LightGBM] [Info] Auto-choosing col-wise multi-threading, the overhead of testing was 0.033902 seconds.\n",
      "You can set `force_col_wise=true` to remove the overhead.\n",
      "[LightGBM] [Info] Total Bins 20335\n",
      "[LightGBM] [Info] Number of data points in the train set: 833334, number of used features: 10041\n",
      "[LightGBM] [Info] Start training from score 1.265026\n",
      "[LightGBM] [Info] Auto-choosing col-wise multi-threading, the overhead of testing was 0.051043 seconds.\n",
      "You can set `force_col_wise=true` to remove the overhead.\n",
      "[LightGBM] [Info] Total Bins 20480\n",
      "[LightGBM] [Info] Number of data points in the train set: 833334, number of used features: 10042\n",
      "[LightGBM] [Info] Start training from score 2.187665\n"
     ]
    },
    {
     "name": "stderr",
     "output_type": "stream",
     "text": [
      "/opt/conda/lib/python3.10/site-packages/lightgbm/basic.py:1192: UserWarning: Converting data to scipy sparse matrix.\n",
      "  _log_warning('Converting data to scipy sparse matrix.')\n"
     ]
    },
    {
     "name": "stdout",
     "output_type": "stream",
     "text": [
      "[LightGBM] [Info] Auto-choosing col-wise multi-threading, the overhead of testing was 0.004461 seconds.\n",
      "You can set `force_col_wise=true` to remove the overhead.\n",
      "[LightGBM] [Info] Total Bins 2820\n",
      "[LightGBM] [Info] Number of data points in the train set: 166670, number of used features: 1410\n",
      "[LightGBM] [Info] Start training from score 3.402292\n",
      "[LightGBM] [Info] Auto-choosing col-wise multi-threading, the overhead of testing was 0.006259 seconds.\n",
      "You can set `force_col_wise=true` to remove the overhead.\n",
      "[LightGBM] [Info] Total Bins 3075\n",
      "[LightGBM] [Info] Number of data points in the train set: 166670, number of used features: 1411\n",
      "[LightGBM] [Info] Start training from score 1.244321\n",
      "[LightGBM] [Info] Auto-choosing col-wise multi-threading, the overhead of testing was 0.010001 seconds.\n",
      "You can set `force_col_wise=true` to remove the overhead.\n",
      "[LightGBM] [Info] Total Bins 3209\n",
      "[LightGBM] [Info] Number of data points in the train set: 166670, number of used features: 1412\n",
      "[LightGBM] [Info] Start training from score 2.149421\n"
     ]
    },
    {
     "name": "stderr",
     "output_type": "stream",
     "text": [
      "/opt/conda/lib/python3.10/site-packages/lightgbm/basic.py:1192: UserWarning: Converting data to scipy sparse matrix.\n",
      "  _log_warning('Converting data to scipy sparse matrix.')\n"
     ]
    },
    {
     "name": "stdout",
     "output_type": "stream",
     "text": [
      "[LightGBM] [Info] Auto-choosing col-wise multi-threading, the overhead of testing was 0.007841 seconds.\n",
      "You can set `force_col_wise=true` to remove the overhead.\n",
      "[LightGBM] [Info] Total Bins 7366\n",
      "[LightGBM] [Info] Number of data points in the train set: 333336, number of used features: 3683\n",
      "[LightGBM] [Info] Start training from score 3.484100\n",
      "[LightGBM] [Info] Auto-choosing col-wise multi-threading, the overhead of testing was 0.013186 seconds.\n",
      "You can set `force_col_wise=true` to remove the overhead.\n",
      "[LightGBM] [Info] Total Bins 7621\n",
      "[LightGBM] [Info] Number of data points in the train set: 333336, number of used features: 3684\n",
      "[LightGBM] [Info] Start training from score 1.251677\n",
      "[LightGBM] [Info] Auto-choosing col-wise multi-threading, the overhead of testing was 0.019396 seconds.\n",
      "You can set `force_col_wise=true` to remove the overhead.\n",
      "[LightGBM] [Info] Total Bins 7771\n",
      "[LightGBM] [Info] Number of data points in the train set: 333336, number of used features: 3685\n",
      "[LightGBM] [Info] Start training from score 2.146033\n"
     ]
    },
    {
     "name": "stderr",
     "output_type": "stream",
     "text": [
      "/opt/conda/lib/python3.10/site-packages/lightgbm/basic.py:1192: UserWarning: Converting data to scipy sparse matrix.\n",
      "  _log_warning('Converting data to scipy sparse matrix.')\n"
     ]
    },
    {
     "name": "stdout",
     "output_type": "stream",
     "text": [
      "[LightGBM] [Info] Auto-choosing col-wise multi-threading, the overhead of testing was 0.006261 seconds.\n",
      "You can set `force_col_wise=true` to remove the overhead.\n",
      "[LightGBM] [Info] Total Bins 11972\n",
      "[LightGBM] [Info] Number of data points in the train set: 500002, number of used features: 5986\n",
      "[LightGBM] [Info] Start training from score 3.420388\n",
      "[LightGBM] [Info] Auto-choosing col-wise multi-threading, the overhead of testing was 0.019808 seconds.\n",
      "You can set `force_col_wise=true` to remove the overhead.\n",
      "[LightGBM] [Info] Total Bins 12227\n",
      "[LightGBM] [Info] Number of data points in the train set: 500002, number of used features: 5987\n",
      "[LightGBM] [Info] Start training from score 1.259881\n",
      "[LightGBM] [Info] Auto-choosing col-wise multi-threading, the overhead of testing was 0.030076 seconds.\n",
      "You can set `force_col_wise=true` to remove the overhead.\n",
      "[LightGBM] [Info] Total Bins 12373\n",
      "[LightGBM] [Info] Number of data points in the train set: 500002, number of used features: 5988\n",
      "[LightGBM] [Info] Start training from score 2.127225\n"
     ]
    },
    {
     "name": "stderr",
     "output_type": "stream",
     "text": [
      "/opt/conda/lib/python3.10/site-packages/lightgbm/basic.py:1192: UserWarning: Converting data to scipy sparse matrix.\n",
      "  _log_warning('Converting data to scipy sparse matrix.')\n"
     ]
    },
    {
     "name": "stdout",
     "output_type": "stream",
     "text": [
      "[LightGBM] [Info] Auto-choosing col-wise multi-threading, the overhead of testing was 0.008082 seconds.\n",
      "You can set `force_col_wise=true` to remove the overhead.\n",
      "[LightGBM] [Info] Total Bins 16398\n",
      "[LightGBM] [Info] Number of data points in the train set: 666668, number of used features: 8199\n",
      "[LightGBM] [Info] Start training from score 3.582765\n",
      "[LightGBM] [Info] Auto-choosing col-wise multi-threading, the overhead of testing was 0.030141 seconds.\n",
      "You can set `force_col_wise=true` to remove the overhead.\n",
      "[LightGBM] [Info] Total Bins 16653\n",
      "[LightGBM] [Info] Number of data points in the train set: 666668, number of used features: 8200\n",
      "[LightGBM] [Info] Start training from score 1.272471\n",
      "[LightGBM] [Info] Auto-choosing col-wise multi-threading, the overhead of testing was 0.039482 seconds.\n",
      "You can set `force_col_wise=true` to remove the overhead.\n",
      "[LightGBM] [Info] Total Bins 16803\n",
      "[LightGBM] [Info] Number of data points in the train set: 666668, number of used features: 8201\n",
      "[LightGBM] [Info] Start training from score 2.185224\n"
     ]
    },
    {
     "name": "stderr",
     "output_type": "stream",
     "text": [
      "/opt/conda/lib/python3.10/site-packages/lightgbm/basic.py:1192: UserWarning: Converting data to scipy sparse matrix.\n",
      "  _log_warning('Converting data to scipy sparse matrix.')\n"
     ]
    },
    {
     "name": "stdout",
     "output_type": "stream",
     "text": [
      "[LightGBM] [Info] Auto-choosing col-wise multi-threading, the overhead of testing was 0.009627 seconds.\n",
      "You can set `force_col_wise=true` to remove the overhead.\n",
      "[LightGBM] [Info] Total Bins 20080\n",
      "[LightGBM] [Info] Number of data points in the train set: 833334, number of used features: 10040\n",
      "[LightGBM] [Info] Start training from score 3.509508\n",
      "[LightGBM] [Info] Auto-choosing col-wise multi-threading, the overhead of testing was 0.032217 seconds.\n",
      "You can set `force_col_wise=true` to remove the overhead.\n",
      "[LightGBM] [Info] Total Bins 20335\n",
      "[LightGBM] [Info] Number of data points in the train set: 833334, number of used features: 10041\n",
      "[LightGBM] [Info] Start training from score 1.265026\n",
      "[LightGBM] [Info] Auto-choosing col-wise multi-threading, the overhead of testing was 0.050412 seconds.\n",
      "You can set `force_col_wise=true` to remove the overhead.\n",
      "[LightGBM] [Info] Total Bins 20480\n",
      "[LightGBM] [Info] Number of data points in the train set: 833334, number of used features: 10042\n",
      "[LightGBM] [Info] Start training from score 2.187665\n"
     ]
    },
    {
     "name": "stderr",
     "output_type": "stream",
     "text": [
      "/opt/conda/lib/python3.10/site-packages/lightgbm/basic.py:1192: UserWarning: Converting data to scipy sparse matrix.\n",
      "  _log_warning('Converting data to scipy sparse matrix.')\n",
      "/opt/conda/lib/python3.10/site-packages/lightgbm/engine.py:172: UserWarning: Found `num_iterations` in params. Will use it instead of argument\n",
      "  _log_warning(f\"Found `{alias}` in params. Will use it instead of argument\")\n"
     ]
    },
    {
     "name": "stdout",
     "output_type": "stream",
     "text": [
      "[LightGBM] [Info] Auto-choosing col-wise multi-threading, the overhead of testing was 0.004498 seconds.\n",
      "You can set `force_col_wise=true` to remove the overhead.\n",
      "[LightGBM] [Info] Total Bins 2820\n",
      "[LightGBM] [Info] Number of data points in the train set: 166670, number of used features: 1410\n",
      "[LightGBM] [Info] Start training from score 3.402292\n"
     ]
    },
    {
     "name": "stderr",
     "output_type": "stream",
     "text": [
      "/opt/conda/lib/python3.10/site-packages/lightgbm/engine.py:172: UserWarning: Found `num_iterations` in params. Will use it instead of argument\n",
      "  _log_warning(f\"Found `{alias}` in params. Will use it instead of argument\")\n"
     ]
    },
    {
     "name": "stdout",
     "output_type": "stream",
     "text": [
      "[LightGBM] [Info] Auto-choosing col-wise multi-threading, the overhead of testing was 0.006665 seconds.\n",
      "You can set `force_col_wise=true` to remove the overhead.\n",
      "[LightGBM] [Info] Total Bins 3075\n",
      "[LightGBM] [Info] Number of data points in the train set: 166670, number of used features: 1411\n",
      "[LightGBM] [Info] Start training from score 1.244321\n"
     ]
    },
    {
     "name": "stderr",
     "output_type": "stream",
     "text": [
      "/opt/conda/lib/python3.10/site-packages/lightgbm/engine.py:172: UserWarning: Found `num_iterations` in params. Will use it instead of argument\n",
      "  _log_warning(f\"Found `{alias}` in params. Will use it instead of argument\")\n"
     ]
    },
    {
     "name": "stdout",
     "output_type": "stream",
     "text": [
      "[LightGBM] [Info] Auto-choosing col-wise multi-threading, the overhead of testing was 0.009958 seconds.\n",
      "You can set `force_col_wise=true` to remove the overhead.\n",
      "[LightGBM] [Info] Total Bins 3209\n",
      "[LightGBM] [Info] Number of data points in the train set: 166670, number of used features: 1412\n",
      "[LightGBM] [Info] Start training from score 2.149421\n"
     ]
    },
    {
     "name": "stderr",
     "output_type": "stream",
     "text": [
      "/opt/conda/lib/python3.10/site-packages/lightgbm/basic.py:1192: UserWarning: Converting data to scipy sparse matrix.\n",
      "  _log_warning('Converting data to scipy sparse matrix.')\n",
      "/opt/conda/lib/python3.10/site-packages/lightgbm/engine.py:172: UserWarning: Found `num_iterations` in params. Will use it instead of argument\n",
      "  _log_warning(f\"Found `{alias}` in params. Will use it instead of argument\")\n"
     ]
    },
    {
     "name": "stdout",
     "output_type": "stream",
     "text": [
      "[LightGBM] [Info] Auto-choosing col-wise multi-threading, the overhead of testing was 0.008656 seconds.\n",
      "You can set `force_col_wise=true` to remove the overhead.\n",
      "[LightGBM] [Info] Total Bins 7366\n",
      "[LightGBM] [Info] Number of data points in the train set: 333336, number of used features: 3683\n",
      "[LightGBM] [Info] Start training from score 3.484100\n"
     ]
    },
    {
     "name": "stderr",
     "output_type": "stream",
     "text": [
      "/opt/conda/lib/python3.10/site-packages/lightgbm/engine.py:172: UserWarning: Found `num_iterations` in params. Will use it instead of argument\n",
      "  _log_warning(f\"Found `{alias}` in params. Will use it instead of argument\")\n"
     ]
    },
    {
     "name": "stdout",
     "output_type": "stream",
     "text": [
      "[LightGBM] [Info] Auto-choosing col-wise multi-threading, the overhead of testing was 0.012766 seconds.\n",
      "You can set `force_col_wise=true` to remove the overhead.\n",
      "[LightGBM] [Info] Total Bins 7621\n",
      "[LightGBM] [Info] Number of data points in the train set: 333336, number of used features: 3684\n",
      "[LightGBM] [Info] Start training from score 1.251677\n"
     ]
    },
    {
     "name": "stderr",
     "output_type": "stream",
     "text": [
      "/opt/conda/lib/python3.10/site-packages/lightgbm/engine.py:172: UserWarning: Found `num_iterations` in params. Will use it instead of argument\n",
      "  _log_warning(f\"Found `{alias}` in params. Will use it instead of argument\")\n"
     ]
    },
    {
     "name": "stdout",
     "output_type": "stream",
     "text": [
      "[LightGBM] [Info] Auto-choosing col-wise multi-threading, the overhead of testing was 0.019575 seconds.\n",
      "You can set `force_col_wise=true` to remove the overhead.\n",
      "[LightGBM] [Info] Total Bins 7771\n",
      "[LightGBM] [Info] Number of data points in the train set: 333336, number of used features: 3685\n",
      "[LightGBM] [Info] Start training from score 2.146033\n"
     ]
    },
    {
     "name": "stderr",
     "output_type": "stream",
     "text": [
      "/opt/conda/lib/python3.10/site-packages/lightgbm/basic.py:1192: UserWarning: Converting data to scipy sparse matrix.\n",
      "  _log_warning('Converting data to scipy sparse matrix.')\n",
      "/opt/conda/lib/python3.10/site-packages/lightgbm/engine.py:172: UserWarning: Found `num_iterations` in params. Will use it instead of argument\n",
      "  _log_warning(f\"Found `{alias}` in params. Will use it instead of argument\")\n"
     ]
    },
    {
     "name": "stdout",
     "output_type": "stream",
     "text": [
      "[LightGBM] [Info] Auto-choosing col-wise multi-threading, the overhead of testing was 0.006492 seconds.\n",
      "You can set `force_col_wise=true` to remove the overhead.\n",
      "[LightGBM] [Info] Total Bins 11972\n",
      "[LightGBM] [Info] Number of data points in the train set: 500002, number of used features: 5986\n",
      "[LightGBM] [Info] Start training from score 3.420388\n"
     ]
    },
    {
     "name": "stderr",
     "output_type": "stream",
     "text": [
      "/opt/conda/lib/python3.10/site-packages/lightgbm/engine.py:172: UserWarning: Found `num_iterations` in params. Will use it instead of argument\n",
      "  _log_warning(f\"Found `{alias}` in params. Will use it instead of argument\")\n"
     ]
    },
    {
     "name": "stdout",
     "output_type": "stream",
     "text": [
      "[LightGBM] [Info] Auto-choosing col-wise multi-threading, the overhead of testing was 0.022799 seconds.\n",
      "You can set `force_col_wise=true` to remove the overhead.\n",
      "[LightGBM] [Info] Total Bins 12227\n",
      "[LightGBM] [Info] Number of data points in the train set: 500002, number of used features: 5987\n",
      "[LightGBM] [Info] Start training from score 1.259881\n"
     ]
    },
    {
     "name": "stderr",
     "output_type": "stream",
     "text": [
      "/opt/conda/lib/python3.10/site-packages/lightgbm/engine.py:172: UserWarning: Found `num_iterations` in params. Will use it instead of argument\n",
      "  _log_warning(f\"Found `{alias}` in params. Will use it instead of argument\")\n"
     ]
    },
    {
     "name": "stdout",
     "output_type": "stream",
     "text": [
      "[LightGBM] [Info] Auto-choosing col-wise multi-threading, the overhead of testing was 0.032692 seconds.\n",
      "You can set `force_col_wise=true` to remove the overhead.\n",
      "[LightGBM] [Info] Total Bins 12373\n",
      "[LightGBM] [Info] Number of data points in the train set: 500002, number of used features: 5988\n",
      "[LightGBM] [Info] Start training from score 2.127225\n"
     ]
    },
    {
     "name": "stderr",
     "output_type": "stream",
     "text": [
      "/opt/conda/lib/python3.10/site-packages/lightgbm/basic.py:1192: UserWarning: Converting data to scipy sparse matrix.\n",
      "  _log_warning('Converting data to scipy sparse matrix.')\n",
      "/opt/conda/lib/python3.10/site-packages/lightgbm/engine.py:172: UserWarning: Found `num_iterations` in params. Will use it instead of argument\n",
      "  _log_warning(f\"Found `{alias}` in params. Will use it instead of argument\")\n"
     ]
    },
    {
     "name": "stdout",
     "output_type": "stream",
     "text": [
      "[LightGBM] [Info] Auto-choosing col-wise multi-threading, the overhead of testing was 0.009850 seconds.\n",
      "You can set `force_col_wise=true` to remove the overhead.\n",
      "[LightGBM] [Info] Total Bins 16398\n",
      "[LightGBM] [Info] Number of data points in the train set: 666668, number of used features: 8199\n",
      "[LightGBM] [Info] Start training from score 3.582765\n"
     ]
    },
    {
     "name": "stderr",
     "output_type": "stream",
     "text": [
      "/opt/conda/lib/python3.10/site-packages/lightgbm/engine.py:172: UserWarning: Found `num_iterations` in params. Will use it instead of argument\n",
      "  _log_warning(f\"Found `{alias}` in params. Will use it instead of argument\")\n"
     ]
    },
    {
     "name": "stdout",
     "output_type": "stream",
     "text": [
      "[LightGBM] [Info] Auto-choosing col-wise multi-threading, the overhead of testing was 0.030676 seconds.\n",
      "You can set `force_col_wise=true` to remove the overhead.\n",
      "[LightGBM] [Info] Total Bins 16653\n",
      "[LightGBM] [Info] Number of data points in the train set: 666668, number of used features: 8200\n",
      "[LightGBM] [Info] Start training from score 1.272471\n"
     ]
    },
    {
     "name": "stderr",
     "output_type": "stream",
     "text": [
      "/opt/conda/lib/python3.10/site-packages/lightgbm/engine.py:172: UserWarning: Found `num_iterations` in params. Will use it instead of argument\n",
      "  _log_warning(f\"Found `{alias}` in params. Will use it instead of argument\")\n"
     ]
    },
    {
     "name": "stdout",
     "output_type": "stream",
     "text": [
      "[LightGBM] [Info] Auto-choosing col-wise multi-threading, the overhead of testing was 0.039225 seconds.\n",
      "You can set `force_col_wise=true` to remove the overhead.\n",
      "[LightGBM] [Info] Total Bins 16803\n",
      "[LightGBM] [Info] Number of data points in the train set: 666668, number of used features: 8201\n",
      "[LightGBM] [Info] Start training from score 2.185224\n"
     ]
    },
    {
     "name": "stderr",
     "output_type": "stream",
     "text": [
      "/opt/conda/lib/python3.10/site-packages/lightgbm/basic.py:1192: UserWarning: Converting data to scipy sparse matrix.\n",
      "  _log_warning('Converting data to scipy sparse matrix.')\n",
      "/opt/conda/lib/python3.10/site-packages/lightgbm/engine.py:172: UserWarning: Found `num_iterations` in params. Will use it instead of argument\n",
      "  _log_warning(f\"Found `{alias}` in params. Will use it instead of argument\")\n"
     ]
    },
    {
     "name": "stdout",
     "output_type": "stream",
     "text": [
      "[LightGBM] [Info] Auto-choosing col-wise multi-threading, the overhead of testing was 0.009706 seconds.\n",
      "You can set `force_col_wise=true` to remove the overhead.\n",
      "[LightGBM] [Info] Total Bins 20080\n",
      "[LightGBM] [Info] Number of data points in the train set: 833334, number of used features: 10040\n",
      "[LightGBM] [Info] Start training from score 3.509508\n"
     ]
    },
    {
     "name": "stderr",
     "output_type": "stream",
     "text": [
      "/opt/conda/lib/python3.10/site-packages/lightgbm/engine.py:172: UserWarning: Found `num_iterations` in params. Will use it instead of argument\n",
      "  _log_warning(f\"Found `{alias}` in params. Will use it instead of argument\")\n"
     ]
    },
    {
     "name": "stdout",
     "output_type": "stream",
     "text": [
      "[LightGBM] [Info] Auto-choosing col-wise multi-threading, the overhead of testing was 0.041219 seconds.\n",
      "You can set `force_col_wise=true` to remove the overhead.\n",
      "[LightGBM] [Info] Total Bins 20335\n",
      "[LightGBM] [Info] Number of data points in the train set: 833334, number of used features: 10041\n",
      "[LightGBM] [Info] Start training from score 1.265026\n"
     ]
    },
    {
     "name": "stderr",
     "output_type": "stream",
     "text": [
      "/opt/conda/lib/python3.10/site-packages/lightgbm/engine.py:172: UserWarning: Found `num_iterations` in params. Will use it instead of argument\n",
      "  _log_warning(f\"Found `{alias}` in params. Will use it instead of argument\")\n"
     ]
    },
    {
     "name": "stdout",
     "output_type": "stream",
     "text": [
      "[LightGBM] [Info] Auto-choosing col-wise multi-threading, the overhead of testing was 0.054207 seconds.\n",
      "You can set `force_col_wise=true` to remove the overhead.\n",
      "[LightGBM] [Info] Total Bins 20480\n",
      "[LightGBM] [Info] Number of data points in the train set: 833334, number of used features: 10042\n",
      "[LightGBM] [Info] Start training from score 2.187665\n"
     ]
    },
    {
     "name": "stderr",
     "output_type": "stream",
     "text": [
      "/opt/conda/lib/python3.10/site-packages/lightgbm/basic.py:1192: UserWarning: Converting data to scipy sparse matrix.\n",
      "  _log_warning('Converting data to scipy sparse matrix.')\n"
     ]
    },
    {
     "name": "stdout",
     "output_type": "stream",
     "text": [
      "[LightGBM] [Info] Auto-choosing row-wise multi-threading, the overhead of testing was 1.053068 seconds.\n",
      "You can set `force_row_wise=true` to remove the overhead.\n",
      "And if memory is not enough, you can set `force_col_wise=true`.\n",
      "[LightGBM] [Info] Total Bins 105103\n",
      "[LightGBM] [Info] Number of data points in the train set: 166670, number of used features: 1925\n",
      "[LightGBM] [Info] Start training from score 3.402292\n",
      "[LightGBM] [Info] Auto-choosing row-wise multi-threading, the overhead of testing was 1.067689 seconds.\n",
      "You can set `force_row_wise=true` to remove the overhead.\n",
      "And if memory is not enough, you can set `force_col_wise=true`.\n",
      "[LightGBM] [Info] Total Bins 105358\n",
      "[LightGBM] [Info] Number of data points in the train set: 166670, number of used features: 1926\n",
      "[LightGBM] [Info] Start training from score 1.244321\n",
      "[LightGBM] [Info] Auto-choosing row-wise multi-threading, the overhead of testing was 1.070982 seconds.\n",
      "You can set `force_row_wise=true` to remove the overhead.\n",
      "And if memory is not enough, you can set `force_col_wise=true`.\n",
      "[LightGBM] [Info] Total Bins 105492\n",
      "[LightGBM] [Info] Number of data points in the train set: 166670, number of used features: 1927\n",
      "[LightGBM] [Info] Start training from score 2.149421\n"
     ]
    },
    {
     "name": "stderr",
     "output_type": "stream",
     "text": [
      "/opt/conda/lib/python3.10/site-packages/lightgbm/basic.py:1192: UserWarning: Converting data to scipy sparse matrix.\n",
      "  _log_warning('Converting data to scipy sparse matrix.')\n"
     ]
    },
    {
     "name": "stdout",
     "output_type": "stream",
     "text": [
      "[LightGBM] [Info] Auto-choosing col-wise multi-threading, the overhead of testing was 5.851644 seconds.\n",
      "You can set `force_col_wise=true` to remove the overhead.\n",
      "[LightGBM] [Info] Total Bins 117903\n",
      "[LightGBM] [Info] Number of data points in the train set: 333336, number of used features: 4198\n",
      "[LightGBM] [Info] Start training from score 3.484100\n",
      "[LightGBM] [Info] Auto-choosing col-wise multi-threading, the overhead of testing was 6.030136 seconds.\n",
      "You can set `force_col_wise=true` to remove the overhead.\n",
      "[LightGBM] [Info] Total Bins 118158\n",
      "[LightGBM] [Info] Number of data points in the train set: 333336, number of used features: 4199\n",
      "[LightGBM] [Info] Start training from score 1.251677\n",
      "[LightGBM] [Info] Auto-choosing col-wise multi-threading, the overhead of testing was 6.023556 seconds.\n",
      "You can set `force_col_wise=true` to remove the overhead.\n",
      "[LightGBM] [Info] Total Bins 118308\n",
      "[LightGBM] [Info] Number of data points in the train set: 333336, number of used features: 4200\n",
      "[LightGBM] [Info] Start training from score 2.146033\n"
     ]
    },
    {
     "name": "stderr",
     "output_type": "stream",
     "text": [
      "/opt/conda/lib/python3.10/site-packages/lightgbm/basic.py:1192: UserWarning: Converting data to scipy sparse matrix.\n",
      "  _log_warning('Converting data to scipy sparse matrix.')\n"
     ]
    },
    {
     "name": "stdout",
     "output_type": "stream",
     "text": [
      "[LightGBM] [Info] Auto-choosing col-wise multi-threading, the overhead of testing was 0.785369 seconds.\n",
      "You can set `force_col_wise=true` to remove the overhead.\n",
      "[LightGBM] [Info] Total Bins 122642\n",
      "[LightGBM] [Info] Number of data points in the train set: 500002, number of used features: 6501\n",
      "[LightGBM] [Info] Start training from score 3.420388\n",
      "[LightGBM] [Info] Auto-choosing col-wise multi-threading, the overhead of testing was 0.797023 seconds.\n",
      "You can set `force_col_wise=true` to remove the overhead.\n",
      "[LightGBM] [Info] Total Bins 122897\n",
      "[LightGBM] [Info] Number of data points in the train set: 500002, number of used features: 6502\n",
      "[LightGBM] [Info] Start training from score 1.259881\n",
      "[LightGBM] [Info] Auto-choosing col-wise multi-threading, the overhead of testing was 0.816146 seconds.\n",
      "You can set `force_col_wise=true` to remove the overhead.\n",
      "[LightGBM] [Info] Total Bins 123043\n",
      "[LightGBM] [Info] Number of data points in the train set: 500002, number of used features: 6503\n",
      "[LightGBM] [Info] Start training from score 2.127225\n"
     ]
    },
    {
     "name": "stderr",
     "output_type": "stream",
     "text": [
      "/opt/conda/lib/python3.10/site-packages/lightgbm/basic.py:1192: UserWarning: Converting data to scipy sparse matrix.\n",
      "  _log_warning('Converting data to scipy sparse matrix.')\n"
     ]
    },
    {
     "name": "stdout",
     "output_type": "stream",
     "text": [
      "[LightGBM] [Info] Auto-choosing col-wise multi-threading, the overhead of testing was 1.071725 seconds.\n",
      "You can set `force_col_wise=true` to remove the overhead.\n",
      "[LightGBM] [Info] Total Bins 127300\n",
      "[LightGBM] [Info] Number of data points in the train set: 666668, number of used features: 8714\n",
      "[LightGBM] [Info] Start training from score 3.582765\n",
      "[LightGBM] [Info] Auto-choosing col-wise multi-threading, the overhead of testing was 1.103630 seconds.\n",
      "You can set `force_col_wise=true` to remove the overhead.\n",
      "[LightGBM] [Info] Total Bins 127555\n",
      "[LightGBM] [Info] Number of data points in the train set: 666668, number of used features: 8715\n",
      "[LightGBM] [Info] Start training from score 1.272471\n",
      "[LightGBM] [Info] Auto-choosing col-wise multi-threading, the overhead of testing was 1.124868 seconds.\n",
      "You can set `force_col_wise=true` to remove the overhead.\n",
      "[LightGBM] [Info] Total Bins 127705\n",
      "[LightGBM] [Info] Number of data points in the train set: 666668, number of used features: 8716\n",
      "[LightGBM] [Info] Start training from score 2.185224\n"
     ]
    },
    {
     "name": "stderr",
     "output_type": "stream",
     "text": [
      "/opt/conda/lib/python3.10/site-packages/lightgbm/basic.py:1192: UserWarning: Converting data to scipy sparse matrix.\n",
      "  _log_warning('Converting data to scipy sparse matrix.')\n"
     ]
    },
    {
     "name": "stdout",
     "output_type": "stream",
     "text": [
      "[LightGBM] [Info] Auto-choosing col-wise multi-threading, the overhead of testing was 1.369849 seconds.\n",
      "You can set `force_col_wise=true` to remove the overhead.\n",
      "[LightGBM] [Info] Total Bins 131032\n",
      "[LightGBM] [Info] Number of data points in the train set: 833334, number of used features: 10555\n",
      "[LightGBM] [Info] Start training from score 3.509508\n",
      "[LightGBM] [Info] Auto-choosing col-wise multi-threading, the overhead of testing was 1.334368 seconds.\n",
      "You can set `force_col_wise=true` to remove the overhead.\n",
      "[LightGBM] [Info] Total Bins 131287\n",
      "[LightGBM] [Info] Number of data points in the train set: 833334, number of used features: 10556\n",
      "[LightGBM] [Info] Start training from score 1.265026\n",
      "[LightGBM] [Info] Auto-choosing row-wise multi-threading, the overhead of testing was 1.268328 seconds.\n",
      "You can set `force_row_wise=true` to remove the overhead.\n",
      "And if memory is not enough, you can set `force_col_wise=true`.\n",
      "[LightGBM] [Info] Total Bins 131432\n",
      "[LightGBM] [Info] Number of data points in the train set: 833334, number of used features: 10557\n",
      "[LightGBM] [Info] Start training from score 2.187665\n"
     ]
    },
    {
     "name": "stderr",
     "output_type": "stream",
     "text": [
      "/opt/conda/lib/python3.10/site-packages/lightgbm/basic.py:1192: UserWarning: Converting data to scipy sparse matrix.\n",
      "  _log_warning('Converting data to scipy sparse matrix.')\n"
     ]
    },
    {
     "name": "stdout",
     "output_type": "stream",
     "text": [
      "[LightGBM] [Info] Auto-choosing row-wise multi-threading, the overhead of testing was 1.466558 seconds.\n",
      "You can set `force_row_wise=true` to remove the overhead.\n",
      "And if memory is not enough, you can set `force_col_wise=true`.\n",
      "[LightGBM] [Info] Total Bins 105103\n",
      "[LightGBM] [Info] Number of data points in the train set: 166670, number of used features: 1925\n",
      "[LightGBM] [Info] Start training from score 3.402292\n",
      "[LightGBM] [Info] Auto-choosing row-wise multi-threading, the overhead of testing was 1.027544 seconds.\n",
      "You can set `force_row_wise=true` to remove the overhead.\n",
      "And if memory is not enough, you can set `force_col_wise=true`.\n",
      "[LightGBM] [Info] Total Bins 105358\n",
      "[LightGBM] [Info] Number of data points in the train set: 166670, number of used features: 1926\n",
      "[LightGBM] [Info] Start training from score 1.244321\n",
      "[LightGBM] [Info] Auto-choosing row-wise multi-threading, the overhead of testing was 1.026597 seconds.\n",
      "You can set `force_row_wise=true` to remove the overhead.\n",
      "And if memory is not enough, you can set `force_col_wise=true`.\n",
      "[LightGBM] [Info] Total Bins 105492\n",
      "[LightGBM] [Info] Number of data points in the train set: 166670, number of used features: 1927\n",
      "[LightGBM] [Info] Start training from score 2.149421\n"
     ]
    },
    {
     "name": "stderr",
     "output_type": "stream",
     "text": [
      "/opt/conda/lib/python3.10/site-packages/lightgbm/basic.py:1192: UserWarning: Converting data to scipy sparse matrix.\n",
      "  _log_warning('Converting data to scipy sparse matrix.')\n"
     ]
    },
    {
     "name": "stdout",
     "output_type": "stream",
     "text": [
      "[LightGBM] [Info] Auto-choosing col-wise multi-threading, the overhead of testing was 5.842031 seconds.\n",
      "You can set `force_col_wise=true` to remove the overhead.\n",
      "[LightGBM] [Info] Total Bins 117903\n",
      "[LightGBM] [Info] Number of data points in the train set: 333336, number of used features: 4198\n",
      "[LightGBM] [Info] Start training from score 3.484100\n",
      "[LightGBM] [Info] Auto-choosing col-wise multi-threading, the overhead of testing was 5.806863 seconds.\n",
      "You can set `force_col_wise=true` to remove the overhead.\n",
      "[LightGBM] [Info] Total Bins 118158\n",
      "[LightGBM] [Info] Number of data points in the train set: 333336, number of used features: 4199\n",
      "[LightGBM] [Info] Start training from score 1.251677\n",
      "[LightGBM] [Info] Auto-choosing col-wise multi-threading, the overhead of testing was 6.621330 seconds.\n",
      "You can set `force_col_wise=true` to remove the overhead.\n",
      "[LightGBM] [Info] Total Bins 118308\n",
      "[LightGBM] [Info] Number of data points in the train set: 333336, number of used features: 4200\n",
      "[LightGBM] [Info] Start training from score 2.146033\n"
     ]
    },
    {
     "name": "stderr",
     "output_type": "stream",
     "text": [
      "/opt/conda/lib/python3.10/site-packages/lightgbm/basic.py:1192: UserWarning: Converting data to scipy sparse matrix.\n",
      "  _log_warning('Converting data to scipy sparse matrix.')\n"
     ]
    },
    {
     "name": "stdout",
     "output_type": "stream",
     "text": [
      "[LightGBM] [Info] Auto-choosing col-wise multi-threading, the overhead of testing was 0.829896 seconds.\n",
      "You can set `force_col_wise=true` to remove the overhead.\n",
      "[LightGBM] [Info] Total Bins 122642\n",
      "[LightGBM] [Info] Number of data points in the train set: 500002, number of used features: 6501\n",
      "[LightGBM] [Info] Start training from score 3.420388\n",
      "[LightGBM] [Info] Auto-choosing col-wise multi-threading, the overhead of testing was 0.850009 seconds.\n",
      "You can set `force_col_wise=true` to remove the overhead.\n",
      "[LightGBM] [Info] Total Bins 122897\n",
      "[LightGBM] [Info] Number of data points in the train set: 500002, number of used features: 6502\n",
      "[LightGBM] [Info] Start training from score 1.259881\n",
      "[LightGBM] [Info] Auto-choosing col-wise multi-threading, the overhead of testing was 0.843857 seconds.\n",
      "You can set `force_col_wise=true` to remove the overhead.\n",
      "[LightGBM] [Info] Total Bins 123043\n",
      "[LightGBM] [Info] Number of data points in the train set: 500002, number of used features: 6503\n",
      "[LightGBM] [Info] Start training from score 2.127225\n"
     ]
    },
    {
     "name": "stderr",
     "output_type": "stream",
     "text": [
      "/opt/conda/lib/python3.10/site-packages/lightgbm/basic.py:1192: UserWarning: Converting data to scipy sparse matrix.\n",
      "  _log_warning('Converting data to scipy sparse matrix.')\n"
     ]
    },
    {
     "name": "stdout",
     "output_type": "stream",
     "text": [
      "[LightGBM] [Info] Auto-choosing col-wise multi-threading, the overhead of testing was 1.072394 seconds.\n",
      "You can set `force_col_wise=true` to remove the overhead.\n",
      "[LightGBM] [Info] Total Bins 127300\n",
      "[LightGBM] [Info] Number of data points in the train set: 666668, number of used features: 8714\n",
      "[LightGBM] [Info] Start training from score 3.582765\n",
      "[LightGBM] [Info] Auto-choosing row-wise multi-threading, the overhead of testing was 0.992038 seconds.\n",
      "You can set `force_row_wise=true` to remove the overhead.\n",
      "And if memory is not enough, you can set `force_col_wise=true`.\n",
      "[LightGBM] [Info] Total Bins 127555\n",
      "[LightGBM] [Info] Number of data points in the train set: 666668, number of used features: 8715\n",
      "[LightGBM] [Info] Start training from score 1.272471\n",
      "[LightGBM] [Info] Auto-choosing col-wise multi-threading, the overhead of testing was 1.069038 seconds.\n",
      "You can set `force_col_wise=true` to remove the overhead.\n",
      "[LightGBM] [Info] Total Bins 127705\n",
      "[LightGBM] [Info] Number of data points in the train set: 666668, number of used features: 8716\n",
      "[LightGBM] [Info] Start training from score 2.185224\n"
     ]
    },
    {
     "name": "stderr",
     "output_type": "stream",
     "text": [
      "/opt/conda/lib/python3.10/site-packages/lightgbm/basic.py:1192: UserWarning: Converting data to scipy sparse matrix.\n",
      "  _log_warning('Converting data to scipy sparse matrix.')\n"
     ]
    },
    {
     "name": "stdout",
     "output_type": "stream",
     "text": [
      "[LightGBM] [Info] Auto-choosing col-wise multi-threading, the overhead of testing was 1.295317 seconds.\n",
      "You can set `force_col_wise=true` to remove the overhead.\n",
      "[LightGBM] [Info] Total Bins 131032\n",
      "[LightGBM] [Info] Number of data points in the train set: 833334, number of used features: 10555\n",
      "[LightGBM] [Info] Start training from score 3.509508\n",
      "[LightGBM] [Info] Auto-choosing col-wise multi-threading, the overhead of testing was 1.354700 seconds.\n",
      "You can set `force_col_wise=true` to remove the overhead.\n",
      "[LightGBM] [Info] Total Bins 131287\n",
      "[LightGBM] [Info] Number of data points in the train set: 833334, number of used features: 10556\n",
      "[LightGBM] [Info] Start training from score 1.265026\n",
      "[LightGBM] [Info] Auto-choosing col-wise multi-threading, the overhead of testing was 1.329355 seconds.\n",
      "You can set `force_col_wise=true` to remove the overhead.\n",
      "[LightGBM] [Info] Total Bins 131432\n",
      "[LightGBM] [Info] Number of data points in the train set: 833334, number of used features: 10557\n",
      "[LightGBM] [Info] Start training from score 2.187665\n"
     ]
    },
    {
     "name": "stderr",
     "output_type": "stream",
     "text": [
      "/opt/conda/lib/python3.10/site-packages/lightgbm/basic.py:1192: UserWarning: Converting data to scipy sparse matrix.\n",
      "  _log_warning('Converting data to scipy sparse matrix.')\n",
      "/opt/conda/lib/python3.10/site-packages/lightgbm/engine.py:172: UserWarning: Found `num_iterations` in params. Will use it instead of argument\n",
      "  _log_warning(f\"Found `{alias}` in params. Will use it instead of argument\")\n"
     ]
    },
    {
     "name": "stdout",
     "output_type": "stream",
     "text": [
      "[LightGBM] [Info] Auto-choosing row-wise multi-threading, the overhead of testing was 1.032179 seconds.\n",
      "You can set `force_row_wise=true` to remove the overhead.\n",
      "And if memory is not enough, you can set `force_col_wise=true`.\n",
      "[LightGBM] [Info] Total Bins 105103\n",
      "[LightGBM] [Info] Number of data points in the train set: 166670, number of used features: 1925\n",
      "[LightGBM] [Info] Start training from score 3.402292\n"
     ]
    },
    {
     "name": "stderr",
     "output_type": "stream",
     "text": [
      "/opt/conda/lib/python3.10/site-packages/lightgbm/engine.py:172: UserWarning: Found `num_iterations` in params. Will use it instead of argument\n",
      "  _log_warning(f\"Found `{alias}` in params. Will use it instead of argument\")\n"
     ]
    },
    {
     "name": "stdout",
     "output_type": "stream",
     "text": [
      "[LightGBM] [Info] Auto-choosing row-wise multi-threading, the overhead of testing was 1.391446 seconds.\n",
      "You can set `force_row_wise=true` to remove the overhead.\n",
      "And if memory is not enough, you can set `force_col_wise=true`.\n",
      "[LightGBM] [Info] Total Bins 105358\n",
      "[LightGBM] [Info] Number of data points in the train set: 166670, number of used features: 1926\n",
      "[LightGBM] [Info] Start training from score 1.244321\n"
     ]
    },
    {
     "name": "stderr",
     "output_type": "stream",
     "text": [
      "/opt/conda/lib/python3.10/site-packages/lightgbm/engine.py:172: UserWarning: Found `num_iterations` in params. Will use it instead of argument\n",
      "  _log_warning(f\"Found `{alias}` in params. Will use it instead of argument\")\n"
     ]
    },
    {
     "name": "stdout",
     "output_type": "stream",
     "text": [
      "[LightGBM] [Info] Auto-choosing row-wise multi-threading, the overhead of testing was 1.261999 seconds.\n",
      "You can set `force_row_wise=true` to remove the overhead.\n",
      "And if memory is not enough, you can set `force_col_wise=true`.\n",
      "[LightGBM] [Info] Total Bins 105492\n",
      "[LightGBM] [Info] Number of data points in the train set: 166670, number of used features: 1927\n",
      "[LightGBM] [Info] Start training from score 2.149421\n"
     ]
    },
    {
     "name": "stderr",
     "output_type": "stream",
     "text": [
      "/opt/conda/lib/python3.10/site-packages/lightgbm/basic.py:1192: UserWarning: Converting data to scipy sparse matrix.\n",
      "  _log_warning('Converting data to scipy sparse matrix.')\n",
      "/opt/conda/lib/python3.10/site-packages/lightgbm/engine.py:172: UserWarning: Found `num_iterations` in params. Will use it instead of argument\n",
      "  _log_warning(f\"Found `{alias}` in params. Will use it instead of argument\")\n"
     ]
    },
    {
     "name": "stdout",
     "output_type": "stream",
     "text": [
      "[LightGBM] [Info] Auto-choosing col-wise multi-threading, the overhead of testing was 6.045910 seconds.\n",
      "You can set `force_col_wise=true` to remove the overhead.\n",
      "[LightGBM] [Info] Total Bins 117903\n",
      "[LightGBM] [Info] Number of data points in the train set: 333336, number of used features: 4198\n",
      "[LightGBM] [Info] Start training from score 3.484100\n"
     ]
    },
    {
     "name": "stderr",
     "output_type": "stream",
     "text": [
      "/opt/conda/lib/python3.10/site-packages/lightgbm/engine.py:172: UserWarning: Found `num_iterations` in params. Will use it instead of argument\n",
      "  _log_warning(f\"Found `{alias}` in params. Will use it instead of argument\")\n"
     ]
    },
    {
     "name": "stdout",
     "output_type": "stream",
     "text": [
      "[LightGBM] [Info] Auto-choosing col-wise multi-threading, the overhead of testing was 6.717875 seconds.\n",
      "You can set `force_col_wise=true` to remove the overhead.\n",
      "[LightGBM] [Info] Total Bins 118158\n",
      "[LightGBM] [Info] Number of data points in the train set: 333336, number of used features: 4199\n",
      "[LightGBM] [Info] Start training from score 1.251677\n"
     ]
    },
    {
     "name": "stderr",
     "output_type": "stream",
     "text": [
      "/opt/conda/lib/python3.10/site-packages/lightgbm/engine.py:172: UserWarning: Found `num_iterations` in params. Will use it instead of argument\n",
      "  _log_warning(f\"Found `{alias}` in params. Will use it instead of argument\")\n"
     ]
    },
    {
     "name": "stdout",
     "output_type": "stream",
     "text": [
      "[LightGBM] [Info] Auto-choosing col-wise multi-threading, the overhead of testing was 6.094100 seconds.\n",
      "You can set `force_col_wise=true` to remove the overhead.\n",
      "[LightGBM] [Info] Total Bins 118308\n",
      "[LightGBM] [Info] Number of data points in the train set: 333336, number of used features: 4200\n",
      "[LightGBM] [Info] Start training from score 2.146033\n"
     ]
    },
    {
     "name": "stderr",
     "output_type": "stream",
     "text": [
      "/opt/conda/lib/python3.10/site-packages/lightgbm/basic.py:1192: UserWarning: Converting data to scipy sparse matrix.\n",
      "  _log_warning('Converting data to scipy sparse matrix.')\n",
      "/opt/conda/lib/python3.10/site-packages/lightgbm/engine.py:172: UserWarning: Found `num_iterations` in params. Will use it instead of argument\n",
      "  _log_warning(f\"Found `{alias}` in params. Will use it instead of argument\")\n"
     ]
    },
    {
     "name": "stdout",
     "output_type": "stream",
     "text": [
      "[LightGBM] [Info] Auto-choosing col-wise multi-threading, the overhead of testing was 0.789669 seconds.\n",
      "You can set `force_col_wise=true` to remove the overhead.\n",
      "[LightGBM] [Info] Total Bins 122642\n",
      "[LightGBM] [Info] Number of data points in the train set: 500002, number of used features: 6501\n",
      "[LightGBM] [Info] Start training from score 3.420388\n"
     ]
    },
    {
     "name": "stderr",
     "output_type": "stream",
     "text": [
      "/opt/conda/lib/python3.10/site-packages/lightgbm/engine.py:172: UserWarning: Found `num_iterations` in params. Will use it instead of argument\n",
      "  _log_warning(f\"Found `{alias}` in params. Will use it instead of argument\")\n"
     ]
    },
    {
     "name": "stdout",
     "output_type": "stream",
     "text": [
      "[LightGBM] [Info] Auto-choosing col-wise multi-threading, the overhead of testing was 0.842294 seconds.\n",
      "You can set `force_col_wise=true` to remove the overhead.\n",
      "[LightGBM] [Info] Total Bins 122897\n",
      "[LightGBM] [Info] Number of data points in the train set: 500002, number of used features: 6502\n",
      "[LightGBM] [Info] Start training from score 1.259881\n"
     ]
    },
    {
     "name": "stderr",
     "output_type": "stream",
     "text": [
      "/opt/conda/lib/python3.10/site-packages/lightgbm/engine.py:172: UserWarning: Found `num_iterations` in params. Will use it instead of argument\n",
      "  _log_warning(f\"Found `{alias}` in params. Will use it instead of argument\")\n"
     ]
    },
    {
     "name": "stdout",
     "output_type": "stream",
     "text": [
      "[LightGBM] [Info] Auto-choosing col-wise multi-threading, the overhead of testing was 0.814413 seconds.\n",
      "You can set `force_col_wise=true` to remove the overhead.\n",
      "[LightGBM] [Info] Total Bins 123043\n",
      "[LightGBM] [Info] Number of data points in the train set: 500002, number of used features: 6503\n",
      "[LightGBM] [Info] Start training from score 2.127225\n"
     ]
    },
    {
     "name": "stderr",
     "output_type": "stream",
     "text": [
      "/opt/conda/lib/python3.10/site-packages/lightgbm/basic.py:1192: UserWarning: Converting data to scipy sparse matrix.\n",
      "  _log_warning('Converting data to scipy sparse matrix.')\n",
      "/opt/conda/lib/python3.10/site-packages/lightgbm/engine.py:172: UserWarning: Found `num_iterations` in params. Will use it instead of argument\n",
      "  _log_warning(f\"Found `{alias}` in params. Will use it instead of argument\")\n"
     ]
    },
    {
     "name": "stdout",
     "output_type": "stream",
     "text": [
      "[LightGBM] [Info] Auto-choosing col-wise multi-threading, the overhead of testing was 1.045356 seconds.\n",
      "You can set `force_col_wise=true` to remove the overhead.\n",
      "[LightGBM] [Info] Total Bins 127300\n",
      "[LightGBM] [Info] Number of data points in the train set: 666668, number of used features: 8714\n",
      "[LightGBM] [Info] Start training from score 3.582765\n"
     ]
    },
    {
     "name": "stderr",
     "output_type": "stream",
     "text": [
      "/opt/conda/lib/python3.10/site-packages/lightgbm/engine.py:172: UserWarning: Found `num_iterations` in params. Will use it instead of argument\n",
      "  _log_warning(f\"Found `{alias}` in params. Will use it instead of argument\")\n"
     ]
    },
    {
     "name": "stdout",
     "output_type": "stream",
     "text": [
      "[LightGBM] [Info] Auto-choosing col-wise multi-threading, the overhead of testing was 1.070971 seconds.\n",
      "You can set `force_col_wise=true` to remove the overhead.\n",
      "[LightGBM] [Info] Total Bins 127555\n",
      "[LightGBM] [Info] Number of data points in the train set: 666668, number of used features: 8715\n",
      "[LightGBM] [Info] Start training from score 1.272471\n"
     ]
    },
    {
     "name": "stderr",
     "output_type": "stream",
     "text": [
      "/opt/conda/lib/python3.10/site-packages/lightgbm/engine.py:172: UserWarning: Found `num_iterations` in params. Will use it instead of argument\n",
      "  _log_warning(f\"Found `{alias}` in params. Will use it instead of argument\")\n"
     ]
    },
    {
     "name": "stdout",
     "output_type": "stream",
     "text": [
      "[LightGBM] [Info] Auto-choosing col-wise multi-threading, the overhead of testing was 1.067537 seconds.\n",
      "You can set `force_col_wise=true` to remove the overhead.\n",
      "[LightGBM] [Info] Total Bins 127705\n",
      "[LightGBM] [Info] Number of data points in the train set: 666668, number of used features: 8716\n",
      "[LightGBM] [Info] Start training from score 2.185224\n"
     ]
    },
    {
     "name": "stderr",
     "output_type": "stream",
     "text": [
      "/opt/conda/lib/python3.10/site-packages/lightgbm/basic.py:1192: UserWarning: Converting data to scipy sparse matrix.\n",
      "  _log_warning('Converting data to scipy sparse matrix.')\n",
      "/opt/conda/lib/python3.10/site-packages/lightgbm/engine.py:172: UserWarning: Found `num_iterations` in params. Will use it instead of argument\n",
      "  _log_warning(f\"Found `{alias}` in params. Will use it instead of argument\")\n"
     ]
    },
    {
     "name": "stdout",
     "output_type": "stream",
     "text": [
      "[LightGBM] [Info] Auto-choosing col-wise multi-threading, the overhead of testing was 1.303360 seconds.\n",
      "You can set `force_col_wise=true` to remove the overhead.\n",
      "[LightGBM] [Info] Total Bins 131032\n",
      "[LightGBM] [Info] Number of data points in the train set: 833334, number of used features: 10555\n",
      "[LightGBM] [Info] Start training from score 3.509508\n"
     ]
    },
    {
     "name": "stderr",
     "output_type": "stream",
     "text": [
      "/opt/conda/lib/python3.10/site-packages/lightgbm/engine.py:172: UserWarning: Found `num_iterations` in params. Will use it instead of argument\n",
      "  _log_warning(f\"Found `{alias}` in params. Will use it instead of argument\")\n"
     ]
    },
    {
     "name": "stdout",
     "output_type": "stream",
     "text": [
      "[LightGBM] [Info] Auto-choosing col-wise multi-threading, the overhead of testing was 1.300873 seconds.\n",
      "You can set `force_col_wise=true` to remove the overhead.\n",
      "[LightGBM] [Info] Total Bins 131287\n",
      "[LightGBM] [Info] Number of data points in the train set: 833334, number of used features: 10556\n",
      "[LightGBM] [Info] Start training from score 1.265026\n"
     ]
    },
    {
     "name": "stderr",
     "output_type": "stream",
     "text": [
      "/opt/conda/lib/python3.10/site-packages/lightgbm/engine.py:172: UserWarning: Found `num_iterations` in params. Will use it instead of argument\n",
      "  _log_warning(f\"Found `{alias}` in params. Will use it instead of argument\")\n"
     ]
    },
    {
     "name": "stdout",
     "output_type": "stream",
     "text": [
      "[LightGBM] [Info] Auto-choosing col-wise multi-threading, the overhead of testing was 1.341184 seconds.\n",
      "You can set `force_col_wise=true` to remove the overhead.\n",
      "[LightGBM] [Info] Total Bins 131432\n",
      "[LightGBM] [Info] Number of data points in the train set: 833334, number of used features: 10557\n",
      "[LightGBM] [Info] Start training from score 2.187665\n"
     ]
    },
    {
     "name": "stderr",
     "output_type": "stream",
     "text": [
      "/opt/conda/lib/python3.10/site-packages/lightgbm/basic.py:1192: UserWarning: Converting data to scipy sparse matrix.\n",
      "  _log_warning('Converting data to scipy sparse matrix.')\n",
      "/opt/conda/lib/python3.10/site-packages/lightgbm/engine.py:172: UserWarning: Found `num_iterations` in params. Will use it instead of argument\n",
      "  _log_warning(f\"Found `{alias}` in params. Will use it instead of argument\")\n"
     ]
    },
    {
     "name": "stdout",
     "output_type": "stream",
     "text": [
      "[LightGBM] [Info] Auto-choosing row-wise multi-threading, the overhead of testing was 1.032792 seconds.\n",
      "You can set `force_row_wise=true` to remove the overhead.\n",
      "And if memory is not enough, you can set `force_col_wise=true`.\n",
      "[LightGBM] [Info] Total Bins 105103\n",
      "[LightGBM] [Info] Number of data points in the train set: 166670, number of used features: 1925\n",
      "[LightGBM] [Info] Start training from score 3.402292\n"
     ]
    },
    {
     "name": "stderr",
     "output_type": "stream",
     "text": [
      "/opt/conda/lib/python3.10/site-packages/lightgbm/engine.py:172: UserWarning: Found `num_iterations` in params. Will use it instead of argument\n",
      "  _log_warning(f\"Found `{alias}` in params. Will use it instead of argument\")\n"
     ]
    },
    {
     "name": "stdout",
     "output_type": "stream",
     "text": [
      "[LightGBM] [Info] Auto-choosing row-wise multi-threading, the overhead of testing was 1.118720 seconds.\n",
      "You can set `force_row_wise=true` to remove the overhead.\n",
      "And if memory is not enough, you can set `force_col_wise=true`.\n",
      "[LightGBM] [Info] Total Bins 105358\n",
      "[LightGBM] [Info] Number of data points in the train set: 166670, number of used features: 1926\n",
      "[LightGBM] [Info] Start training from score 1.244321\n"
     ]
    },
    {
     "name": "stderr",
     "output_type": "stream",
     "text": [
      "/opt/conda/lib/python3.10/site-packages/lightgbm/engine.py:172: UserWarning: Found `num_iterations` in params. Will use it instead of argument\n",
      "  _log_warning(f\"Found `{alias}` in params. Will use it instead of argument\")\n"
     ]
    },
    {
     "name": "stdout",
     "output_type": "stream",
     "text": [
      "[LightGBM] [Info] Auto-choosing row-wise multi-threading, the overhead of testing was 1.141010 seconds.\n",
      "You can set `force_row_wise=true` to remove the overhead.\n",
      "And if memory is not enough, you can set `force_col_wise=true`.\n",
      "[LightGBM] [Info] Total Bins 105492\n",
      "[LightGBM] [Info] Number of data points in the train set: 166670, number of used features: 1927\n",
      "[LightGBM] [Info] Start training from score 2.149421\n"
     ]
    },
    {
     "name": "stderr",
     "output_type": "stream",
     "text": [
      "/opt/conda/lib/python3.10/site-packages/lightgbm/basic.py:1192: UserWarning: Converting data to scipy sparse matrix.\n",
      "  _log_warning('Converting data to scipy sparse matrix.')\n",
      "/opt/conda/lib/python3.10/site-packages/lightgbm/engine.py:172: UserWarning: Found `num_iterations` in params. Will use it instead of argument\n",
      "  _log_warning(f\"Found `{alias}` in params. Will use it instead of argument\")\n"
     ]
    },
    {
     "name": "stdout",
     "output_type": "stream",
     "text": [
      "[LightGBM] [Info] Auto-choosing col-wise multi-threading, the overhead of testing was 6.032841 seconds.\n",
      "You can set `force_col_wise=true` to remove the overhead.\n",
      "[LightGBM] [Info] Total Bins 117903\n",
      "[LightGBM] [Info] Number of data points in the train set: 333336, number of used features: 4198\n",
      "[LightGBM] [Info] Start training from score 3.484100\n"
     ]
    },
    {
     "name": "stderr",
     "output_type": "stream",
     "text": [
      "/opt/conda/lib/python3.10/site-packages/lightgbm/engine.py:172: UserWarning: Found `num_iterations` in params. Will use it instead of argument\n",
      "  _log_warning(f\"Found `{alias}` in params. Will use it instead of argument\")\n"
     ]
    },
    {
     "name": "stdout",
     "output_type": "stream",
     "text": [
      "[LightGBM] [Info] Auto-choosing col-wise multi-threading, the overhead of testing was 5.857013 seconds.\n",
      "You can set `force_col_wise=true` to remove the overhead.\n",
      "[LightGBM] [Info] Total Bins 118158\n",
      "[LightGBM] [Info] Number of data points in the train set: 333336, number of used features: 4199\n",
      "[LightGBM] [Info] Start training from score 1.251677\n"
     ]
    },
    {
     "name": "stderr",
     "output_type": "stream",
     "text": [
      "/opt/conda/lib/python3.10/site-packages/lightgbm/engine.py:172: UserWarning: Found `num_iterations` in params. Will use it instead of argument\n",
      "  _log_warning(f\"Found `{alias}` in params. Will use it instead of argument\")\n"
     ]
    },
    {
     "name": "stdout",
     "output_type": "stream",
     "text": [
      "[LightGBM] [Info] Auto-choosing col-wise multi-threading, the overhead of testing was 6.170102 seconds.\n",
      "You can set `force_col_wise=true` to remove the overhead.\n",
      "[LightGBM] [Info] Total Bins 118308\n",
      "[LightGBM] [Info] Number of data points in the train set: 333336, number of used features: 4200\n",
      "[LightGBM] [Info] Start training from score 2.146033\n"
     ]
    },
    {
     "name": "stderr",
     "output_type": "stream",
     "text": [
      "/opt/conda/lib/python3.10/site-packages/lightgbm/basic.py:1192: UserWarning: Converting data to scipy sparse matrix.\n",
      "  _log_warning('Converting data to scipy sparse matrix.')\n",
      "/opt/conda/lib/python3.10/site-packages/lightgbm/engine.py:172: UserWarning: Found `num_iterations` in params. Will use it instead of argument\n",
      "  _log_warning(f\"Found `{alias}` in params. Will use it instead of argument\")\n"
     ]
    },
    {
     "name": "stdout",
     "output_type": "stream",
     "text": [
      "[LightGBM] [Info] Auto-choosing col-wise multi-threading, the overhead of testing was 0.782227 seconds.\n",
      "You can set `force_col_wise=true` to remove the overhead.\n",
      "[LightGBM] [Info] Total Bins 122642\n",
      "[LightGBM] [Info] Number of data points in the train set: 500002, number of used features: 6501\n",
      "[LightGBM] [Info] Start training from score 3.420388\n"
     ]
    },
    {
     "name": "stderr",
     "output_type": "stream",
     "text": [
      "/opt/conda/lib/python3.10/site-packages/lightgbm/engine.py:172: UserWarning: Found `num_iterations` in params. Will use it instead of argument\n",
      "  _log_warning(f\"Found `{alias}` in params. Will use it instead of argument\")\n"
     ]
    },
    {
     "name": "stdout",
     "output_type": "stream",
     "text": [
      "[LightGBM] [Info] Auto-choosing col-wise multi-threading, the overhead of testing was 0.778362 seconds.\n",
      "You can set `force_col_wise=true` to remove the overhead.\n",
      "[LightGBM] [Info] Total Bins 122897\n",
      "[LightGBM] [Info] Number of data points in the train set: 500002, number of used features: 6502\n",
      "[LightGBM] [Info] Start training from score 1.259881\n"
     ]
    },
    {
     "name": "stderr",
     "output_type": "stream",
     "text": [
      "/opt/conda/lib/python3.10/site-packages/lightgbm/engine.py:172: UserWarning: Found `num_iterations` in params. Will use it instead of argument\n",
      "  _log_warning(f\"Found `{alias}` in params. Will use it instead of argument\")\n"
     ]
    },
    {
     "name": "stdout",
     "output_type": "stream",
     "text": [
      "[LightGBM] [Info] Auto-choosing col-wise multi-threading, the overhead of testing was 0.790889 seconds.\n",
      "You can set `force_col_wise=true` to remove the overhead.\n",
      "[LightGBM] [Info] Total Bins 123043\n",
      "[LightGBM] [Info] Number of data points in the train set: 500002, number of used features: 6503\n",
      "[LightGBM] [Info] Start training from score 2.127225\n"
     ]
    },
    {
     "name": "stderr",
     "output_type": "stream",
     "text": [
      "/opt/conda/lib/python3.10/site-packages/lightgbm/basic.py:1192: UserWarning: Converting data to scipy sparse matrix.\n",
      "  _log_warning('Converting data to scipy sparse matrix.')\n",
      "/opt/conda/lib/python3.10/site-packages/lightgbm/engine.py:172: UserWarning: Found `num_iterations` in params. Will use it instead of argument\n",
      "  _log_warning(f\"Found `{alias}` in params. Will use it instead of argument\")\n"
     ]
    },
    {
     "name": "stdout",
     "output_type": "stream",
     "text": [
      "[LightGBM] [Info] Auto-choosing col-wise multi-threading, the overhead of testing was 1.355065 seconds.\n",
      "You can set `force_col_wise=true` to remove the overhead.\n",
      "[LightGBM] [Info] Total Bins 127300\n",
      "[LightGBM] [Info] Number of data points in the train set: 666668, number of used features: 8714\n",
      "[LightGBM] [Info] Start training from score 3.582765\n"
     ]
    },
    {
     "name": "stderr",
     "output_type": "stream",
     "text": [
      "/opt/conda/lib/python3.10/site-packages/lightgbm/engine.py:172: UserWarning: Found `num_iterations` in params. Will use it instead of argument\n",
      "  _log_warning(f\"Found `{alias}` in params. Will use it instead of argument\")\n"
     ]
    },
    {
     "name": "stdout",
     "output_type": "stream",
     "text": [
      "[LightGBM] [Info] Auto-choosing col-wise multi-threading, the overhead of testing was 1.085939 seconds.\n",
      "You can set `force_col_wise=true` to remove the overhead.\n",
      "[LightGBM] [Info] Total Bins 127555\n",
      "[LightGBM] [Info] Number of data points in the train set: 666668, number of used features: 8715\n",
      "[LightGBM] [Info] Start training from score 1.272471\n"
     ]
    },
    {
     "name": "stderr",
     "output_type": "stream",
     "text": [
      "/opt/conda/lib/python3.10/site-packages/lightgbm/engine.py:172: UserWarning: Found `num_iterations` in params. Will use it instead of argument\n",
      "  _log_warning(f\"Found `{alias}` in params. Will use it instead of argument\")\n"
     ]
    },
    {
     "name": "stdout",
     "output_type": "stream",
     "text": [
      "[LightGBM] [Info] Auto-choosing col-wise multi-threading, the overhead of testing was 1.197771 seconds.\n",
      "You can set `force_col_wise=true` to remove the overhead.\n",
      "[LightGBM] [Info] Total Bins 127705\n",
      "[LightGBM] [Info] Number of data points in the train set: 666668, number of used features: 8716\n",
      "[LightGBM] [Info] Start training from score 2.185224\n"
     ]
    },
    {
     "name": "stderr",
     "output_type": "stream",
     "text": [
      "/opt/conda/lib/python3.10/site-packages/lightgbm/basic.py:1192: UserWarning: Converting data to scipy sparse matrix.\n",
      "  _log_warning('Converting data to scipy sparse matrix.')\n",
      "/opt/conda/lib/python3.10/site-packages/lightgbm/engine.py:172: UserWarning: Found `num_iterations` in params. Will use it instead of argument\n",
      "  _log_warning(f\"Found `{alias}` in params. Will use it instead of argument\")\n"
     ]
    },
    {
     "name": "stdout",
     "output_type": "stream",
     "text": [
      "[LightGBM] [Info] Auto-choosing col-wise multi-threading, the overhead of testing was 1.299957 seconds.\n",
      "You can set `force_col_wise=true` to remove the overhead.\n",
      "[LightGBM] [Info] Total Bins 131032\n",
      "[LightGBM] [Info] Number of data points in the train set: 833334, number of used features: 10555\n",
      "[LightGBM] [Info] Start training from score 3.509508\n"
     ]
    },
    {
     "name": "stderr",
     "output_type": "stream",
     "text": [
      "/opt/conda/lib/python3.10/site-packages/lightgbm/engine.py:172: UserWarning: Found `num_iterations` in params. Will use it instead of argument\n",
      "  _log_warning(f\"Found `{alias}` in params. Will use it instead of argument\")\n"
     ]
    },
    {
     "name": "stdout",
     "output_type": "stream",
     "text": [
      "[LightGBM] [Info] Auto-choosing col-wise multi-threading, the overhead of testing was 1.313078 seconds.\n",
      "You can set `force_col_wise=true` to remove the overhead.\n",
      "[LightGBM] [Info] Total Bins 131287\n",
      "[LightGBM] [Info] Number of data points in the train set: 833334, number of used features: 10556\n",
      "[LightGBM] [Info] Start training from score 1.265026\n"
     ]
    },
    {
     "name": "stderr",
     "output_type": "stream",
     "text": [
      "/opt/conda/lib/python3.10/site-packages/lightgbm/engine.py:172: UserWarning: Found `num_iterations` in params. Will use it instead of argument\n",
      "  _log_warning(f\"Found `{alias}` in params. Will use it instead of argument\")\n"
     ]
    },
    {
     "name": "stdout",
     "output_type": "stream",
     "text": [
      "[LightGBM] [Info] Auto-choosing col-wise multi-threading, the overhead of testing was 1.317543 seconds.\n",
      "You can set `force_col_wise=true` to remove the overhead.\n",
      "[LightGBM] [Info] Total Bins 131432\n",
      "[LightGBM] [Info] Number of data points in the train set: 833334, number of used features: 10557\n",
      "[LightGBM] [Info] Start training from score 2.187665\n"
     ]
    },
    {
     "name": "stderr",
     "output_type": "stream",
     "text": [
      "/opt/conda/lib/python3.10/site-packages/lightgbm/basic.py:1192: UserWarning: Converting data to scipy sparse matrix.\n",
      "  _log_warning('Converting data to scipy sparse matrix.')\n"
     ]
    }
   ],
   "source": [
    "#TODO with joblib.parallel_backend('loky'): \n",
    "scores = {\n",
    "    n: cross_val_score(\n",
    "        m,\n",
    "        X_tv[:N_CV],\n",
    "        y_tv[:N_CV],\n",
    "        cv=ts_cv,\n",
    "        scoring=mixed_scorer,\n",
    "        #error_score='raise'\n",
    "    ) for n, m in tqdm(models, desc='eval models', unit='cv')\n",
    "}"
   ]
  },
  {
   "cell_type": "code",
   "execution_count": 39,
   "id": "6c73da7a",
   "metadata": {
    "execution": {
     "iopub.execute_input": "2024-05-23T03:35:16.759690Z",
     "iopub.status.busy": "2024-05-23T03:35:16.759339Z",
     "iopub.status.idle": "2024-05-23T03:35:17.152425Z",
     "shell.execute_reply": "2024-05-23T03:35:17.151433Z"
    },
    "papermill": {
     "duration": 0.438405,
     "end_time": "2024-05-23T03:35:17.154926",
     "exception": false,
     "start_time": "2024-05-23T03:35:16.716521",
     "status": "completed"
    },
    "tags": []
   },
   "outputs": [
    {
     "data": {
      "image/png": "[encoded data removed]",
      "text/plain": [
       "<Figure size 640x480 with 1 Axes>"
      ]
     },
     "metadata": {},
     "output_type": "display_data"
    }
   ],
   "source": [
    "ax = pd.DataFrame(scores).plot()\n",
    "ax.yaxis.set_major_formatter(mtick.PercentFormatter(xmax=1.0, decimals=2))\n",
    "ax.set_xticks(np.arange(CV_SPLITS))\n",
    "ax.set_ylabel('loss')\n",
    "_ = ax.set_xlabel('split')"
   ]
  },
  {
   "cell_type": "markdown",
   "id": "80c3d232",
   "metadata": {
    "papermill": {
     "duration": 0.043307,
     "end_time": "2024-05-23T03:35:17.243599",
     "exception": false,
     "start_time": "2024-05-23T03:35:17.200292",
     "status": "completed"
    },
    "tags": []
   },
   "source": [
    "## Train and predict test"
   ]
  },
  {
   "cell_type": "code",
   "execution_count": 40,
   "id": "b902bf4c",
   "metadata": {
    "execution": {
     "iopub.execute_input": "2024-05-23T03:35:17.332858Z",
     "iopub.status.busy": "2024-05-23T03:35:17.332125Z",
     "iopub.status.idle": "2024-05-23T03:35:17.337364Z",
     "shell.execute_reply": "2024-05-23T03:35:17.336465Z"
    },
    "papermill": {
     "duration": 0.051653,
     "end_time": "2024-05-23T03:35:17.339260",
     "exception": false,
     "start_time": "2024-05-23T03:35:17.287607",
     "status": "completed"
    },
    "tags": []
   },
   "outputs": [],
   "source": [
    "test_model = get_cat_all_features_model(\n",
    "    gbkwargs={'num_iterations': 6_000},\n",
    "    outputkwargs={'transformation': lambda x: np.where(np.round(x)<=2, 0, np.round(x))},\n",
    ")"
   ]
  },
  {
   "cell_type": "code",
   "execution_count": 41,
   "id": "d279d543",
   "metadata": {
    "execution": {
     "iopub.execute_input": "2024-05-23T03:35:17.427060Z",
     "iopub.status.busy": "2024-05-23T03:35:17.426771Z",
     "iopub.status.idle": "2024-05-23T04:19:22.248547Z",
     "shell.execute_reply": "2024-05-23T04:19:22.247442Z"
    },
    "papermill": {
     "duration": 2644.868291,
     "end_time": "2024-05-23T04:19:22.251110",
     "exception": false,
     "start_time": "2024-05-23T03:35:17.382819",
     "status": "completed"
    },
    "tags": []
   },
   "outputs": [
    {
     "name": "stderr",
     "output_type": "stream",
     "text": [
      "/opt/conda/lib/python3.10/site-packages/lightgbm/engine.py:172: UserWarning: Found `num_iterations` in params. Will use it instead of argument\n",
      "  _log_warning(f\"Found `{alias}` in params. Will use it instead of argument\")\n"
     ]
    },
    {
     "name": "stdout",
     "output_type": "stream",
     "text": [
      "[LightGBM] [Info] Auto-choosing col-wise multi-threading, the overhead of testing was 1.992750 seconds.\n",
      "You can set `force_col_wise=true` to remove the overhead.\n",
      "[LightGBM] [Info] Total Bins 136757\n",
      "[LightGBM] [Info] Number of data points in the train set: 1225085, number of used features: 13263\n",
      "[LightGBM] [Info] Start training from score 3.540629\n"
     ]
    },
    {
     "name": "stderr",
     "output_type": "stream",
     "text": [
      "/opt/conda/lib/python3.10/site-packages/lightgbm/engine.py:172: UserWarning: Found `num_iterations` in params. Will use it instead of argument\n",
      "  _log_warning(f\"Found `{alias}` in params. Will use it instead of argument\")\n"
     ]
    },
    {
     "name": "stdout",
     "output_type": "stream",
     "text": [
      "[LightGBM] [Info] Auto-choosing col-wise multi-threading, the overhead of testing was 1.997739 seconds.\n",
      "You can set `force_col_wise=true` to remove the overhead.\n",
      "[LightGBM] [Info] Total Bins 137012\n",
      "[LightGBM] [Info] Number of data points in the train set: 1225085, number of used features: 13264\n",
      "[LightGBM] [Info] Start training from score 1.257385\n"
     ]
    },
    {
     "name": "stderr",
     "output_type": "stream",
     "text": [
      "/opt/conda/lib/python3.10/site-packages/lightgbm/engine.py:172: UserWarning: Found `num_iterations` in params. Will use it instead of argument\n",
      "  _log_warning(f\"Found `{alias}` in params. Will use it instead of argument\")\n"
     ]
    },
    {
     "name": "stdout",
     "output_type": "stream",
     "text": [
      "[LightGBM] [Info] Auto-choosing col-wise multi-threading, the overhead of testing was 1.977195 seconds.\n",
      "You can set `force_col_wise=true` to remove the overhead.\n",
      "[LightGBM] [Info] Total Bins 137158\n",
      "[LightGBM] [Info] Number of data points in the train set: 1225085, number of used features: 13265\n",
      "[LightGBM] [Info] Start training from score 2.217102\n"
     ]
    }
   ],
   "source": [
    "test_model = test_model.fit(X_tv, y_tv)"
   ]
  },
  {
   "cell_type": "code",
   "execution_count": 42,
   "id": "ee235224",
   "metadata": {
    "execution": {
     "iopub.execute_input": "2024-05-23T04:19:22.352634Z",
     "iopub.status.busy": "2024-05-23T04:19:22.352239Z",
     "iopub.status.idle": "2024-05-23T04:27:46.689009Z",
     "shell.execute_reply": "2024-05-23T04:27:46.687847Z"
    },
    "papermill": {
     "duration": 504.392383,
     "end_time": "2024-05-23T04:27:46.691827",
     "exception": false,
     "start_time": "2024-05-23T04:19:22.299444",
     "status": "completed"
    },
    "tags": []
   },
   "outputs": [
    {
     "name": "stderr",
     "output_type": "stream",
     "text": [
      "/opt/conda/lib/python3.10/site-packages/lightgbm/basic.py:1192: UserWarning: Converting data to scipy sparse matrix.\n",
      "  _log_warning('Converting data to scipy sparse matrix.')\n"
     ]
    }
   ],
   "source": [
    "y_pred = test_model.predict(X_test)"
   ]
  },
  {
   "cell_type": "code",
   "execution_count": 43,
   "id": "27590090",
   "metadata": {
    "execution": {
     "iopub.execute_input": "2024-05-23T04:27:46.785267Z",
     "iopub.status.busy": "2024-05-23T04:27:46.784673Z",
     "iopub.status.idle": "2024-05-23T04:27:46.794020Z",
     "shell.execute_reply": "2024-05-23T04:27:46.793107Z"
    },
    "papermill": {
     "duration": 0.056874,
     "end_time": "2024-05-23T04:27:46.795939",
     "exception": false,
     "start_time": "2024-05-23T04:27:46.739065",
     "status": "completed"
    },
    "tags": []
   },
   "outputs": [],
   "source": [
    "pred_out = X_test[['uid', 'mid']]"
   ]
  },
  {
   "cell_type": "code",
   "execution_count": 44,
   "id": "1d01f0a9",
   "metadata": {
    "execution": {
     "iopub.execute_input": "2024-05-23T04:27:46.884613Z",
     "iopub.status.busy": "2024-05-23T04:27:46.884205Z",
     "iopub.status.idle": "2024-05-23T04:27:47.360596Z",
     "shell.execute_reply": "2024-05-23T04:27:47.359643Z"
    },
    "papermill": {
     "duration": 0.523404,
     "end_time": "2024-05-23T04:27:47.362930",
     "exception": false,
     "start_time": "2024-05-23T04:27:46.839526",
     "status": "completed"
    },
    "tags": []
   },
   "outputs": [
    {
     "name": "stderr",
     "output_type": "stream",
     "text": [
      "/tmp/ipykernel_24/2687242901.py:1: SettingWithCopyWarning: \n",
      "A value is trying to be set on a copy of a slice from a DataFrame.\n",
      "Try using .loc[row_indexer,col_indexer] = value instead\n",
      "\n",
      "See the caveats in the documentation: https://pandas.pydata.org/pandas-docs/stable/user_guide/indexing.html#returning-a-view-versus-a-copy\n",
      "  pred_out.loc[:, 'predictions'] = [ f'{f},{c},{l}' for f,c,l in y_pred.astype(int)]\n"
     ]
    }
   ],
   "source": [
    "pred_out.loc[:, 'predictions'] = [ f'{f},{c},{l}' for f,c,l in y_pred.astype(int)]"
   ]
  },
  {
   "cell_type": "code",
   "execution_count": 45,
   "id": "98a346ea",
   "metadata": {
    "execution": {
     "iopub.execute_input": "2024-05-23T04:27:47.453515Z",
     "iopub.status.busy": "2024-05-23T04:27:47.453188Z",
     "iopub.status.idle": "2024-05-23T04:27:48.156665Z",
     "shell.execute_reply": "2024-05-23T04:27:48.155628Z"
    },
    "papermill": {
     "duration": 0.751742,
     "end_time": "2024-05-23T04:27:48.159014",
     "exception": false,
     "start_time": "2024-05-23T04:27:47.407272",
     "status": "completed"
    },
    "tags": []
   },
   "outputs": [],
   "source": [
    "pred_out.to_csv('peredictions.txt', sep=' ', quoting=False, index=False, header=False)"
   ]
  }
 ],
 "metadata": {
  "kaggle": {
   "accelerator": "nvidiaTeslaT4",
   "dataSources": [
    {
     "datasetId": 4801002,
     "sourceId": 8124276,
     "sourceType": "datasetVersion"
    }
   ],
   "isGpuEnabled": true,
   "isInternetEnabled": true,
   "language": "python",
   "sourceType": "notebook"
  },
  "kernelspec": {
   "display_name": "Python 3",
   "language": "python",
   "name": "python3"
  },
  "language_info": {
   "codemirror_mode": {
    "name": "ipython",
    "version": 3
   },
   "file_extension": ".py",
   "mimetype": "text/x-python",
   "name": "python",
   "nbconvert_exporter": "python",
   "pygments_lexer": "ipython3",
   "version": "3.10.13"
  },
  "papermill": {
   "default_parameters": {},
   "duration": 25369.340221,
   "end_time": "2024-05-23T04:27:51.342901",
   "environment_variables": {},
   "exception": null,
   "input_path": "__notebook__.ipynb",
   "output_path": "__notebook__.ipynb",
   "parameters": {},
   "start_time": "2024-05-22T21:25:02.002680",
   "version": "2.5.0"
  },
  "widgets": {
   "application/vnd.jupyter.widget-state+json": {
    "state": {
     "0d73f825ef754b56948399017883fb4e": {
      "model_module": "@jupyter-widgets/controls",
      "model_module_version": "1.5.0",
      "model_name": "ProgressStyleModel",
      "state": {
       "_model_module": "@jupyter-widgets/controls",
       "_model_module_version": "1.5.0",
       "_model_name": "ProgressStyleModel",
       "_view_count": null,
       "_view_module": "@jupyter-widgets/base",
       "_view_module_version": "1.2.0",
       "_view_name": "StyleView",
       "bar_color": null,
       "description_width": ""
      }
     },
     "0f3e04b455cc4bd4a9e7a677ed671c30": {
      "model_module": "@jupyter-widgets/base",
      "model_module_version": "1.2.0",
      "model_name": "LayoutModel",
      "state": {
       "_model_module": "@jupyter-widgets/base",
       "_model_module_version": "1.2.0",
       "_model_name": "LayoutModel",
       "_view_count": null,
       "_view_module": "@jupyter-widgets/base",
       "_view_module_version": "1.2.0",
       "_view_name": "LayoutView",
       "align_content": null,
       "align_items": null,
       "align_self": null,
       "border": null,
       "bottom": null,
       "display": null,
       "flex": null,
       "flex_flow": null,
       "grid_area": null,
       "grid_auto_columns": null,
       "grid_auto_flow": null,
       "grid_auto_rows": null,
       "grid_column": null,
       "grid_gap": null,
       "grid_row": null,
       "grid_template_areas": null,
       "grid_template_columns": null,
       "grid_template_rows": null,
       "height": null,
       "justify_content": null,
       "justify_items": null,
       "left": null,
       "margin": null,
       "max_height": null,
       "max_width": null,
       "min_height": null,
       "min_width": null,
       "object_fit": null,
       "object_position": null,
       "order": null,
       "overflow": null,
       "overflow_x": null,
       "overflow_y": null,
       "padding": null,
       "right": null,
       "top": null,
       "visibility": null,
       "width": null
      }
     },
     "134337ec35a448f79dbbd06627765a0e": {
      "model_module": "@jupyter-widgets/base",
      "model_module_version": "1.2.0",
      "model_name": "LayoutModel",
      "state": {
       "_model_module": "@jupyter-widgets/base",
       "_model_module_version": "1.2.0",
       "_model_name": "LayoutModel",
       "_view_count": null,
       "_view_module": "@jupyter-widgets/base",
       "_view_module_version": "1.2.0",
       "_view_name": "LayoutView",
       "align_content": null,
       "align_items": null,
       "align_self": null,
       "border": null,
       "bottom": null,
       "display": null,
       "flex": null,
       "flex_flow": null,
       "grid_area": null,
       "grid_auto_columns": null,
       "grid_auto_flow": null,
       "grid_auto_rows": null,
       "grid_column": null,
       "grid_gap": null,
       "grid_row": null,
       "grid_template_areas": null,
       "grid_template_columns": null,
       "grid_template_rows": null,
       "height": null,
       "justify_content": null,
       "justify_items": null,
       "left": null,
       "margin": null,
       "max_height": null,
       "max_width": null,
       "min_height": null,
       "min_width": null,
       "object_fit": null,
       "object_position": null,
       "order": null,
       "overflow": null,
       "overflow_x": null,
       "overflow_y": null,
       "padding": null,
       "right": null,
       "top": null,
       "visibility": null,
       "width": null
      }
     },
     "1b8bad0cdcff4cf8bfce3d5480278376": {
      "model_module": "@jupyter-widgets/base",
      "model_module_version": "1.2.0",
      "model_name": "LayoutModel",
      "state": {
       "_model_module": "@jupyter-widgets/base",
       "_model_module_version": "1.2.0",
       "_model_name": "LayoutModel",
       "_view_count": null,
       "_view_module": "@jupyter-widgets/base",
       "_view_module_version": "1.2.0",
       "_view_name": "LayoutView",
       "align_content": null,
       "align_items": null,
       "align_self": null,
       "border": null,
       "bottom": null,
       "display": null,
       "flex": null,
       "flex_flow": null,
       "grid_area": null,
       "grid_auto_columns": null,
       "grid_auto_flow": null,
       "grid_auto_rows": null,
       "grid_column": null,
       "grid_gap": null,
       "grid_row": null,
       "grid_template_areas": null,
       "grid_template_columns": null,
       "grid_template_rows": null,
       "height": null,
       "justify_content": null,
       "justify_items": null,
       "left": null,
       "margin": null,
       "max_height": null,
       "max_width": null,
       "min_height": null,
       "min_width": null,
       "object_fit": null,
       "object_position": null,
       "order": null,
       "overflow": null,
       "overflow_x": null,
       "overflow_y": null,
       "padding": null,
       "right": null,
       "top": null,
       "visibility": null,
       "width": null
      }
     },
     "1fd2a381214948d482497aa9800c711d": {
      "model_module": "@jupyter-widgets/base",
      "model_module_version": "1.2.0",
      "model_name": "LayoutModel",
      "state": {
       "_model_module": "@jupyter-widgets/base",
       "_model_module_version": "1.2.0",
       "_model_name": "LayoutModel",
       "_view_count": null,
       "_view_module": "@jupyter-widgets/base",
       "_view_module_version": "1.2.0",
       "_view_name": "LayoutView",
       "align_content": null,
       "align_items": null,
       "align_self": null,
       "border": null,
       "bottom": null,
       "display": null,
       "flex": null,
       "flex_flow": null,
       "grid_area": null,
       "grid_auto_columns": null,
       "grid_auto_flow": null,
       "grid_auto_rows": null,
       "grid_column": null,
       "grid_gap": null,
       "grid_row": null,
       "grid_template_areas": null,
       "grid_template_columns": null,
       "grid_template_rows": null,
       "height": null,
       "justify_content": null,
       "justify_items": null,
       "left": null,
       "margin": null,
       "max_height": null,
       "max_width": null,
       "min_height": null,
       "min_width": null,
       "object_fit": null,
       "object_position": null,
       "order": null,
       "overflow": null,
       "overflow_x": null,
       "overflow_y": null,
       "padding": null,
       "right": null,
       "top": null,
       "visibility": null,
       "width": null
      }
     },
     "21ef4c8f06154b09b5d7efa88dbe6a9b": {
      "model_module": "@jupyter-widgets/controls",
      "model_module_version": "1.5.0",
      "model_name": "HTMLModel",
      "state": {
       "_dom_classes": [],
       "_model_module": "@jupyter-widgets/controls",
       "_model_module_version": "1.5.0",
       "_model_name": "HTMLModel",
       "_view_count": null,
       "_view_module": "@jupyter-widgets/controls",
       "_view_module_version": "1.5.0",
       "_view_name": "HTMLView",
       "description": "",
       "description_tooltip": null,
       "layout": "IPY_MODEL_57c09611cf534b47ba24ca037b155a11",
       "placeholder": "​",
       "style": "IPY_MODEL_9011559f12d2409d9a1d39c22dc4e3dd",
       "value": " 412M/412M [00:02&lt;00:00, 210MB/s]"
      }
     },
     "2b45f5c4bef2464cbd8e8a00129e40cf": {
      "model_module": "@jupyter-widgets/controls",
      "model_module_version": "1.5.0",
      "model_name": "HTMLModel",
      "state": {
       "_dom_classes": [],
       "_model_module": "@jupyter-widgets/controls",
       "_model_module_version": "1.5.0",
       "_model_name": "HTMLModel",
       "_view_count": null,
       "_view_module": "@jupyter-widgets/controls",
       "_view_module_version": "1.5.0",
       "_view_name": "HTMLView",
       "description": "",
       "description_tooltip": null,
       "layout": "IPY_MODEL_1b8bad0cdcff4cf8bfce3d5480278376",
       "placeholder": "​",
       "style": "IPY_MODEL_7807863a0ec741b1b325d25d583e94c1",
       "value": "config.json: 100%"
      }
     },
     "2cb93e22e00244c1b940662a67a314e2": {
      "model_module": "@jupyter-widgets/controls",
      "model_module_version": "1.5.0",
      "model_name": "FloatProgressModel",
      "state": {
       "_dom_classes": [],
       "_model_module": "@jupyter-widgets/controls",
       "_model_module_version": "1.5.0",
       "_model_name": "FloatProgressModel",
       "_view_count": null,
       "_view_module": "@jupyter-widgets/controls",
       "_view_module_version": "1.5.0",
       "_view_name": "ProgressView",
       "bar_style": "success",
       "description": "",
       "description_tooltip": null,
       "layout": "IPY_MODEL_706681f011ee4186aa624e4b63692387",
       "max": 8.0,
       "min": 0.0,
       "orientation": "horizontal",
       "style": "IPY_MODEL_f6fd7e43132844f68068d791cca91bc4",
       "value": 8.0
      }
     },
     "2ef6c4d3b65841a88360b25be0f321f4": {
      "model_module": "@jupyter-widgets/controls",
      "model_module_version": "1.5.0",
      "model_name": "FloatProgressModel",
      "state": {
       "_dom_classes": [],
       "_model_module": "@jupyter-widgets/controls",
       "_model_module_version": "1.5.0",
       "_model_name": "FloatProgressModel",
       "_view_count": null,
       "_view_module": "@jupyter-widgets/controls",
       "_view_module_version": "1.5.0",
       "_view_name": "ProgressView",
       "bar_style": "success",
       "description": "",
       "description_tooltip": null,
       "layout": "IPY_MODEL_728f5f3a0da24890965e1de177ebedfe",
       "max": 49.0,
       "min": 0.0,
       "orientation": "horizontal",
       "style": "IPY_MODEL_71d94be551e240c68ded25833320a227",
       "value": 49.0
      }
     },
     "300f6562ce8d4b41aad9e95d541b4975": {
      "model_module": "@jupyter-widgets/controls",
      "model_module_version": "1.5.0",
      "model_name": "FloatProgressModel",
      "state": {
       "_dom_classes": [],
       "_model_module": "@jupyter-widgets/controls",
       "_model_module_version": "1.5.0",
       "_model_name": "FloatProgressModel",
       "_view_count": null,
       "_view_module": "@jupyter-widgets/controls",
       "_view_module_version": "1.5.0",
       "_view_name": "ProgressView",
       "bar_style": "success",
       "description": "",
       "description_tooltip": null,
       "layout": "IPY_MODEL_756fe4c622cf4e819a4d5178c3475d66",
       "max": 109540.0,
       "min": 0.0,
       "orientation": "horizontal",
       "style": "IPY_MODEL_96d89a6611274be98ed39f37e14818b5",
       "value": 109540.0
      }
     },
     "3076023b30704b598d0a83eecfb6e88e": {
      "model_module": "@jupyter-widgets/controls",
      "model_module_version": "1.5.0",
      "model_name": "DescriptionStyleModel",
      "state": {
       "_model_module": "@jupyter-widgets/controls",
       "_model_module_version": "1.5.0",
       "_model_name": "DescriptionStyleModel",
       "_view_count": null,
       "_view_module": "@jupyter-widgets/base",
       "_view_module_version": "1.2.0",
       "_view_name": "StyleView",
       "description_width": ""
      }
     },
     "30883185088644fb8c0eae8476a1afc4": {
      "model_module": "@jupyter-widgets/base",
      "model_module_version": "1.2.0",
      "model_name": "LayoutModel",
      "state": {
       "_model_module": "@jupyter-widgets/base",
       "_model_module_version": "1.2.0",
       "_model_name": "LayoutModel",
       "_view_count": null,
       "_view_module": "@jupyter-widgets/base",
       "_view_module_version": "1.2.0",
       "_view_name": "LayoutView",
       "align_content": null,
       "align_items": null,
       "align_self": null,
       "border": null,
       "bottom": null,
       "display": null,
       "flex": null,
       "flex_flow": null,
       "grid_area": null,
       "grid_auto_columns": null,
       "grid_auto_flow": null,
       "grid_auto_rows": null,
       "grid_column": null,
       "grid_gap": null,
       "grid_row": null,
       "grid_template_areas": null,
       "grid_template_columns": null,
       "grid_template_rows": null,
       "height": null,
       "justify_content": null,
       "justify_items": null,
       "left": null,
       "margin": null,
       "max_height": null,
       "max_width": null,
       "min_height": null,
       "min_width": null,
       "object_fit": null,
       "object_position": null,
       "order": null,
       "overflow": null,
       "overflow_x": null,
       "overflow_y": null,
       "padding": null,
       "right": null,
       "top": null,
       "visibility": null,
       "width": null
      }
     },
     "3ac97c9bbffe4097a14bc4f284a5af43": {
      "model_module": "@jupyter-widgets/controls",
      "model_module_version": "1.5.0",
      "model_name": "HTMLModel",
      "state": {
       "_dom_classes": [],
       "_model_module": "@jupyter-widgets/controls",
       "_model_module_version": "1.5.0",
       "_model_name": "HTMLModel",
       "_view_count": null,
       "_view_module": "@jupyter-widgets/controls",
       "_view_module_version": "1.5.0",
       "_view_name": "HTMLView",
       "description": "",
       "description_tooltip": null,
       "layout": "IPY_MODEL_49ed123809714f91a1ad077773713b81",
       "placeholder": "​",
       "style": "IPY_MODEL_3076023b30704b598d0a83eecfb6e88e",
       "value": " 624/624 [00:00&lt;00:00, 54.8kB/s]"
      }
     },
     "3b07aedcb339451e93e7508f253146b0": {
      "model_module": "@jupyter-widgets/base",
      "model_module_version": "1.2.0",
      "model_name": "LayoutModel",
      "state": {
       "_model_module": "@jupyter-widgets/base",
       "_model_module_version": "1.2.0",
       "_model_name": "LayoutModel",
       "_view_count": null,
       "_view_module": "@jupyter-widgets/base",
       "_view_module_version": "1.2.0",
       "_view_name": "LayoutView",
       "align_content": null,
       "align_items": null,
       "align_self": null,
       "border": null,
       "bottom": null,
       "display": null,
       "flex": null,
       "flex_flow": null,
       "grid_area": null,
       "grid_auto_columns": null,
       "grid_auto_flow": null,
       "grid_auto_rows": null,
       "grid_column": null,
       "grid_gap": null,
       "grid_row": null,
       "grid_template_areas": null,
       "grid_template_columns": null,
       "grid_template_rows": null,
       "height": null,
       "justify_content": null,
       "justify_items": null,
       "left": null,
       "margin": null,
       "max_height": null,
       "max_width": null,
       "min_height": null,
       "min_width": null,
       "object_fit": null,
       "object_position": null,
       "order": null,
       "overflow": null,
       "overflow_x": null,
       "overflow_y": null,
       "padding": null,
       "right": null,
       "top": null,
       "visibility": null,
       "width": null
      }
     },
     "3ea3cb1eb6a8432a9c5d1dfaa5c294ab": {
      "model_module": "@jupyter-widgets/base",
      "model_module_version": "1.2.0",
      "model_name": "LayoutModel",
      "state": {
       "_model_module": "@jupyter-widgets/base",
       "_model_module_version": "1.2.0",
       "_model_name": "LayoutModel",
       "_view_count": null,
       "_view_module": "@jupyter-widgets/base",
       "_view_module_version": "1.2.0",
       "_view_name": "LayoutView",
       "align_content": null,
       "align_items": null,
       "align_self": null,
       "border": null,
       "bottom": null,
       "display": null,
       "flex": null,
       "flex_flow": null,
       "grid_area": null,
       "grid_auto_columns": null,
       "grid_auto_flow": null,
       "grid_auto_rows": null,
       "grid_column": null,
       "grid_gap": null,
       "grid_row": null,
       "grid_template_areas": null,
       "grid_template_columns": null,
       "grid_template_rows": null,
       "height": null,
       "justify_content": null,
       "justify_items": null,
       "left": null,
       "margin": null,
       "max_height": null,
       "max_width": null,
       "min_height": null,
       "min_width": null,
       "object_fit": null,
       "object_position": null,
       "order": null,
       "overflow": null,
       "overflow_x": null,
       "overflow_y": null,
       "padding": null,
       "right": null,
       "top": null,
       "visibility": null,
       "width": null
      }
     },
     "41b892ea25324e3284f75b8e5c39d6bd": {
      "model_module": "@jupyter-widgets/controls",
      "model_module_version": "1.5.0",
      "model_name": "DescriptionStyleModel",
      "state": {
       "_model_module": "@jupyter-widgets/controls",
       "_model_module_version": "1.5.0",
       "_model_name": "DescriptionStyleModel",
       "_view_count": null,
       "_view_module": "@jupyter-widgets/base",
       "_view_module_version": "1.2.0",
       "_view_name": "StyleView",
       "description_width": ""
      }
     },
     "43458bfca4bb438e80df92f0d37611ef": {
      "model_module": "@jupyter-widgets/controls",
      "model_module_version": "1.5.0",
      "model_name": "HTMLModel",
      "state": {
       "_dom_classes": [],
       "_model_module": "@jupyter-widgets/controls",
       "_model_module_version": "1.5.0",
       "_model_name": "HTMLModel",
       "_view_count": null,
       "_view_module": "@jupyter-widgets/controls",
       "_view_module_version": "1.5.0",
       "_view_name": "HTMLView",
       "description": "",
       "description_tooltip": null,
       "layout": "IPY_MODEL_a03ded0d774c4023ba0f795afb7d0ad4",
       "placeholder": "​",
       "style": "IPY_MODEL_b7b10b5ad38d4104b742cb1bcda1ae38",
       "value": "vocab.txt: 100%"
      }
     },
     "44421e2bd0e849759795255d36c488f9": {
      "model_module": "@jupyter-widgets/controls",
      "model_module_version": "1.5.0",
      "model_name": "DescriptionStyleModel",
      "state": {
       "_model_module": "@jupyter-widgets/controls",
       "_model_module_version": "1.5.0",
       "_model_name": "DescriptionStyleModel",
       "_view_count": null,
       "_view_module": "@jupyter-widgets/base",
       "_view_module_version": "1.2.0",
       "_view_name": "StyleView",
       "description_width": ""
      }
     },
     "45aff562bfb04283806ed4cc3418ce90": {
      "model_module": "@jupyter-widgets/controls",
      "model_module_version": "1.5.0",
      "model_name": "DescriptionStyleModel",
      "state": {
       "_model_module": "@jupyter-widgets/controls",
       "_model_module_version": "1.5.0",
       "_model_name": "DescriptionStyleModel",
       "_view_count": null,
       "_view_module": "@jupyter-widgets/base",
       "_view_module_version": "1.2.0",
       "_view_name": "StyleView",
       "description_width": ""
      }
     },
     "47719e1b9f484b1db73027a7ff94e679": {
      "model_module": "@jupyter-widgets/base",
      "model_module_version": "1.2.0",
      "model_name": "LayoutModel",
      "state": {
       "_model_module": "@jupyter-widgets/base",
       "_model_module_version": "1.2.0",
       "_model_name": "LayoutModel",
       "_view_count": null,
       "_view_module": "@jupyter-widgets/base",
       "_view_module_version": "1.2.0",
       "_view_name": "LayoutView",
       "align_content": null,
       "align_items": null,
       "align_self": null,
       "border": null,
       "bottom": null,
       "display": null,
       "flex": null,
       "flex_flow": null,
       "grid_area": null,
       "grid_auto_columns": null,
       "grid_auto_flow": null,
       "grid_auto_rows": null,
       "grid_column": null,
       "grid_gap": null,
       "grid_row": null,
       "grid_template_areas": null,
       "grid_template_columns": null,
       "grid_template_rows": null,
       "height": null,
       "justify_content": null,
       "justify_items": null,
       "left": null,
       "margin": null,
       "max_height": null,
       "max_width": null,
       "min_height": null,
       "min_width": null,
       "object_fit": null,
       "object_position": null,
       "order": null,
       "overflow": null,
       "overflow_x": null,
       "overflow_y": null,
       "padding": null,
       "right": null,
       "top": null,
       "visibility": null,
       "width": null
      }
     },
     "49ed123809714f91a1ad077773713b81": {
      "model_module": "@jupyter-widgets/base",
      "model_module_version": "1.2.0",
      "model_name": "LayoutModel",
      "state": {
       "_model_module": "@jupyter-widgets/base",
       "_model_module_version": "1.2.0",
       "_model_name": "LayoutModel",
       "_view_count": null,
       "_view_module": "@jupyter-widgets/base",
       "_view_module_version": "1.2.0",
       "_view_name": "LayoutView",
       "align_content": null,
       "align_items": null,
       "align_self": null,
       "border": null,
       "bottom": null,
       "display": null,
       "flex": null,
       "flex_flow": null,
       "grid_area": null,
       "grid_auto_columns": null,
       "grid_auto_flow": null,
       "grid_auto_rows": null,
       "grid_column": null,
       "grid_gap": null,
       "grid_row": null,
       "grid_template_areas": null,
       "grid_template_columns": null,
       "grid_template_rows": null,
       "height": null,
       "justify_content": null,
       "justify_items": null,
       "left": null,
       "margin": null,
       "max_height": null,
       "max_width": null,
       "min_height": null,
       "min_width": null,
       "object_fit": null,
       "object_position": null,
       "order": null,
       "overflow": null,
       "overflow_x": null,
       "overflow_y": null,
       "padding": null,
       "right": null,
       "top": null,
       "visibility": null,
       "width": null
      }
     },
     "4a383b992a1542ddb9eabd6adf615cf4": {
      "model_module": "@jupyter-widgets/controls",
      "model_module_version": "1.5.0",
      "model_name": "HTMLModel",
      "state": {
       "_dom_classes": [],
       "_model_module": "@jupyter-widgets/controls",
       "_model_module_version": "1.5.0",
       "_model_name": "HTMLModel",
       "_view_count": null,
       "_view_module": "@jupyter-widgets/controls",
       "_view_module_version": "1.5.0",
       "_view_name": "HTMLView",
       "description": "",
       "description_tooltip": null,
       "layout": "IPY_MODEL_3b07aedcb339451e93e7508f253146b0",
       "placeholder": "​",
       "style": "IPY_MODEL_e7ee74ce8e6f405687871b4a2b6b90b0",
       "value": "eval models: 100%"
      }
     },
     "4c27ea51694c459aa93900f096b8cda0": {
      "model_module": "@jupyter-widgets/controls",
      "model_module_version": "1.5.0",
      "model_name": "HTMLModel",
      "state": {
       "_dom_classes": [],
       "_model_module": "@jupyter-widgets/controls",
       "_model_module_version": "1.5.0",
       "_model_name": "HTMLModel",
       "_view_count": null,
       "_view_module": "@jupyter-widgets/controls",
       "_view_module_version": "1.5.0",
       "_view_name": "HTMLView",
       "description": "",
       "description_tooltip": null,
       "layout": "IPY_MODEL_65486f76350a4cf1a3ad92b532d0c511",
       "placeholder": "​",
       "style": "IPY_MODEL_85e2d43c413a4af1b3e2f9e4f95e9b4f",
       "value": " 269k/269k [00:00&lt;00:00, 12.6MB/s]"
      }
     },
     "51148eee18e34e05b097fc4758663141": {
      "model_module": "@jupyter-widgets/base",
      "model_module_version": "1.2.0",
      "model_name": "LayoutModel",
      "state": {
       "_model_module": "@jupyter-widgets/base",
       "_model_module_version": "1.2.0",
       "_model_name": "LayoutModel",
       "_view_count": null,
       "_view_module": "@jupyter-widgets/base",
       "_view_module_version": "1.2.0",
       "_view_name": "LayoutView",
       "align_content": null,
       "align_items": null,
       "align_self": null,
       "border": null,
       "bottom": null,
       "display": null,
       "flex": null,
       "flex_flow": null,
       "grid_area": null,
       "grid_auto_columns": null,
       "grid_auto_flow": null,
       "grid_auto_rows": null,
       "grid_column": null,
       "grid_gap": null,
       "grid_row": null,
       "grid_template_areas": null,
       "grid_template_columns": null,
       "grid_template_rows": null,
       "height": null,
       "justify_content": null,
       "justify_items": null,
       "left": null,
       "margin": null,
       "max_height": null,
       "max_width": null,
       "min_height": null,
       "min_width": null,
       "object_fit": null,
       "object_position": null,
       "order": null,
       "overflow": null,
       "overflow_x": null,
       "overflow_y": null,
       "padding": null,
       "right": null,
       "top": null,
       "visibility": null,
       "width": null
      }
     },
     "55c79f512e31449a8764c4be0c005fdb": {
      "model_module": "@jupyter-widgets/base",
      "model_module_version": "1.2.0",
      "model_name": "LayoutModel",
      "state": {
       "_model_module": "@jupyter-widgets/base",
       "_model_module_version": "1.2.0",
       "_model_name": "LayoutModel",
       "_view_count": null,
       "_view_module": "@jupyter-widgets/base",
       "_view_module_version": "1.2.0",
       "_view_name": "LayoutView",
       "align_content": null,
       "align_items": null,
       "align_self": null,
       "border": null,
       "bottom": null,
       "display": null,
       "flex": null,
       "flex_flow": null,
       "grid_area": null,
       "grid_auto_columns": null,
       "grid_auto_flow": null,
       "grid_auto_rows": null,
       "grid_column": null,
       "grid_gap": null,
       "grid_row": null,
       "grid_template_areas": null,
       "grid_template_columns": null,
       "grid_template_rows": null,
       "height": null,
       "justify_content": null,
       "justify_items": null,
       "left": null,
       "margin": null,
       "max_height": null,
       "max_width": null,
       "min_height": null,
       "min_width": null,
       "object_fit": null,
       "object_position": null,
       "order": null,
       "overflow": null,
       "overflow_x": null,
       "overflow_y": null,
       "padding": null,
       "right": null,
       "top": null,
       "visibility": null,
       "width": null
      }
     },
     "57c09611cf534b47ba24ca037b155a11": {
      "model_module": "@jupyter-widgets/base",
      "model_module_version": "1.2.0",
      "model_name": "LayoutModel",
      "state": {
       "_model_module": "@jupyter-widgets/base",
       "_model_module_version": "1.2.0",
       "_model_name": "LayoutModel",
       "_view_count": null,
       "_view_module": "@jupyter-widgets/base",
       "_view_module_version": "1.2.0",
       "_view_name": "LayoutView",
       "align_content": null,
       "align_items": null,
       "align_self": null,
       "border": null,
       "bottom": null,
       "display": null,
       "flex": null,
       "flex_flow": null,
       "grid_area": null,
       "grid_auto_columns": null,
       "grid_auto_flow": null,
       "grid_auto_rows": null,
       "grid_column": null,
       "grid_gap": null,
       "grid_row": null,
       "grid_template_areas": null,
       "grid_template_columns": null,
       "grid_template_rows": null,
       "height": null,
       "justify_content": null,
       "justify_items": null,
       "left": null,
       "margin": null,
       "max_height": null,
       "max_width": null,
       "min_height": null,
       "min_width": null,
       "object_fit": null,
       "object_position": null,
       "order": null,
       "overflow": null,
       "overflow_x": null,
       "overflow_y": null,
       "padding": null,
       "right": null,
       "top": null,
       "visibility": null,
       "width": null
      }
     },
     "59e63b8c4e6446e1ae395b24d5ddaeb0": {
      "model_module": "@jupyter-widgets/base",
      "model_module_version": "1.2.0",
      "model_name": "LayoutModel",
      "state": {
       "_model_module": "@jupyter-widgets/base",
       "_model_module_version": "1.2.0",
       "_model_name": "LayoutModel",
       "_view_count": null,
       "_view_module": "@jupyter-widgets/base",
       "_view_module_version": "1.2.0",
       "_view_name": "LayoutView",
       "align_content": null,
       "align_items": null,
       "align_self": null,
       "border": null,
       "bottom": null,
       "display": null,
       "flex": null,
       "flex_flow": null,
       "grid_area": null,
       "grid_auto_columns": null,
       "grid_auto_flow": null,
       "grid_auto_rows": null,
       "grid_column": null,
       "grid_gap": null,
       "grid_row": null,
       "grid_template_areas": null,
       "grid_template_columns": null,
       "grid_template_rows": null,
       "height": null,
       "justify_content": null,
       "justify_items": null,
       "left": null,
       "margin": null,
       "max_height": null,
       "max_width": null,
       "min_height": null,
       "min_width": null,
       "object_fit": null,
       "object_position": null,
       "order": null,
       "overflow": null,
       "overflow_x": null,
       "overflow_y": null,
       "padding": null,
       "right": null,
       "top": null,
       "visibility": null,
       "width": null
      }
     },
     "621013864675433990e5fdf89f556461": {
      "model_module": "@jupyter-widgets/controls",
      "model_module_version": "1.5.0",
      "model_name": "HTMLModel",
      "state": {
       "_dom_classes": [],
       "_model_module": "@jupyter-widgets/controls",
       "_model_module_version": "1.5.0",
       "_model_name": "HTMLModel",
       "_view_count": null,
       "_view_module": "@jupyter-widgets/controls",
       "_view_module_version": "1.5.0",
       "_view_name": "HTMLView",
       "description": "",
       "description_tooltip": null,
       "layout": "IPY_MODEL_0f3e04b455cc4bd4a9e7a677ed671c30",
       "placeholder": "​",
       "style": "IPY_MODEL_44421e2bd0e849759795255d36c488f9",
       "value": " 8/8 [5:26:50&lt;00:00, 4481.16s/cv]"
      }
     },
     "65486f76350a4cf1a3ad92b532d0c511": {
      "model_module": "@jupyter-widgets/base",
      "model_module_version": "1.2.0",
      "model_name": "LayoutModel",
      "state": {
       "_model_module": "@jupyter-widgets/base",
       "_model_module_version": "1.2.0",
       "_model_name": "LayoutModel",
       "_view_count": null,
       "_view_module": "@jupyter-widgets/base",
       "_view_module_version": "1.2.0",
       "_view_name": "LayoutView",
       "align_content": null,
       "align_items": null,
       "align_self": null,
       "border": null,
       "bottom": null,
       "display": null,
       "flex": null,
       "flex_flow": null,
       "grid_area": null,
       "grid_auto_columns": null,
       "grid_auto_flow": null,
       "grid_auto_rows": null,
       "grid_column": null,
       "grid_gap": null,
       "grid_row": null,
       "grid_template_areas": null,
       "grid_template_columns": null,
       "grid_template_rows": null,
       "height": null,
       "justify_content": null,
       "justify_items": null,
       "left": null,
       "margin": null,
       "max_height": null,
       "max_width": null,
       "min_height": null,
       "min_width": null,
       "object_fit": null,
       "object_position": null,
       "order": null,
       "overflow": null,
       "overflow_x": null,
       "overflow_y": null,
       "padding": null,
       "right": null,
       "top": null,
       "visibility": null,
       "width": null
      }
     },
     "706681f011ee4186aa624e4b63692387": {
      "model_module": "@jupyter-widgets/base",
      "model_module_version": "1.2.0",
      "model_name": "LayoutModel",
      "state": {
       "_model_module": "@jupyter-widgets/base",
       "_model_module_version": "1.2.0",
       "_model_name": "LayoutModel",
       "_view_count": null,
       "_view_module": "@jupyter-widgets/base",
       "_view_module_version": "1.2.0",
       "_view_name": "LayoutView",
       "align_content": null,
       "align_items": null,
       "align_self": null,
       "border": null,
       "bottom": null,
       "display": null,
       "flex": null,
       "flex_flow": null,
       "grid_area": null,
       "grid_auto_columns": null,
       "grid_auto_flow": null,
       "grid_auto_rows": null,
       "grid_column": null,
       "grid_gap": null,
       "grid_row": null,
       "grid_template_areas": null,
       "grid_template_columns": null,
       "grid_template_rows": null,
       "height": null,
       "justify_content": null,
       "justify_items": null,
       "left": null,
       "margin": null,
       "max_height": null,
       "max_width": null,
       "min_height": null,
       "min_width": null,
       "object_fit": null,
       "object_position": null,
       "order": null,
       "overflow": null,
       "overflow_x": null,
       "overflow_y": null,
       "padding": null,
       "right": null,
       "top": null,
       "visibility": null,
       "width": null
      }
     },
     "71d94be551e240c68ded25833320a227": {
      "model_module": "@jupyter-widgets/controls",
      "model_module_version": "1.5.0",
      "model_name": "ProgressStyleModel",
      "state": {
       "_model_module": "@jupyter-widgets/controls",
       "_model_module_version": "1.5.0",
       "_model_name": "ProgressStyleModel",
       "_view_count": null,
       "_view_module": "@jupyter-widgets/base",
       "_view_module_version": "1.2.0",
       "_view_name": "StyleView",
       "bar_color": null,
       "description_width": ""
      }
     },
     "728f5f3a0da24890965e1de177ebedfe": {
      "model_module": "@jupyter-widgets/base",
      "model_module_version": "1.2.0",
      "model_name": "LayoutModel",
      "state": {
       "_model_module": "@jupyter-widgets/base",
       "_model_module_version": "1.2.0",
       "_model_name": "LayoutModel",
       "_view_count": null,
       "_view_module": "@jupyter-widgets/base",
       "_view_module_version": "1.2.0",
       "_view_name": "LayoutView",
       "align_content": null,
       "align_items": null,
       "align_self": null,
       "border": null,
       "bottom": null,
       "display": null,
       "flex": null,
       "flex_flow": null,
       "grid_area": null,
       "grid_auto_columns": null,
       "grid_auto_flow": null,
       "grid_auto_rows": null,
       "grid_column": null,
       "grid_gap": null,
       "grid_row": null,
       "grid_template_areas": null,
       "grid_template_columns": null,
       "grid_template_rows": null,
       "height": null,
       "justify_content": null,
       "justify_items": null,
       "left": null,
       "margin": null,
       "max_height": null,
       "max_width": null,
       "min_height": null,
       "min_width": null,
       "object_fit": null,
       "object_position": null,
       "order": null,
       "overflow": null,
       "overflow_x": null,
       "overflow_y": null,
       "padding": null,
       "right": null,
       "top": null,
       "visibility": null,
       "width": null
      }
     },
     "756fe4c622cf4e819a4d5178c3475d66": {
      "model_module": "@jupyter-widgets/base",
      "model_module_version": "1.2.0",
      "model_name": "LayoutModel",
      "state": {
       "_model_module": "@jupyter-widgets/base",
       "_model_module_version": "1.2.0",
       "_model_name": "LayoutModel",
       "_view_count": null,
       "_view_module": "@jupyter-widgets/base",
       "_view_module_version": "1.2.0",
       "_view_name": "LayoutView",
       "align_content": null,
       "align_items": null,
       "align_self": null,
       "border": null,
       "bottom": null,
       "display": null,
       "flex": null,
       "flex_flow": null,
       "grid_area": null,
       "grid_auto_columns": null,
       "grid_auto_flow": null,
       "grid_auto_rows": null,
       "grid_column": null,
       "grid_gap": null,
       "grid_row": null,
       "grid_template_areas": null,
       "grid_template_columns": null,
       "grid_template_rows": null,
       "height": null,
       "justify_content": null,
       "justify_items": null,
       "left": null,
       "margin": null,
       "max_height": null,
       "max_width": null,
       "min_height": null,
       "min_width": null,
       "object_fit": null,
       "object_position": null,
       "order": null,
       "overflow": null,
       "overflow_x": null,
       "overflow_y": null,
       "padding": null,
       "right": null,
       "top": null,
       "visibility": null,
       "width": null
      }
     },
     "7807863a0ec741b1b325d25d583e94c1": {
      "model_module": "@jupyter-widgets/controls",
      "model_module_version": "1.5.0",
      "model_name": "DescriptionStyleModel",
      "state": {
       "_model_module": "@jupyter-widgets/controls",
       "_model_module_version": "1.5.0",
       "_model_name": "DescriptionStyleModel",
       "_view_count": null,
       "_view_module": "@jupyter-widgets/base",
       "_view_module_version": "1.2.0",
       "_view_name": "StyleView",
       "description_width": ""
      }
     },
     "78aed8ecfe45474baed133126af3be5a": {
      "model_module": "@jupyter-widgets/base",
      "model_module_version": "1.2.0",
      "model_name": "LayoutModel",
      "state": {
       "_model_module": "@jupyter-widgets/base",
       "_model_module_version": "1.2.0",
       "_model_name": "LayoutModel",
       "_view_count": null,
       "_view_module": "@jupyter-widgets/base",
       "_view_module_version": "1.2.0",
       "_view_name": "LayoutView",
       "align_content": null,
       "align_items": null,
       "align_self": null,
       "border": null,
       "bottom": null,
       "display": null,
       "flex": null,
       "flex_flow": null,
       "grid_area": null,
       "grid_auto_columns": null,
       "grid_auto_flow": null,
       "grid_auto_rows": null,
       "grid_column": null,
       "grid_gap": null,
       "grid_row": null,
       "grid_template_areas": null,
       "grid_template_columns": null,
       "grid_template_rows": null,
       "height": null,
       "justify_content": null,
       "justify_items": null,
       "left": null,
       "margin": null,
       "max_height": null,
       "max_width": null,
       "min_height": null,
       "min_width": null,
       "object_fit": null,
       "object_position": null,
       "order": null,
       "overflow": null,
       "overflow_x": null,
       "overflow_y": null,
       "padding": null,
       "right": null,
       "top": null,
       "visibility": null,
       "width": null
      }
     },
     "78c8ec7592fc4d66b59caf1f4b6dd258": {
      "model_module": "@jupyter-widgets/controls",
      "model_module_version": "1.5.0",
      "model_name": "HTMLModel",
      "state": {
       "_dom_classes": [],
       "_model_module": "@jupyter-widgets/controls",
       "_model_module_version": "1.5.0",
       "_model_name": "HTMLModel",
       "_view_count": null,
       "_view_module": "@jupyter-widgets/controls",
       "_view_module_version": "1.5.0",
       "_view_name": "HTMLView",
       "description": "",
       "description_tooltip": null,
       "layout": "IPY_MODEL_47719e1b9f484b1db73027a7ff94e679",
       "placeholder": "​",
       "style": "IPY_MODEL_41b892ea25324e3284f75b8e5c39d6bd",
       "value": "embedding: 100%"
      }
     },
     "791ea3fd439b42928e8ea4c865740c01": {
      "model_module": "@jupyter-widgets/controls",
      "model_module_version": "1.5.0",
      "model_name": "HTMLModel",
      "state": {
       "_dom_classes": [],
       "_model_module": "@jupyter-widgets/controls",
       "_model_module_version": "1.5.0",
       "_model_name": "HTMLModel",
       "_view_count": null,
       "_view_module": "@jupyter-widgets/controls",
       "_view_module_version": "1.5.0",
       "_view_name": "HTMLView",
       "description": "",
       "description_tooltip": null,
       "layout": "IPY_MODEL_a5c030d286024f08aaf66f7b1107b7cb",
       "placeholder": "​",
       "style": "IPY_MODEL_938a4ab4ff34452cbc4d90eafa92b052",
       "value": "tokenizer.json: 100%"
      }
     },
     "797a1bfc775f47619515360c7506399e": {
      "model_module": "@jupyter-widgets/controls",
      "model_module_version": "1.5.0",
      "model_name": "HBoxModel",
      "state": {
       "_dom_classes": [],
       "_model_module": "@jupyter-widgets/controls",
       "_model_module_version": "1.5.0",
       "_model_name": "HBoxModel",
       "_view_count": null,
       "_view_module": "@jupyter-widgets/controls",
       "_view_module_version": "1.5.0",
       "_view_name": "HBoxView",
       "box_style": "",
       "children": [
        "IPY_MODEL_791ea3fd439b42928e8ea4c865740c01",
        "IPY_MODEL_b351fc5ad0af4f4fbb4823a6e6a5357a",
        "IPY_MODEL_4c27ea51694c459aa93900f096b8cda0"
       ],
       "layout": "IPY_MODEL_e7cb205d156a4f7cb4de8dd1993b2bc3"
      }
     },
     "7a1a3dc7ae8745748d57ea2a4cd830be": {
      "model_module": "@jupyter-widgets/controls",
      "model_module_version": "1.5.0",
      "model_name": "HBoxModel",
      "state": {
       "_dom_classes": [],
       "_model_module": "@jupyter-widgets/controls",
       "_model_module_version": "1.5.0",
       "_model_name": "HBoxModel",
       "_view_count": null,
       "_view_module": "@jupyter-widgets/controls",
       "_view_module_version": "1.5.0",
       "_view_name": "HBoxView",
       "box_style": "",
       "children": [
        "IPY_MODEL_d57bfb38182344249c3ee300c67ce0ba",
        "IPY_MODEL_c3d505a32bea4082b5fed929c3349e3a",
        "IPY_MODEL_21ef4c8f06154b09b5d7efa88dbe6a9b"
       ],
       "layout": "IPY_MODEL_78aed8ecfe45474baed133126af3be5a"
      }
     },
     "7eb785f2d6b843d1abd3e6271536d01a": {
      "model_module": "@jupyter-widgets/controls",
      "model_module_version": "1.5.0",
      "model_name": "HTMLModel",
      "state": {
       "_dom_classes": [],
       "_model_module": "@jupyter-widgets/controls",
       "_model_module_version": "1.5.0",
       "_model_name": "HTMLModel",
       "_view_count": null,
       "_view_module": "@jupyter-widgets/controls",
       "_view_module_version": "1.5.0",
       "_view_name": "HTMLView",
       "description": "",
       "description_tooltip": null,
       "layout": "IPY_MODEL_b5de24e75c7f4d1f88346360f45e5d64",
       "placeholder": "​",
       "style": "IPY_MODEL_45aff562bfb04283806ed4cc3418ce90",
       "value": "tokenizer_config.json: 100%"
      }
     },
     "813f05c79b6b4610a43739dd14e40c9e": {
      "model_module": "@jupyter-widgets/base",
      "model_module_version": "1.2.0",
      "model_name": "LayoutModel",
      "state": {
       "_model_module": "@jupyter-widgets/base",
       "_model_module_version": "1.2.0",
       "_model_name": "LayoutModel",
       "_view_count": null,
       "_view_module": "@jupyter-widgets/base",
       "_view_module_version": "1.2.0",
       "_view_name": "LayoutView",
       "align_content": null,
       "align_items": null,
       "align_self": null,
       "border": null,
       "bottom": null,
       "display": null,
       "flex": null,
       "flex_flow": null,
       "grid_area": null,
       "grid_auto_columns": null,
       "grid_auto_flow": null,
       "grid_auto_rows": null,
       "grid_column": null,
       "grid_gap": null,
       "grid_row": null,
       "grid_template_areas": null,
       "grid_template_columns": null,
       "grid_template_rows": null,
       "height": null,
       "justify_content": null,
       "justify_items": null,
       "left": null,
       "margin": null,
       "max_height": null,
       "max_width": null,
       "min_height": null,
       "min_width": null,
       "object_fit": null,
       "object_position": null,
       "order": null,
       "overflow": null,
       "overflow_x": null,
       "overflow_y": null,
       "padding": null,
       "right": null,
       "top": null,
       "visibility": null,
       "width": null
      }
     },
     "85e2d43c413a4af1b3e2f9e4f95e9b4f": {
      "model_module": "@jupyter-widgets/controls",
      "model_module_version": "1.5.0",
      "model_name": "DescriptionStyleModel",
      "state": {
       "_model_module": "@jupyter-widgets/controls",
       "_model_module_version": "1.5.0",
       "_model_name": "DescriptionStyleModel",
       "_view_count": null,
       "_view_module": "@jupyter-widgets/base",
       "_view_module_version": "1.2.0",
       "_view_name": "StyleView",
       "description_width": ""
      }
     },
     "88f7fd962a60481d9824c781a862583d": {
      "model_module": "@jupyter-widgets/controls",
      "model_module_version": "1.5.0",
      "model_name": "HBoxModel",
      "state": {
       "_dom_classes": [],
       "_model_module": "@jupyter-widgets/controls",
       "_model_module_version": "1.5.0",
       "_model_name": "HBoxModel",
       "_view_count": null,
       "_view_module": "@jupyter-widgets/controls",
       "_view_module_version": "1.5.0",
       "_view_name": "HBoxView",
       "box_style": "",
       "children": [
        "IPY_MODEL_7eb785f2d6b843d1abd3e6271536d01a",
        "IPY_MODEL_2ef6c4d3b65841a88360b25be0f321f4",
        "IPY_MODEL_f7329244ffd045b2b63a5c88285acbe1"
       ],
       "layout": "IPY_MODEL_51148eee18e34e05b097fc4758663141"
      }
     },
     "8ad4f6a5b214443795c645623bc8f592": {
      "model_module": "@jupyter-widgets/base",
      "model_module_version": "1.2.0",
      "model_name": "LayoutModel",
      "state": {
       "_model_module": "@jupyter-widgets/base",
       "_model_module_version": "1.2.0",
       "_model_name": "LayoutModel",
       "_view_count": null,
       "_view_module": "@jupyter-widgets/base",
       "_view_module_version": "1.2.0",
       "_view_name": "LayoutView",
       "align_content": null,
       "align_items": null,
       "align_self": null,
       "border": null,
       "bottom": null,
       "display": null,
       "flex": null,
       "flex_flow": null,
       "grid_area": null,
       "grid_auto_columns": null,
       "grid_auto_flow": null,
       "grid_auto_rows": null,
       "grid_column": null,
       "grid_gap": null,
       "grid_row": null,
       "grid_template_areas": null,
       "grid_template_columns": null,
       "grid_template_rows": null,
       "height": null,
       "justify_content": null,
       "justify_items": null,
       "left": null,
       "margin": null,
       "max_height": null,
       "max_width": null,
       "min_height": null,
       "min_width": null,
       "object_fit": null,
       "object_position": null,
       "order": null,
       "overflow": null,
       "overflow_x": null,
       "overflow_y": null,
       "padding": null,
       "right": null,
       "top": null,
       "visibility": null,
       "width": null
      }
     },
     "8e709fdd177c4effb766d676c4e0d406": {
      "model_module": "@jupyter-widgets/controls",
      "model_module_version": "1.5.0",
      "model_name": "HBoxModel",
      "state": {
       "_dom_classes": [],
       "_model_module": "@jupyter-widgets/controls",
       "_model_module_version": "1.5.0",
       "_model_name": "HBoxModel",
       "_view_count": null,
       "_view_module": "@jupyter-widgets/controls",
       "_view_module_version": "1.5.0",
       "_view_name": "HBoxView",
       "box_style": "",
       "children": [
        "IPY_MODEL_78c8ec7592fc4d66b59caf1f4b6dd258",
        "IPY_MODEL_91651ee8dd104d4190eabc7ec93b9661",
        "IPY_MODEL_aedb8cf4f36846ec91138b771506591b"
       ],
       "layout": "IPY_MODEL_134337ec35a448f79dbbd06627765a0e"
      }
     },
     "9011559f12d2409d9a1d39c22dc4e3dd": {
      "model_module": "@jupyter-widgets/controls",
      "model_module_version": "1.5.0",
      "model_name": "DescriptionStyleModel",
      "state": {
       "_model_module": "@jupyter-widgets/controls",
       "_model_module_version": "1.5.0",
       "_model_name": "DescriptionStyleModel",
       "_view_count": null,
       "_view_module": "@jupyter-widgets/base",
       "_view_module_version": "1.2.0",
       "_view_name": "StyleView",
       "description_width": ""
      }
     },
     "90b67a901b6f492e9376bafda2d1dd7a": {
      "model_module": "@jupyter-widgets/base",
      "model_module_version": "1.2.0",
      "model_name": "LayoutModel",
      "state": {
       "_model_module": "@jupyter-widgets/base",
       "_model_module_version": "1.2.0",
       "_model_name": "LayoutModel",
       "_view_count": null,
       "_view_module": "@jupyter-widgets/base",
       "_view_module_version": "1.2.0",
       "_view_name": "LayoutView",
       "align_content": null,
       "align_items": null,
       "align_self": null,
       "border": null,
       "bottom": null,
       "display": null,
       "flex": null,
       "flex_flow": null,
       "grid_area": null,
       "grid_auto_columns": null,
       "grid_auto_flow": null,
       "grid_auto_rows": null,
       "grid_column": null,
       "grid_gap": null,
       "grid_row": null,
       "grid_template_areas": null,
       "grid_template_columns": null,
       "grid_template_rows": null,
       "height": null,
       "justify_content": null,
       "justify_items": null,
       "left": null,
       "margin": null,
       "max_height": null,
       "max_width": null,
       "min_height": null,
       "min_width": null,
       "object_fit": null,
       "object_position": null,
       "order": null,
       "overflow": null,
       "overflow_x": null,
       "overflow_y": null,
       "padding": null,
       "right": null,
       "top": null,
       "visibility": null,
       "width": null
      }
     },
     "91651ee8dd104d4190eabc7ec93b9661": {
      "model_module": "@jupyter-widgets/controls",
      "model_module_version": "1.5.0",
      "model_name": "FloatProgressModel",
      "state": {
       "_dom_classes": [],
       "_model_module": "@jupyter-widgets/controls",
       "_model_module_version": "1.5.0",
       "_model_name": "FloatProgressModel",
       "_view_count": null,
       "_view_module": "@jupyter-widgets/controls",
       "_view_module_version": "1.5.0",
       "_view_name": "ProgressView",
       "bar_style": "success",
       "description": "",
       "description_tooltip": null,
       "layout": "IPY_MODEL_30883185088644fb8c0eae8476a1afc4",
       "max": 157.0,
       "min": 0.0,
       "orientation": "horizontal",
       "style": "IPY_MODEL_c33997d8fb6b44c389bdb159f45dd603",
       "value": 157.0
      }
     },
     "924fb1d9f3ef45e29b5f99c962263c17": {
      "model_module": "@jupyter-widgets/controls",
      "model_module_version": "1.5.0",
      "model_name": "HBoxModel",
      "state": {
       "_dom_classes": [],
       "_model_module": "@jupyter-widgets/controls",
       "_model_module_version": "1.5.0",
       "_model_name": "HBoxModel",
       "_view_count": null,
       "_view_module": "@jupyter-widgets/controls",
       "_view_module_version": "1.5.0",
       "_view_name": "HBoxView",
       "box_style": "",
       "children": [
        "IPY_MODEL_4a383b992a1542ddb9eabd6adf615cf4",
        "IPY_MODEL_2cb93e22e00244c1b940662a67a314e2",
        "IPY_MODEL_621013864675433990e5fdf89f556461"
       ],
       "layout": "IPY_MODEL_8ad4f6a5b214443795c645623bc8f592"
      }
     },
     "938a4ab4ff34452cbc4d90eafa92b052": {
      "model_module": "@jupyter-widgets/controls",
      "model_module_version": "1.5.0",
      "model_name": "DescriptionStyleModel",
      "state": {
       "_model_module": "@jupyter-widgets/controls",
       "_model_module_version": "1.5.0",
       "_model_name": "DescriptionStyleModel",
       "_view_count": null,
       "_view_module": "@jupyter-widgets/base",
       "_view_module_version": "1.2.0",
       "_view_name": "StyleView",
       "description_width": ""
      }
     },
     "9517a628528e43258a6c158ad6238ea8": {
      "model_module": "@jupyter-widgets/controls",
      "model_module_version": "1.5.0",
      "model_name": "HBoxModel",
      "state": {
       "_dom_classes": [],
       "_model_module": "@jupyter-widgets/controls",
       "_model_module_version": "1.5.0",
       "_model_name": "HBoxModel",
       "_view_count": null,
       "_view_module": "@jupyter-widgets/controls",
       "_view_module_version": "1.5.0",
       "_view_name": "HBoxView",
       "box_style": "",
       "children": [
        "IPY_MODEL_43458bfca4bb438e80df92f0d37611ef",
        "IPY_MODEL_300f6562ce8d4b41aad9e95d541b4975",
        "IPY_MODEL_c53a9594aa684b8a9e9ea8960fdba8e6"
       ],
       "layout": "IPY_MODEL_1fd2a381214948d482497aa9800c711d"
      }
     },
     "96d89a6611274be98ed39f37e14818b5": {
      "model_module": "@jupyter-widgets/controls",
      "model_module_version": "1.5.0",
      "model_name": "ProgressStyleModel",
      "state": {
       "_model_module": "@jupyter-widgets/controls",
       "_model_module_version": "1.5.0",
       "_model_name": "ProgressStyleModel",
       "_view_count": null,
       "_view_module": "@jupyter-widgets/base",
       "_view_module_version": "1.2.0",
       "_view_name": "StyleView",
       "bar_color": null,
       "description_width": ""
      }
     },
     "9c295f166571461abdac2367e50f2ec7": {
      "model_module": "@jupyter-widgets/controls",
      "model_module_version": "1.5.0",
      "model_name": "DescriptionStyleModel",
      "state": {
       "_model_module": "@jupyter-widgets/controls",
       "_model_module_version": "1.5.0",
       "_model_name": "DescriptionStyleModel",
       "_view_count": null,
       "_view_module": "@jupyter-widgets/base",
       "_view_module_version": "1.2.0",
       "_view_name": "StyleView",
       "description_width": ""
      }
     },
     "a03ded0d774c4023ba0f795afb7d0ad4": {
      "model_module": "@jupyter-widgets/base",
      "model_module_version": "1.2.0",
      "model_name": "LayoutModel",
      "state": {
       "_model_module": "@jupyter-widgets/base",
       "_model_module_version": "1.2.0",
       "_model_name": "LayoutModel",
       "_view_count": null,
       "_view_module": "@jupyter-widgets/base",
       "_view_module_version": "1.2.0",
       "_view_name": "LayoutView",
       "align_content": null,
       "align_items": null,
       "align_self": null,
       "border": null,
       "bottom": null,
       "display": null,
       "flex": null,
       "flex_flow": null,
       "grid_area": null,
       "grid_auto_columns": null,
       "grid_auto_flow": null,
       "grid_auto_rows": null,
       "grid_column": null,
       "grid_gap": null,
       "grid_row": null,
       "grid_template_areas": null,
       "grid_template_columns": null,
       "grid_template_rows": null,
       "height": null,
       "justify_content": null,
       "justify_items": null,
       "left": null,
       "margin": null,
       "max_height": null,
       "max_width": null,
       "min_height": null,
       "min_width": null,
       "object_fit": null,
       "object_position": null,
       "order": null,
       "overflow": null,
       "overflow_x": null,
       "overflow_y": null,
       "padding": null,
       "right": null,
       "top": null,
       "visibility": null,
       "width": null
      }
     },
     "a5c030d286024f08aaf66f7b1107b7cb": {
      "model_module": "@jupyter-widgets/base",
      "model_module_version": "1.2.0",
      "model_name": "LayoutModel",
      "state": {
       "_model_module": "@jupyter-widgets/base",
       "_model_module_version": "1.2.0",
       "_model_name": "LayoutModel",
       "_view_count": null,
       "_view_module": "@jupyter-widgets/base",
       "_view_module_version": "1.2.0",
       "_view_name": "LayoutView",
       "align_content": null,
       "align_items": null,
       "align_self": null,
       "border": null,
       "bottom": null,
       "display": null,
       "flex": null,
       "flex_flow": null,
       "grid_area": null,
       "grid_auto_columns": null,
       "grid_auto_flow": null,
       "grid_auto_rows": null,
       "grid_column": null,
       "grid_gap": null,
       "grid_row": null,
       "grid_template_areas": null,
       "grid_template_columns": null,
       "grid_template_rows": null,
       "height": null,
       "justify_content": null,
       "justify_items": null,
       "left": null,
       "margin": null,
       "max_height": null,
       "max_width": null,
       "min_height": null,
       "min_width": null,
       "object_fit": null,
       "object_position": null,
       "order": null,
       "overflow": null,
       "overflow_x": null,
       "overflow_y": null,
       "padding": null,
       "right": null,
       "top": null,
       "visibility": null,
       "width": null
      }
     },
     "aedb8cf4f36846ec91138b771506591b": {
      "model_module": "@jupyter-widgets/controls",
      "model_module_version": "1.5.0",
      "model_name": "HTMLModel",
      "state": {
       "_dom_classes": [],
       "_model_module": "@jupyter-widgets/controls",
       "_model_module_version": "1.5.0",
       "_model_name": "HTMLModel",
       "_view_count": null,
       "_view_module": "@jupyter-widgets/controls",
       "_view_module_version": "1.5.0",
       "_view_name": "HTMLView",
       "description": "",
       "description_tooltip": null,
       "layout": "IPY_MODEL_90b67a901b6f492e9376bafda2d1dd7a",
       "placeholder": "​",
       "style": "IPY_MODEL_f6a11538fb0945c19c99959d7f726548",
       "value": " 157/157 [30:05&lt;00:00,  9.04s/batch]"
      }
     },
     "b351fc5ad0af4f4fbb4823a6e6a5357a": {
      "model_module": "@jupyter-widgets/controls",
      "model_module_version": "1.5.0",
      "model_name": "FloatProgressModel",
      "state": {
       "_dom_classes": [],
       "_model_module": "@jupyter-widgets/controls",
       "_model_module_version": "1.5.0",
       "_model_name": "FloatProgressModel",
       "_view_count": null,
       "_view_module": "@jupyter-widgets/controls",
       "_view_module_version": "1.5.0",
       "_view_name": "ProgressView",
       "bar_style": "success",
       "description": "",
       "description_tooltip": null,
       "layout": "IPY_MODEL_f4de1c22de3847108c04c3cec7548406",
       "max": 268943.0,
       "min": 0.0,
       "orientation": "horizontal",
       "style": "IPY_MODEL_0d73f825ef754b56948399017883fb4e",
       "value": 268943.0
      }
     },
     "b5de24e75c7f4d1f88346360f45e5d64": {
      "model_module": "@jupyter-widgets/base",
      "model_module_version": "1.2.0",
      "model_name": "LayoutModel",
      "state": {
       "_model_module": "@jupyter-widgets/base",
       "_model_module_version": "1.2.0",
       "_model_name": "LayoutModel",
       "_view_count": null,
       "_view_module": "@jupyter-widgets/base",
       "_view_module_version": "1.2.0",
       "_view_name": "LayoutView",
       "align_content": null,
       "align_items": null,
       "align_self": null,
       "border": null,
       "bottom": null,
       "display": null,
       "flex": null,
       "flex_flow": null,
       "grid_area": null,
       "grid_auto_columns": null,
       "grid_auto_flow": null,
       "grid_auto_rows": null,
       "grid_column": null,
       "grid_gap": null,
       "grid_row": null,
       "grid_template_areas": null,
       "grid_template_columns": null,
       "grid_template_rows": null,
       "height": null,
       "justify_content": null,
       "justify_items": null,
       "left": null,
       "margin": null,
       "max_height": null,
       "max_width": null,
       "min_height": null,
       "min_width": null,
       "object_fit": null,
       "object_position": null,
       "order": null,
       "overflow": null,
       "overflow_x": null,
       "overflow_y": null,
       "padding": null,
       "right": null,
       "top": null,
       "visibility": null,
       "width": null
      }
     },
     "b7b10b5ad38d4104b742cb1bcda1ae38": {
      "model_module": "@jupyter-widgets/controls",
      "model_module_version": "1.5.0",
      "model_name": "DescriptionStyleModel",
      "state": {
       "_model_module": "@jupyter-widgets/controls",
       "_model_module_version": "1.5.0",
       "_model_name": "DescriptionStyleModel",
       "_view_count": null,
       "_view_module": "@jupyter-widgets/base",
       "_view_module_version": "1.2.0",
       "_view_name": "StyleView",
       "description_width": ""
      }
     },
     "c33997d8fb6b44c389bdb159f45dd603": {
      "model_module": "@jupyter-widgets/controls",
      "model_module_version": "1.5.0",
      "model_name": "ProgressStyleModel",
      "state": {
       "_model_module": "@jupyter-widgets/controls",
       "_model_module_version": "1.5.0",
       "_model_name": "ProgressStyleModel",
       "_view_count": null,
       "_view_module": "@jupyter-widgets/base",
       "_view_module_version": "1.2.0",
       "_view_name": "StyleView",
       "bar_color": null,
       "description_width": ""
      }
     },
     "c3b2b2268ac04eeab7f07e809608de3f": {
      "model_module": "@jupyter-widgets/controls",
      "model_module_version": "1.5.0",
      "model_name": "ProgressStyleModel",
      "state": {
       "_model_module": "@jupyter-widgets/controls",
       "_model_module_version": "1.5.0",
       "_model_name": "ProgressStyleModel",
       "_view_count": null,
       "_view_module": "@jupyter-widgets/base",
       "_view_module_version": "1.2.0",
       "_view_name": "StyleView",
       "bar_color": null,
       "description_width": ""
      }
     },
     "c3d505a32bea4082b5fed929c3349e3a": {
      "model_module": "@jupyter-widgets/controls",
      "model_module_version": "1.5.0",
      "model_name": "FloatProgressModel",
      "state": {
       "_dom_classes": [],
       "_model_module": "@jupyter-widgets/controls",
       "_model_module_version": "1.5.0",
       "_model_name": "FloatProgressModel",
       "_view_count": null,
       "_view_module": "@jupyter-widgets/controls",
       "_view_module_version": "1.5.0",
       "_view_name": "ProgressView",
       "bar_style": "success",
       "description": "",
       "description_tooltip": null,
       "layout": "IPY_MODEL_e6f82f25c5cd46fc81b074c69a09105e",
       "max": 411553788.0,
       "min": 0.0,
       "orientation": "horizontal",
       "style": "IPY_MODEL_f88ee7de35214245ad6ebd600a32d668",
       "value": 411553788.0
      }
     },
     "c53a9594aa684b8a9e9ea8960fdba8e6": {
      "model_module": "@jupyter-widgets/controls",
      "model_module_version": "1.5.0",
      "model_name": "HTMLModel",
      "state": {
       "_dom_classes": [],
       "_model_module": "@jupyter-widgets/controls",
       "_model_module_version": "1.5.0",
       "_model_name": "HTMLModel",
       "_view_count": null,
       "_view_module": "@jupyter-widgets/controls",
       "_view_module_version": "1.5.0",
       "_view_name": "HTMLView",
       "description": "",
       "description_tooltip": null,
       "layout": "IPY_MODEL_3ea3cb1eb6a8432a9c5d1dfaa5c294ab",
       "placeholder": "​",
       "style": "IPY_MODEL_fcfa7569116146fba9b689bdcf64925e",
       "value": " 110k/110k [00:00&lt;00:00, 3.44MB/s]"
      }
     },
     "cd626f4f549748a4bb0b014d8baa212b": {
      "model_module": "@jupyter-widgets/controls",
      "model_module_version": "1.5.0",
      "model_name": "HBoxModel",
      "state": {
       "_dom_classes": [],
       "_model_module": "@jupyter-widgets/controls",
       "_model_module_version": "1.5.0",
       "_model_name": "HBoxModel",
       "_view_count": null,
       "_view_module": "@jupyter-widgets/controls",
       "_view_module_version": "1.5.0",
       "_view_name": "HBoxView",
       "box_style": "",
       "children": [
        "IPY_MODEL_2b45f5c4bef2464cbd8e8a00129e40cf",
        "IPY_MODEL_f1615f8024e14f8db092ed9182a6a3a0",
        "IPY_MODEL_3ac97c9bbffe4097a14bc4f284a5af43"
       ],
       "layout": "IPY_MODEL_813f05c79b6b4610a43739dd14e40c9e"
      }
     },
     "d57bfb38182344249c3ee300c67ce0ba": {
      "model_module": "@jupyter-widgets/controls",
      "model_module_version": "1.5.0",
      "model_name": "HTMLModel",
      "state": {
       "_dom_classes": [],
       "_model_module": "@jupyter-widgets/controls",
       "_model_module_version": "1.5.0",
       "_model_name": "HTMLModel",
       "_view_count": null,
       "_view_module": "@jupyter-widgets/controls",
       "_view_module_version": "1.5.0",
       "_view_name": "HTMLView",
       "description": "",
       "description_tooltip": null,
       "layout": "IPY_MODEL_f6c32756890e4a88a894c29203b7f348",
       "placeholder": "​",
       "style": "IPY_MODEL_9c295f166571461abdac2367e50f2ec7",
       "value": "model.safetensors: 100%"
      }
     },
     "e34a8a11f98a4b77acf63c28061c03c7": {
      "model_module": "@jupyter-widgets/controls",
      "model_module_version": "1.5.0",
      "model_name": "DescriptionStyleModel",
      "state": {
       "_model_module": "@jupyter-widgets/controls",
       "_model_module_version": "1.5.0",
       "_model_name": "DescriptionStyleModel",
       "_view_count": null,
       "_view_module": "@jupyter-widgets/base",
       "_view_module_version": "1.2.0",
       "_view_name": "StyleView",
       "description_width": ""
      }
     },
     "e6f82f25c5cd46fc81b074c69a09105e": {
      "model_module": "@jupyter-widgets/base",
      "model_module_version": "1.2.0",
      "model_name": "LayoutModel",
      "state": {
       "_model_module": "@jupyter-widgets/base",
       "_model_module_version": "1.2.0",
       "_model_name": "LayoutModel",
       "_view_count": null,
       "_view_module": "@jupyter-widgets/base",
       "_view_module_version": "1.2.0",
       "_view_name": "LayoutView",
       "align_content": null,
       "align_items": null,
       "align_self": null,
       "border": null,
       "bottom": null,
       "display": null,
       "flex": null,
       "flex_flow": null,
       "grid_area": null,
       "grid_auto_columns": null,
       "grid_auto_flow": null,
       "grid_auto_rows": null,
       "grid_column": null,
       "grid_gap": null,
       "grid_row": null,
       "grid_template_areas": null,
       "grid_template_columns": null,
       "grid_template_rows": null,
       "height": null,
       "justify_content": null,
       "justify_items": null,
       "left": null,
       "margin": null,
       "max_height": null,
       "max_width": null,
       "min_height": null,
       "min_width": null,
       "object_fit": null,
       "object_position": null,
       "order": null,
       "overflow": null,
       "overflow_x": null,
       "overflow_y": null,
       "padding": null,
       "right": null,
       "top": null,
       "visibility": null,
       "width": null
      }
     },
     "e7cb205d156a4f7cb4de8dd1993b2bc3": {
      "model_module": "@jupyter-widgets/base",
      "model_module_version": "1.2.0",
      "model_name": "LayoutModel",
      "state": {
       "_model_module": "@jupyter-widgets/base",
       "_model_module_version": "1.2.0",
       "_model_name": "LayoutModel",
       "_view_count": null,
       "_view_module": "@jupyter-widgets/base",
       "_view_module_version": "1.2.0",
       "_view_name": "LayoutView",
       "align_content": null,
       "align_items": null,
       "align_self": null,
       "border": null,
       "bottom": null,
       "display": null,
       "flex": null,
       "flex_flow": null,
       "grid_area": null,
       "grid_auto_columns": null,
       "grid_auto_flow": null,
       "grid_auto_rows": null,
       "grid_column": null,
       "grid_gap": null,
       "grid_row": null,
       "grid_template_areas": null,
       "grid_template_columns": null,
       "grid_template_rows": null,
       "height": null,
       "justify_content": null,
       "justify_items": null,
       "left": null,
       "margin": null,
       "max_height": null,
       "max_width": null,
       "min_height": null,
       "min_width": null,
       "object_fit": null,
       "object_position": null,
       "order": null,
       "overflow": null,
       "overflow_x": null,
       "overflow_y": null,
       "padding": null,
       "right": null,
       "top": null,
       "visibility": null,
       "width": null
      }
     },
     "e7ee74ce8e6f405687871b4a2b6b90b0": {
      "model_module": "@jupyter-widgets/controls",
      "model_module_version": "1.5.0",
      "model_name": "DescriptionStyleModel",
      "state": {
       "_model_module": "@jupyter-widgets/controls",
       "_model_module_version": "1.5.0",
       "_model_name": "DescriptionStyleModel",
       "_view_count": null,
       "_view_module": "@jupyter-widgets/base",
       "_view_module_version": "1.2.0",
       "_view_name": "StyleView",
       "description_width": ""
      }
     },
     "f1615f8024e14f8db092ed9182a6a3a0": {
      "model_module": "@jupyter-widgets/controls",
      "model_module_version": "1.5.0",
      "model_name": "FloatProgressModel",
      "state": {
       "_dom_classes": [],
       "_model_module": "@jupyter-widgets/controls",
       "_model_module_version": "1.5.0",
       "_model_name": "FloatProgressModel",
       "_view_count": null,
       "_view_module": "@jupyter-widgets/controls",
       "_view_module_version": "1.5.0",
       "_view_name": "ProgressView",
       "bar_style": "success",
       "description": "",
       "description_tooltip": null,
       "layout": "IPY_MODEL_59e63b8c4e6446e1ae395b24d5ddaeb0",
       "max": 624.0,
       "min": 0.0,
       "orientation": "horizontal",
       "style": "IPY_MODEL_c3b2b2268ac04eeab7f07e809608de3f",
       "value": 624.0
      }
     },
     "f4de1c22de3847108c04c3cec7548406": {
      "model_module": "@jupyter-widgets/base",
      "model_module_version": "1.2.0",
      "model_name": "LayoutModel",
      "state": {
       "_model_module": "@jupyter-widgets/base",
       "_model_module_version": "1.2.0",
       "_model_name": "LayoutModel",
       "_view_count": null,
       "_view_module": "@jupyter-widgets/base",
       "_view_module_version": "1.2.0",
       "_view_name": "LayoutView",
       "align_content": null,
       "align_items": null,
       "align_self": null,
       "border": null,
       "bottom": null,
       "display": null,
       "flex": null,
       "flex_flow": null,
       "grid_area": null,
       "grid_auto_columns": null,
       "grid_auto_flow": null,
       "grid_auto_rows": null,
       "grid_column": null,
       "grid_gap": null,
       "grid_row": null,
       "grid_template_areas": null,
       "grid_template_columns": null,
       "grid_template_rows": null,
       "height": null,
       "justify_content": null,
       "justify_items": null,
       "left": null,
       "margin": null,
       "max_height": null,
       "max_width": null,
       "min_height": null,
       "min_width": null,
       "object_fit": null,
       "object_position": null,
       "order": null,
       "overflow": null,
       "overflow_x": null,
       "overflow_y": null,
       "padding": null,
       "right": null,
       "top": null,
       "visibility": null,
       "width": null
      }
     },
     "f6a11538fb0945c19c99959d7f726548": {
      "model_module": "@jupyter-widgets/controls",
      "model_module_version": "1.5.0",
      "model_name": "DescriptionStyleModel",
      "state": {
       "_model_module": "@jupyter-widgets/controls",
       "_model_module_version": "1.5.0",
       "_model_name": "DescriptionStyleModel",
       "_view_count": null,
       "_view_module": "@jupyter-widgets/base",
       "_view_module_version": "1.2.0",
       "_view_name": "StyleView",
       "description_width": ""
      }
     },
     "f6c32756890e4a88a894c29203b7f348": {
      "model_module": "@jupyter-widgets/base",
      "model_module_version": "1.2.0",
      "model_name": "LayoutModel",
      "state": {
       "_model_module": "@jupyter-widgets/base",
       "_model_module_version": "1.2.0",
       "_model_name": "LayoutModel",
       "_view_count": null,
       "_view_module": "@jupyter-widgets/base",
       "_view_module_version": "1.2.0",
       "_view_name": "LayoutView",
       "align_content": null,
       "align_items": null,
       "align_self": null,
       "border": null,
       "bottom": null,
       "display": null,
       "flex": null,
       "flex_flow": null,
       "grid_area": null,
       "grid_auto_columns": null,
       "grid_auto_flow": null,
       "grid_auto_rows": null,
       "grid_column": null,
       "grid_gap": null,
       "grid_row": null,
       "grid_template_areas": null,
       "grid_template_columns": null,
       "grid_template_rows": null,
       "height": null,
       "justify_content": null,
       "justify_items": null,
       "left": null,
       "margin": null,
       "max_height": null,
       "max_width": null,
       "min_height": null,
       "min_width": null,
       "object_fit": null,
       "object_position": null,
       "order": null,
       "overflow": null,
       "overflow_x": null,
       "overflow_y": null,
       "padding": null,
       "right": null,
       "top": null,
       "visibility": null,
       "width": null
      }
     },
     "f6fd7e43132844f68068d791cca91bc4": {
      "model_module": "@jupyter-widgets/controls",
      "model_module_version": "1.5.0",
      "model_name": "ProgressStyleModel",
      "state": {
       "_model_module": "@jupyter-widgets/controls",
       "_model_module_version": "1.5.0",
       "_model_name": "ProgressStyleModel",
       "_view_count": null,
       "_view_module": "@jupyter-widgets/base",
       "_view_module_version": "1.2.0",
       "_view_name": "StyleView",
       "bar_color": null,
       "description_width": ""
      }
     },
     "f7329244ffd045b2b63a5c88285acbe1": {
      "model_module": "@jupyter-widgets/controls",
      "model_module_version": "1.5.0",
      "model_name": "HTMLModel",
      "state": {
       "_dom_classes": [],
       "_model_module": "@jupyter-widgets/controls",
       "_model_module_version": "1.5.0",
       "_model_name": "HTMLModel",
       "_view_count": null,
       "_view_module": "@jupyter-widgets/controls",
       "_view_module_version": "1.5.0",
       "_view_name": "HTMLView",
       "description": "",
       "description_tooltip": null,
       "layout": "IPY_MODEL_55c79f512e31449a8764c4be0c005fdb",
       "placeholder": "​",
       "style": "IPY_MODEL_e34a8a11f98a4b77acf63c28061c03c7",
       "value": " 49.0/49.0 [00:00&lt;00:00, 4.05kB/s]"
      }
     },
     "f88ee7de35214245ad6ebd600a32d668": {
      "model_module": "@jupyter-widgets/controls",
      "model_module_version": "1.5.0",
      "model_name": "ProgressStyleModel",
      "state": {
       "_model_module": "@jupyter-widgets/controls",
       "_model_module_version": "1.5.0",
       "_model_name": "ProgressStyleModel",
       "_view_count": null,
       "_view_module": "@jupyter-widgets/base",
       "_view_module_version": "1.2.0",
       "_view_name": "StyleView",
       "bar_color": null,
       "description_width": ""
      }
     },
     "fcfa7569116146fba9b689bdcf64925e": {
      "model_module": "@jupyter-widgets/controls",
      "model_module_version": "1.5.0",
      "model_name": "DescriptionStyleModel",
      "state": {
       "_model_module": "@jupyter-widgets/controls",
       "_model_module_version": "1.5.0",
       "_model_name": "DescriptionStyleModel",
       "_view_count": null,
       "_view_module": "@jupyter-widgets/base",
       "_view_module_version": "1.2.0",
       "_view_name": "StyleView",
       "description_width": ""
      }
     }
    },
    "version_major": 2,
    "version_minor": 0
   }
  }
 },
 "nbformat": 4,
 "nbformat_minor": 5
}
