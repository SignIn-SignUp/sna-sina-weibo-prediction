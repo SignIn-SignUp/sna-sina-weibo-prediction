{
 "cells": [
  {
   "cell_type": "markdown",
   "id": "29736e2e",
   "metadata": {
    "papermill": {
     "duration": 0.032384,
     "end_time": "2024-05-24T07:40:33.239708",
     "exception": false,
     "start_time": "2024-05-24T07:40:33.207324",
     "status": "completed"
    },
    "tags": []
   },
   "source": [
    "# Sina Weibo prediction"
   ]
  },
  {
   "cell_type": "code",
   "execution_count": 1,
   "id": "7924c2e8",
   "metadata": {
    "execution": {
     "iopub.execute_input": "2024-05-24T07:40:33.304086Z",
     "iopub.status.busy": "2024-05-24T07:40:33.303760Z",
     "iopub.status.idle": "2024-05-24T07:40:49.094838Z",
     "shell.execute_reply": "2024-05-24T07:40:49.093521Z"
    },
    "papermill": {
     "duration": 15.824891,
     "end_time": "2024-05-24T07:40:49.097204",
     "exception": false,
     "start_time": "2024-05-24T07:40:33.272313",
     "status": "completed"
    },
    "tags": []
   },
   "outputs": [
    {
     "name": "stdout",
     "output_type": "stream",
     "text": [
      "Collecting autograd\r\n",
      "  Downloading autograd-1.6.2-py3-none-any.whl.metadata (706 bytes)\r\n",
      "Requirement already satisfied: numpy>=1.12 in /opt/conda/lib/python3.10/site-packages (from autograd) (1.26.4)\r\n",
      "Requirement already satisfied: future>=0.15.2 in /opt/conda/lib/python3.10/site-packages (from autograd) (1.0.0)\r\n",
      "Downloading autograd-1.6.2-py3-none-any.whl (49 kB)\r\n",
      "\u001b[2K   \u001b[90m━━━━━━━━━━━━━━━━━━━━━━━━━━━━━━━━━━━━━━━━\u001b[0m \u001b[32m49.3/49.3 kB\u001b[0m \u001b[31m674.2 kB/s\u001b[0m eta \u001b[36m0:00:00\u001b[0m\r\n",
      "\u001b[?25hInstalling collected packages: autograd\r\n",
      "Successfully installed autograd-1.6.2\r\n",
      "Note: you may need to restart the kernel to use updated packages.\n"
     ]
    }
   ],
   "source": [
    "%pip install autograd"
   ]
  },
  {
   "cell_type": "code",
   "execution_count": 2,
   "id": "58d6f918",
   "metadata": {
    "execution": {
     "iopub.execute_input": "2024-05-24T07:40:49.161346Z",
     "iopub.status.busy": "2024-05-24T07:40:49.161031Z",
     "iopub.status.idle": "2024-05-24T07:41:40.342698Z",
     "shell.execute_reply": "2024-05-24T07:41:40.341650Z"
    },
    "papermill": {
     "duration": 51.253594,
     "end_time": "2024-05-24T07:41:40.382371",
     "exception": false,
     "start_time": "2024-05-24T07:40:49.128777",
     "status": "completed"
    },
    "tags": []
   },
   "outputs": [
    {
     "name": "stderr",
     "output_type": "stream",
     "text": [
      "2024-05-24 07:41:17.612310: E external/local_xla/xla/stream_executor/cuda/cuda_dnn.cc:9261] Unable to register cuDNN factory: Attempting to register factory for plugin cuDNN when one has already been registered\n",
      "2024-05-24 07:41:17.612436: E external/local_xla/xla/stream_executor/cuda/cuda_fft.cc:607] Unable to register cuFFT factory: Attempting to register factory for plugin cuFFT when one has already been registered\n",
      "2024-05-24 07:41:17.892004: E external/local_xla/xla/stream_executor/cuda/cuda_blas.cc:1515] Unable to register cuBLAS factory: Attempting to register factory for plugin cuBLAS when one has already been registered\n"
     ]
    },
    {
     "name": "stdout",
     "output_type": "stream",
     "text": [
      "GPU available\n"
     ]
    }
   ],
   "source": [
    "import gc\n",
    "import os\n",
    "import torch\n",
    "#import cuml\n",
    "import umap\n",
    "import warnings\n",
    "from joblib import Memory\n",
    "from jieba import analyse as jbanalyse\n",
    "import numpy as np\n",
    "import pandas as pd\n",
    "import seaborn as sns\n",
    "import functools as fn\n",
    "import matplotlib.pyplot as plt\n",
    "import matplotlib.ticker as mtick\n",
    "import autograd.numpy as anp\n",
    "\n",
    "from sklearn.feature_extraction.text import TfidfVectorizer\n",
    "from sklearn.metrics import make_scorer\n",
    "from numpy.typing import ArrayLike\n",
    "from sklearn.base import BaseEstimator, TransformerMixin, RegressorMixin\n",
    "from sklearn.model_selection import TimeSeriesSplit\n",
    "from sklearn.model_selection import cross_val_score\n",
    "from sklearn.dummy import DummyRegressor\n",
    "from sklearn.preprocessing import OneHotEncoder, OrdinalEncoder\n",
    "from sklearn.compose import make_column_selector, make_column_transformer\n",
    "from sklearn.pipeline import make_pipeline\n",
    "from sklearn.preprocessing import FunctionTransformer\n",
    "from sklearn.multioutput import RegressorChain, ClassifierChain\n",
    "from transformers import AutoTokenizer, AutoModel\n",
    "from torch.utils.data import DataLoader, Dataset\n",
    "from torch import nn\n",
    "from tqdm.notebook import tqdm\n",
    "from catboost import CatBoostRegressor, CatBoostClassifier\n",
    "from catboost.utils import get_gpu_device_count\n",
    "from autograd import grad\n",
    "from lightgbm import LGBMRegressor\n",
    "\n",
    "RANDOM_STATE=8402\n",
    "RNG=np.random.default_rng(seed=RANDOM_STATE)\n",
    "CV_SPLITS=5\n",
    "N_CV=1_000_000\n",
    "BATCH_SIZE=(256+64)*2 # for 2 gpu approx 12GB mem-usage each\n",
    "CACHE_DIR=Memory(location='joblib_cache', verbose=0)\n",
    "\n",
    "warnings.filterwarnings(\"ignore\", \"use_inf_as_na\")\n",
    "\n",
    "def gpu_or_else(gpu, no_gpu):\n",
    "    return gpu if torch.cuda.is_available() else no_gpu\n",
    "print(gpu_or_else('GPU available', 'No GPU available using CPU'))"
   ]
  },
  {
   "cell_type": "markdown",
   "id": "2a60e3d1",
   "metadata": {
    "papermill": {
     "duration": 0.030701,
     "end_time": "2024-05-24T07:41:40.444339",
     "exception": false,
     "start_time": "2024-05-24T07:41:40.413638",
     "status": "completed"
    },
    "tags": []
   },
   "source": [
    "Defining the loss function"
   ]
  },
  {
   "cell_type": "code",
   "execution_count": 3,
   "id": "e2e0a47f",
   "metadata": {
    "execution": {
     "iopub.execute_input": "2024-05-24T07:41:40.507114Z",
     "iopub.status.busy": "2024-05-24T07:41:40.506784Z",
     "iopub.status.idle": "2024-05-24T07:41:40.515790Z",
     "shell.execute_reply": "2024-05-24T07:41:40.514745Z"
    },
    "papermill": {
     "duration": 0.042772,
     "end_time": "2024-05-24T07:41:40.517841",
     "exception": false,
     "start_time": "2024-05-24T07:41:40.475069",
     "status": "completed"
    },
    "tags": []
   },
   "outputs": [],
   "source": [
    "def mixed_loss(y_true: ArrayLike, y_pred: ArrayLike, bias=[5,3,3], scaling=[.5,.25,.25], thresold=.8):\n",
    "    precision = 1 - anp.sum((anp.abs(y_pred-y_true)/(y_true + bias)) * scaling, axis=1)\n",
    "    sgn_precision = precision > thresold\n",
    "    count_row_sum = anp.sum(anp.clip(y_true, a_min=None, a_max=100), axis=1) + 1\n",
    "    return anp.sum(count_row_sum * sgn_precision) / anp.sum(count_row_sum)\n",
    "\n",
    "def mixed_loss_objective(y_true, y_pred, weights, loss_f=mixed_loss):\n",
    "    y_pred = anp.array(y_pred)\n",
    "    y_true = anp.array(y_true)\n",
    "    grad_loss = grad(loss_f, 1)\n",
    "    gradients = grad_loss(y_true, y_pred)\n",
    "    hessians = -anp.ones_like(gradients)\n",
    "\n",
    "    if weights is not None:\n",
    "        weights = anp.array(weights)\n",
    "        gradients *= weights\n",
    "        hessians *= weights\n",
    "\n",
    "    return gradients, hessians\n",
    "        \n",
    "\n",
    "mixed_scorer = make_scorer(mixed_loss, greater_is_better=True)"
   ]
  },
  {
   "cell_type": "markdown",
   "id": "50c55e25",
   "metadata": {
    "papermill": {
     "duration": 0.03107,
     "end_time": "2024-05-24T07:41:40.579831",
     "exception": false,
     "start_time": "2024-05-24T07:41:40.548761",
     "status": "completed"
    },
    "tags": []
   },
   "source": [
    "## Dataset preperation"
   ]
  },
  {
   "cell_type": "code",
   "execution_count": 4,
   "id": "c40e5775",
   "metadata": {
    "execution": {
     "iopub.execute_input": "2024-05-24T07:41:40.644598Z",
     "iopub.status.busy": "2024-05-24T07:41:40.644319Z",
     "iopub.status.idle": "2024-05-24T07:41:40.649459Z",
     "shell.execute_reply": "2024-05-24T07:41:40.648570Z"
    },
    "papermill": {
     "duration": 0.039658,
     "end_time": "2024-05-24T07:41:40.651383",
     "exception": false,
     "start_time": "2024-05-24T07:41:40.611725",
     "status": "completed"
    },
    "tags": []
   },
   "outputs": [],
   "source": [
    "def file_to_df(filename, col_names=['uid', 'mid', 'ts', 'forward_n', 'comment_n', 'like_n', 'content']):\n",
    "    \"\"\"Helper to parse data. Contains hardcoded logic\"\"\"\n",
    "    df = pd.read_csv(filename, sep='\\t', names=col_names)\n",
    "    if 'ts' in col_names:\n",
    "        df['ts'] = pd.to_datetime(df['ts'])\n",
    "    return df"
   ]
  },
  {
   "cell_type": "code",
   "execution_count": 5,
   "id": "db159e83",
   "metadata": {
    "execution": {
     "iopub.execute_input": "2024-05-24T07:41:40.713787Z",
     "iopub.status.busy": "2024-05-24T07:41:40.713461Z",
     "iopub.status.idle": "2024-05-24T07:41:55.952287Z",
     "shell.execute_reply": "2024-05-24T07:41:55.951403Z"
    },
    "papermill": {
     "duration": 15.272352,
     "end_time": "2024-05-24T07:41:55.954613",
     "exception": false,
     "start_time": "2024-05-24T07:41:40.682261",
     "status": "completed"
    },
    "tags": []
   },
   "outputs": [],
   "source": [
    "Xy_tv = file_to_df('/kaggle/input/sna-weibo-data/Weibo Data/weibo_train_data(new)/weibo_train_data.txt')\n",
    "Xy_test = file_to_df(\n",
    "    '/kaggle/input/sna-weibo-data/Weibo Data/weibo_predict_data(new)/weibo_predict_data.txt',\n",
    "    col_names=['uid', 'mid', 'ts', 'content']\n",
    ")"
   ]
  },
  {
   "cell_type": "code",
   "execution_count": 6,
   "id": "d8d53175",
   "metadata": {
    "execution": {
     "iopub.execute_input": "2024-05-24T07:41:56.020376Z",
     "iopub.status.busy": "2024-05-24T07:41:56.020070Z",
     "iopub.status.idle": "2024-05-24T07:41:56.478993Z",
     "shell.execute_reply": "2024-05-24T07:41:56.478044Z"
    },
    "papermill": {
     "duration": 0.494774,
     "end_time": "2024-05-24T07:41:56.481441",
     "exception": false,
     "start_time": "2024-05-24T07:41:55.986667",
     "status": "completed"
    },
    "tags": []
   },
   "outputs": [
    {
     "data": {
      "text/plain": [
       "(uid          0\n",
       " mid          0\n",
       " ts           0\n",
       " forward_n    0\n",
       " comment_n    0\n",
       " like_n       0\n",
       " content      3\n",
       " dtype: int64,\n",
       " uid        0\n",
       " mid        0\n",
       " ts         0\n",
       " content    1\n",
       " dtype: int64)"
      ]
     },
     "execution_count": 6,
     "metadata": {},
     "output_type": "execute_result"
    }
   ],
   "source": [
    "Xy_tv.isna().sum(), Xy_test.isna().sum()"
   ]
  },
  {
   "cell_type": "code",
   "execution_count": 7,
   "id": "623b86cd",
   "metadata": {
    "execution": {
     "iopub.execute_input": "2024-05-24T07:41:56.549444Z",
     "iopub.status.busy": "2024-05-24T07:41:56.549121Z",
     "iopub.status.idle": "2024-05-24T07:41:57.820591Z",
     "shell.execute_reply": "2024-05-24T07:41:57.819545Z"
    },
    "papermill": {
     "duration": 1.306914,
     "end_time": "2024-05-24T07:41:57.823010",
     "exception": false,
     "start_time": "2024-05-24T07:41:56.516096",
     "status": "completed"
    },
    "tags": []
   },
   "outputs": [],
   "source": [
    "X_tv = Xy_tv.dropna().drop(['forward_n', 'comment_n', 'like_n'], axis=1)\n",
    "y_tv = Xy_tv.dropna()[['forward_n', 'comment_n', 'like_n']].replace([np.inf, -np.inf], np.nan)\n",
    "X_test = Xy_test.dropna()"
   ]
  },
  {
   "cell_type": "code",
   "execution_count": 8,
   "id": "e2ca1857",
   "metadata": {
    "execution": {
     "iopub.execute_input": "2024-05-24T07:41:57.931802Z",
     "iopub.status.busy": "2024-05-24T07:41:57.931026Z",
     "iopub.status.idle": "2024-05-24T07:41:57.937128Z",
     "shell.execute_reply": "2024-05-24T07:41:57.936208Z"
    },
    "papermill": {
     "duration": 0.040091,
     "end_time": "2024-05-24T07:41:57.939118",
     "exception": false,
     "start_time": "2024-05-24T07:41:57.899027",
     "status": "completed"
    },
    "tags": []
   },
   "outputs": [
    {
     "data": {
      "text/plain": [
       "((1225088, 7), (1225085, 4), (1225085, 3))"
      ]
     },
     "execution_count": 8,
     "metadata": {},
     "output_type": "execute_result"
    }
   ],
   "source": [
    "Xy_tv.shape, X_tv.shape, y_tv.shape"
   ]
  },
  {
   "cell_type": "code",
   "execution_count": 9,
   "id": "b5bae76a",
   "metadata": {
    "execution": {
     "iopub.execute_input": "2024-05-24T07:41:58.005656Z",
     "iopub.status.busy": "2024-05-24T07:41:58.004834Z",
     "iopub.status.idle": "2024-05-24T07:41:58.022095Z",
     "shell.execute_reply": "2024-05-24T07:41:58.021150Z"
    },
    "papermill": {
     "duration": 0.052664,
     "end_time": "2024-05-24T07:41:58.024244",
     "exception": false,
     "start_time": "2024-05-24T07:41:57.971580",
     "status": "completed"
    },
    "tags": []
   },
   "outputs": [
    {
     "data": {
      "text/html": [
       "<div>\n",
       "<style scoped>\n",
       "    .dataframe tbody tr th:only-of-type {\n",
       "        vertical-align: middle;\n",
       "    }\n",
       "\n",
       "    .dataframe tbody tr th {\n",
       "        vertical-align: top;\n",
       "    }\n",
       "\n",
       "    .dataframe thead th {\n",
       "        text-align: right;\n",
       "    }\n",
       "</style>\n",
       "<table border=\"1\" class=\"dataframe\">\n",
       "  <thead>\n",
       "    <tr style=\"text-align: right;\">\n",
       "      <th></th>\n",
       "      <th>uid</th>\n",
       "      <th>mid</th>\n",
       "      <th>ts</th>\n",
       "      <th>content</th>\n",
       "    </tr>\n",
       "  </thead>\n",
       "  <tbody>\n",
       "    <tr>\n",
       "      <th>0</th>\n",
       "      <td>d38e9bed5d98110dc2489d0d1cac3c2a</td>\n",
       "      <td>7d45833d9865727a88b960b0603c19f6</td>\n",
       "      <td>2015-02-23 17:41:29</td>\n",
       "      <td>丽江旅游(sz002033)#股票##炒股##财经##理财##投资#推荐包赢股，盈利对半分成...</td>\n",
       "    </tr>\n",
       "    <tr>\n",
       "      <th>1</th>\n",
       "      <td>fa13974743d3fe6ff40d21b872325e9e</td>\n",
       "      <td>8169f1d45051e08ef213bf1106b1225d</td>\n",
       "      <td>2015-02-14 12:49:58</td>\n",
       "      <td>#丁辰灵的红包#挣钱是一种能力，抢红包拼的是技术。我抢到了丁辰灵 和@阚洪岩 一起发出的现金...</td>\n",
       "    </tr>\n",
       "    <tr>\n",
       "      <th>2</th>\n",
       "      <td>da534fe87e7a52777bee5c30573ed5fd</td>\n",
       "      <td>68cd0258c31c2c525f94febea2d9523b</td>\n",
       "      <td>2015-03-31 13:58:06</td>\n",
       "      <td>淘宝网这些傻逼。。。气的劳资有火没地儿发~尼玛，你们都瞎了</td>\n",
       "    </tr>\n",
       "    <tr>\n",
       "      <th>3</th>\n",
       "      <td>e06a22b7e065e559a1f0bf7841a85c51</td>\n",
       "      <td>00b9f86b4915aedb7db943c54fd19d59</td>\n",
       "      <td>2015-06-11 20:39:57</td>\n",
       "      <td>看点不能说的，你们都懂[笑cry]</td>\n",
       "    </tr>\n",
       "    <tr>\n",
       "      <th>4</th>\n",
       "      <td>f9828598f9664d4e347ef2048ce17734</td>\n",
       "      <td>c7f6f66044c0c5a3330e2c5371be6824</td>\n",
       "      <td>2015-03-10 18:02:38</td>\n",
       "      <td>111多张</td>\n",
       "    </tr>\n",
       "  </tbody>\n",
       "</table>\n",
       "</div>"
      ],
      "text/plain": [
       "                                uid                               mid  \\\n",
       "0  d38e9bed5d98110dc2489d0d1cac3c2a  7d45833d9865727a88b960b0603c19f6   \n",
       "1  fa13974743d3fe6ff40d21b872325e9e  8169f1d45051e08ef213bf1106b1225d   \n",
       "2  da534fe87e7a52777bee5c30573ed5fd  68cd0258c31c2c525f94febea2d9523b   \n",
       "3  e06a22b7e065e559a1f0bf7841a85c51  00b9f86b4915aedb7db943c54fd19d59   \n",
       "4  f9828598f9664d4e347ef2048ce17734  c7f6f66044c0c5a3330e2c5371be6824   \n",
       "\n",
       "                   ts                                            content  \n",
       "0 2015-02-23 17:41:29  丽江旅游(sz002033)#股票##炒股##财经##理财##投资#推荐包赢股，盈利对半分成...  \n",
       "1 2015-02-14 12:49:58  #丁辰灵的红包#挣钱是一种能力，抢红包拼的是技术。我抢到了丁辰灵 和@阚洪岩 一起发出的现金...  \n",
       "2 2015-03-31 13:58:06                      淘宝网这些傻逼。。。气的劳资有火没地儿发~尼玛，你们都瞎了  \n",
       "3 2015-06-11 20:39:57                                  看点不能说的，你们都懂[笑cry]  \n",
       "4 2015-03-10 18:02:38                                              111多张  "
      ]
     },
     "execution_count": 9,
     "metadata": {},
     "output_type": "execute_result"
    }
   ],
   "source": [
    "X_tv.head()"
   ]
  },
  {
   "cell_type": "code",
   "execution_count": 10,
   "id": "3eb996ea",
   "metadata": {
    "execution": {
     "iopub.execute_input": "2024-05-24T07:41:58.091199Z",
     "iopub.status.busy": "2024-05-24T07:41:58.090534Z",
     "iopub.status.idle": "2024-05-24T07:41:58.100781Z",
     "shell.execute_reply": "2024-05-24T07:41:58.099868Z"
    },
    "papermill": {
     "duration": 0.046405,
     "end_time": "2024-05-24T07:41:58.102765",
     "exception": false,
     "start_time": "2024-05-24T07:41:58.056360",
     "status": "completed"
    },
    "tags": []
   },
   "outputs": [
    {
     "data": {
      "text/html": [
       "<div>\n",
       "<style scoped>\n",
       "    .dataframe tbody tr th:only-of-type {\n",
       "        vertical-align: middle;\n",
       "    }\n",
       "\n",
       "    .dataframe tbody tr th {\n",
       "        vertical-align: top;\n",
       "    }\n",
       "\n",
       "    .dataframe thead th {\n",
       "        text-align: right;\n",
       "    }\n",
       "</style>\n",
       "<table border=\"1\" class=\"dataframe\">\n",
       "  <thead>\n",
       "    <tr style=\"text-align: right;\">\n",
       "      <th></th>\n",
       "      <th>forward_n</th>\n",
       "      <th>comment_n</th>\n",
       "      <th>like_n</th>\n",
       "    </tr>\n",
       "  </thead>\n",
       "  <tbody>\n",
       "    <tr>\n",
       "      <th>0</th>\n",
       "      <td>0</td>\n",
       "      <td>0</td>\n",
       "      <td>0</td>\n",
       "    </tr>\n",
       "    <tr>\n",
       "      <th>1</th>\n",
       "      <td>0</td>\n",
       "      <td>0</td>\n",
       "      <td>0</td>\n",
       "    </tr>\n",
       "    <tr>\n",
       "      <th>2</th>\n",
       "      <td>0</td>\n",
       "      <td>0</td>\n",
       "      <td>0</td>\n",
       "    </tr>\n",
       "    <tr>\n",
       "      <th>3</th>\n",
       "      <td>0</td>\n",
       "      <td>4</td>\n",
       "      <td>3</td>\n",
       "    </tr>\n",
       "    <tr>\n",
       "      <th>4</th>\n",
       "      <td>0</td>\n",
       "      <td>0</td>\n",
       "      <td>0</td>\n",
       "    </tr>\n",
       "  </tbody>\n",
       "</table>\n",
       "</div>"
      ],
      "text/plain": [
       "   forward_n  comment_n  like_n\n",
       "0          0          0       0\n",
       "1          0          0       0\n",
       "2          0          0       0\n",
       "3          0          4       3\n",
       "4          0          0       0"
      ]
     },
     "execution_count": 10,
     "metadata": {},
     "output_type": "execute_result"
    }
   ],
   "source": [
    "y_tv.head()"
   ]
  },
  {
   "cell_type": "code",
   "execution_count": 11,
   "id": "d2592f06",
   "metadata": {
    "execution": {
     "iopub.execute_input": "2024-05-24T07:41:58.169038Z",
     "iopub.status.busy": "2024-05-24T07:41:58.168682Z",
     "iopub.status.idle": "2024-05-24T07:41:58.174376Z",
     "shell.execute_reply": "2024-05-24T07:41:58.173484Z"
    },
    "papermill": {
     "duration": 0.041397,
     "end_time": "2024-05-24T07:41:58.176690",
     "exception": false,
     "start_time": "2024-05-24T07:41:58.135293",
     "status": "completed"
    },
    "tags": []
   },
   "outputs": [
    {
     "data": {
      "text/plain": [
       "((177923, 4), (177922, 4))"
      ]
     },
     "execution_count": 11,
     "metadata": {},
     "output_type": "execute_result"
    }
   ],
   "source": [
    "Xy_test.shape, X_test.shape"
   ]
  },
  {
   "cell_type": "code",
   "execution_count": 12,
   "id": "a744accb",
   "metadata": {
    "execution": {
     "iopub.execute_input": "2024-05-24T07:41:58.243033Z",
     "iopub.status.busy": "2024-05-24T07:41:58.242651Z",
     "iopub.status.idle": "2024-05-24T07:41:58.253869Z",
     "shell.execute_reply": "2024-05-24T07:41:58.252999Z"
    },
    "papermill": {
     "duration": 0.046275,
     "end_time": "2024-05-24T07:41:58.255742",
     "exception": false,
     "start_time": "2024-05-24T07:41:58.209467",
     "status": "completed"
    },
    "tags": []
   },
   "outputs": [
    {
     "data": {
      "text/html": [
       "<div>\n",
       "<style scoped>\n",
       "    .dataframe tbody tr th:only-of-type {\n",
       "        vertical-align: middle;\n",
       "    }\n",
       "\n",
       "    .dataframe tbody tr th {\n",
       "        vertical-align: top;\n",
       "    }\n",
       "\n",
       "    .dataframe thead th {\n",
       "        text-align: right;\n",
       "    }\n",
       "</style>\n",
       "<table border=\"1\" class=\"dataframe\">\n",
       "  <thead>\n",
       "    <tr style=\"text-align: right;\">\n",
       "      <th></th>\n",
       "      <th>uid</th>\n",
       "      <th>mid</th>\n",
       "      <th>ts</th>\n",
       "      <th>content</th>\n",
       "    </tr>\n",
       "  </thead>\n",
       "  <tbody>\n",
       "    <tr>\n",
       "      <th>0</th>\n",
       "      <td>c01014739c046cd31d6f1b4fb71b440f</td>\n",
       "      <td>0cd5ef13eb11ed0070f7625b14136ec9</td>\n",
       "      <td>2015-08-19 22:44:55</td>\n",
       "      <td>Xah Emacs Tutorial http://t.cn/zWoY9IZ</td>\n",
       "    </tr>\n",
       "    <tr>\n",
       "      <th>1</th>\n",
       "      <td>fa5aed172c062c61e196eac61038a03b</td>\n",
       "      <td>7cce78a4ad39a91ec1f595bcc7fb5eba</td>\n",
       "      <td>2015-08-01 14:06:31</td>\n",
       "      <td>卖水果老人因没住处夜宿酒店门口 被车碾死 http://t.cn/RL0Hw8J （分享自@...</td>\n",
       "    </tr>\n",
       "    <tr>\n",
       "      <th>2</th>\n",
       "      <td>77fc723c196a45203e70f4d359c96946</td>\n",
       "      <td>a3494d8cf475a92739a2ffd421640ddf</td>\n",
       "      <td>2015-08-04 10:51:38</td>\n",
       "      <td>不要学习没有用的理论？ 不是：要学习，但要知道这个理论，为什么没有用？真实有用的理论是什么。...</td>\n",
       "    </tr>\n",
       "    <tr>\n",
       "      <th>3</th>\n",
       "      <td>e4097b07f34366399b623b94f174f60c</td>\n",
       "      <td>6b89aea5aa7af093dde0894156c49dd3</td>\n",
       "      <td>2015-08-16 14:59:19</td>\n",
       "      <td>[幸运之星] -恭喜！您的新浪微博账号已被系统确认为“新浪五周年”活动二等奖幸运用户。请登陆...</td>\n",
       "    </tr>\n",
       "    <tr>\n",
       "      <th>4</th>\n",
       "      <td>d43f7557c303b84070b13aa4eeeb21d3</td>\n",
       "      <td>0bdeff19392e15737775abab46dc5437</td>\n",
       "      <td>2015-08-04 22:30:46</td>\n",
       "      <td>【Lennart Poettering宣布首届Systemd会议】受争议Linux初始化系统...</td>\n",
       "    </tr>\n",
       "  </tbody>\n",
       "</table>\n",
       "</div>"
      ],
      "text/plain": [
       "                                uid                               mid  \\\n",
       "0  c01014739c046cd31d6f1b4fb71b440f  0cd5ef13eb11ed0070f7625b14136ec9   \n",
       "1  fa5aed172c062c61e196eac61038a03b  7cce78a4ad39a91ec1f595bcc7fb5eba   \n",
       "2  77fc723c196a45203e70f4d359c96946  a3494d8cf475a92739a2ffd421640ddf   \n",
       "3  e4097b07f34366399b623b94f174f60c  6b89aea5aa7af093dde0894156c49dd3   \n",
       "4  d43f7557c303b84070b13aa4eeeb21d3  0bdeff19392e15737775abab46dc5437   \n",
       "\n",
       "                   ts                                            content  \n",
       "0 2015-08-19 22:44:55             Xah Emacs Tutorial http://t.cn/zWoY9IZ  \n",
       "1 2015-08-01 14:06:31  卖水果老人因没住处夜宿酒店门口 被车碾死 http://t.cn/RL0Hw8J （分享自@...  \n",
       "2 2015-08-04 10:51:38  不要学习没有用的理论？ 不是：要学习，但要知道这个理论，为什么没有用？真实有用的理论是什么。...  \n",
       "3 2015-08-16 14:59:19  [幸运之星] -恭喜！您的新浪微博账号已被系统确认为“新浪五周年”活动二等奖幸运用户。请登陆...  \n",
       "4 2015-08-04 22:30:46  【Lennart Poettering宣布首届Systemd会议】受争议Linux初始化系统...  "
      ]
     },
     "execution_count": 12,
     "metadata": {},
     "output_type": "execute_result"
    }
   ],
   "source": [
    "Xy_test.head()"
   ]
  },
  {
   "cell_type": "markdown",
   "id": "96e3e70e",
   "metadata": {
    "papermill": {
     "duration": 0.033525,
     "end_time": "2024-05-24T07:41:58.322775",
     "exception": false,
     "start_time": "2024-05-24T07:41:58.289250",
     "status": "completed"
    },
    "tags": []
   },
   "source": [
    "## Data analysis"
   ]
  },
  {
   "cell_type": "markdown",
   "id": "59273ee3",
   "metadata": {
    "papermill": {
     "duration": 0.03265,
     "end_time": "2024-05-24T07:41:58.389548",
     "exception": false,
     "start_time": "2024-05-24T07:41:58.356898",
     "status": "completed"
    },
    "tags": []
   },
   "source": [
    "### Navive analysis"
   ]
  },
  {
   "cell_type": "code",
   "execution_count": 13,
   "id": "169f38ef",
   "metadata": {
    "execution": {
     "iopub.execute_input": "2024-05-24T07:41:58.456504Z",
     "iopub.status.busy": "2024-05-24T07:41:58.456088Z",
     "iopub.status.idle": "2024-05-24T07:41:58.466206Z",
     "shell.execute_reply": "2024-05-24T07:41:58.465220Z"
    },
    "papermill": {
     "duration": 0.045647,
     "end_time": "2024-05-24T07:41:58.468297",
     "exception": false,
     "start_time": "2024-05-24T07:41:58.422650",
     "status": "completed"
    },
    "tags": []
   },
   "outputs": [],
   "source": [
    "def embedd(\n",
    "    data,\n",
    "    vectorizer=TfidfVectorizer(stop_words='english', max_features=512),\n",
    "    reducer=gpu_or_else(\n",
    "        umap.UMAP(n_neighbors=10, min_dist=0.3, n_components=2),# TODO maybe enable GPU: cuml.UMAP(n_neighbors=10, min_dist=0.3, n_components=2),\n",
    "        umap.UMAP(n_neighbors=10, min_dist=0.3, n_components=2),\n",
    "    )\n",
    "):\n",
    "    embeddings = vectorizer.fit_transform(data)\n",
    "    return reducer.fit_transform(embeddings)\n",
    "\n",
    "def plot_embeddings(embeddings, y):\n",
    "    categories = np.sum(y * [.5, .25, .25], axis=1)\n",
    "    alhpa_vals = np.log10(categories / categories.max() + 0.01) / np.log10(1.01)\n",
    "    scaled_alpha_vals = np.clip((alhpa_vals - alhpa_vals.min()) / (alhpa_vals.max() - alhpa_vals.min()), a_min=None, a_max=1)\n",
    "\n",
    "    plt.figure(figsize=(10, 8))\n",
    "    scatter = plt.scatter(\n",
    "        embeddings[:, 0],\n",
    "        embeddings[:, 1],\n",
    "        c=categories,\n",
    "        cmap='Spectral',\n",
    "        s=5,\n",
    "        alpha=scaled_alpha_vals\n",
    "    )\n",
    "    plt.colorbar(scatter)\n",
    "    plt.title('Projection of Text Embeddings', fontsize=18)\n",
    "    plt.xlabel('dim 1', fontsize=14)\n",
    "    plt.ylabel('dim 2', fontsize=14)\n",
    "    plt.grid(True)\n",
    "    plt.show()"
   ]
  },
  {
   "cell_type": "markdown",
   "id": "2b1a22bd",
   "metadata": {
    "papermill": {
     "duration": 0.032701,
     "end_time": "2024-05-24T07:41:58.533520",
     "exception": false,
     "start_time": "2024-05-24T07:41:58.500819",
     "status": "completed"
    },
    "tags": []
   },
   "source": [
    "### Naive Embeddings"
   ]
  },
  {
   "cell_type": "code",
   "execution_count": 14,
   "id": "d2ddafa0",
   "metadata": {
    "execution": {
     "iopub.execute_input": "2024-05-24T07:41:58.599945Z",
     "iopub.status.busy": "2024-05-24T07:41:58.599262Z",
     "iopub.status.idle": "2024-05-24T07:45:53.696556Z",
     "shell.execute_reply": "2024-05-24T07:45:53.695590Z"
    },
    "papermill": {
     "duration": 235.168542,
     "end_time": "2024-05-24T07:45:53.733895",
     "exception": false,
     "start_time": "2024-05-24T07:41:58.565353",
     "status": "completed"
    },
    "tags": []
   },
   "outputs": [
    {
     "data": {
      "image/png": "[encoded data removed]",
      "text/plain": [
       "<Figure size 1000x800 with 2 Axes>"
      ]
     },
     "metadata": {},
     "output_type": "display_data"
    }
   ],
   "source": [
    "plot_embeddings(\n",
    "    embedd(X_tv.content.sample(100_000, random_state=RANDOM_STATE)),\n",
    "    y_tv.sample(100_000, random_state=RANDOM_STATE)\n",
    ")"
   ]
  },
  {
   "cell_type": "markdown",
   "id": "062598b5",
   "metadata": {
    "papermill": {
     "duration": 0.033127,
     "end_time": "2024-05-24T07:45:53.800643",
     "exception": false,
     "start_time": "2024-05-24T07:45:53.767516",
     "status": "completed"
    },
    "tags": []
   },
   "source": [
    "### Jieba embeddings"
   ]
  },
  {
   "cell_type": "code",
   "execution_count": 15,
   "id": "b239f102",
   "metadata": {
    "execution": {
     "iopub.execute_input": "2024-05-24T07:45:53.869341Z",
     "iopub.status.busy": "2024-05-24T07:45:53.868951Z",
     "iopub.status.idle": "2024-05-24T07:49:44.183255Z",
     "shell.execute_reply": "2024-05-24T07:49:44.182320Z"
    },
    "papermill": {
     "duration": 230.387798,
     "end_time": "2024-05-24T07:49:44.221992",
     "exception": false,
     "start_time": "2024-05-24T07:45:53.834194",
     "status": "completed"
    },
    "tags": []
   },
   "outputs": [
    {
     "name": "stderr",
     "output_type": "stream",
     "text": [
      "Building prefix dict from the default dictionary ...\n",
      "Dumping model to file cache /tmp/jieba.cache\n",
      "Loading model cost 1.136 seconds.\n",
      "Prefix dict has been built successfully.\n",
      "/opt/conda/lib/python3.10/site-packages/umap/spectral.py:550: UserWarning: Spectral initialisation failed! The eigenvector solver\n",
      "failed. This is likely due to too small an eigengap. Consider\n",
      "adding some noise or jitter to your data.\n",
      "\n",
      "Falling back to random initialisation!\n",
      "  warn(\n"
     ]
    },
    {
     "data": {
      "image/png": "[encoded data removed]",
      "text/plain": [
       "<Figure size 1000x800 with 2 Axes>"
      ]
     },
     "metadata": {},
     "output_type": "display_data"
    }
   ],
   "source": [
    "plot_embeddings(\n",
    "    embedd(\n",
    "        X_tv.content.sample(100_000, random_state=RANDOM_STATE),\n",
    "        vectorizer=TfidfVectorizer(analyzer=fn.partial(jbanalyse.extract_tags), max_features=512),\n",
    "    ),\n",
    "    y_tv.sample(100_000, random_state=RANDOM_STATE),\n",
    ")"
   ]
  },
  {
   "cell_type": "markdown",
   "id": "c5cddb80",
   "metadata": {
    "papermill": {
     "duration": 0.035734,
     "end_time": "2024-05-24T07:49:44.293599",
     "exception": false,
     "start_time": "2024-05-24T07:49:44.257865",
     "status": "completed"
    },
    "tags": []
   },
   "source": [
    "### Huggingface embeddings"
   ]
  },
  {
   "cell_type": "code",
   "execution_count": 16,
   "id": "d2627b86",
   "metadata": {
    "execution": {
     "iopub.execute_input": "2024-05-24T07:49:44.366742Z",
     "iopub.status.busy": "2024-05-24T07:49:44.366194Z",
     "iopub.status.idle": "2024-05-24T07:49:44.384801Z",
     "shell.execute_reply": "2024-05-24T07:49:44.383902Z"
    },
    "papermill": {
     "duration": 0.057632,
     "end_time": "2024-05-24T07:49:44.386700",
     "exception": false,
     "start_time": "2024-05-24T07:49:44.329068",
     "status": "completed"
    },
    "tags": []
   },
   "outputs": [],
   "source": [
    "class TextDataset(Dataset):\n",
    "    def __init__(self, encodings):\n",
    "        self.encodings = encodings\n",
    "\n",
    "    def __getitem__(self, idx):\n",
    "        return {key: val[idx].clone().detach() for key, val in self.encodings.items()}\n",
    "\n",
    "    def __len__(self):\n",
    "        return len(self.encodings.input_ids)\n",
    "\n",
    "class ChineseBertVectorizer():\n",
    "    def __init__(\n",
    "        self,\n",
    "        device=torch.device('cuda') if torch.cuda.is_available() else torch.device('cpu'),\n",
    "        batch_size=1024,\n",
    "        verbose=0\n",
    "    ):\n",
    "        self.tokenizer = AutoTokenizer.from_pretrained(\n",
    "            \"google-bert/bert-base-chinese\", \n",
    "            padding=True,\n",
    "            truncation=True\n",
    "        )\n",
    "        self.model = AutoModel.from_pretrained(\"google-bert/bert-base-chinese\")\n",
    "        self.device = device\n",
    "        self.batch_size=batch_size\n",
    "        self.verbose=verbose\n",
    "    \n",
    "    def fit_transform(self, data, batch_size=None, verbose=None):\n",
    "        if not isinstance(data, list):\n",
    "            data = data.tolist()\n",
    "        if not batch_size:\n",
    "            batch_size = self.batch_size\n",
    "        if not verbose:\n",
    "            verbose = self.verbose\n",
    "        \n",
    "        try:\n",
    "            return self.get_embeddings(data, batch_size=batch_size, verbose=verbose)\n",
    "        finally:\n",
    "            if verbose:\n",
    "                print('cleaning up...')\n",
    "            if verbose > 1:\n",
    "                print(torch.cuda.memory_summary())\n",
    "            gc.collect()\n",
    "            torch.cuda.empty_cache()\n",
    "            if verbose:\n",
    "                print('done cleaning')\n",
    "            if verbose > 1:\n",
    "                print(torch.cuda.memory_summary())\n",
    "\n",
    "\n",
    "    def get_embeddings(self, data, batch_size, verbose=0):\n",
    "        if verbose:\n",
    "            print('tokenizing...')\n",
    "        encoded_input = self.tokenizer(\n",
    "            data, padding=True, truncation=True, return_tensors='pt'\n",
    "        )\n",
    "        dataset = TextDataset(encoded_input)\n",
    "        loader = DataLoader(dataset, batch_size=batch_size, shuffle=False)\n",
    "\n",
    "        embeddings = []\n",
    "        embedder = nn.DataParallel(self.model)\n",
    "        embedder = embedder.to(self.device)\n",
    "        for batch in tqdm(loader, disable=verbose<1, desc='embedding', unit='batch'):\n",
    "            batch_ = {k: v.to(self.device) for k, v in batch.items()}\n",
    "            with torch.no_grad():\n",
    "                if verbose>1:\n",
    "                    print(torch.cuda.memory_summary())\n",
    "                    \n",
    "                outputs = embedder(**batch_)\n",
    "                if self.device.type == 'cuda':\n",
    "                    batch_embeddings = outputs.last_hidden_state[:, 0, :]\n",
    "                    embeddings.append(batch_embeddings.cpu())\n",
    "                    for v in batch_.values():\n",
    "                             del v\n",
    "                    del batch_\n",
    "                    del outputs\n",
    "                    gc.collect()\n",
    "                    torch.cuda.empty_cache()\n",
    "                else:\n",
    "                    batch_embeddings = outputs.last_hidden_state[:, 0, :]\n",
    "                    embeddings.append(batch_embeddings.cpu())\n",
    "        \n",
    "        if self.device.type == 'cuda':\n",
    "            del embedder\n",
    "            gc.collect()\n",
    "            torch.cuda.empty_cache()\n",
    "\n",
    "        embeddings = torch.cat(embeddings, dim=0)\n",
    "        if verbose:\n",
    "            print('embeddings done')\n",
    "\n",
    "        return embeddings"
   ]
  },
  {
   "cell_type": "code",
   "execution_count": 17,
   "id": "2947ee0e",
   "metadata": {
    "execution": {
     "iopub.execute_input": "2024-05-24T07:49:44.458863Z",
     "iopub.status.busy": "2024-05-24T07:49:44.458584Z",
     "iopub.status.idle": "2024-05-24T08:23:17.339033Z",
     "shell.execute_reply": "2024-05-24T08:23:17.337936Z"
    },
    "papermill": {
     "duration": 2012.95803,
     "end_time": "2024-05-24T08:23:17.380480",
     "exception": false,
     "start_time": "2024-05-24T07:49:44.422450",
     "status": "completed"
    },
    "tags": []
   },
   "outputs": [
    {
     "data": {
      "application/vnd.jupyter.widget-view+json": {
       "model_id": "e57e1e5bb3b44830ba4f0770d791764d",
       "version_major": 2,
       "version_minor": 0
      },
      "text/plain": [
       "tokenizer_config.json:   0%|          | 0.00/49.0 [00:00<?, ?B/s]"
      ]
     },
     "metadata": {},
     "output_type": "display_data"
    },
    {
     "data": {
      "application/vnd.jupyter.widget-view+json": {
       "model_id": "32fe278f66a7405388db3011ffaf11b0",
       "version_major": 2,
       "version_minor": 0
      },
      "text/plain": [
       "config.json:   0%|          | 0.00/624 [00:00<?, ?B/s]"
      ]
     },
     "metadata": {},
     "output_type": "display_data"
    },
    {
     "data": {
      "application/vnd.jupyter.widget-view+json": {
       "model_id": "fe30810d84a84b3394752867200f2a35",
       "version_major": 2,
       "version_minor": 0
      },
      "text/plain": [
       "vocab.txt:   0%|          | 0.00/110k [00:00<?, ?B/s]"
      ]
     },
     "metadata": {},
     "output_type": "display_data"
    },
    {
     "data": {
      "application/vnd.jupyter.widget-view+json": {
       "model_id": "69edd538a1de454590b6ea6d331cb52a",
       "version_major": 2,
       "version_minor": 0
      },
      "text/plain": [
       "tokenizer.json:   0%|          | 0.00/269k [00:00<?, ?B/s]"
      ]
     },
     "metadata": {},
     "output_type": "display_data"
    },
    {
     "data": {
      "application/vnd.jupyter.widget-view+json": {
       "model_id": "b42c4e414d684d46abe3cc0126913f0e",
       "version_major": 2,
       "version_minor": 0
      },
      "text/plain": [
       "model.safetensors:   0%|          | 0.00/412M [00:00<?, ?B/s]"
      ]
     },
     "metadata": {},
     "output_type": "display_data"
    },
    {
     "name": "stdout",
     "output_type": "stream",
     "text": [
      "tokenizing...\n"
     ]
    },
    {
     "data": {
      "application/vnd.jupyter.widget-view+json": {
       "model_id": "2299b8e84abe43a08e701421cb0a9500",
       "version_major": 2,
       "version_minor": 0
      },
      "text/plain": [
       "embedding:   0%|          | 0/157 [00:00<?, ?batch/s]"
      ]
     },
     "metadata": {},
     "output_type": "display_data"
    },
    {
     "name": "stdout",
     "output_type": "stream",
     "text": [
      "embeddings done\n",
      "cleaning up...\n",
      "done cleaning\n"
     ]
    },
    {
     "data": {
      "image/png": "[encoded data removed]",
      "text/plain": [
       "<Figure size 1000x800 with 2 Axes>"
      ]
     },
     "metadata": {},
     "output_type": "display_data"
    }
   ],
   "source": [
    "plot_embeddings(\n",
    "    embedd(\n",
    "        X_tv.content.sample(100_000, random_state=RANDOM_STATE),\n",
    "        vectorizer=ChineseBertVectorizer(batch_size=BATCH_SIZE, verbose=1)\n",
    "    ),\n",
    "    y_tv.sample(100_000, random_state=RANDOM_STATE)\n",
    ")"
   ]
  },
  {
   "cell_type": "markdown",
   "id": "34fcabc4",
   "metadata": {
    "papermill": {
     "duration": 0.038386,
     "end_time": "2024-05-24T08:23:17.456804",
     "exception": false,
     "start_time": "2024-05-24T08:23:17.418418",
     "status": "completed"
    },
    "tags": []
   },
   "source": [
    "### Target analysis"
   ]
  },
  {
   "cell_type": "code",
   "execution_count": 18,
   "id": "f8993a80",
   "metadata": {
    "execution": {
     "iopub.execute_input": "2024-05-24T08:23:17.533325Z",
     "iopub.status.busy": "2024-05-24T08:23:17.533019Z",
     "iopub.status.idle": "2024-05-24T08:23:40.948438Z",
     "shell.execute_reply": "2024-05-24T08:23:40.947549Z"
    },
    "papermill": {
     "duration": 23.456273,
     "end_time": "2024-05-24T08:23:40.950527",
     "exception": false,
     "start_time": "2024-05-24T08:23:17.494254",
     "status": "completed"
    },
    "tags": []
   },
   "outputs": [
    {
     "data": {
      "text/plain": [
       "<matplotlib.legend.Legend at 0x7ec2971c9c60>"
      ]
     },
     "execution_count": 18,
     "metadata": {},
     "output_type": "execute_result"
    },
    {
     "data": {
      "image/png": "[encoded data removed]",
      "text/plain": [
       "<Figure size 640x480 with 1 Axes>"
      ]
     },
     "metadata": {},
     "output_type": "display_data"
    }
   ],
   "source": [
    "for column in y_tv.columns:\n",
    "    sns.kdeplot(y_tv[column], label=column, fill=True, common_norm=False, alpha=0.5)\n",
    "\n",
    "plt.title('KDE of targets')\n",
    "plt.xlabel('Value')\n",
    "plt.ylabel('Density')\n",
    "plt.legend(title='Distribution')"
   ]
  },
  {
   "cell_type": "markdown",
   "id": "141b4d1b",
   "metadata": {
    "papermill": {
     "duration": 0.038037,
     "end_time": "2024-05-24T08:23:41.028704",
     "exception": false,
     "start_time": "2024-05-24T08:23:40.990667",
     "status": "completed"
    },
    "tags": []
   },
   "source": [
    "Let's log scale it to make it more gaussian"
   ]
  },
  {
   "cell_type": "code",
   "execution_count": 19,
   "id": "d0e3796c",
   "metadata": {
    "execution": {
     "iopub.execute_input": "2024-05-24T08:23:41.106007Z",
     "iopub.status.busy": "2024-05-24T08:23:41.105704Z",
     "iopub.status.idle": "2024-05-24T08:23:42.798077Z",
     "shell.execute_reply": "2024-05-24T08:23:42.797220Z"
    },
    "papermill": {
     "duration": 1.733256,
     "end_time": "2024-05-24T08:23:42.800079",
     "exception": false,
     "start_time": "2024-05-24T08:23:41.066823",
     "status": "completed"
    },
    "tags": []
   },
   "outputs": [
    {
     "data": {
      "text/plain": [
       "<matplotlib.legend.Legend at 0x7ec2ef90ca90>"
      ]
     },
     "execution_count": 19,
     "metadata": {},
     "output_type": "execute_result"
    },
    {
     "data": {
      "image/png": "[encoded data removed]",
      "text/plain": [
       "<Figure size 640x480 with 1 Axes>"
      ]
     },
     "metadata": {},
     "output_type": "display_data"
    }
   ],
   "source": [
    "y_tv_no_low = y_tv[np.all(y_tv > 2, axis=1)]\n",
    "for column in y_tv.columns:\n",
    "    sns.kdeplot(np.log(y_tv_no_low[column]), label=column, fill=True, common_norm=False, alpha=0.5)\n",
    "    \n",
    "sns.kdeplot(RNG.chisquare(2.5,size=y_tv_no_low.shape[0])+1, label='chi^2', fill=True, common_norm=False, alpha=0.5)\n",
    "\n",
    "plt.title('KDE of log(targets)')\n",
    "plt.xlabel('log(Value)')\n",
    "plt.ylabel('Density')\n",
    "plt.legend(title='Distribution')"
   ]
  },
  {
   "cell_type": "markdown",
   "id": "3d011ece",
   "metadata": {
    "papermill": {
     "duration": 0.039026,
     "end_time": "2024-05-24T08:23:42.878658",
     "exception": false,
     "start_time": "2024-05-24T08:23:42.839632",
     "status": "completed"
    },
    "tags": []
   },
   "source": [
    "### User segementation"
   ]
  },
  {
   "cell_type": "code",
   "execution_count": 20,
   "id": "1c0767cf",
   "metadata": {
    "execution": {
     "iopub.execute_input": "2024-05-24T08:23:42.957195Z",
     "iopub.status.busy": "2024-05-24T08:23:42.956860Z",
     "iopub.status.idle": "2024-05-24T08:23:42.960904Z",
     "shell.execute_reply": "2024-05-24T08:23:42.960151Z"
    },
    "papermill": {
     "duration": 0.045345,
     "end_time": "2024-05-24T08:23:42.962686",
     "exception": false,
     "start_time": "2024-05-24T08:23:42.917341",
     "status": "completed"
    },
    "tags": []
   },
   "outputs": [],
   "source": [
    "TOP_K_UID=10"
   ]
  },
  {
   "cell_type": "code",
   "execution_count": 21,
   "id": "71a9180a",
   "metadata": {
    "execution": {
     "iopub.execute_input": "2024-05-24T08:23:43.041986Z",
     "iopub.status.busy": "2024-05-24T08:23:43.041285Z",
     "iopub.status.idle": "2024-05-24T08:23:43.325055Z",
     "shell.execute_reply": "2024-05-24T08:23:43.324295Z"
    },
    "papermill": {
     "duration": 0.325876,
     "end_time": "2024-05-24T08:23:43.327223",
     "exception": false,
     "start_time": "2024-05-24T08:23:43.001347",
     "status": "completed"
    },
    "tags": []
   },
   "outputs": [],
   "source": [
    "user_segementation_df = X_tv[['uid']]\n",
    "user_segementation_df.loc[: ,['forward_n', 'comment_n', 'like_n']] = y_tv\n",
    "user_segementation_df.loc[: ,['popularity']] = (y_tv * [.5, .25, .25]).sum(axis=1)"
   ]
  },
  {
   "cell_type": "code",
   "execution_count": 22,
   "id": "884bab86",
   "metadata": {
    "execution": {
     "iopub.execute_input": "2024-05-24T08:23:43.408837Z",
     "iopub.status.busy": "2024-05-24T08:23:43.408560Z",
     "iopub.status.idle": "2024-05-24T08:23:43.473051Z",
     "shell.execute_reply": "2024-05-24T08:23:43.472197Z"
    },
    "papermill": {
     "duration": 0.107722,
     "end_time": "2024-05-24T08:23:43.474888",
     "exception": false,
     "start_time": "2024-05-24T08:23:43.367166",
     "status": "completed"
    },
    "tags": []
   },
   "outputs": [
    {
     "data": {
      "text/plain": [
       "(2449,)"
      ]
     },
     "execution_count": 22,
     "metadata": {},
     "output_type": "execute_result"
    }
   ],
   "source": [
    "np.unique(user_segementation_df[user_segementation_df.popularity > 10].uid).shape"
   ]
  },
  {
   "cell_type": "code",
   "execution_count": 23,
   "id": "7b5148b3",
   "metadata": {
    "execution": {
     "iopub.execute_input": "2024-05-24T08:23:43.555037Z",
     "iopub.status.busy": "2024-05-24T08:23:43.554727Z",
     "iopub.status.idle": "2024-05-24T08:23:44.471104Z",
     "shell.execute_reply": "2024-05-24T08:23:44.469943Z"
    },
    "papermill": {
     "duration": 0.959716,
     "end_time": "2024-05-24T08:23:44.473485",
     "exception": false,
     "start_time": "2024-05-24T08:23:43.513769",
     "status": "completed"
    },
    "tags": []
   },
   "outputs": [],
   "source": [
    "user_segementation_df.loc[:, ['median_popularity']] = user_segementation_df['uid'].map(user_segementation_df.groupby('uid')['popularity'].median())\n",
    "user_segementation_df.loc[:, ['mean_popularity']] = user_segementation_df['uid'].map(user_segementation_df.groupby('uid')['popularity'].mean())"
   ]
  },
  {
   "cell_type": "code",
   "execution_count": 24,
   "id": "7c9eddfe",
   "metadata": {
    "execution": {
     "iopub.execute_input": "2024-05-24T08:23:44.555123Z",
     "iopub.status.busy": "2024-05-24T08:23:44.554792Z",
     "iopub.status.idle": "2024-05-24T08:23:44.567700Z",
     "shell.execute_reply": "2024-05-24T08:23:44.566799Z"
    },
    "papermill": {
     "duration": 0.055981,
     "end_time": "2024-05-24T08:23:44.569553",
     "exception": false,
     "start_time": "2024-05-24T08:23:44.513572",
     "status": "completed"
    },
    "tags": []
   },
   "outputs": [
    {
     "data": {
      "text/html": [
       "<div>\n",
       "<style scoped>\n",
       "    .dataframe tbody tr th:only-of-type {\n",
       "        vertical-align: middle;\n",
       "    }\n",
       "\n",
       "    .dataframe tbody tr th {\n",
       "        vertical-align: top;\n",
       "    }\n",
       "\n",
       "    .dataframe thead th {\n",
       "        text-align: right;\n",
       "    }\n",
       "</style>\n",
       "<table border=\"1\" class=\"dataframe\">\n",
       "  <thead>\n",
       "    <tr style=\"text-align: right;\">\n",
       "      <th></th>\n",
       "      <th>uid</th>\n",
       "      <th>forward_n</th>\n",
       "      <th>comment_n</th>\n",
       "      <th>like_n</th>\n",
       "      <th>popularity</th>\n",
       "      <th>median_popularity</th>\n",
       "      <th>mean_popularity</th>\n",
       "    </tr>\n",
       "  </thead>\n",
       "  <tbody>\n",
       "    <tr>\n",
       "      <th>0</th>\n",
       "      <td>d38e9bed5d98110dc2489d0d1cac3c2a</td>\n",
       "      <td>0</td>\n",
       "      <td>0</td>\n",
       "      <td>0</td>\n",
       "      <td>0.00</td>\n",
       "      <td>0.0</td>\n",
       "      <td>0.627724</td>\n",
       "    </tr>\n",
       "    <tr>\n",
       "      <th>1</th>\n",
       "      <td>fa13974743d3fe6ff40d21b872325e9e</td>\n",
       "      <td>0</td>\n",
       "      <td>0</td>\n",
       "      <td>0</td>\n",
       "      <td>0.00</td>\n",
       "      <td>0.0</td>\n",
       "      <td>0.233083</td>\n",
       "    </tr>\n",
       "    <tr>\n",
       "      <th>2</th>\n",
       "      <td>da534fe87e7a52777bee5c30573ed5fd</td>\n",
       "      <td>0</td>\n",
       "      <td>0</td>\n",
       "      <td>0</td>\n",
       "      <td>0.00</td>\n",
       "      <td>0.0</td>\n",
       "      <td>0.107143</td>\n",
       "    </tr>\n",
       "    <tr>\n",
       "      <th>3</th>\n",
       "      <td>e06a22b7e065e559a1f0bf7841a85c51</td>\n",
       "      <td>0</td>\n",
       "      <td>4</td>\n",
       "      <td>3</td>\n",
       "      <td>1.75</td>\n",
       "      <td>1.5</td>\n",
       "      <td>3.276644</td>\n",
       "    </tr>\n",
       "    <tr>\n",
       "      <th>4</th>\n",
       "      <td>f9828598f9664d4e347ef2048ce17734</td>\n",
       "      <td>0</td>\n",
       "      <td>0</td>\n",
       "      <td>0</td>\n",
       "      <td>0.00</td>\n",
       "      <td>0.0</td>\n",
       "      <td>0.132075</td>\n",
       "    </tr>\n",
       "  </tbody>\n",
       "</table>\n",
       "</div>"
      ],
      "text/plain": [
       "                                uid  forward_n  comment_n  like_n  popularity  \\\n",
       "0  d38e9bed5d98110dc2489d0d1cac3c2a          0          0       0        0.00   \n",
       "1  fa13974743d3fe6ff40d21b872325e9e          0          0       0        0.00   \n",
       "2  da534fe87e7a52777bee5c30573ed5fd          0          0       0        0.00   \n",
       "3  e06a22b7e065e559a1f0bf7841a85c51          0          4       3        1.75   \n",
       "4  f9828598f9664d4e347ef2048ce17734          0          0       0        0.00   \n",
       "\n",
       "   median_popularity  mean_popularity  \n",
       "0                0.0         0.627724  \n",
       "1                0.0         0.233083  \n",
       "2                0.0         0.107143  \n",
       "3                1.5         3.276644  \n",
       "4                0.0         0.132075  "
      ]
     },
     "execution_count": 24,
     "metadata": {},
     "output_type": "execute_result"
    }
   ],
   "source": [
    "user_segementation_df.head()"
   ]
  },
  {
   "cell_type": "code",
   "execution_count": 25,
   "id": "1fac6118",
   "metadata": {
    "execution": {
     "iopub.execute_input": "2024-05-24T08:23:44.650234Z",
     "iopub.status.busy": "2024-05-24T08:23:44.649432Z",
     "iopub.status.idle": "2024-05-24T08:23:45.032457Z",
     "shell.execute_reply": "2024-05-24T08:23:45.031533Z"
    },
    "papermill": {
     "duration": 0.425477,
     "end_time": "2024-05-24T08:23:45.034650",
     "exception": false,
     "start_time": "2024-05-24T08:23:44.609173",
     "status": "completed"
    },
    "tags": []
   },
   "outputs": [
    {
     "data": {
      "text/plain": [
       "(10565, 7)"
      ]
     },
     "execution_count": 25,
     "metadata": {},
     "output_type": "execute_result"
    }
   ],
   "source": [
    "top_uids = user_segementation_df.groupby('uid')['popularity'].sum().sort_values(ascending=False)[:TOP_K_UID].index\n",
    "top_k_uid_df = user_segementation_df[user_segementation_df['uid'].isin(top_uids)]\n",
    "top_k_uid_df.shape"
   ]
  },
  {
   "cell_type": "code",
   "execution_count": 26,
   "id": "8bcd1ec1",
   "metadata": {
    "execution": {
     "iopub.execute_input": "2024-05-24T08:23:45.115844Z",
     "iopub.status.busy": "2024-05-24T08:23:45.115556Z",
     "iopub.status.idle": "2024-05-24T08:23:45.129777Z",
     "shell.execute_reply": "2024-05-24T08:23:45.128893Z"
    },
    "papermill": {
     "duration": 0.056923,
     "end_time": "2024-05-24T08:23:45.131768",
     "exception": false,
     "start_time": "2024-05-24T08:23:45.074845",
     "status": "completed"
    },
    "tags": []
   },
   "outputs": [
    {
     "data": {
      "text/html": [
       "<div>\n",
       "<style scoped>\n",
       "    .dataframe tbody tr th:only-of-type {\n",
       "        vertical-align: middle;\n",
       "    }\n",
       "\n",
       "    .dataframe tbody tr th {\n",
       "        vertical-align: top;\n",
       "    }\n",
       "\n",
       "    .dataframe thead th {\n",
       "        text-align: right;\n",
       "    }\n",
       "</style>\n",
       "<table border=\"1\" class=\"dataframe\">\n",
       "  <thead>\n",
       "    <tr style=\"text-align: right;\">\n",
       "      <th></th>\n",
       "      <th>uid</th>\n",
       "      <th>forward_n</th>\n",
       "      <th>comment_n</th>\n",
       "      <th>like_n</th>\n",
       "      <th>popularity</th>\n",
       "      <th>median_popularity</th>\n",
       "      <th>mean_popularity</th>\n",
       "    </tr>\n",
       "  </thead>\n",
       "  <tbody>\n",
       "    <tr>\n",
       "      <th>960724</th>\n",
       "      <td>42fffa7b95d37f3d414114974772d14f</td>\n",
       "      <td>41850</td>\n",
       "      <td>1767</td>\n",
       "      <td>11697</td>\n",
       "      <td>24291.00</td>\n",
       "      <td>38.5</td>\n",
       "      <td>158.580508</td>\n",
       "    </tr>\n",
       "    <tr>\n",
       "      <th>21949</th>\n",
       "      <td>e88330514585dc40b7cb8f48c0e0ea2a</td>\n",
       "      <td>19255</td>\n",
       "      <td>7231</td>\n",
       "      <td>1557</td>\n",
       "      <td>11824.50</td>\n",
       "      <td>661.0</td>\n",
       "      <td>769.311528</td>\n",
       "    </tr>\n",
       "    <tr>\n",
       "      <th>1033865</th>\n",
       "      <td>8507f224ff141fcdc92d6cca325a948a</td>\n",
       "      <td>20954</td>\n",
       "      <td>4266</td>\n",
       "      <td>33</td>\n",
       "      <td>11551.75</td>\n",
       "      <td>7.0</td>\n",
       "      <td>134.566787</td>\n",
       "    </tr>\n",
       "    <tr>\n",
       "      <th>1135986</th>\n",
       "      <td>e88330514585dc40b7cb8f48c0e0ea2a</td>\n",
       "      <td>18609</td>\n",
       "      <td>837</td>\n",
       "      <td>6304</td>\n",
       "      <td>11089.75</td>\n",
       "      <td>661.0</td>\n",
       "      <td>769.311528</td>\n",
       "    </tr>\n",
       "    <tr>\n",
       "      <th>594288</th>\n",
       "      <td>e88330514585dc40b7cb8f48c0e0ea2a</td>\n",
       "      <td>14796</td>\n",
       "      <td>5075</td>\n",
       "      <td>1007</td>\n",
       "      <td>8918.50</td>\n",
       "      <td>661.0</td>\n",
       "      <td>769.311528</td>\n",
       "    </tr>\n",
       "  </tbody>\n",
       "</table>\n",
       "</div>"
      ],
      "text/plain": [
       "                                      uid  forward_n  comment_n  like_n  \\\n",
       "960724   42fffa7b95d37f3d414114974772d14f      41850       1767   11697   \n",
       "21949    e88330514585dc40b7cb8f48c0e0ea2a      19255       7231    1557   \n",
       "1033865  8507f224ff141fcdc92d6cca325a948a      20954       4266      33   \n",
       "1135986  e88330514585dc40b7cb8f48c0e0ea2a      18609        837    6304   \n",
       "594288   e88330514585dc40b7cb8f48c0e0ea2a      14796       5075    1007   \n",
       "\n",
       "         popularity  median_popularity  mean_popularity  \n",
       "960724     24291.00               38.5       158.580508  \n",
       "21949      11824.50              661.0       769.311528  \n",
       "1033865    11551.75                7.0       134.566787  \n",
       "1135986    11089.75              661.0       769.311528  \n",
       "594288      8918.50              661.0       769.311528  "
      ]
     },
     "execution_count": 26,
     "metadata": {},
     "output_type": "execute_result"
    }
   ],
   "source": [
    "top_k_uid_df.sort_values('popularity', ascending=False).head()"
   ]
  },
  {
   "cell_type": "code",
   "execution_count": 27,
   "id": "e397123d",
   "metadata": {
    "execution": {
     "iopub.execute_input": "2024-05-24T08:23:45.213308Z",
     "iopub.status.busy": "2024-05-24T08:23:45.212912Z",
     "iopub.status.idle": "2024-05-24T08:23:45.224381Z",
     "shell.execute_reply": "2024-05-24T08:23:45.223613Z"
    },
    "papermill": {
     "duration": 0.054212,
     "end_time": "2024-05-24T08:23:45.226696",
     "exception": false,
     "start_time": "2024-05-24T08:23:45.172484",
     "status": "completed"
    },
    "tags": []
   },
   "outputs": [],
   "source": [
    "no0_top_k_uid_df = top_k_uid_df.astype({k: float for k in ['forward_n','comment_n','like_n','popularity','median_popularity', 'mean_popularity']})\n",
    "no0_top_k_uid_df.loc[:,['forward_n','comment_n','like_n','popularity','median_popularity', 'mean_popularity']] = no0_top_k_uid_df[['forward_n','comment_n','like_n','popularity','median_popularity', 'mean_popularity']] +.0001"
   ]
  },
  {
   "cell_type": "code",
   "execution_count": 28,
   "id": "de113a06",
   "metadata": {
    "execution": {
     "iopub.execute_input": "2024-05-24T08:23:45.309317Z",
     "iopub.status.busy": "2024-05-24T08:23:45.308785Z",
     "iopub.status.idle": "2024-05-24T08:23:47.874173Z",
     "shell.execute_reply": "2024-05-24T08:23:47.873128Z"
    },
    "papermill": {
     "duration": 2.608018,
     "end_time": "2024-05-24T08:23:47.876104",
     "exception": false,
     "start_time": "2024-05-24T08:23:45.268086",
     "status": "completed"
    },
    "tags": []
   },
   "outputs": [
    {
     "name": "stderr",
     "output_type": "stream",
     "text": [
      "/tmp/ipykernel_24/939236513.py:15: RuntimeWarning: overflow encountered in exp\n",
      "  return f\"{np.exp(x):.2f}\"\n"
     ]
    },
    {
     "data": {
      "image/png": "[encoded data removed]",
      "text/plain": [
       "<Figure size 640x480 with 1 Axes>"
      ]
     },
     "metadata": {},
     "output_type": "display_data"
    }
   ],
   "source": [
    "warnings.filterwarnings('ignore', category=FutureWarning)\n",
    "ax = sns.histplot(\n",
    "    no0_top_k_uid_df,\n",
    "    x='popularity', hue='uid',\n",
    "    multiple='stack',\n",
    "    #palette='light:m_r',\n",
    "    edgecolor='.3',\n",
    "    linewidth=.5,\n",
    "    log_scale=True,\n",
    "    legend=False,\n",
    ")\n",
    "\n",
    "def exp_formatter(x, pos):\n",
    "    \"\"\"Converts log scale labels back to the exponential scale\"\"\"\n",
    "    return f\"{np.exp(x):.2f}\"\n",
    "\n",
    "ax.get_xaxis().set_major_formatter(mtick.FuncFormatter(exp_formatter))\n",
    "warnings.simplefilter('default', category=FutureWarning)"
   ]
  },
  {
   "cell_type": "code",
   "execution_count": 29,
   "id": "8f7e7543",
   "metadata": {
    "execution": {
     "iopub.execute_input": "2024-05-24T08:23:47.961178Z",
     "iopub.status.busy": "2024-05-24T08:23:47.960615Z",
     "iopub.status.idle": "2024-05-24T08:23:47.978848Z",
     "shell.execute_reply": "2024-05-24T08:23:47.978124Z"
    },
    "papermill": {
     "duration": 0.062593,
     "end_time": "2024-05-24T08:23:47.980714",
     "exception": false,
     "start_time": "2024-05-24T08:23:47.918121",
     "status": "completed"
    },
    "tags": []
   },
   "outputs": [
    {
     "name": "stdout",
     "output_type": "stream",
     "text": [
      "skip for now\n"
     ]
    }
   ],
   "source": [
    "%%script echo 'skip for now'\n",
    "pal = sns.color_palette(palette='coolwarm', n_colors=TOP_K_UID)\n",
    "\n",
    "g = sns.FacetGrid(top_k_uid_df, row='uid', hue='median_popularity', aspect=15, height=.75, palette=pal)\n",
    "\n",
    "g.map(sns.boxplot, y='popularity', clip_on=False,\n",
    "      fill=True, alpha=1, linewidth=1.5)\n",
    "g.map(sns.boxplot, y='popularity', clip_on=False, \n",
    "      color=\"w\", lw=2)\n",
    "\n",
    "#g.refline(y=0, linewidth=2, linestyle=\"-\", color=None, clip_on=False)\n",
    "\n",
    "#for i, ax in enumerate(g.axes.flat):\n",
    "#    ax.text(0, 0, top_uids[i],\n",
    "#            fontweight='bold', fontsize=7,\n",
    "#            color=ax.lines[-1].get_color(),\n",
    "#            ha='left', va='center')\n",
    "\n",
    "g.fig.subplots_adjust(hspace=1)#-.3)\n",
    "\n",
    "g.set_titles('')\n",
    "g.set(yticks=[], ylabel='')\n",
    "g.despine(bottom=True, left=True)\n",
    "\n",
    "ax = g.axes.flat[-1]\n",
    "plt.setp(ax.get_xticklabels(), fontsize=15, fontweight='bold')\n",
    "plt.xlabel('Popularity (forwards, comments and likes combined)', fontweight='bold', fontsize=15)\n",
    "_ = g.fig.suptitle(f'Post potpularity of top {TOP_K_UID} users',\n",
    "               ha='right',\n",
    "               fontsize=20,\n",
    "               fontweight=20)"
   ]
  },
  {
   "cell_type": "markdown",
   "id": "6d634f53",
   "metadata": {
    "papermill": {
     "duration": 0.040785,
     "end_time": "2024-05-24T08:23:48.062366",
     "exception": false,
     "start_time": "2024-05-24T08:23:48.021581",
     "status": "completed"
    },
    "tags": []
   },
   "source": [
    "## Model definition"
   ]
  },
  {
   "cell_type": "markdown",
   "id": "1364d2c8",
   "metadata": {
    "papermill": {
     "duration": 0.040447,
     "end_time": "2024-05-24T08:23:48.143178",
     "exception": false,
     "start_time": "2024-05-24T08:23:48.102731",
     "status": "completed"
    },
    "tags": []
   },
   "source": [
    "### Transformer definitions"
   ]
  },
  {
   "cell_type": "code",
   "execution_count": 30,
   "id": "ff0ae489",
   "metadata": {
    "execution": {
     "iopub.execute_input": "2024-05-24T08:23:48.225942Z",
     "iopub.status.busy": "2024-05-24T08:23:48.225661Z",
     "iopub.status.idle": "2024-05-24T08:23:48.265969Z",
     "shell.execute_reply": "2024-05-24T08:23:48.265305Z"
    },
    "papermill": {
     "duration": 0.084126,
     "end_time": "2024-05-24T08:23:48.267853",
     "exception": false,
     "start_time": "2024-05-24T08:23:48.183727",
     "status": "completed"
    },
    "tags": []
   },
   "outputs": [],
   "source": [
    "def extract_tags_cn(text):\n",
    "    return jbanalyse.extract_tags(text)\n",
    "\n",
    "@CACHE_DIR.cache\n",
    "def cached_tfidf_fit(tf_idf_params, X):\n",
    "    return TfidfVectorizer(**tf_idf_params).fit(X)\n",
    "\n",
    "class TfIdfCachedTransformer(BaseEstimator, TransformerMixin):\n",
    "    def __init__(\n",
    "        self,\n",
    "        tf_idf_params={'analyzer': extract_tags_cn, 'max_features': 512},\n",
    "        cached_fitted_tf_idf=cached_tfidf_fit,\n",
    "    ):\n",
    "        self.tf_idf_params=tf_idf_params\n",
    "        self.cached_fitted_tf_idf=cached_fitted_tf_idf\n",
    "\n",
    "    def fit(self, X, y=None):\n",
    "        self.tf_idf = self.cached_fitted_tf_idf(self.tf_idf_params, X.iloc[:, 0])\n",
    "        return self\n",
    "\n",
    "    def transform(self, X: pd.DataFrame, y=None):\n",
    "        X_trans = pd.DataFrame.sparse.from_spmatrix(\n",
    "            self.tf_idf.transform(X.iloc[:, 0]),\n",
    "            columns=self.tf_idf.get_feature_names_out()\n",
    "        )\n",
    "        return X_trans\n",
    "    \n",
    "    def get_feature_names_out(self, names=None):\n",
    "        return self.tf_idf.get_feature_names_out(names)\n",
    "\n",
    "\n",
    "class DateTimeTransformer(BaseEstimator, TransformerMixin):\n",
    "    def __init__(self, datetime_col='ts', expand=['hour', 'minute'], drop=True):\n",
    "        self.datetime_col = datetime_col\n",
    "        self.expand = expand\n",
    "        self.drop = drop\n",
    "\n",
    "    def fit(self, X, y=None):\n",
    "        self.datetime_col_loc = X.columns.get_loc(self.datetime_col)\n",
    "        return self\n",
    "\n",
    "    def transform(self, X: pd.DataFrame, y=None):\n",
    "        X_transformed = pd.DataFrame(X)\n",
    "        X_transformed[self.datetime_col] = pd.to_datetime(X.iloc[:, self.datetime_col_loc])\n",
    "        if 'hour' in self.expand:\n",
    "            X_transformed['hour'] = X.iloc[:, self.datetime_col_loc].dt.hour\n",
    "        if 'minute' in self.expand:\n",
    "            X_transformed['minute'] = X.iloc[:, self.datetime_col_loc].dt.minute\n",
    "        if 'second' in self.expand:\n",
    "            X_transformed['second'] = X.iloc[:, self.datetime_col_loc].dt.second\n",
    "        if self.drop:\n",
    "            X_transformed = X_transformed.drop(X_transformed. columns[self.datetime_col_loc], axis=1)\n",
    "        return X_transformed\n",
    "\n",
    "\n",
    "class PopularityTransformer(BaseEstimator, TransformerMixin):\n",
    "    def __init__(\n",
    "        self,\n",
    "        classifier=ClassifierChain(\n",
    "                CatBoostClassifier(\n",
    "                    iterations=2000,\n",
    "                    task_type=gpu_or_else('GPU', 'CPU'),\n",
    "                    devices=list(range(get_gpu_device_count())),\n",
    "                    boosting_type='Plain',\n",
    "                    verbose=False,\n",
    "                )\n",
    "        ),\n",
    "        get_classes=lambda y: next(\n",
    "            (l for t, l in [\n",
    "                (1, 0),\n",
    "                (6, 5),\n",
    "                (101, 100),\n",
    "                (1_001, 1_000),\n",
    "                (10_001, 10_000)\n",
    "            ] if y <= t),\n",
    "            10_001\n",
    "        )\n",
    "    ):\n",
    "        self.classifier = classifier\n",
    "        self.get_classes = np.vectorize(get_classes)\n",
    "\n",
    "    def fit(self, X, y=None):\n",
    "        y_ = self.get_classes(y)\n",
    "        self.classifier = self.classifier.fit(X, y_)\n",
    "        return self\n",
    "\n",
    "    def transform(self, X: pd.DataFrame, y=None):\n",
    "        X[[str(i) for i in self.classifier.classes_]] = self.classifier.predict_proba(X)\n",
    "        return X\n",
    "    \n",
    "class OutputRegressor(BaseEstimator, RegressorMixin):\n",
    "    def __init__(\n",
    "        self,\n",
    "        model,\n",
    "        transformation=lambda x: np.where(np.round(x)<=1, 0, np.round(x))\n",
    "    ):\n",
    "        self.model = model\n",
    "        self.transformation = transformation\n",
    "\n",
    "    def fit(self, X, y):\n",
    "        self.model.fit(X, y)\n",
    "        return self\n",
    "\n",
    "    def predict(self, X):\n",
    "        predictions = self.model.predict(X)\n",
    "        return self.transformation(predictions)"
   ]
  },
  {
   "cell_type": "code",
   "execution_count": 31,
   "id": "881efcd0",
   "metadata": {
    "execution": {
     "iopub.execute_input": "2024-05-24T08:23:48.349995Z",
     "iopub.status.busy": "2024-05-24T08:23:48.349705Z",
     "iopub.status.idle": "2024-05-24T08:23:48.358556Z",
     "shell.execute_reply": "2024-05-24T08:23:48.357801Z"
    },
    "papermill": {
     "duration": 0.051989,
     "end_time": "2024-05-24T08:23:48.360439",
     "exception": false,
     "start_time": "2024-05-24T08:23:48.308450",
     "status": "completed"
    },
    "tags": []
   },
   "outputs": [
    {
     "name": "stdout",
     "output_type": "stream",
     "text": [
      "TODO fix\n"
     ]
    }
   ],
   "source": [
    "%%script echo 'TODO fix'\n",
    "p = make_pipeline(\n",
    "    make_column_transformer(\n",
    "        (OneHotEncoder(handle_unknown='ignore'), make_column_selector(pattern='uid'))\n",
    "    ),\n",
    "    PopularityTransformer()#TODO: fix probability prediction\n",
    ").fit(X_tmp, y_tmp)"
   ]
  },
  {
   "cell_type": "code",
   "execution_count": 32,
   "id": "ba96ef8f",
   "metadata": {
    "execution": {
     "iopub.execute_input": "2024-05-24T08:23:48.442435Z",
     "iopub.status.busy": "2024-05-24T08:23:48.442172Z",
     "iopub.status.idle": "2024-05-24T08:23:48.450509Z",
     "shell.execute_reply": "2024-05-24T08:23:48.449612Z"
    },
    "papermill": {
     "duration": 0.051712,
     "end_time": "2024-05-24T08:23:48.452495",
     "exception": false,
     "start_time": "2024-05-24T08:23:48.400783",
     "status": "completed"
    },
    "tags": []
   },
   "outputs": [
    {
     "name": "stdout",
     "output_type": "stream",
     "text": [
      "TODO fix\n"
     ]
    }
   ],
   "source": [
    "%%script echo 'TODO fix'\n",
    "p.steps[1][1].classifier.predict(X_tmp)"
   ]
  },
  {
   "cell_type": "markdown",
   "id": "32b78a42",
   "metadata": {
    "papermill": {
     "duration": 0.040717,
     "end_time": "2024-05-24T08:23:48.534115",
     "exception": false,
     "start_time": "2024-05-24T08:23:48.493398",
     "status": "completed"
    },
    "tags": []
   },
   "source": [
    "### Userid Model"
   ]
  },
  {
   "cell_type": "code",
   "execution_count": 33,
   "id": "12b8bebd",
   "metadata": {
    "execution": {
     "iopub.execute_input": "2024-05-24T08:23:48.617016Z",
     "iopub.status.busy": "2024-05-24T08:23:48.616738Z",
     "iopub.status.idle": "2024-05-24T08:23:48.622249Z",
     "shell.execute_reply": "2024-05-24T08:23:48.621399Z"
    },
    "papermill": {
     "duration": 0.048858,
     "end_time": "2024-05-24T08:23:48.624119",
     "exception": false,
     "start_time": "2024-05-24T08:23:48.575261",
     "status": "completed"
    },
    "tags": []
   },
   "outputs": [],
   "source": [
    "def get_user_id_model(outputkwargs={}, gbkwargs={}):\n",
    "    return make_pipeline(\n",
    "        make_column_transformer(\n",
    "            (OneHotEncoder(handle_unknown='ignore'), make_column_selector(pattern='uid'))\n",
    "        ),\n",
    "        RegressorChain(\n",
    "            OutputRegressor(\n",
    "                LGBMRegressor(\n",
    "                    device=gpu_or_else('cpu', 'cpu'),#'cuda' need special build\n",
    "                    verbose=0,\n",
    "                    **gbkwargs,\n",
    "                ),\n",
    "                **outputkwargs,\n",
    "            ),\n",
    "            verbose=False\n",
    "        )\n",
    "    )"
   ]
  },
  {
   "cell_type": "markdown",
   "id": "0459320d",
   "metadata": {
    "papermill": {
     "duration": 0.041085,
     "end_time": "2024-05-24T08:23:48.705351",
     "exception": false,
     "start_time": "2024-05-24T08:23:48.664266",
     "status": "completed"
    },
    "tags": []
   },
   "source": [
    "### Catboost all features"
   ]
  },
  {
   "cell_type": "code",
   "execution_count": 34,
   "id": "4afe6a43",
   "metadata": {
    "execution": {
     "iopub.execute_input": "2024-05-24T08:23:48.787633Z",
     "iopub.status.busy": "2024-05-24T08:23:48.787102Z",
     "iopub.status.idle": "2024-05-24T08:23:48.793258Z",
     "shell.execute_reply": "2024-05-24T08:23:48.792366Z"
    },
    "papermill": {
     "duration": 0.049744,
     "end_time": "2024-05-24T08:23:48.795274",
     "exception": false,
     "start_time": "2024-05-24T08:23:48.745530",
     "status": "completed"
    },
    "tags": []
   },
   "outputs": [],
   "source": [
    "def get_cat_all_features_model(outputkwargs={}, gbkwargs={}): \n",
    "    return make_pipeline(\n",
    "        DateTimeTransformer(datetime_col='ts', expand=['hour', 'minute', 'second'], drop=True),\n",
    "        make_column_transformer(\n",
    "            (OneHotEncoder(handle_unknown='ignore'),['uid', 'mid']),\n",
    "            ('passthrough',['hour', 'minute', 'second']),\n",
    "            (TfIdfCachedTransformer(),['content']),\n",
    "        ),\n",
    "        RegressorChain(\n",
    "            OutputRegressor(\n",
    "                LGBMRegressor(\n",
    "                    device=gpu_or_else('cpu', 'cpu'),\n",
    "                    verbose=0,\n",
    "                    **gbkwargs,\n",
    "                ),\n",
    "                **outputkwargs\n",
    "            ),\n",
    "            verbose=False\n",
    "        )\n",
    "    )"
   ]
  },
  {
   "cell_type": "markdown",
   "id": "7e5ba1b3",
   "metadata": {
    "papermill": {
     "duration": 0.039972,
     "end_time": "2024-05-24T08:23:48.875481",
     "exception": false,
     "start_time": "2024-05-24T08:23:48.835509",
     "status": "completed"
    },
    "tags": []
   },
   "source": [
    "### Model list"
   ]
  },
  {
   "cell_type": "code",
   "execution_count": 35,
   "id": "7739e84b",
   "metadata": {
    "execution": {
     "iopub.execute_input": "2024-05-24T08:23:48.956857Z",
     "iopub.status.busy": "2024-05-24T08:23:48.956598Z",
     "iopub.status.idle": "2024-05-24T08:23:48.966280Z",
     "shell.execute_reply": "2024-05-24T08:23:48.965438Z"
    },
    "papermill": {
     "duration": 0.052546,
     "end_time": "2024-05-24T08:23:48.968115",
     "exception": false,
     "start_time": "2024-05-24T08:23:48.915569",
     "status": "completed"
    },
    "tags": []
   },
   "outputs": [],
   "source": [
    "# TODO: cat boost sklearn.MutiRegression with maxbe custom loss to optimize\n",
    "\n",
    "models: list[tuple[str,BaseEstimator]] = [\n",
    "    ('base-0', DummyRegressor(strategy='constant', constant=[0,0,0])),\n",
    "    ('user-id', get_user_id_model()),\n",
    "    (\n",
    "        'user-id<2',\n",
    "        get_user_id_model(\n",
    "            outputkwargs={'transformation': lambda x: np.where(np.round(x)<=2, 0, np.round(x))},\n",
    "        )\n",
    "    ),\n",
    "    (\n",
    "        'user-id-2000',\n",
    "        get_user_id_model(\n",
    "            gbkwargs={'num_iterations': 2_000},\n",
    "            outputkwargs={'transformation': lambda x: np.where(np.round(x)<=2, 0, np.round(x))},\n",
    "        )\n",
    "    ),\n",
    "    #(\n",
    "    #    'user-id-6000',\n",
    "    #    get_user_id_model(\n",
    "    #        gbkwargs={'num_iterations': 6_000},\n",
    "    #        outputkwargs={'transformation': lambda x: np.where(np.round(x)<=2, 0, np.round(x))},\n",
    "    #    )\n",
    "    #),\n",
    "    ('gb-all', get_cat_all_features_model()),\n",
    "    (\n",
    "        'gb-all<2', \n",
    "         get_cat_all_features_model(\n",
    "            outputkwargs={'transformation': lambda x: np.where(np.round(x)<=2, 0, np.round(x))},\n",
    "         )\n",
    "    ),\n",
    "    (\n",
    "        'gb-all-3000',\n",
    "        get_cat_all_features_model(\n",
    "            gbkwargs={'num_iterations': 3_000},\n",
    "            outputkwargs={'transformation': lambda x: np.where(np.round(x)<=2, 0, np.round(x))},\n",
    "        )\n",
    "    ),\n",
    "    (\n",
    "        'gb-all-6000',\n",
    "        get_cat_all_features_model(\n",
    "            gbkwargs={'num_iterations': 6_000},\n",
    "            outputkwargs={'transformation': lambda x: np.where(np.round(x)<=2, 0, np.round(x))},\n",
    "        )\n",
    "    ),\n",
    "]"
   ]
  },
  {
   "cell_type": "markdown",
   "id": "30a0eee4",
   "metadata": {
    "papermill": {
     "duration": 0.040511,
     "end_time": "2024-05-24T08:23:49.049231",
     "exception": false,
     "start_time": "2024-05-24T08:23:49.008720",
     "status": "completed"
    },
    "tags": []
   },
   "source": [
    "## Eval"
   ]
  },
  {
   "cell_type": "code",
   "execution_count": 36,
   "id": "8fca315f",
   "metadata": {
    "execution": {
     "iopub.execute_input": "2024-05-24T08:23:49.131100Z",
     "iopub.status.busy": "2024-05-24T08:23:49.130412Z",
     "iopub.status.idle": "2024-05-24T08:23:49.134353Z",
     "shell.execute_reply": "2024-05-24T08:23:49.133436Z"
    },
    "papermill": {
     "duration": 0.046647,
     "end_time": "2024-05-24T08:23:49.136182",
     "exception": false,
     "start_time": "2024-05-24T08:23:49.089535",
     "status": "completed"
    },
    "tags": []
   },
   "outputs": [],
   "source": [
    "ts_cv = TimeSeriesSplit(n_splits=CV_SPLITS)"
   ]
  },
  {
   "cell_type": "code",
   "execution_count": 37,
   "id": "ff17225d",
   "metadata": {
    "execution": {
     "iopub.execute_input": "2024-05-24T08:23:49.218361Z",
     "iopub.status.busy": "2024-05-24T08:23:49.218086Z",
     "iopub.status.idle": "2024-05-24T13:47:58.820267Z",
     "shell.execute_reply": "2024-05-24T13:47:58.819354Z"
    },
    "papermill": {
     "duration": 19449.696986,
     "end_time": "2024-05-24T13:47:58.873287",
     "exception": false,
     "start_time": "2024-05-24T08:23:49.176301",
     "status": "completed"
    },
    "tags": []
   },
   "outputs": [
    {
     "data": {
      "application/vnd.jupyter.widget-view+json": {
       "model_id": "041036443e39469588e0856e9a885c8e",
       "version_major": 2,
       "version_minor": 0
      },
      "text/plain": [
       "eval models:   0%|          | 0/8 [00:00<?, ?cv/s]"
      ]
     },
     "metadata": {},
     "output_type": "display_data"
    },
    {
     "name": "stderr",
     "output_type": "stream",
     "text": [
      "/opt/conda/lib/python3.10/site-packages/lightgbm/basic.py:1192: UserWarning: Converting data to scipy sparse matrix.\n",
      "  _log_warning('Converting data to scipy sparse matrix.')\n",
      "/opt/conda/lib/python3.10/site-packages/lightgbm/basic.py:1192: UserWarning: Converting data to scipy sparse matrix.\n",
      "  _log_warning('Converting data to scipy sparse matrix.')\n",
      "/opt/conda/lib/python3.10/site-packages/lightgbm/basic.py:1192: UserWarning: Converting data to scipy sparse matrix.\n",
      "  _log_warning('Converting data to scipy sparse matrix.')\n",
      "/opt/conda/lib/python3.10/site-packages/lightgbm/basic.py:1192: UserWarning: Converting data to scipy sparse matrix.\n",
      "  _log_warning('Converting data to scipy sparse matrix.')\n",
      "/opt/conda/lib/python3.10/site-packages/lightgbm/basic.py:1192: UserWarning: Converting data to scipy sparse matrix.\n",
      "  _log_warning('Converting data to scipy sparse matrix.')\n",
      "/opt/conda/lib/python3.10/site-packages/lightgbm/basic.py:1192: UserWarning: Converting data to scipy sparse matrix.\n",
      "  _log_warning('Converting data to scipy sparse matrix.')\n",
      "/opt/conda/lib/python3.10/site-packages/lightgbm/basic.py:1192: UserWarning: Converting data to scipy sparse matrix.\n",
      "  _log_warning('Converting data to scipy sparse matrix.')\n",
      "/opt/conda/lib/python3.10/site-packages/lightgbm/basic.py:1192: UserWarning: Converting data to scipy sparse matrix.\n",
      "  _log_warning('Converting data to scipy sparse matrix.')\n",
      "/opt/conda/lib/python3.10/site-packages/lightgbm/basic.py:1192: UserWarning: Converting data to scipy sparse matrix.\n",
      "  _log_warning('Converting data to scipy sparse matrix.')\n",
      "/opt/conda/lib/python3.10/site-packages/lightgbm/basic.py:1192: UserWarning: Converting data to scipy sparse matrix.\n",
      "  _log_warning('Converting data to scipy sparse matrix.')\n",
      "/opt/conda/lib/python3.10/site-packages/lightgbm/engine.py:172: UserWarning: Found `num_iterations` in params. Will use it instead of argument\n",
      "  _log_warning(f\"Found `{alias}` in params. Will use it instead of argument\")\n",
      "/opt/conda/lib/python3.10/site-packages/lightgbm/engine.py:172: UserWarning: Found `num_iterations` in params. Will use it instead of argument\n",
      "  _log_warning(f\"Found `{alias}` in params. Will use it instead of argument\")\n",
      "/opt/conda/lib/python3.10/site-packages/lightgbm/engine.py:172: UserWarning: Found `num_iterations` in params. Will use it instead of argument\n",
      "  _log_warning(f\"Found `{alias}` in params. Will use it instead of argument\")\n",
      "/opt/conda/lib/python3.10/site-packages/lightgbm/basic.py:1192: UserWarning: Converting data to scipy sparse matrix.\n",
      "  _log_warning('Converting data to scipy sparse matrix.')\n",
      "/opt/conda/lib/python3.10/site-packages/lightgbm/engine.py:172: UserWarning: Found `num_iterations` in params. Will use it instead of argument\n",
      "  _log_warning(f\"Found `{alias}` in params. Will use it instead of argument\")\n",
      "/opt/conda/lib/python3.10/site-packages/lightgbm/engine.py:172: UserWarning: Found `num_iterations` in params. Will use it instead of argument\n",
      "  _log_warning(f\"Found `{alias}` in params. Will use it instead of argument\")\n",
      "/opt/conda/lib/python3.10/site-packages/lightgbm/engine.py:172: UserWarning: Found `num_iterations` in params. Will use it instead of argument\n",
      "  _log_warning(f\"Found `{alias}` in params. Will use it instead of argument\")\n",
      "/opt/conda/lib/python3.10/site-packages/lightgbm/basic.py:1192: UserWarning: Converting data to scipy sparse matrix.\n",
      "  _log_warning('Converting data to scipy sparse matrix.')\n",
      "/opt/conda/lib/python3.10/site-packages/lightgbm/engine.py:172: UserWarning: Found `num_iterations` in params. Will use it instead of argument\n",
      "  _log_warning(f\"Found `{alias}` in params. Will use it instead of argument\")\n",
      "/opt/conda/lib/python3.10/site-packages/lightgbm/engine.py:172: UserWarning: Found `num_iterations` in params. Will use it instead of argument\n",
      "  _log_warning(f\"Found `{alias}` in params. Will use it instead of argument\")\n",
      "/opt/conda/lib/python3.10/site-packages/lightgbm/engine.py:172: UserWarning: Found `num_iterations` in params. Will use it instead of argument\n",
      "  _log_warning(f\"Found `{alias}` in params. Will use it instead of argument\")\n",
      "/opt/conda/lib/python3.10/site-packages/lightgbm/basic.py:1192: UserWarning: Converting data to scipy sparse matrix.\n",
      "  _log_warning('Converting data to scipy sparse matrix.')\n",
      "/opt/conda/lib/python3.10/site-packages/lightgbm/engine.py:172: UserWarning: Found `num_iterations` in params. Will use it instead of argument\n",
      "  _log_warning(f\"Found `{alias}` in params. Will use it instead of argument\")\n",
      "/opt/conda/lib/python3.10/site-packages/lightgbm/engine.py:172: UserWarning: Found `num_iterations` in params. Will use it instead of argument\n",
      "  _log_warning(f\"Found `{alias}` in params. Will use it instead of argument\")\n",
      "/opt/conda/lib/python3.10/site-packages/lightgbm/engine.py:172: UserWarning: Found `num_iterations` in params. Will use it instead of argument\n",
      "  _log_warning(f\"Found `{alias}` in params. Will use it instead of argument\")\n",
      "/opt/conda/lib/python3.10/site-packages/lightgbm/basic.py:1192: UserWarning: Converting data to scipy sparse matrix.\n",
      "  _log_warning('Converting data to scipy sparse matrix.')\n",
      "/opt/conda/lib/python3.10/site-packages/lightgbm/engine.py:172: UserWarning: Found `num_iterations` in params. Will use it instead of argument\n",
      "  _log_warning(f\"Found `{alias}` in params. Will use it instead of argument\")\n",
      "/opt/conda/lib/python3.10/site-packages/lightgbm/engine.py:172: UserWarning: Found `num_iterations` in params. Will use it instead of argument\n",
      "  _log_warning(f\"Found `{alias}` in params. Will use it instead of argument\")\n",
      "/opt/conda/lib/python3.10/site-packages/lightgbm/engine.py:172: UserWarning: Found `num_iterations` in params. Will use it instead of argument\n",
      "  _log_warning(f\"Found `{alias}` in params. Will use it instead of argument\")\n",
      "/opt/conda/lib/python3.10/site-packages/lightgbm/basic.py:1192: UserWarning: Converting data to scipy sparse matrix.\n",
      "  _log_warning('Converting data to scipy sparse matrix.')\n",
      "/opt/conda/lib/python3.10/site-packages/lightgbm/basic.py:1192: UserWarning: Converting data to scipy sparse matrix.\n",
      "  _log_warning('Converting data to scipy sparse matrix.')\n",
      "/opt/conda/lib/python3.10/site-packages/lightgbm/basic.py:1192: UserWarning: Converting data to scipy sparse matrix.\n",
      "  _log_warning('Converting data to scipy sparse matrix.')\n",
      "/opt/conda/lib/python3.10/site-packages/lightgbm/basic.py:1192: UserWarning: Converting data to scipy sparse matrix.\n",
      "  _log_warning('Converting data to scipy sparse matrix.')\n",
      "/opt/conda/lib/python3.10/site-packages/lightgbm/basic.py:1192: UserWarning: Converting data to scipy sparse matrix.\n",
      "  _log_warning('Converting data to scipy sparse matrix.')\n",
      "/opt/conda/lib/python3.10/site-packages/lightgbm/basic.py:1192: UserWarning: Converting data to scipy sparse matrix.\n",
      "  _log_warning('Converting data to scipy sparse matrix.')\n",
      "/opt/conda/lib/python3.10/site-packages/lightgbm/basic.py:1192: UserWarning: Converting data to scipy sparse matrix.\n",
      "  _log_warning('Converting data to scipy sparse matrix.')\n",
      "/opt/conda/lib/python3.10/site-packages/lightgbm/basic.py:1192: UserWarning: Converting data to scipy sparse matrix.\n",
      "  _log_warning('Converting data to scipy sparse matrix.')\n",
      "/opt/conda/lib/python3.10/site-packages/lightgbm/basic.py:1192: UserWarning: Converting data to scipy sparse matrix.\n",
      "  _log_warning('Converting data to scipy sparse matrix.')\n",
      "/opt/conda/lib/python3.10/site-packages/lightgbm/basic.py:1192: UserWarning: Converting data to scipy sparse matrix.\n",
      "  _log_warning('Converting data to scipy sparse matrix.')\n",
      "/opt/conda/lib/python3.10/site-packages/lightgbm/basic.py:1192: UserWarning: Converting data to scipy sparse matrix.\n",
      "  _log_warning('Converting data to scipy sparse matrix.')\n",
      "/opt/conda/lib/python3.10/site-packages/lightgbm/engine.py:172: UserWarning: Found `num_iterations` in params. Will use it instead of argument\n",
      "  _log_warning(f\"Found `{alias}` in params. Will use it instead of argument\")\n",
      "/opt/conda/lib/python3.10/site-packages/lightgbm/engine.py:172: UserWarning: Found `num_iterations` in params. Will use it instead of argument\n",
      "  _log_warning(f\"Found `{alias}` in params. Will use it instead of argument\")\n",
      "/opt/conda/lib/python3.10/site-packages/lightgbm/engine.py:172: UserWarning: Found `num_iterations` in params. Will use it instead of argument\n",
      "  _log_warning(f\"Found `{alias}` in params. Will use it instead of argument\")\n",
      "/opt/conda/lib/python3.10/site-packages/lightgbm/basic.py:1192: UserWarning: Converting data to scipy sparse matrix.\n",
      "  _log_warning('Converting data to scipy sparse matrix.')\n",
      "/opt/conda/lib/python3.10/site-packages/lightgbm/engine.py:172: UserWarning: Found `num_iterations` in params. Will use it instead of argument\n",
      "  _log_warning(f\"Found `{alias}` in params. Will use it instead of argument\")\n",
      "/opt/conda/lib/python3.10/site-packages/lightgbm/engine.py:172: UserWarning: Found `num_iterations` in params. Will use it instead of argument\n",
      "  _log_warning(f\"Found `{alias}` in params. Will use it instead of argument\")\n",
      "/opt/conda/lib/python3.10/site-packages/lightgbm/engine.py:172: UserWarning: Found `num_iterations` in params. Will use it instead of argument\n",
      "  _log_warning(f\"Found `{alias}` in params. Will use it instead of argument\")\n",
      "/opt/conda/lib/python3.10/site-packages/lightgbm/basic.py:1192: UserWarning: Converting data to scipy sparse matrix.\n",
      "  _log_warning('Converting data to scipy sparse matrix.')\n",
      "/opt/conda/lib/python3.10/site-packages/lightgbm/engine.py:172: UserWarning: Found `num_iterations` in params. Will use it instead of argument\n",
      "  _log_warning(f\"Found `{alias}` in params. Will use it instead of argument\")\n",
      "/opt/conda/lib/python3.10/site-packages/lightgbm/engine.py:172: UserWarning: Found `num_iterations` in params. Will use it instead of argument\n",
      "  _log_warning(f\"Found `{alias}` in params. Will use it instead of argument\")\n",
      "/opt/conda/lib/python3.10/site-packages/lightgbm/engine.py:172: UserWarning: Found `num_iterations` in params. Will use it instead of argument\n",
      "  _log_warning(f\"Found `{alias}` in params. Will use it instead of argument\")\n",
      "/opt/conda/lib/python3.10/site-packages/lightgbm/basic.py:1192: UserWarning: Converting data to scipy sparse matrix.\n",
      "  _log_warning('Converting data to scipy sparse matrix.')\n",
      "/opt/conda/lib/python3.10/site-packages/lightgbm/engine.py:172: UserWarning: Found `num_iterations` in params. Will use it instead of argument\n",
      "  _log_warning(f\"Found `{alias}` in params. Will use it instead of argument\")\n",
      "/opt/conda/lib/python3.10/site-packages/lightgbm/engine.py:172: UserWarning: Found `num_iterations` in params. Will use it instead of argument\n",
      "  _log_warning(f\"Found `{alias}` in params. Will use it instead of argument\")\n",
      "/opt/conda/lib/python3.10/site-packages/lightgbm/engine.py:172: UserWarning: Found `num_iterations` in params. Will use it instead of argument\n",
      "  _log_warning(f\"Found `{alias}` in params. Will use it instead of argument\")\n",
      "/opt/conda/lib/python3.10/site-packages/lightgbm/basic.py:1192: UserWarning: Converting data to scipy sparse matrix.\n",
      "  _log_warning('Converting data to scipy sparse matrix.')\n",
      "/opt/conda/lib/python3.10/site-packages/lightgbm/engine.py:172: UserWarning: Found `num_iterations` in params. Will use it instead of argument\n",
      "  _log_warning(f\"Found `{alias}` in params. Will use it instead of argument\")\n",
      "/opt/conda/lib/python3.10/site-packages/lightgbm/engine.py:172: UserWarning: Found `num_iterations` in params. Will use it instead of argument\n",
      "  _log_warning(f\"Found `{alias}` in params. Will use it instead of argument\")\n",
      "/opt/conda/lib/python3.10/site-packages/lightgbm/engine.py:172: UserWarning: Found `num_iterations` in params. Will use it instead of argument\n",
      "  _log_warning(f\"Found `{alias}` in params. Will use it instead of argument\")\n",
      "/opt/conda/lib/python3.10/site-packages/lightgbm/basic.py:1192: UserWarning: Converting data to scipy sparse matrix.\n",
      "  _log_warning('Converting data to scipy sparse matrix.')\n",
      "/opt/conda/lib/python3.10/site-packages/lightgbm/engine.py:172: UserWarning: Found `num_iterations` in params. Will use it instead of argument\n",
      "  _log_warning(f\"Found `{alias}` in params. Will use it instead of argument\")\n",
      "/opt/conda/lib/python3.10/site-packages/lightgbm/engine.py:172: UserWarning: Found `num_iterations` in params. Will use it instead of argument\n",
      "  _log_warning(f\"Found `{alias}` in params. Will use it instead of argument\")\n",
      "/opt/conda/lib/python3.10/site-packages/lightgbm/engine.py:172: UserWarning: Found `num_iterations` in params. Will use it instead of argument\n",
      "  _log_warning(f\"Found `{alias}` in params. Will use it instead of argument\")\n",
      "/opt/conda/lib/python3.10/site-packages/lightgbm/basic.py:1192: UserWarning: Converting data to scipy sparse matrix.\n",
      "  _log_warning('Converting data to scipy sparse matrix.')\n",
      "/opt/conda/lib/python3.10/site-packages/lightgbm/engine.py:172: UserWarning: Found `num_iterations` in params. Will use it instead of argument\n",
      "  _log_warning(f\"Found `{alias}` in params. Will use it instead of argument\")\n",
      "/opt/conda/lib/python3.10/site-packages/lightgbm/engine.py:172: UserWarning: Found `num_iterations` in params. Will use it instead of argument\n",
      "  _log_warning(f\"Found `{alias}` in params. Will use it instead of argument\")\n",
      "/opt/conda/lib/python3.10/site-packages/lightgbm/engine.py:172: UserWarning: Found `num_iterations` in params. Will use it instead of argument\n",
      "  _log_warning(f\"Found `{alias}` in params. Will use it instead of argument\")\n",
      "/opt/conda/lib/python3.10/site-packages/lightgbm/basic.py:1192: UserWarning: Converting data to scipy sparse matrix.\n",
      "  _log_warning('Converting data to scipy sparse matrix.')\n",
      "/opt/conda/lib/python3.10/site-packages/lightgbm/engine.py:172: UserWarning: Found `num_iterations` in params. Will use it instead of argument\n",
      "  _log_warning(f\"Found `{alias}` in params. Will use it instead of argument\")\n",
      "/opt/conda/lib/python3.10/site-packages/lightgbm/engine.py:172: UserWarning: Found `num_iterations` in params. Will use it instead of argument\n",
      "  _log_warning(f\"Found `{alias}` in params. Will use it instead of argument\")\n",
      "/opt/conda/lib/python3.10/site-packages/lightgbm/engine.py:172: UserWarning: Found `num_iterations` in params. Will use it instead of argument\n",
      "  _log_warning(f\"Found `{alias}` in params. Will use it instead of argument\")\n",
      "/opt/conda/lib/python3.10/site-packages/lightgbm/basic.py:1192: UserWarning: Converting data to scipy sparse matrix.\n",
      "  _log_warning('Converting data to scipy sparse matrix.')\n",
      "/opt/conda/lib/python3.10/site-packages/lightgbm/engine.py:172: UserWarning: Found `num_iterations` in params. Will use it instead of argument\n",
      "  _log_warning(f\"Found `{alias}` in params. Will use it instead of argument\")\n",
      "/opt/conda/lib/python3.10/site-packages/lightgbm/engine.py:172: UserWarning: Found `num_iterations` in params. Will use it instead of argument\n",
      "  _log_warning(f\"Found `{alias}` in params. Will use it instead of argument\")\n",
      "/opt/conda/lib/python3.10/site-packages/lightgbm/engine.py:172: UserWarning: Found `num_iterations` in params. Will use it instead of argument\n",
      "  _log_warning(f\"Found `{alias}` in params. Will use it instead of argument\")\n",
      "/opt/conda/lib/python3.10/site-packages/lightgbm/basic.py:1192: UserWarning: Converting data to scipy sparse matrix.\n",
      "  _log_warning('Converting data to scipy sparse matrix.')\n",
      "/opt/conda/lib/python3.10/site-packages/lightgbm/engine.py:172: UserWarning: Found `num_iterations` in params. Will use it instead of argument\n",
      "  _log_warning(f\"Found `{alias}` in params. Will use it instead of argument\")\n",
      "/opt/conda/lib/python3.10/site-packages/lightgbm/engine.py:172: UserWarning: Found `num_iterations` in params. Will use it instead of argument\n",
      "  _log_warning(f\"Found `{alias}` in params. Will use it instead of argument\")\n",
      "/opt/conda/lib/python3.10/site-packages/lightgbm/engine.py:172: UserWarning: Found `num_iterations` in params. Will use it instead of argument\n",
      "  _log_warning(f\"Found `{alias}` in params. Will use it instead of argument\")\n",
      "/opt/conda/lib/python3.10/site-packages/lightgbm/basic.py:1192: UserWarning: Converting data to scipy sparse matrix.\n",
      "  _log_warning('Converting data to scipy sparse matrix.')\n"
     ]
    }
   ],
   "source": [
    "#TODO with joblib.parallel_backend('loky'): \n",
    "scores = {\n",
    "    n: cross_val_score(\n",
    "        m,\n",
    "        X_tv[:N_CV],\n",
    "        y_tv[:N_CV],\n",
    "        cv=ts_cv,\n",
    "        scoring=mixed_scorer,\n",
    "        #error_score='raise'\n",
    "    ) for n, m in tqdm(models, desc='eval models', unit='cv')\n",
    "}"
   ]
  },
  {
   "cell_type": "code",
   "execution_count": 38,
   "id": "f5dc581e",
   "metadata": {
    "execution": {
     "iopub.execute_input": "2024-05-24T13:47:58.970490Z",
     "iopub.status.busy": "2024-05-24T13:47:58.970180Z",
     "iopub.status.idle": "2024-05-24T13:47:59.316054Z",
     "shell.execute_reply": "2024-05-24T13:47:59.315166Z"
    },
    "papermill": {
     "duration": 0.397547,
     "end_time": "2024-05-24T13:47:59.318493",
     "exception": false,
     "start_time": "2024-05-24T13:47:58.920946",
     "status": "completed"
    },
    "tags": []
   },
   "outputs": [
    {
     "data": {
      "image/png": "[encoded data removed]",
      "text/plain": [
       "<Figure size 640x480 with 1 Axes>"
      ]
     },
     "metadata": {},
     "output_type": "display_data"
    }
   ],
   "source": [
    "ax = pd.DataFrame(scores).plot()\n",
    "ax.yaxis.set_major_formatter(mtick.PercentFormatter(xmax=1.0, decimals=2))\n",
    "ax.set_xticks(np.arange(CV_SPLITS))\n",
    "ax.set_ylabel('loss')\n",
    "_ = ax.set_xlabel('split')"
   ]
  },
  {
   "cell_type": "markdown",
   "id": "865450a4",
   "metadata": {
    "papermill": {
     "duration": 0.048601,
     "end_time": "2024-05-24T13:47:59.416948",
     "exception": false,
     "start_time": "2024-05-24T13:47:59.368347",
     "status": "completed"
    },
    "tags": []
   },
   "source": [
    "## Train and predict test"
   ]
  },
  {
   "cell_type": "code",
   "execution_count": 39,
   "id": "25e5ff6b",
   "metadata": {
    "execution": {
     "iopub.execute_input": "2024-05-24T13:47:59.516182Z",
     "iopub.status.busy": "2024-05-24T13:47:59.515609Z",
     "iopub.status.idle": "2024-05-24T13:47:59.520677Z",
     "shell.execute_reply": "2024-05-24T13:47:59.519810Z"
    },
    "papermill": {
     "duration": 0.057125,
     "end_time": "2024-05-24T13:47:59.522708",
     "exception": false,
     "start_time": "2024-05-24T13:47:59.465583",
     "status": "completed"
    },
    "tags": []
   },
   "outputs": [],
   "source": [
    "test_model = get_cat_all_features_model(\n",
    "    gbkwargs={'num_iterations': 3_000},\n",
    "    outputkwargs={'transformation': lambda x: np.where(np.round(x)<=2, 0, np.round(x))},\n",
    ")"
   ]
  },
  {
   "cell_type": "code",
   "execution_count": 40,
   "id": "db3395ac",
   "metadata": {
    "execution": {
     "iopub.execute_input": "2024-05-24T13:47:59.621846Z",
     "iopub.status.busy": "2024-05-24T13:47:59.621524Z",
     "iopub.status.idle": "2024-05-24T14:20:57.310893Z",
     "shell.execute_reply": "2024-05-24T14:20:57.309164Z"
    },
    "papermill": {
     "duration": 1977.742195,
     "end_time": "2024-05-24T14:20:57.313499",
     "exception": false,
     "start_time": "2024-05-24T13:47:59.571304",
     "status": "completed"
    },
    "tags": []
   },
   "outputs": [
    {
     "name": "stderr",
     "output_type": "stream",
     "text": [
      "/opt/conda/lib/python3.10/site-packages/lightgbm/engine.py:172: UserWarning: Found `num_iterations` in params. Will use it instead of argument\n",
      "  _log_warning(f\"Found `{alias}` in params. Will use it instead of argument\")\n",
      "/opt/conda/lib/python3.10/site-packages/lightgbm/engine.py:172: UserWarning: Found `num_iterations` in params. Will use it instead of argument\n",
      "  _log_warning(f\"Found `{alias}` in params. Will use it instead of argument\")\n",
      "/opt/conda/lib/python3.10/site-packages/lightgbm/engine.py:172: UserWarning: Found `num_iterations` in params. Will use it instead of argument\n",
      "  _log_warning(f\"Found `{alias}` in params. Will use it instead of argument\")\n"
     ]
    }
   ],
   "source": [
    "test_model = test_model.fit(X_tv, y_tv)"
   ]
  },
  {
   "cell_type": "code",
   "execution_count": 41,
   "id": "b199a695",
   "metadata": {
    "execution": {
     "iopub.execute_input": "2024-05-24T14:20:57.415272Z",
     "iopub.status.busy": "2024-05-24T14:20:57.414927Z",
     "iopub.status.idle": "2024-05-24T14:26:10.581253Z",
     "shell.execute_reply": "2024-05-24T14:26:10.580147Z"
    },
    "papermill": {
     "duration": 313.21957,
     "end_time": "2024-05-24T14:26:10.583845",
     "exception": false,
     "start_time": "2024-05-24T14:20:57.364275",
     "status": "completed"
    },
    "tags": []
   },
   "outputs": [
    {
     "name": "stderr",
     "output_type": "stream",
     "text": [
      "/opt/conda/lib/python3.10/site-packages/lightgbm/basic.py:1192: UserWarning: Converting data to scipy sparse matrix.\n",
      "  _log_warning('Converting data to scipy sparse matrix.')\n"
     ]
    }
   ],
   "source": [
    "y_pred = test_model.predict(X_test)"
   ]
  },
  {
   "cell_type": "code",
   "execution_count": 42,
   "id": "a0e86887",
   "metadata": {
    "execution": {
     "iopub.execute_input": "2024-05-24T14:26:10.684938Z",
     "iopub.status.busy": "2024-05-24T14:26:10.684641Z",
     "iopub.status.idle": "2024-05-24T14:26:10.693398Z",
     "shell.execute_reply": "2024-05-24T14:26:10.692537Z"
    },
    "papermill": {
     "duration": 0.06056,
     "end_time": "2024-05-24T14:26:10.695245",
     "exception": false,
     "start_time": "2024-05-24T14:26:10.634685",
     "status": "completed"
    },
    "tags": []
   },
   "outputs": [],
   "source": [
    "pred_out = X_test[['uid', 'mid']]"
   ]
  },
  {
   "cell_type": "code",
   "execution_count": 43,
   "id": "d346897a",
   "metadata": {
    "execution": {
     "iopub.execute_input": "2024-05-24T14:26:10.793798Z",
     "iopub.status.busy": "2024-05-24T14:26:10.793544Z",
     "iopub.status.idle": "2024-05-24T14:26:11.266281Z",
     "shell.execute_reply": "2024-05-24T14:26:11.265223Z"
    },
    "papermill": {
     "duration": 0.524591,
     "end_time": "2024-05-24T14:26:11.268679",
     "exception": false,
     "start_time": "2024-05-24T14:26:10.744088",
     "status": "completed"
    },
    "tags": []
   },
   "outputs": [
    {
     "name": "stderr",
     "output_type": "stream",
     "text": [
      "/tmp/ipykernel_24/2687242901.py:1: SettingWithCopyWarning: \n",
      "A value is trying to be set on a copy of a slice from a DataFrame.\n",
      "Try using .loc[row_indexer,col_indexer] = value instead\n",
      "\n",
      "See the caveats in the documentation: https://pandas.pydata.org/pandas-docs/stable/user_guide/indexing.html#returning-a-view-versus-a-copy\n",
      "  pred_out.loc[:, 'predictions'] = [ f'{f},{c},{l}' for f,c,l in y_pred.astype(int)]\n"
     ]
    }
   ],
   "source": [
    "pred_out.loc[:, 'predictions'] = [ f'{f},{c},{l}' for f,c,l in y_pred.astype(int)]"
   ]
  },
  {
   "cell_type": "code",
   "execution_count": 44,
   "id": "5f2ea498",
   "metadata": {
    "execution": {
     "iopub.execute_input": "2024-05-24T14:26:11.370805Z",
     "iopub.status.busy": "2024-05-24T14:26:11.370456Z",
     "iopub.status.idle": "2024-05-24T14:26:12.063184Z",
     "shell.execute_reply": "2024-05-24T14:26:12.062355Z"
    },
    "papermill": {
     "duration": 0.745216,
     "end_time": "2024-05-24T14:26:12.065514",
     "exception": false,
     "start_time": "2024-05-24T14:26:11.320298",
     "status": "completed"
    },
    "tags": []
   },
   "outputs": [],
   "source": [
    "pred_out.to_csv('peredictions.txt', sep=' ', quoting=False, index=False, header=False)"
   ]
  }
 ],
 "metadata": {
  "kaggle": {
   "accelerator": "nvidiaTeslaT4",
   "dataSources": [
    {
     "datasetId": 4801002,
     "sourceId": 8124276,
     "sourceType": "datasetVersion"
    }
   ],
   "isGpuEnabled": true,
   "isInternetEnabled": true,
   "language": "python",
   "sourceType": "notebook"
  },
  "kernelspec": {
   "display_name": "Python 3",
   "language": "python",
   "name": "python3"
  },
  "language_info": {
   "codemirror_mode": {
    "name": "ipython",
    "version": 3
   },
   "file_extension": ".py",
   "mimetype": "text/x-python",
   "name": "python",
   "nbconvert_exporter": "python",
   "pygments_lexer": "ipython3",
   "version": "3.10.13"
  },
  "papermill": {
   "default_parameters": {},
   "duration": 24346.011634,
   "end_time": "2024-05-24T14:26:15.213705",
   "environment_variables": {},
   "exception": null,
   "input_path": "__notebook__.ipynb",
   "output_path": "__notebook__.ipynb",
   "parameters": {},
   "start_time": "2024-05-24T07:40:29.202071",
   "version": "2.5.0"
  },
  "widgets": {
   "application/vnd.jupyter.widget-state+json": {
    "state": {
     "041036443e39469588e0856e9a885c8e": {
      "model_module": "@jupyter-widgets/controls",
      "model_module_version": "1.5.0",
      "model_name": "HBoxModel",
      "state": {
       "_dom_classes": [],
       "_model_module": "@jupyter-widgets/controls",
       "_model_module_version": "1.5.0",
       "_model_name": "HBoxModel",
       "_view_count": null,
       "_view_module": "@jupyter-widgets/controls",
       "_view_module_version": "1.5.0",
       "_view_name": "HBoxView",
       "box_style": "",
       "children": [
        "IPY_MODEL_3d89e1a4f34b4969bf6148c1e0df1f8f",
        "IPY_MODEL_9f311ccc219542c78c26ee4efd76e93c",
        "IPY_MODEL_78cc2acf9de6484c99df9ccfdeb32fc4"
       ],
       "layout": "IPY_MODEL_2e21a56e0c2b4e5bb7728dbee130a405"
      }
     },
     "0a1770a8d8e84a8ea3f17b10f645baaa": {
      "model_module": "@jupyter-widgets/controls",
      "model_module_version": "1.5.0",
      "model_name": "FloatProgressModel",
      "state": {
       "_dom_classes": [],
       "_model_module": "@jupyter-widgets/controls",
       "_model_module_version": "1.5.0",
       "_model_name": "FloatProgressModel",
       "_view_count": null,
       "_view_module": "@jupyter-widgets/controls",
       "_view_module_version": "1.5.0",
       "_view_name": "ProgressView",
       "bar_style": "success",
       "description": "",
       "description_tooltip": null,
       "layout": "IPY_MODEL_f4d1866d49034351a7e5058cd46719cc",
       "max": 268943.0,
       "min": 0.0,
       "orientation": "horizontal",
       "style": "IPY_MODEL_59a4994bf3244df6ae9c91f5e07a729a",
       "value": 268943.0
      }
     },
     "0e50a2823e254ddbaae451726a2458d3": {
      "model_module": "@jupyter-widgets/base",
      "model_module_version": "1.2.0",
      "model_name": "LayoutModel",
      "state": {
       "_model_module": "@jupyter-widgets/base",
       "_model_module_version": "1.2.0",
       "_model_name": "LayoutModel",
       "_view_count": null,
       "_view_module": "@jupyter-widgets/base",
       "_view_module_version": "1.2.0",
       "_view_name": "LayoutView",
       "align_content": null,
       "align_items": null,
       "align_self": null,
       "border": null,
       "bottom": null,
       "display": null,
       "flex": null,
       "flex_flow": null,
       "grid_area": null,
       "grid_auto_columns": null,
       "grid_auto_flow": null,
       "grid_auto_rows": null,
       "grid_column": null,
       "grid_gap": null,
       "grid_row": null,
       "grid_template_areas": null,
       "grid_template_columns": null,
       "grid_template_rows": null,
       "height": null,
       "justify_content": null,
       "justify_items": null,
       "left": null,
       "margin": null,
       "max_height": null,
       "max_width": null,
       "min_height": null,
       "min_width": null,
       "object_fit": null,
       "object_position": null,
       "order": null,
       "overflow": null,
       "overflow_x": null,
       "overflow_y": null,
       "padding": null,
       "right": null,
       "top": null,
       "visibility": null,
       "width": null
      }
     },
     "12b56faf23de4a80a0d42bc83ba5f15d": {
      "model_module": "@jupyter-widgets/base",
      "model_module_version": "1.2.0",
      "model_name": "LayoutModel",
      "state": {
       "_model_module": "@jupyter-widgets/base",
       "_model_module_version": "1.2.0",
       "_model_name": "LayoutModel",
       "_view_count": null,
       "_view_module": "@jupyter-widgets/base",
       "_view_module_version": "1.2.0",
       "_view_name": "LayoutView",
       "align_content": null,
       "align_items": null,
       "align_self": null,
       "border": null,
       "bottom": null,
       "display": null,
       "flex": null,
       "flex_flow": null,
       "grid_area": null,
       "grid_auto_columns": null,
       "grid_auto_flow": null,
       "grid_auto_rows": null,
       "grid_column": null,
       "grid_gap": null,
       "grid_row": null,
       "grid_template_areas": null,
       "grid_template_columns": null,
       "grid_template_rows": null,
       "height": null,
       "justify_content": null,
       "justify_items": null,
       "left": null,
       "margin": null,
       "max_height": null,
       "max_width": null,
       "min_height": null,
       "min_width": null,
       "object_fit": null,
       "object_position": null,
       "order": null,
       "overflow": null,
       "overflow_x": null,
       "overflow_y": null,
       "padding": null,
       "right": null,
       "top": null,
       "visibility": null,
       "width": null
      }
     },
     "1f27296a69d64eb48c2d9cd618a7b135": {
      "model_module": "@jupyter-widgets/controls",
      "model_module_version": "1.5.0",
      "model_name": "ProgressStyleModel",
      "state": {
       "_model_module": "@jupyter-widgets/controls",
       "_model_module_version": "1.5.0",
       "_model_name": "ProgressStyleModel",
       "_view_count": null,
       "_view_module": "@jupyter-widgets/base",
       "_view_module_version": "1.2.0",
       "_view_name": "StyleView",
       "bar_color": null,
       "description_width": ""
      }
     },
     "2299b8e84abe43a08e701421cb0a9500": {
      "model_module": "@jupyter-widgets/controls",
      "model_module_version": "1.5.0",
      "model_name": "HBoxModel",
      "state": {
       "_dom_classes": [],
       "_model_module": "@jupyter-widgets/controls",
       "_model_module_version": "1.5.0",
       "_model_name": "HBoxModel",
       "_view_count": null,
       "_view_module": "@jupyter-widgets/controls",
       "_view_module_version": "1.5.0",
       "_view_name": "HBoxView",
       "box_style": "",
       "children": [
        "IPY_MODEL_b02f1ce6b3a64a64b8d7c1c358317d36",
        "IPY_MODEL_33fa75cb47164ff0981b03177d30069e",
        "IPY_MODEL_6c1a251b9fe144e6ad924bcde192de74"
       ],
       "layout": "IPY_MODEL_d0ce72cc5f1d4810bb84fe1e962d0cb6"
      }
     },
     "2510a4481133495e853496256a311983": {
      "model_module": "@jupyter-widgets/controls",
      "model_module_version": "1.5.0",
      "model_name": "ProgressStyleModel",
      "state": {
       "_model_module": "@jupyter-widgets/controls",
       "_model_module_version": "1.5.0",
       "_model_name": "ProgressStyleModel",
       "_view_count": null,
       "_view_module": "@jupyter-widgets/base",
       "_view_module_version": "1.2.0",
       "_view_name": "StyleView",
       "bar_color": null,
       "description_width": ""
      }
     },
     "268de4ae02054ca9965f5dcf54a8499c": {
      "model_module": "@jupyter-widgets/base",
      "model_module_version": "1.2.0",
      "model_name": "LayoutModel",
      "state": {
       "_model_module": "@jupyter-widgets/base",
       "_model_module_version": "1.2.0",
       "_model_name": "LayoutModel",
       "_view_count": null,
       "_view_module": "@jupyter-widgets/base",
       "_view_module_version": "1.2.0",
       "_view_name": "LayoutView",
       "align_content": null,
       "align_items": null,
       "align_self": null,
       "border": null,
       "bottom": null,
       "display": null,
       "flex": null,
       "flex_flow": null,
       "grid_area": null,
       "grid_auto_columns": null,
       "grid_auto_flow": null,
       "grid_auto_rows": null,
       "grid_column": null,
       "grid_gap": null,
       "grid_row": null,
       "grid_template_areas": null,
       "grid_template_columns": null,
       "grid_template_rows": null,
       "height": null,
       "justify_content": null,
       "justify_items": null,
       "left": null,
       "margin": null,
       "max_height": null,
       "max_width": null,
       "min_height": null,
       "min_width": null,
       "object_fit": null,
       "object_position": null,
       "order": null,
       "overflow": null,
       "overflow_x": null,
       "overflow_y": null,
       "padding": null,
       "right": null,
       "top": null,
       "visibility": null,
       "width": null
      }
     },
     "2e21a56e0c2b4e5bb7728dbee130a405": {
      "model_module": "@jupyter-widgets/base",
      "model_module_version": "1.2.0",
      "model_name": "LayoutModel",
      "state": {
       "_model_module": "@jupyter-widgets/base",
       "_model_module_version": "1.2.0",
       "_model_name": "LayoutModel",
       "_view_count": null,
       "_view_module": "@jupyter-widgets/base",
       "_view_module_version": "1.2.0",
       "_view_name": "LayoutView",
       "align_content": null,
       "align_items": null,
       "align_self": null,
       "border": null,
       "bottom": null,
       "display": null,
       "flex": null,
       "flex_flow": null,
       "grid_area": null,
       "grid_auto_columns": null,
       "grid_auto_flow": null,
       "grid_auto_rows": null,
       "grid_column": null,
       "grid_gap": null,
       "grid_row": null,
       "grid_template_areas": null,
       "grid_template_columns": null,
       "grid_template_rows": null,
       "height": null,
       "justify_content": null,
       "justify_items": null,
       "left": null,
       "margin": null,
       "max_height": null,
       "max_width": null,
       "min_height": null,
       "min_width": null,
       "object_fit": null,
       "object_position": null,
       "order": null,
       "overflow": null,
       "overflow_x": null,
       "overflow_y": null,
       "padding": null,
       "right": null,
       "top": null,
       "visibility": null,
       "width": null
      }
     },
     "32fe278f66a7405388db3011ffaf11b0": {
      "model_module": "@jupyter-widgets/controls",
      "model_module_version": "1.5.0",
      "model_name": "HBoxModel",
      "state": {
       "_dom_classes": [],
       "_model_module": "@jupyter-widgets/controls",
       "_model_module_version": "1.5.0",
       "_model_name": "HBoxModel",
       "_view_count": null,
       "_view_module": "@jupyter-widgets/controls",
       "_view_module_version": "1.5.0",
       "_view_name": "HBoxView",
       "box_style": "",
       "children": [
        "IPY_MODEL_fae7150d996a4549aefc17a49a0bca2e",
        "IPY_MODEL_f60e6020587a47f0a5d5af728feca20b",
        "IPY_MODEL_bb024efd16634361b64fb4d1c0930f0a"
       ],
       "layout": "IPY_MODEL_da61db478847467a8d9cc4c7039d4b21"
      }
     },
     "330dbcef376f41f6ac07f9e463fed64c": {
      "model_module": "@jupyter-widgets/base",
      "model_module_version": "1.2.0",
      "model_name": "LayoutModel",
      "state": {
       "_model_module": "@jupyter-widgets/base",
       "_model_module_version": "1.2.0",
       "_model_name": "LayoutModel",
       "_view_count": null,
       "_view_module": "@jupyter-widgets/base",
       "_view_module_version": "1.2.0",
       "_view_name": "LayoutView",
       "align_content": null,
       "align_items": null,
       "align_self": null,
       "border": null,
       "bottom": null,
       "display": null,
       "flex": null,
       "flex_flow": null,
       "grid_area": null,
       "grid_auto_columns": null,
       "grid_auto_flow": null,
       "grid_auto_rows": null,
       "grid_column": null,
       "grid_gap": null,
       "grid_row": null,
       "grid_template_areas": null,
       "grid_template_columns": null,
       "grid_template_rows": null,
       "height": null,
       "justify_content": null,
       "justify_items": null,
       "left": null,
       "margin": null,
       "max_height": null,
       "max_width": null,
       "min_height": null,
       "min_width": null,
       "object_fit": null,
       "object_position": null,
       "order": null,
       "overflow": null,
       "overflow_x": null,
       "overflow_y": null,
       "padding": null,
       "right": null,
       "top": null,
       "visibility": null,
       "width": null
      }
     },
     "33fa75cb47164ff0981b03177d30069e": {
      "model_module": "@jupyter-widgets/controls",
      "model_module_version": "1.5.0",
      "model_name": "FloatProgressModel",
      "state": {
       "_dom_classes": [],
       "_model_module": "@jupyter-widgets/controls",
       "_model_module_version": "1.5.0",
       "_model_name": "FloatProgressModel",
       "_view_count": null,
       "_view_module": "@jupyter-widgets/controls",
       "_view_module_version": "1.5.0",
       "_view_name": "ProgressView",
       "bar_style": "success",
       "description": "",
       "description_tooltip": null,
       "layout": "IPY_MODEL_48b208eb11cd465980a3ee71dca4264e",
       "max": 157.0,
       "min": 0.0,
       "orientation": "horizontal",
       "style": "IPY_MODEL_cd5bdb25461746619e5f8ab05efae10e",
       "value": 157.0
      }
     },
     "3b01b125626d42dab3d63a652f0987dd": {
      "model_module": "@jupyter-widgets/controls",
      "model_module_version": "1.5.0",
      "model_name": "DescriptionStyleModel",
      "state": {
       "_model_module": "@jupyter-widgets/controls",
       "_model_module_version": "1.5.0",
       "_model_name": "DescriptionStyleModel",
       "_view_count": null,
       "_view_module": "@jupyter-widgets/base",
       "_view_module_version": "1.2.0",
       "_view_name": "StyleView",
       "description_width": ""
      }
     },
     "3c877b1f305a491e8d3633c23531fd13": {
      "model_module": "@jupyter-widgets/base",
      "model_module_version": "1.2.0",
      "model_name": "LayoutModel",
      "state": {
       "_model_module": "@jupyter-widgets/base",
       "_model_module_version": "1.2.0",
       "_model_name": "LayoutModel",
       "_view_count": null,
       "_view_module": "@jupyter-widgets/base",
       "_view_module_version": "1.2.0",
       "_view_name": "LayoutView",
       "align_content": null,
       "align_items": null,
       "align_self": null,
       "border": null,
       "bottom": null,
       "display": null,
       "flex": null,
       "flex_flow": null,
       "grid_area": null,
       "grid_auto_columns": null,
       "grid_auto_flow": null,
       "grid_auto_rows": null,
       "grid_column": null,
       "grid_gap": null,
       "grid_row": null,
       "grid_template_areas": null,
       "grid_template_columns": null,
       "grid_template_rows": null,
       "height": null,
       "justify_content": null,
       "justify_items": null,
       "left": null,
       "margin": null,
       "max_height": null,
       "max_width": null,
       "min_height": null,
       "min_width": null,
       "object_fit": null,
       "object_position": null,
       "order": null,
       "overflow": null,
       "overflow_x": null,
       "overflow_y": null,
       "padding": null,
       "right": null,
       "top": null,
       "visibility": null,
       "width": null
      }
     },
     "3d15c132704649688b5b75f31cb48b12": {
      "model_module": "@jupyter-widgets/base",
      "model_module_version": "1.2.0",
      "model_name": "LayoutModel",
      "state": {
       "_model_module": "@jupyter-widgets/base",
       "_model_module_version": "1.2.0",
       "_model_name": "LayoutModel",
       "_view_count": null,
       "_view_module": "@jupyter-widgets/base",
       "_view_module_version": "1.2.0",
       "_view_name": "LayoutView",
       "align_content": null,
       "align_items": null,
       "align_self": null,
       "border": null,
       "bottom": null,
       "display": null,
       "flex": null,
       "flex_flow": null,
       "grid_area": null,
       "grid_auto_columns": null,
       "grid_auto_flow": null,
       "grid_auto_rows": null,
       "grid_column": null,
       "grid_gap": null,
       "grid_row": null,
       "grid_template_areas": null,
       "grid_template_columns": null,
       "grid_template_rows": null,
       "height": null,
       "justify_content": null,
       "justify_items": null,
       "left": null,
       "margin": null,
       "max_height": null,
       "max_width": null,
       "min_height": null,
       "min_width": null,
       "object_fit": null,
       "object_position": null,
       "order": null,
       "overflow": null,
       "overflow_x": null,
       "overflow_y": null,
       "padding": null,
       "right": null,
       "top": null,
       "visibility": null,
       "width": null
      }
     },
     "3d89e1a4f34b4969bf6148c1e0df1f8f": {
      "model_module": "@jupyter-widgets/controls",
      "model_module_version": "1.5.0",
      "model_name": "HTMLModel",
      "state": {
       "_dom_classes": [],
       "_model_module": "@jupyter-widgets/controls",
       "_model_module_version": "1.5.0",
       "_model_name": "HTMLModel",
       "_view_count": null,
       "_view_module": "@jupyter-widgets/controls",
       "_view_module_version": "1.5.0",
       "_view_name": "HTMLView",
       "description": "",
       "description_tooltip": null,
       "layout": "IPY_MODEL_e98f66de8fdc4621a1cf2f6b6b0caa01",
       "placeholder": "​",
       "style": "IPY_MODEL_d8cc6605d80b4fa587b1e0af4d4ec2ff",
       "value": "eval models: 100%"
      }
     },
     "413dc64862db4339a470ee6b39fd00ab": {
      "model_module": "@jupyter-widgets/controls",
      "model_module_version": "1.5.0",
      "model_name": "DescriptionStyleModel",
      "state": {
       "_model_module": "@jupyter-widgets/controls",
       "_model_module_version": "1.5.0",
       "_model_name": "DescriptionStyleModel",
       "_view_count": null,
       "_view_module": "@jupyter-widgets/base",
       "_view_module_version": "1.2.0",
       "_view_name": "StyleView",
       "description_width": ""
      }
     },
     "48b208eb11cd465980a3ee71dca4264e": {
      "model_module": "@jupyter-widgets/base",
      "model_module_version": "1.2.0",
      "model_name": "LayoutModel",
      "state": {
       "_model_module": "@jupyter-widgets/base",
       "_model_module_version": "1.2.0",
       "_model_name": "LayoutModel",
       "_view_count": null,
       "_view_module": "@jupyter-widgets/base",
       "_view_module_version": "1.2.0",
       "_view_name": "LayoutView",
       "align_content": null,
       "align_items": null,
       "align_self": null,
       "border": null,
       "bottom": null,
       "display": null,
       "flex": null,
       "flex_flow": null,
       "grid_area": null,
       "grid_auto_columns": null,
       "grid_auto_flow": null,
       "grid_auto_rows": null,
       "grid_column": null,
       "grid_gap": null,
       "grid_row": null,
       "grid_template_areas": null,
       "grid_template_columns": null,
       "grid_template_rows": null,
       "height": null,
       "justify_content": null,
       "justify_items": null,
       "left": null,
       "margin": null,
       "max_height": null,
       "max_width": null,
       "min_height": null,
       "min_width": null,
       "object_fit": null,
       "object_position": null,
       "order": null,
       "overflow": null,
       "overflow_x": null,
       "overflow_y": null,
       "padding": null,
       "right": null,
       "top": null,
       "visibility": null,
       "width": null
      }
     },
     "4be6c5f72ec4497baa0a9e09bdab75a5": {
      "model_module": "@jupyter-widgets/controls",
      "model_module_version": "1.5.0",
      "model_name": "DescriptionStyleModel",
      "state": {
       "_model_module": "@jupyter-widgets/controls",
       "_model_module_version": "1.5.0",
       "_model_name": "DescriptionStyleModel",
       "_view_count": null,
       "_view_module": "@jupyter-widgets/base",
       "_view_module_version": "1.2.0",
       "_view_name": "StyleView",
       "description_width": ""
      }
     },
     "59a4994bf3244df6ae9c91f5e07a729a": {
      "model_module": "@jupyter-widgets/controls",
      "model_module_version": "1.5.0",
      "model_name": "ProgressStyleModel",
      "state": {
       "_model_module": "@jupyter-widgets/controls",
       "_model_module_version": "1.5.0",
       "_model_name": "ProgressStyleModel",
       "_view_count": null,
       "_view_module": "@jupyter-widgets/base",
       "_view_module_version": "1.2.0",
       "_view_name": "StyleView",
       "bar_color": null,
       "description_width": ""
      }
     },
     "5b0819d3d5554abfb2ea223b58cb05d4": {
      "model_module": "@jupyter-widgets/base",
      "model_module_version": "1.2.0",
      "model_name": "LayoutModel",
      "state": {
       "_model_module": "@jupyter-widgets/base",
       "_model_module_version": "1.2.0",
       "_model_name": "LayoutModel",
       "_view_count": null,
       "_view_module": "@jupyter-widgets/base",
       "_view_module_version": "1.2.0",
       "_view_name": "LayoutView",
       "align_content": null,
       "align_items": null,
       "align_self": null,
       "border": null,
       "bottom": null,
       "display": null,
       "flex": null,
       "flex_flow": null,
       "grid_area": null,
       "grid_auto_columns": null,
       "grid_auto_flow": null,
       "grid_auto_rows": null,
       "grid_column": null,
       "grid_gap": null,
       "grid_row": null,
       "grid_template_areas": null,
       "grid_template_columns": null,
       "grid_template_rows": null,
       "height": null,
       "justify_content": null,
       "justify_items": null,
       "left": null,
       "margin": null,
       "max_height": null,
       "max_width": null,
       "min_height": null,
       "min_width": null,
       "object_fit": null,
       "object_position": null,
       "order": null,
       "overflow": null,
       "overflow_x": null,
       "overflow_y": null,
       "padding": null,
       "right": null,
       "top": null,
       "visibility": null,
       "width": null
      }
     },
     "62fc3a03a94f49b4a02966d95731da4c": {
      "model_module": "@jupyter-widgets/base",
      "model_module_version": "1.2.0",
      "model_name": "LayoutModel",
      "state": {
       "_model_module": "@jupyter-widgets/base",
       "_model_module_version": "1.2.0",
       "_model_name": "LayoutModel",
       "_view_count": null,
       "_view_module": "@jupyter-widgets/base",
       "_view_module_version": "1.2.0",
       "_view_name": "LayoutView",
       "align_content": null,
       "align_items": null,
       "align_self": null,
       "border": null,
       "bottom": null,
       "display": null,
       "flex": null,
       "flex_flow": null,
       "grid_area": null,
       "grid_auto_columns": null,
       "grid_auto_flow": null,
       "grid_auto_rows": null,
       "grid_column": null,
       "grid_gap": null,
       "grid_row": null,
       "grid_template_areas": null,
       "grid_template_columns": null,
       "grid_template_rows": null,
       "height": null,
       "justify_content": null,
       "justify_items": null,
       "left": null,
       "margin": null,
       "max_height": null,
       "max_width": null,
       "min_height": null,
       "min_width": null,
       "object_fit": null,
       "object_position": null,
       "order": null,
       "overflow": null,
       "overflow_x": null,
       "overflow_y": null,
       "padding": null,
       "right": null,
       "top": null,
       "visibility": null,
       "width": null
      }
     },
     "634b26c9130d4e0d8fae61113be9c9b2": {
      "model_module": "@jupyter-widgets/controls",
      "model_module_version": "1.5.0",
      "model_name": "DescriptionStyleModel",
      "state": {
       "_model_module": "@jupyter-widgets/controls",
       "_model_module_version": "1.5.0",
       "_model_name": "DescriptionStyleModel",
       "_view_count": null,
       "_view_module": "@jupyter-widgets/base",
       "_view_module_version": "1.2.0",
       "_view_name": "StyleView",
       "description_width": ""
      }
     },
     "69edd538a1de454590b6ea6d331cb52a": {
      "model_module": "@jupyter-widgets/controls",
      "model_module_version": "1.5.0",
      "model_name": "HBoxModel",
      "state": {
       "_dom_classes": [],
       "_model_module": "@jupyter-widgets/controls",
       "_model_module_version": "1.5.0",
       "_model_name": "HBoxModel",
       "_view_count": null,
       "_view_module": "@jupyter-widgets/controls",
       "_view_module_version": "1.5.0",
       "_view_name": "HBoxView",
       "box_style": "",
       "children": [
        "IPY_MODEL_800e7d50cdd449f58ab14f5fe7fae884",
        "IPY_MODEL_0a1770a8d8e84a8ea3f17b10f645baaa",
        "IPY_MODEL_90b2944c22a744abb78b3257f4f6b185"
       ],
       "layout": "IPY_MODEL_92e2814ef46c4954a5f5f547dcc84d84"
      }
     },
     "6c1a251b9fe144e6ad924bcde192de74": {
      "model_module": "@jupyter-widgets/controls",
      "model_module_version": "1.5.0",
      "model_name": "HTMLModel",
      "state": {
       "_dom_classes": [],
       "_model_module": "@jupyter-widgets/controls",
       "_model_module_version": "1.5.0",
       "_model_name": "HTMLModel",
       "_view_count": null,
       "_view_module": "@jupyter-widgets/controls",
       "_view_module_version": "1.5.0",
       "_view_name": "HTMLView",
       "description": "",
       "description_tooltip": null,
       "layout": "IPY_MODEL_a6baf06d7b8e4687936a878343960b80",
       "placeholder": "​",
       "style": "IPY_MODEL_634b26c9130d4e0d8fae61113be9c9b2",
       "value": " 157/157 [30:26&lt;00:00,  9.15s/batch]"
      }
     },
     "74fb64dc27104258b30fe4735072d09a": {
      "model_module": "@jupyter-widgets/controls",
      "model_module_version": "1.5.0",
      "model_name": "HTMLModel",
      "state": {
       "_dom_classes": [],
       "_model_module": "@jupyter-widgets/controls",
       "_model_module_version": "1.5.0",
       "_model_name": "HTMLModel",
       "_view_count": null,
       "_view_module": "@jupyter-widgets/controls",
       "_view_module_version": "1.5.0",
       "_view_name": "HTMLView",
       "description": "",
       "description_tooltip": null,
       "layout": "IPY_MODEL_fb1fb87b88a048d89020f83f962dc09f",
       "placeholder": "​",
       "style": "IPY_MODEL_413dc64862db4339a470ee6b39fd00ab",
       "value": "vocab.txt: 100%"
      }
     },
     "78cc2acf9de6484c99df9ccfdeb32fc4": {
      "model_module": "@jupyter-widgets/controls",
      "model_module_version": "1.5.0",
      "model_name": "HTMLModel",
      "state": {
       "_dom_classes": [],
       "_model_module": "@jupyter-widgets/controls",
       "_model_module_version": "1.5.0",
       "_model_name": "HTMLModel",
       "_view_count": null,
       "_view_module": "@jupyter-widgets/controls",
       "_view_module_version": "1.5.0",
       "_view_name": "HTMLView",
       "description": "",
       "description_tooltip": null,
       "layout": "IPY_MODEL_3c877b1f305a491e8d3633c23531fd13",
       "placeholder": "​",
       "style": "IPY_MODEL_f4f3c57d0ba443cd82cb4e0cabbbf44a",
       "value": " 8/8 [5:24:09&lt;00:00, 4460.50s/cv]"
      }
     },
     "7bf06524e1cd436689859ef192027937": {
      "model_module": "@jupyter-widgets/controls",
      "model_module_version": "1.5.0",
      "model_name": "DescriptionStyleModel",
      "state": {
       "_model_module": "@jupyter-widgets/controls",
       "_model_module_version": "1.5.0",
       "_model_name": "DescriptionStyleModel",
       "_view_count": null,
       "_view_module": "@jupyter-widgets/base",
       "_view_module_version": "1.2.0",
       "_view_name": "StyleView",
       "description_width": ""
      }
     },
     "800e7d50cdd449f58ab14f5fe7fae884": {
      "model_module": "@jupyter-widgets/controls",
      "model_module_version": "1.5.0",
      "model_name": "HTMLModel",
      "state": {
       "_dom_classes": [],
       "_model_module": "@jupyter-widgets/controls",
       "_model_module_version": "1.5.0",
       "_model_name": "HTMLModel",
       "_view_count": null,
       "_view_module": "@jupyter-widgets/controls",
       "_view_module_version": "1.5.0",
       "_view_name": "HTMLView",
       "description": "",
       "description_tooltip": null,
       "layout": "IPY_MODEL_12b56faf23de4a80a0d42bc83ba5f15d",
       "placeholder": "​",
       "style": "IPY_MODEL_adec1b74e06241ce9d1c6284c734e670",
       "value": "tokenizer.json: 100%"
      }
     },
     "8a01441d5547436b89589720684e4b3b": {
      "model_module": "@jupyter-widgets/base",
      "model_module_version": "1.2.0",
      "model_name": "LayoutModel",
      "state": {
       "_model_module": "@jupyter-widgets/base",
       "_model_module_version": "1.2.0",
       "_model_name": "LayoutModel",
       "_view_count": null,
       "_view_module": "@jupyter-widgets/base",
       "_view_module_version": "1.2.0",
       "_view_name": "LayoutView",
       "align_content": null,
       "align_items": null,
       "align_self": null,
       "border": null,
       "bottom": null,
       "display": null,
       "flex": null,
       "flex_flow": null,
       "grid_area": null,
       "grid_auto_columns": null,
       "grid_auto_flow": null,
       "grid_auto_rows": null,
       "grid_column": null,
       "grid_gap": null,
       "grid_row": null,
       "grid_template_areas": null,
       "grid_template_columns": null,
       "grid_template_rows": null,
       "height": null,
       "justify_content": null,
       "justify_items": null,
       "left": null,
       "margin": null,
       "max_height": null,
       "max_width": null,
       "min_height": null,
       "min_width": null,
       "object_fit": null,
       "object_position": null,
       "order": null,
       "overflow": null,
       "overflow_x": null,
       "overflow_y": null,
       "padding": null,
       "right": null,
       "top": null,
       "visibility": null,
       "width": null
      }
     },
     "8b5e8f6b1032456ebb471cafb9216ecd": {
      "model_module": "@jupyter-widgets/controls",
      "model_module_version": "1.5.0",
      "model_name": "ProgressStyleModel",
      "state": {
       "_model_module": "@jupyter-widgets/controls",
       "_model_module_version": "1.5.0",
       "_model_name": "ProgressStyleModel",
       "_view_count": null,
       "_view_module": "@jupyter-widgets/base",
       "_view_module_version": "1.2.0",
       "_view_name": "StyleView",
       "bar_color": null,
       "description_width": ""
      }
     },
     "8d82415f81e84fef891fc894db6b434d": {
      "model_module": "@jupyter-widgets/controls",
      "model_module_version": "1.5.0",
      "model_name": "DescriptionStyleModel",
      "state": {
       "_model_module": "@jupyter-widgets/controls",
       "_model_module_version": "1.5.0",
       "_model_name": "DescriptionStyleModel",
       "_view_count": null,
       "_view_module": "@jupyter-widgets/base",
       "_view_module_version": "1.2.0",
       "_view_name": "StyleView",
       "description_width": ""
      }
     },
     "8df6f25ea2ef4ad7a4033b69f34ffbee": {
      "model_module": "@jupyter-widgets/controls",
      "model_module_version": "1.5.0",
      "model_name": "DescriptionStyleModel",
      "state": {
       "_model_module": "@jupyter-widgets/controls",
       "_model_module_version": "1.5.0",
       "_model_name": "DescriptionStyleModel",
       "_view_count": null,
       "_view_module": "@jupyter-widgets/base",
       "_view_module_version": "1.2.0",
       "_view_name": "StyleView",
       "description_width": ""
      }
     },
     "908fa881edad4d439d3248b00c37cde3": {
      "model_module": "@jupyter-widgets/base",
      "model_module_version": "1.2.0",
      "model_name": "LayoutModel",
      "state": {
       "_model_module": "@jupyter-widgets/base",
       "_model_module_version": "1.2.0",
       "_model_name": "LayoutModel",
       "_view_count": null,
       "_view_module": "@jupyter-widgets/base",
       "_view_module_version": "1.2.0",
       "_view_name": "LayoutView",
       "align_content": null,
       "align_items": null,
       "align_self": null,
       "border": null,
       "bottom": null,
       "display": null,
       "flex": null,
       "flex_flow": null,
       "grid_area": null,
       "grid_auto_columns": null,
       "grid_auto_flow": null,
       "grid_auto_rows": null,
       "grid_column": null,
       "grid_gap": null,
       "grid_row": null,
       "grid_template_areas": null,
       "grid_template_columns": null,
       "grid_template_rows": null,
       "height": null,
       "justify_content": null,
       "justify_items": null,
       "left": null,
       "margin": null,
       "max_height": null,
       "max_width": null,
       "min_height": null,
       "min_width": null,
       "object_fit": null,
       "object_position": null,
       "order": null,
       "overflow": null,
       "overflow_x": null,
       "overflow_y": null,
       "padding": null,
       "right": null,
       "top": null,
       "visibility": null,
       "width": null
      }
     },
     "90b2944c22a744abb78b3257f4f6b185": {
      "model_module": "@jupyter-widgets/controls",
      "model_module_version": "1.5.0",
      "model_name": "HTMLModel",
      "state": {
       "_dom_classes": [],
       "_model_module": "@jupyter-widgets/controls",
       "_model_module_version": "1.5.0",
       "_model_name": "HTMLModel",
       "_view_count": null,
       "_view_module": "@jupyter-widgets/controls",
       "_view_module_version": "1.5.0",
       "_view_name": "HTMLView",
       "description": "",
       "description_tooltip": null,
       "layout": "IPY_MODEL_d6a3af9f6c884129a50375b1348d0a86",
       "placeholder": "​",
       "style": "IPY_MODEL_8d82415f81e84fef891fc894db6b434d",
       "value": " 269k/269k [00:00&lt;00:00, 2.92MB/s]"
      }
     },
     "92e2814ef46c4954a5f5f547dcc84d84": {
      "model_module": "@jupyter-widgets/base",
      "model_module_version": "1.2.0",
      "model_name": "LayoutModel",
      "state": {
       "_model_module": "@jupyter-widgets/base",
       "_model_module_version": "1.2.0",
       "_model_name": "LayoutModel",
       "_view_count": null,
       "_view_module": "@jupyter-widgets/base",
       "_view_module_version": "1.2.0",
       "_view_name": "LayoutView",
       "align_content": null,
       "align_items": null,
       "align_self": null,
       "border": null,
       "bottom": null,
       "display": null,
       "flex": null,
       "flex_flow": null,
       "grid_area": null,
       "grid_auto_columns": null,
       "grid_auto_flow": null,
       "grid_auto_rows": null,
       "grid_column": null,
       "grid_gap": null,
       "grid_row": null,
       "grid_template_areas": null,
       "grid_template_columns": null,
       "grid_template_rows": null,
       "height": null,
       "justify_content": null,
       "justify_items": null,
       "left": null,
       "margin": null,
       "max_height": null,
       "max_width": null,
       "min_height": null,
       "min_width": null,
       "object_fit": null,
       "object_position": null,
       "order": null,
       "overflow": null,
       "overflow_x": null,
       "overflow_y": null,
       "padding": null,
       "right": null,
       "top": null,
       "visibility": null,
       "width": null
      }
     },
     "969b025d44b8490f93d5b4b351829455": {
      "model_module": "@jupyter-widgets/base",
      "model_module_version": "1.2.0",
      "model_name": "LayoutModel",
      "state": {
       "_model_module": "@jupyter-widgets/base",
       "_model_module_version": "1.2.0",
       "_model_name": "LayoutModel",
       "_view_count": null,
       "_view_module": "@jupyter-widgets/base",
       "_view_module_version": "1.2.0",
       "_view_name": "LayoutView",
       "align_content": null,
       "align_items": null,
       "align_self": null,
       "border": null,
       "bottom": null,
       "display": null,
       "flex": null,
       "flex_flow": null,
       "grid_area": null,
       "grid_auto_columns": null,
       "grid_auto_flow": null,
       "grid_auto_rows": null,
       "grid_column": null,
       "grid_gap": null,
       "grid_row": null,
       "grid_template_areas": null,
       "grid_template_columns": null,
       "grid_template_rows": null,
       "height": null,
       "justify_content": null,
       "justify_items": null,
       "left": null,
       "margin": null,
       "max_height": null,
       "max_width": null,
       "min_height": null,
       "min_width": null,
       "object_fit": null,
       "object_position": null,
       "order": null,
       "overflow": null,
       "overflow_x": null,
       "overflow_y": null,
       "padding": null,
       "right": null,
       "top": null,
       "visibility": null,
       "width": null
      }
     },
     "986d70b37aa24325b142a99ec5f4194a": {
      "model_module": "@jupyter-widgets/controls",
      "model_module_version": "1.5.0",
      "model_name": "HTMLModel",
      "state": {
       "_dom_classes": [],
       "_model_module": "@jupyter-widgets/controls",
       "_model_module_version": "1.5.0",
       "_model_name": "HTMLModel",
       "_view_count": null,
       "_view_module": "@jupyter-widgets/controls",
       "_view_module_version": "1.5.0",
       "_view_name": "HTMLView",
       "description": "",
       "description_tooltip": null,
       "layout": "IPY_MODEL_969b025d44b8490f93d5b4b351829455",
       "placeholder": "​",
       "style": "IPY_MODEL_3b01b125626d42dab3d63a652f0987dd",
       "value": " 412M/412M [00:01&lt;00:00, 215MB/s]"
      }
     },
     "9d08ee1451ff4202b6f511144e90e3cc": {
      "model_module": "@jupyter-widgets/controls",
      "model_module_version": "1.5.0",
      "model_name": "HTMLModel",
      "state": {
       "_dom_classes": [],
       "_model_module": "@jupyter-widgets/controls",
       "_model_module_version": "1.5.0",
       "_model_name": "HTMLModel",
       "_view_count": null,
       "_view_module": "@jupyter-widgets/controls",
       "_view_module_version": "1.5.0",
       "_view_name": "HTMLView",
       "description": "",
       "description_tooltip": null,
       "layout": "IPY_MODEL_62fc3a03a94f49b4a02966d95731da4c",
       "placeholder": "​",
       "style": "IPY_MODEL_4be6c5f72ec4497baa0a9e09bdab75a5",
       "value": " 110k/110k [00:00&lt;00:00, 1.98MB/s]"
      }
     },
     "9d7b58196a4340f8827d515b827de2d7": {
      "model_module": "@jupyter-widgets/base",
      "model_module_version": "1.2.0",
      "model_name": "LayoutModel",
      "state": {
       "_model_module": "@jupyter-widgets/base",
       "_model_module_version": "1.2.0",
       "_model_name": "LayoutModel",
       "_view_count": null,
       "_view_module": "@jupyter-widgets/base",
       "_view_module_version": "1.2.0",
       "_view_name": "LayoutView",
       "align_content": null,
       "align_items": null,
       "align_self": null,
       "border": null,
       "bottom": null,
       "display": null,
       "flex": null,
       "flex_flow": null,
       "grid_area": null,
       "grid_auto_columns": null,
       "grid_auto_flow": null,
       "grid_auto_rows": null,
       "grid_column": null,
       "grid_gap": null,
       "grid_row": null,
       "grid_template_areas": null,
       "grid_template_columns": null,
       "grid_template_rows": null,
       "height": null,
       "justify_content": null,
       "justify_items": null,
       "left": null,
       "margin": null,
       "max_height": null,
       "max_width": null,
       "min_height": null,
       "min_width": null,
       "object_fit": null,
       "object_position": null,
       "order": null,
       "overflow": null,
       "overflow_x": null,
       "overflow_y": null,
       "padding": null,
       "right": null,
       "top": null,
       "visibility": null,
       "width": null
      }
     },
     "9f311ccc219542c78c26ee4efd76e93c": {
      "model_module": "@jupyter-widgets/controls",
      "model_module_version": "1.5.0",
      "model_name": "FloatProgressModel",
      "state": {
       "_dom_classes": [],
       "_model_module": "@jupyter-widgets/controls",
       "_model_module_version": "1.5.0",
       "_model_name": "FloatProgressModel",
       "_view_count": null,
       "_view_module": "@jupyter-widgets/controls",
       "_view_module_version": "1.5.0",
       "_view_name": "ProgressView",
       "bar_style": "success",
       "description": "",
       "description_tooltip": null,
       "layout": "IPY_MODEL_8a01441d5547436b89589720684e4b3b",
       "max": 8.0,
       "min": 0.0,
       "orientation": "horizontal",
       "style": "IPY_MODEL_8b5e8f6b1032456ebb471cafb9216ecd",
       "value": 8.0
      }
     },
     "a6baf06d7b8e4687936a878343960b80": {
      "model_module": "@jupyter-widgets/base",
      "model_module_version": "1.2.0",
      "model_name": "LayoutModel",
      "state": {
       "_model_module": "@jupyter-widgets/base",
       "_model_module_version": "1.2.0",
       "_model_name": "LayoutModel",
       "_view_count": null,
       "_view_module": "@jupyter-widgets/base",
       "_view_module_version": "1.2.0",
       "_view_name": "LayoutView",
       "align_content": null,
       "align_items": null,
       "align_self": null,
       "border": null,
       "bottom": null,
       "display": null,
       "flex": null,
       "flex_flow": null,
       "grid_area": null,
       "grid_auto_columns": null,
       "grid_auto_flow": null,
       "grid_auto_rows": null,
       "grid_column": null,
       "grid_gap": null,
       "grid_row": null,
       "grid_template_areas": null,
       "grid_template_columns": null,
       "grid_template_rows": null,
       "height": null,
       "justify_content": null,
       "justify_items": null,
       "left": null,
       "margin": null,
       "max_height": null,
       "max_width": null,
       "min_height": null,
       "min_width": null,
       "object_fit": null,
       "object_position": null,
       "order": null,
       "overflow": null,
       "overflow_x": null,
       "overflow_y": null,
       "padding": null,
       "right": null,
       "top": null,
       "visibility": null,
       "width": null
      }
     },
     "a835fc8ded78492797815025fd36bac9": {
      "model_module": "@jupyter-widgets/controls",
      "model_module_version": "1.5.0",
      "model_name": "DescriptionStyleModel",
      "state": {
       "_model_module": "@jupyter-widgets/controls",
       "_model_module_version": "1.5.0",
       "_model_name": "DescriptionStyleModel",
       "_view_count": null,
       "_view_module": "@jupyter-widgets/base",
       "_view_module_version": "1.2.0",
       "_view_name": "StyleView",
       "description_width": ""
      }
     },
     "aa08906e173e4301a5f25b9c16e11023": {
      "model_module": "@jupyter-widgets/controls",
      "model_module_version": "1.5.0",
      "model_name": "FloatProgressModel",
      "state": {
       "_dom_classes": [],
       "_model_module": "@jupyter-widgets/controls",
       "_model_module_version": "1.5.0",
       "_model_name": "FloatProgressModel",
       "_view_count": null,
       "_view_module": "@jupyter-widgets/controls",
       "_view_module_version": "1.5.0",
       "_view_name": "ProgressView",
       "bar_style": "success",
       "description": "",
       "description_tooltip": null,
       "layout": "IPY_MODEL_908fa881edad4d439d3248b00c37cde3",
       "max": 411553788.0,
       "min": 0.0,
       "orientation": "horizontal",
       "style": "IPY_MODEL_1f27296a69d64eb48c2d9cd618a7b135",
       "value": 411553788.0
      }
     },
     "adec1b74e06241ce9d1c6284c734e670": {
      "model_module": "@jupyter-widgets/controls",
      "model_module_version": "1.5.0",
      "model_name": "DescriptionStyleModel",
      "state": {
       "_model_module": "@jupyter-widgets/controls",
       "_model_module_version": "1.5.0",
       "_model_name": "DescriptionStyleModel",
       "_view_count": null,
       "_view_module": "@jupyter-widgets/base",
       "_view_module_version": "1.2.0",
       "_view_name": "StyleView",
       "description_width": ""
      }
     },
     "b02f1ce6b3a64a64b8d7c1c358317d36": {
      "model_module": "@jupyter-widgets/controls",
      "model_module_version": "1.5.0",
      "model_name": "HTMLModel",
      "state": {
       "_dom_classes": [],
       "_model_module": "@jupyter-widgets/controls",
       "_model_module_version": "1.5.0",
       "_model_name": "HTMLModel",
       "_view_count": null,
       "_view_module": "@jupyter-widgets/controls",
       "_view_module_version": "1.5.0",
       "_view_name": "HTMLView",
       "description": "",
       "description_tooltip": null,
       "layout": "IPY_MODEL_d98790bb3bc7453790361b57e1ec1d2e",
       "placeholder": "​",
       "style": "IPY_MODEL_caf617e98ba440c6b1d37cbde8eef7ce",
       "value": "embedding: 100%"
      }
     },
     "b0e1eb46e8df4f0db4feb3f96b1ce87f": {
      "model_module": "@jupyter-widgets/controls",
      "model_module_version": "1.5.0",
      "model_name": "HTMLModel",
      "state": {
       "_dom_classes": [],
       "_model_module": "@jupyter-widgets/controls",
       "_model_module_version": "1.5.0",
       "_model_name": "HTMLModel",
       "_view_count": null,
       "_view_module": "@jupyter-widgets/controls",
       "_view_module_version": "1.5.0",
       "_view_name": "HTMLView",
       "description": "",
       "description_tooltip": null,
       "layout": "IPY_MODEL_b2c1a7d14d3a48b2bf56b122ff53e9ed",
       "placeholder": "​",
       "style": "IPY_MODEL_7bf06524e1cd436689859ef192027937",
       "value": "model.safetensors: 100%"
      }
     },
     "b1829ea9b109425381678325d0f8bc0e": {
      "model_module": "@jupyter-widgets/controls",
      "model_module_version": "1.5.0",
      "model_name": "ProgressStyleModel",
      "state": {
       "_model_module": "@jupyter-widgets/controls",
       "_model_module_version": "1.5.0",
       "_model_name": "ProgressStyleModel",
       "_view_count": null,
       "_view_module": "@jupyter-widgets/base",
       "_view_module_version": "1.2.0",
       "_view_name": "StyleView",
       "bar_color": null,
       "description_width": ""
      }
     },
     "b1f84123ddcb45bea9a825aecfed3ae8": {
      "model_module": "@jupyter-widgets/controls",
      "model_module_version": "1.5.0",
      "model_name": "HTMLModel",
      "state": {
       "_dom_classes": [],
       "_model_module": "@jupyter-widgets/controls",
       "_model_module_version": "1.5.0",
       "_model_name": "HTMLModel",
       "_view_count": null,
       "_view_module": "@jupyter-widgets/controls",
       "_view_module_version": "1.5.0",
       "_view_name": "HTMLView",
       "description": "",
       "description_tooltip": null,
       "layout": "IPY_MODEL_df3b53442844442b91762d438597bce8",
       "placeholder": "​",
       "style": "IPY_MODEL_8df6f25ea2ef4ad7a4033b69f34ffbee",
       "value": "tokenizer_config.json: 100%"
      }
     },
     "b2c1a7d14d3a48b2bf56b122ff53e9ed": {
      "model_module": "@jupyter-widgets/base",
      "model_module_version": "1.2.0",
      "model_name": "LayoutModel",
      "state": {
       "_model_module": "@jupyter-widgets/base",
       "_model_module_version": "1.2.0",
       "_model_name": "LayoutModel",
       "_view_count": null,
       "_view_module": "@jupyter-widgets/base",
       "_view_module_version": "1.2.0",
       "_view_name": "LayoutView",
       "align_content": null,
       "align_items": null,
       "align_self": null,
       "border": null,
       "bottom": null,
       "display": null,
       "flex": null,
       "flex_flow": null,
       "grid_area": null,
       "grid_auto_columns": null,
       "grid_auto_flow": null,
       "grid_auto_rows": null,
       "grid_column": null,
       "grid_gap": null,
       "grid_row": null,
       "grid_template_areas": null,
       "grid_template_columns": null,
       "grid_template_rows": null,
       "height": null,
       "justify_content": null,
       "justify_items": null,
       "left": null,
       "margin": null,
       "max_height": null,
       "max_width": null,
       "min_height": null,
       "min_width": null,
       "object_fit": null,
       "object_position": null,
       "order": null,
       "overflow": null,
       "overflow_x": null,
       "overflow_y": null,
       "padding": null,
       "right": null,
       "top": null,
       "visibility": null,
       "width": null
      }
     },
     "b42c4e414d684d46abe3cc0126913f0e": {
      "model_module": "@jupyter-widgets/controls",
      "model_module_version": "1.5.0",
      "model_name": "HBoxModel",
      "state": {
       "_dom_classes": [],
       "_model_module": "@jupyter-widgets/controls",
       "_model_module_version": "1.5.0",
       "_model_name": "HBoxModel",
       "_view_count": null,
       "_view_module": "@jupyter-widgets/controls",
       "_view_module_version": "1.5.0",
       "_view_name": "HBoxView",
       "box_style": "",
       "children": [
        "IPY_MODEL_b0e1eb46e8df4f0db4feb3f96b1ce87f",
        "IPY_MODEL_aa08906e173e4301a5f25b9c16e11023",
        "IPY_MODEL_986d70b37aa24325b142a99ec5f4194a"
       ],
       "layout": "IPY_MODEL_0e50a2823e254ddbaae451726a2458d3"
      }
     },
     "bb024efd16634361b64fb4d1c0930f0a": {
      "model_module": "@jupyter-widgets/controls",
      "model_module_version": "1.5.0",
      "model_name": "HTMLModel",
      "state": {
       "_dom_classes": [],
       "_model_module": "@jupyter-widgets/controls",
       "_model_module_version": "1.5.0",
       "_model_name": "HTMLModel",
       "_view_count": null,
       "_view_module": "@jupyter-widgets/controls",
       "_view_module_version": "1.5.0",
       "_view_name": "HTMLView",
       "description": "",
       "description_tooltip": null,
       "layout": "IPY_MODEL_bcdddc9c389d4f8fad2f4f2bd3a02e24",
       "placeholder": "​",
       "style": "IPY_MODEL_dfcc2156ae60498d9aedb98e894beaeb",
       "value": " 624/624 [00:00&lt;00:00, 48.8kB/s]"
      }
     },
     "bcdddc9c389d4f8fad2f4f2bd3a02e24": {
      "model_module": "@jupyter-widgets/base",
      "model_module_version": "1.2.0",
      "model_name": "LayoutModel",
      "state": {
       "_model_module": "@jupyter-widgets/base",
       "_model_module_version": "1.2.0",
       "_model_name": "LayoutModel",
       "_view_count": null,
       "_view_module": "@jupyter-widgets/base",
       "_view_module_version": "1.2.0",
       "_view_name": "LayoutView",
       "align_content": null,
       "align_items": null,
       "align_self": null,
       "border": null,
       "bottom": null,
       "display": null,
       "flex": null,
       "flex_flow": null,
       "grid_area": null,
       "grid_auto_columns": null,
       "grid_auto_flow": null,
       "grid_auto_rows": null,
       "grid_column": null,
       "grid_gap": null,
       "grid_row": null,
       "grid_template_areas": null,
       "grid_template_columns": null,
       "grid_template_rows": null,
       "height": null,
       "justify_content": null,
       "justify_items": null,
       "left": null,
       "margin": null,
       "max_height": null,
       "max_width": null,
       "min_height": null,
       "min_width": null,
       "object_fit": null,
       "object_position": null,
       "order": null,
       "overflow": null,
       "overflow_x": null,
       "overflow_y": null,
       "padding": null,
       "right": null,
       "top": null,
       "visibility": null,
       "width": null
      }
     },
     "caf617e98ba440c6b1d37cbde8eef7ce": {
      "model_module": "@jupyter-widgets/controls",
      "model_module_version": "1.5.0",
      "model_name": "DescriptionStyleModel",
      "state": {
       "_model_module": "@jupyter-widgets/controls",
       "_model_module_version": "1.5.0",
       "_model_name": "DescriptionStyleModel",
       "_view_count": null,
       "_view_module": "@jupyter-widgets/base",
       "_view_module_version": "1.2.0",
       "_view_name": "StyleView",
       "description_width": ""
      }
     },
     "cd5bdb25461746619e5f8ab05efae10e": {
      "model_module": "@jupyter-widgets/controls",
      "model_module_version": "1.5.0",
      "model_name": "ProgressStyleModel",
      "state": {
       "_model_module": "@jupyter-widgets/controls",
       "_model_module_version": "1.5.0",
       "_model_name": "ProgressStyleModel",
       "_view_count": null,
       "_view_module": "@jupyter-widgets/base",
       "_view_module_version": "1.2.0",
       "_view_name": "StyleView",
       "bar_color": null,
       "description_width": ""
      }
     },
     "d0ce72cc5f1d4810bb84fe1e962d0cb6": {
      "model_module": "@jupyter-widgets/base",
      "model_module_version": "1.2.0",
      "model_name": "LayoutModel",
      "state": {
       "_model_module": "@jupyter-widgets/base",
       "_model_module_version": "1.2.0",
       "_model_name": "LayoutModel",
       "_view_count": null,
       "_view_module": "@jupyter-widgets/base",
       "_view_module_version": "1.2.0",
       "_view_name": "LayoutView",
       "align_content": null,
       "align_items": null,
       "align_self": null,
       "border": null,
       "bottom": null,
       "display": null,
       "flex": null,
       "flex_flow": null,
       "grid_area": null,
       "grid_auto_columns": null,
       "grid_auto_flow": null,
       "grid_auto_rows": null,
       "grid_column": null,
       "grid_gap": null,
       "grid_row": null,
       "grid_template_areas": null,
       "grid_template_columns": null,
       "grid_template_rows": null,
       "height": null,
       "justify_content": null,
       "justify_items": null,
       "left": null,
       "margin": null,
       "max_height": null,
       "max_width": null,
       "min_height": null,
       "min_width": null,
       "object_fit": null,
       "object_position": null,
       "order": null,
       "overflow": null,
       "overflow_x": null,
       "overflow_y": null,
       "padding": null,
       "right": null,
       "top": null,
       "visibility": null,
       "width": null
      }
     },
     "d3f4d9cd00c740a0939f476512fe7b9b": {
      "model_module": "@jupyter-widgets/base",
      "model_module_version": "1.2.0",
      "model_name": "LayoutModel",
      "state": {
       "_model_module": "@jupyter-widgets/base",
       "_model_module_version": "1.2.0",
       "_model_name": "LayoutModel",
       "_view_count": null,
       "_view_module": "@jupyter-widgets/base",
       "_view_module_version": "1.2.0",
       "_view_name": "LayoutView",
       "align_content": null,
       "align_items": null,
       "align_self": null,
       "border": null,
       "bottom": null,
       "display": null,
       "flex": null,
       "flex_flow": null,
       "grid_area": null,
       "grid_auto_columns": null,
       "grid_auto_flow": null,
       "grid_auto_rows": null,
       "grid_column": null,
       "grid_gap": null,
       "grid_row": null,
       "grid_template_areas": null,
       "grid_template_columns": null,
       "grid_template_rows": null,
       "height": null,
       "justify_content": null,
       "justify_items": null,
       "left": null,
       "margin": null,
       "max_height": null,
       "max_width": null,
       "min_height": null,
       "min_width": null,
       "object_fit": null,
       "object_position": null,
       "order": null,
       "overflow": null,
       "overflow_x": null,
       "overflow_y": null,
       "padding": null,
       "right": null,
       "top": null,
       "visibility": null,
       "width": null
      }
     },
     "d6a3af9f6c884129a50375b1348d0a86": {
      "model_module": "@jupyter-widgets/base",
      "model_module_version": "1.2.0",
      "model_name": "LayoutModel",
      "state": {
       "_model_module": "@jupyter-widgets/base",
       "_model_module_version": "1.2.0",
       "_model_name": "LayoutModel",
       "_view_count": null,
       "_view_module": "@jupyter-widgets/base",
       "_view_module_version": "1.2.0",
       "_view_name": "LayoutView",
       "align_content": null,
       "align_items": null,
       "align_self": null,
       "border": null,
       "bottom": null,
       "display": null,
       "flex": null,
       "flex_flow": null,
       "grid_area": null,
       "grid_auto_columns": null,
       "grid_auto_flow": null,
       "grid_auto_rows": null,
       "grid_column": null,
       "grid_gap": null,
       "grid_row": null,
       "grid_template_areas": null,
       "grid_template_columns": null,
       "grid_template_rows": null,
       "height": null,
       "justify_content": null,
       "justify_items": null,
       "left": null,
       "margin": null,
       "max_height": null,
       "max_width": null,
       "min_height": null,
       "min_width": null,
       "object_fit": null,
       "object_position": null,
       "order": null,
       "overflow": null,
       "overflow_x": null,
       "overflow_y": null,
       "padding": null,
       "right": null,
       "top": null,
       "visibility": null,
       "width": null
      }
     },
     "d8cc6605d80b4fa587b1e0af4d4ec2ff": {
      "model_module": "@jupyter-widgets/controls",
      "model_module_version": "1.5.0",
      "model_name": "DescriptionStyleModel",
      "state": {
       "_model_module": "@jupyter-widgets/controls",
       "_model_module_version": "1.5.0",
       "_model_name": "DescriptionStyleModel",
       "_view_count": null,
       "_view_module": "@jupyter-widgets/base",
       "_view_module_version": "1.2.0",
       "_view_name": "StyleView",
       "description_width": ""
      }
     },
     "d98790bb3bc7453790361b57e1ec1d2e": {
      "model_module": "@jupyter-widgets/base",
      "model_module_version": "1.2.0",
      "model_name": "LayoutModel",
      "state": {
       "_model_module": "@jupyter-widgets/base",
       "_model_module_version": "1.2.0",
       "_model_name": "LayoutModel",
       "_view_count": null,
       "_view_module": "@jupyter-widgets/base",
       "_view_module_version": "1.2.0",
       "_view_name": "LayoutView",
       "align_content": null,
       "align_items": null,
       "align_self": null,
       "border": null,
       "bottom": null,
       "display": null,
       "flex": null,
       "flex_flow": null,
       "grid_area": null,
       "grid_auto_columns": null,
       "grid_auto_flow": null,
       "grid_auto_rows": null,
       "grid_column": null,
       "grid_gap": null,
       "grid_row": null,
       "grid_template_areas": null,
       "grid_template_columns": null,
       "grid_template_rows": null,
       "height": null,
       "justify_content": null,
       "justify_items": null,
       "left": null,
       "margin": null,
       "max_height": null,
       "max_width": null,
       "min_height": null,
       "min_width": null,
       "object_fit": null,
       "object_position": null,
       "order": null,
       "overflow": null,
       "overflow_x": null,
       "overflow_y": null,
       "padding": null,
       "right": null,
       "top": null,
       "visibility": null,
       "width": null
      }
     },
     "d9b88968ee334b599ebd831f5a6a73f8": {
      "model_module": "@jupyter-widgets/controls",
      "model_module_version": "1.5.0",
      "model_name": "FloatProgressModel",
      "state": {
       "_dom_classes": [],
       "_model_module": "@jupyter-widgets/controls",
       "_model_module_version": "1.5.0",
       "_model_name": "FloatProgressModel",
       "_view_count": null,
       "_view_module": "@jupyter-widgets/controls",
       "_view_module_version": "1.5.0",
       "_view_name": "ProgressView",
       "bar_style": "success",
       "description": "",
       "description_tooltip": null,
       "layout": "IPY_MODEL_5b0819d3d5554abfb2ea223b58cb05d4",
       "max": 109540.0,
       "min": 0.0,
       "orientation": "horizontal",
       "style": "IPY_MODEL_b1829ea9b109425381678325d0f8bc0e",
       "value": 109540.0
      }
     },
     "da61db478847467a8d9cc4c7039d4b21": {
      "model_module": "@jupyter-widgets/base",
      "model_module_version": "1.2.0",
      "model_name": "LayoutModel",
      "state": {
       "_model_module": "@jupyter-widgets/base",
       "_model_module_version": "1.2.0",
       "_model_name": "LayoutModel",
       "_view_count": null,
       "_view_module": "@jupyter-widgets/base",
       "_view_module_version": "1.2.0",
       "_view_name": "LayoutView",
       "align_content": null,
       "align_items": null,
       "align_self": null,
       "border": null,
       "bottom": null,
       "display": null,
       "flex": null,
       "flex_flow": null,
       "grid_area": null,
       "grid_auto_columns": null,
       "grid_auto_flow": null,
       "grid_auto_rows": null,
       "grid_column": null,
       "grid_gap": null,
       "grid_row": null,
       "grid_template_areas": null,
       "grid_template_columns": null,
       "grid_template_rows": null,
       "height": null,
       "justify_content": null,
       "justify_items": null,
       "left": null,
       "margin": null,
       "max_height": null,
       "max_width": null,
       "min_height": null,
       "min_width": null,
       "object_fit": null,
       "object_position": null,
       "order": null,
       "overflow": null,
       "overflow_x": null,
       "overflow_y": null,
       "padding": null,
       "right": null,
       "top": null,
       "visibility": null,
       "width": null
      }
     },
     "da9e16e1d1af4cee84d3f01d05836f72": {
      "model_module": "@jupyter-widgets/controls",
      "model_module_version": "1.5.0",
      "model_name": "HTMLModel",
      "state": {
       "_dom_classes": [],
       "_model_module": "@jupyter-widgets/controls",
       "_model_module_version": "1.5.0",
       "_model_name": "HTMLModel",
       "_view_count": null,
       "_view_module": "@jupyter-widgets/controls",
       "_view_module_version": "1.5.0",
       "_view_name": "HTMLView",
       "description": "",
       "description_tooltip": null,
       "layout": "IPY_MODEL_d3f4d9cd00c740a0939f476512fe7b9b",
       "placeholder": "​",
       "style": "IPY_MODEL_a835fc8ded78492797815025fd36bac9",
       "value": " 49.0/49.0 [00:00&lt;00:00, 4.28kB/s]"
      }
     },
     "df3b53442844442b91762d438597bce8": {
      "model_module": "@jupyter-widgets/base",
      "model_module_version": "1.2.0",
      "model_name": "LayoutModel",
      "state": {
       "_model_module": "@jupyter-widgets/base",
       "_model_module_version": "1.2.0",
       "_model_name": "LayoutModel",
       "_view_count": null,
       "_view_module": "@jupyter-widgets/base",
       "_view_module_version": "1.2.0",
       "_view_name": "LayoutView",
       "align_content": null,
       "align_items": null,
       "align_self": null,
       "border": null,
       "bottom": null,
       "display": null,
       "flex": null,
       "flex_flow": null,
       "grid_area": null,
       "grid_auto_columns": null,
       "grid_auto_flow": null,
       "grid_auto_rows": null,
       "grid_column": null,
       "grid_gap": null,
       "grid_row": null,
       "grid_template_areas": null,
       "grid_template_columns": null,
       "grid_template_rows": null,
       "height": null,
       "justify_content": null,
       "justify_items": null,
       "left": null,
       "margin": null,
       "max_height": null,
       "max_width": null,
       "min_height": null,
       "min_width": null,
       "object_fit": null,
       "object_position": null,
       "order": null,
       "overflow": null,
       "overflow_x": null,
       "overflow_y": null,
       "padding": null,
       "right": null,
       "top": null,
       "visibility": null,
       "width": null
      }
     },
     "dfcc2156ae60498d9aedb98e894beaeb": {
      "model_module": "@jupyter-widgets/controls",
      "model_module_version": "1.5.0",
      "model_name": "DescriptionStyleModel",
      "state": {
       "_model_module": "@jupyter-widgets/controls",
       "_model_module_version": "1.5.0",
       "_model_name": "DescriptionStyleModel",
       "_view_count": null,
       "_view_module": "@jupyter-widgets/base",
       "_view_module_version": "1.2.0",
       "_view_name": "StyleView",
       "description_width": ""
      }
     },
     "e50eea6dd9564c02942ce7c94b288398": {
      "model_module": "@jupyter-widgets/controls",
      "model_module_version": "1.5.0",
      "model_name": "ProgressStyleModel",
      "state": {
       "_model_module": "@jupyter-widgets/controls",
       "_model_module_version": "1.5.0",
       "_model_name": "ProgressStyleModel",
       "_view_count": null,
       "_view_module": "@jupyter-widgets/base",
       "_view_module_version": "1.2.0",
       "_view_name": "StyleView",
       "bar_color": null,
       "description_width": ""
      }
     },
     "e57e1e5bb3b44830ba4f0770d791764d": {
      "model_module": "@jupyter-widgets/controls",
      "model_module_version": "1.5.0",
      "model_name": "HBoxModel",
      "state": {
       "_dom_classes": [],
       "_model_module": "@jupyter-widgets/controls",
       "_model_module_version": "1.5.0",
       "_model_name": "HBoxModel",
       "_view_count": null,
       "_view_module": "@jupyter-widgets/controls",
       "_view_module_version": "1.5.0",
       "_view_name": "HBoxView",
       "box_style": "",
       "children": [
        "IPY_MODEL_b1f84123ddcb45bea9a825aecfed3ae8",
        "IPY_MODEL_f3faa4639b374cb8b3b8078ab0367651",
        "IPY_MODEL_da9e16e1d1af4cee84d3f01d05836f72"
       ],
       "layout": "IPY_MODEL_3d15c132704649688b5b75f31cb48b12"
      }
     },
     "e98f66de8fdc4621a1cf2f6b6b0caa01": {
      "model_module": "@jupyter-widgets/base",
      "model_module_version": "1.2.0",
      "model_name": "LayoutModel",
      "state": {
       "_model_module": "@jupyter-widgets/base",
       "_model_module_version": "1.2.0",
       "_model_name": "LayoutModel",
       "_view_count": null,
       "_view_module": "@jupyter-widgets/base",
       "_view_module_version": "1.2.0",
       "_view_name": "LayoutView",
       "align_content": null,
       "align_items": null,
       "align_self": null,
       "border": null,
       "bottom": null,
       "display": null,
       "flex": null,
       "flex_flow": null,
       "grid_area": null,
       "grid_auto_columns": null,
       "grid_auto_flow": null,
       "grid_auto_rows": null,
       "grid_column": null,
       "grid_gap": null,
       "grid_row": null,
       "grid_template_areas": null,
       "grid_template_columns": null,
       "grid_template_rows": null,
       "height": null,
       "justify_content": null,
       "justify_items": null,
       "left": null,
       "margin": null,
       "max_height": null,
       "max_width": null,
       "min_height": null,
       "min_width": null,
       "object_fit": null,
       "object_position": null,
       "order": null,
       "overflow": null,
       "overflow_x": null,
       "overflow_y": null,
       "padding": null,
       "right": null,
       "top": null,
       "visibility": null,
       "width": null
      }
     },
     "eca2f152827f455ba3f901e37b7cc205": {
      "model_module": "@jupyter-widgets/controls",
      "model_module_version": "1.5.0",
      "model_name": "DescriptionStyleModel",
      "state": {
       "_model_module": "@jupyter-widgets/controls",
       "_model_module_version": "1.5.0",
       "_model_name": "DescriptionStyleModel",
       "_view_count": null,
       "_view_module": "@jupyter-widgets/base",
       "_view_module_version": "1.2.0",
       "_view_name": "StyleView",
       "description_width": ""
      }
     },
     "f3faa4639b374cb8b3b8078ab0367651": {
      "model_module": "@jupyter-widgets/controls",
      "model_module_version": "1.5.0",
      "model_name": "FloatProgressModel",
      "state": {
       "_dom_classes": [],
       "_model_module": "@jupyter-widgets/controls",
       "_model_module_version": "1.5.0",
       "_model_name": "FloatProgressModel",
       "_view_count": null,
       "_view_module": "@jupyter-widgets/controls",
       "_view_module_version": "1.5.0",
       "_view_name": "ProgressView",
       "bar_style": "success",
       "description": "",
       "description_tooltip": null,
       "layout": "IPY_MODEL_fa44ea8ea27d4c0eba0fd4535ae25222",
       "max": 49.0,
       "min": 0.0,
       "orientation": "horizontal",
       "style": "IPY_MODEL_2510a4481133495e853496256a311983",
       "value": 49.0
      }
     },
     "f4d1866d49034351a7e5058cd46719cc": {
      "model_module": "@jupyter-widgets/base",
      "model_module_version": "1.2.0",
      "model_name": "LayoutModel",
      "state": {
       "_model_module": "@jupyter-widgets/base",
       "_model_module_version": "1.2.0",
       "_model_name": "LayoutModel",
       "_view_count": null,
       "_view_module": "@jupyter-widgets/base",
       "_view_module_version": "1.2.0",
       "_view_name": "LayoutView",
       "align_content": null,
       "align_items": null,
       "align_self": null,
       "border": null,
       "bottom": null,
       "display": null,
       "flex": null,
       "flex_flow": null,
       "grid_area": null,
       "grid_auto_columns": null,
       "grid_auto_flow": null,
       "grid_auto_rows": null,
       "grid_column": null,
       "grid_gap": null,
       "grid_row": null,
       "grid_template_areas": null,
       "grid_template_columns": null,
       "grid_template_rows": null,
       "height": null,
       "justify_content": null,
       "justify_items": null,
       "left": null,
       "margin": null,
       "max_height": null,
       "max_width": null,
       "min_height": null,
       "min_width": null,
       "object_fit": null,
       "object_position": null,
       "order": null,
       "overflow": null,
       "overflow_x": null,
       "overflow_y": null,
       "padding": null,
       "right": null,
       "top": null,
       "visibility": null,
       "width": null
      }
     },
     "f4f3c57d0ba443cd82cb4e0cabbbf44a": {
      "model_module": "@jupyter-widgets/controls",
      "model_module_version": "1.5.0",
      "model_name": "DescriptionStyleModel",
      "state": {
       "_model_module": "@jupyter-widgets/controls",
       "_model_module_version": "1.5.0",
       "_model_name": "DescriptionStyleModel",
       "_view_count": null,
       "_view_module": "@jupyter-widgets/base",
       "_view_module_version": "1.2.0",
       "_view_name": "StyleView",
       "description_width": ""
      }
     },
     "f60e6020587a47f0a5d5af728feca20b": {
      "model_module": "@jupyter-widgets/controls",
      "model_module_version": "1.5.0",
      "model_name": "FloatProgressModel",
      "state": {
       "_dom_classes": [],
       "_model_module": "@jupyter-widgets/controls",
       "_model_module_version": "1.5.0",
       "_model_name": "FloatProgressModel",
       "_view_count": null,
       "_view_module": "@jupyter-widgets/controls",
       "_view_module_version": "1.5.0",
       "_view_name": "ProgressView",
       "bar_style": "success",
       "description": "",
       "description_tooltip": null,
       "layout": "IPY_MODEL_268de4ae02054ca9965f5dcf54a8499c",
       "max": 624.0,
       "min": 0.0,
       "orientation": "horizontal",
       "style": "IPY_MODEL_e50eea6dd9564c02942ce7c94b288398",
       "value": 624.0
      }
     },
     "fa44ea8ea27d4c0eba0fd4535ae25222": {
      "model_module": "@jupyter-widgets/base",
      "model_module_version": "1.2.0",
      "model_name": "LayoutModel",
      "state": {
       "_model_module": "@jupyter-widgets/base",
       "_model_module_version": "1.2.0",
       "_model_name": "LayoutModel",
       "_view_count": null,
       "_view_module": "@jupyter-widgets/base",
       "_view_module_version": "1.2.0",
       "_view_name": "LayoutView",
       "align_content": null,
       "align_items": null,
       "align_self": null,
       "border": null,
       "bottom": null,
       "display": null,
       "flex": null,
       "flex_flow": null,
       "grid_area": null,
       "grid_auto_columns": null,
       "grid_auto_flow": null,
       "grid_auto_rows": null,
       "grid_column": null,
       "grid_gap": null,
       "grid_row": null,
       "grid_template_areas": null,
       "grid_template_columns": null,
       "grid_template_rows": null,
       "height": null,
       "justify_content": null,
       "justify_items": null,
       "left": null,
       "margin": null,
       "max_height": null,
       "max_width": null,
       "min_height": null,
       "min_width": null,
       "object_fit": null,
       "object_position": null,
       "order": null,
       "overflow": null,
       "overflow_x": null,
       "overflow_y": null,
       "padding": null,
       "right": null,
       "top": null,
       "visibility": null,
       "width": null
      }
     },
     "fae7150d996a4549aefc17a49a0bca2e": {
      "model_module": "@jupyter-widgets/controls",
      "model_module_version": "1.5.0",
      "model_name": "HTMLModel",
      "state": {
       "_dom_classes": [],
       "_model_module": "@jupyter-widgets/controls",
       "_model_module_version": "1.5.0",
       "_model_name": "HTMLModel",
       "_view_count": null,
       "_view_module": "@jupyter-widgets/controls",
       "_view_module_version": "1.5.0",
       "_view_name": "HTMLView",
       "description": "",
       "description_tooltip": null,
       "layout": "IPY_MODEL_330dbcef376f41f6ac07f9e463fed64c",
       "placeholder": "​",
       "style": "IPY_MODEL_eca2f152827f455ba3f901e37b7cc205",
       "value": "config.json: 100%"
      }
     },
     "fb1fb87b88a048d89020f83f962dc09f": {
      "model_module": "@jupyter-widgets/base",
      "model_module_version": "1.2.0",
      "model_name": "LayoutModel",
      "state": {
       "_model_module": "@jupyter-widgets/base",
       "_model_module_version": "1.2.0",
       "_model_name": "LayoutModel",
       "_view_count": null,
       "_view_module": "@jupyter-widgets/base",
       "_view_module_version": "1.2.0",
       "_view_name": "LayoutView",
       "align_content": null,
       "align_items": null,
       "align_self": null,
       "border": null,
       "bottom": null,
       "display": null,
       "flex": null,
       "flex_flow": null,
       "grid_area": null,
       "grid_auto_columns": null,
       "grid_auto_flow": null,
       "grid_auto_rows": null,
       "grid_column": null,
       "grid_gap": null,
       "grid_row": null,
       "grid_template_areas": null,
       "grid_template_columns": null,
       "grid_template_rows": null,
       "height": null,
       "justify_content": null,
       "justify_items": null,
       "left": null,
       "margin": null,
       "max_height": null,
       "max_width": null,
       "min_height": null,
       "min_width": null,
       "object_fit": null,
       "object_position": null,
       "order": null,
       "overflow": null,
       "overflow_x": null,
       "overflow_y": null,
       "padding": null,
       "right": null,
       "top": null,
       "visibility": null,
       "width": null
      }
     },
     "fe30810d84a84b3394752867200f2a35": {
      "model_module": "@jupyter-widgets/controls",
      "model_module_version": "1.5.0",
      "model_name": "HBoxModel",
      "state": {
       "_dom_classes": [],
       "_model_module": "@jupyter-widgets/controls",
       "_model_module_version": "1.5.0",
       "_model_name": "HBoxModel",
       "_view_count": null,
       "_view_module": "@jupyter-widgets/controls",
       "_view_module_version": "1.5.0",
       "_view_name": "HBoxView",
       "box_style": "",
       "children": [
        "IPY_MODEL_74fb64dc27104258b30fe4735072d09a",
        "IPY_MODEL_d9b88968ee334b599ebd831f5a6a73f8",
        "IPY_MODEL_9d08ee1451ff4202b6f511144e90e3cc"
       ],
       "layout": "IPY_MODEL_9d7b58196a4340f8827d515b827de2d7"
      }
     }
    },
    "version_major": 2,
    "version_minor": 0
   }
  }
 },
 "nbformat": 4,
 "nbformat_minor": 5
}
